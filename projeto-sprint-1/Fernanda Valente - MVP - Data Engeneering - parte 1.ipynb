{
 "cells": [
  {
   "cell_type": "markdown",
   "metadata": {
    "application/vnd.databricks.v1+cell": {
     "cellMetadata": {
      "byteLimit": 2048000,
      "rowLimit": 10000
     },
     "inputWidgets": {},
     "nuid": "2a7b5f2d-af8d-47fd-9153-1caa96959d2d",
     "showTitle": false,
     "title": ""
    }
   },
   "source": [
    "# MVP da Pós-graduação em Ciência de Dados e Analytics - Sprint Engenharia de Dados\n",
    "## Aluna: Fernanda Pires Valente "
   ]
  },
  {
   "cell_type": "markdown",
   "metadata": {
    "application/vnd.databricks.v1+cell": {
     "cellMetadata": {
      "byteLimit": 2048000,
      "rowLimit": 10000
     },
     "inputWidgets": {},
     "nuid": "32b1d705-d0fe-4c77-a054-0e996b050b88",
     "showTitle": false,
     "title": ""
    }
   },
   "source": [
    "### Neste Noteboobk iremos definir o objetivo do projeto, explicar de onde vem as informações utilizadas e trabalhar na ingestão e tratamento de dados"
   ]
  },
  {
   "cell_type": "markdown",
   "metadata": {
    "application/vnd.databricks.v1+cell": {
     "cellMetadata": {
      "byteLimit": 2048000,
      "rowLimit": 10000
     },
     "inputWidgets": {},
     "nuid": "2e106db2-dd2d-49e0-9d4e-d22b653fa1a4",
     "showTitle": false,
     "title": ""
    }
   },
   "source": [
    "### Objetivo do Projeto:\n",
    "\n",
    "\n",
    "A longevidade e a felicidade andam juntos? A motivação para a escolha desse tema é bem simples, no geral o ser humano quer conseguir viver por mais tempo, porém será que a felicidade influencia do quanto cada um vive? \n",
    "\n",
    "Neste trabalho queremos tentar responder as seguintes perguntas:\n",
    "\n",
    "*   Existe alguma relação entre felicidade da população e expectativa de vida?\n",
    "*   A felicidade da população tem aumentado ou diminuído? Depende do país?\n",
    "*   A expectativa de vida tem aumentado linearmente durante os anos?\n",
    "*   A expectativa de vida muda dependendo do país?\n",
    "*   A expectativa de vida de países desenvolvido é diferente da de subdesenvolvido? E com relação aos continentes, tem diferença?\n",
    "*   A expectativa de vida está relacionada com o tamanho da população? E com a escolariedade das pessoas?\n",
    "\n",
    "\n",
    "\n",
    "Seria muito interessente fazer um estudo clínico sobre a felicidade ao longo da vida do ser humano. Talvez já até exista algo assim, mas para esse singelo estudo de Pós Graduação tentaremos avaliar as relação entre felicidade e expectativa de vida com as informações encontradas no Kaggle.\n",
    "\n",
    "\n",
    "\n",
    "\n"
   ]
  },
  {
   "cell_type": "markdown",
   "metadata": {
    "application/vnd.databricks.v1+cell": {
     "cellMetadata": {
      "byteLimit": 2048000,
      "rowLimit": 10000
     },
     "inputWidgets": {},
     "nuid": "f3131619-755f-4c9f-9194-29fd920c5cee",
     "showTitle": false,
     "title": ""
    }
   },
   "source": [
    "### Coleta dos Dados\n",
    "\n",
    "Encontramos dois conjuntos de dados interessantes no Kaggles que podem nos ajudar a responder nossas perguntas.\n",
    "\n",
    "---\n",
    "\n",
    "O primeiro diz respeito a Life expectancy & Socio-Economic, e se encontra no link:<br> \n",
    "\n",
    "https://www.kaggle.com/datasets/mjshri23/life-expectancy-and-socio-economic-world-bank<br>\n",
    "\n",
    "Publicado pelo usuário Shritej Shrikant Chavan e atualizado em 2023. Esses dados são licenciados pelo The World Bank e temos permissão para fazer as seguintes atividades com os dados:\n",
    "\n",
    "\n",
    "*   Compartilhar — copie e redistribua o material em qualquer meio ou formato para qualquer finalidade, inclusive comercial.\n",
    "\n",
    "*   Adaptar – remixar, transformar e desenvolver o material para qualquer finalidade, até mesmo comercial.\n",
    "\n",
    "Mais informações: https://www.worldbank.org/en/about/legal/terms-of-use-for-datasets e https://creativecommons.org/licenses/by/4.0/<br>\n",
    "\n",
    "\n",
    "O período dos dados é de 2001 à 2019 e está tudo armazenado em 1 arquivo csv.\n",
    "\n",
    "---\n",
    "\n",
    "O segundo conjunto de dados diz respeito ao World Happiness Report, e se encontra no link:<br> \n",
    "\n",
    "https://www.kaggle.com/datasets/unsdsn/world-happiness <br>\n",
    "\n",
    "Atualizado em 2019, esses dados são de domínio publico e seu período varia de 2015 à 2019, onde cada ano está um arquivo csv."
   ]
  },
  {
   "cell_type": "markdown",
   "metadata": {
    "application/vnd.databricks.v1+cell": {
     "cellMetadata": {
      "byteLimit": 2048000,
      "rowLimit": 10000
     },
     "inputWidgets": {},
     "nuid": "fc941e67-a96d-4e27-9b13-5dba51df34b6",
     "showTitle": false,
     "title": ""
    }
   },
   "source": [
    "### Ingestão e tratametno dos dados"
   ]
  },
  {
   "cell_type": "markdown",
   "metadata": {
    "application/vnd.databricks.v1+cell": {
     "cellMetadata": {
      "byteLimit": 2048000,
      "rowLimit": 10000
     },
     "inputWidgets": {},
     "nuid": "ec7df3da-7284-466e-8743-7d80898c857a",
     "showTitle": false,
     "title": ""
    }
   },
   "source": [
    "#### Camada Bronze "
   ]
  },
  {
   "cell_type": "markdown",
   "metadata": {
    "application/vnd.databricks.v1+cell": {
     "cellMetadata": {
      "byteLimit": 2048000,
      "rowLimit": 10000
     },
     "inputWidgets": {},
     "nuid": "0349b682-17f3-4bc1-9b13-3b3565ce6fce",
     "showTitle": false,
     "title": ""
    }
   },
   "source": [
    "Aqui iremos carregar os dados brutos que foram obtidos no Kaggle"
   ]
  },
  {
   "cell_type": "markdown",
   "metadata": {
    "application/vnd.databricks.v1+cell": {
     "cellMetadata": {
      "byteLimit": 2048000,
      "rowLimit": 10000
     },
     "inputWidgets": {},
     "nuid": "b854c341-73d5-4678-875d-ea153146ff55",
     "showTitle": false,
     "title": ""
    }
   },
   "source": [
    "##### Life expectancy & Socio-Economic"
   ]
  },
  {
   "cell_type": "code",
   "execution_count": 0,
   "metadata": {
    "application/vnd.databricks.v1+cell": {
     "cellMetadata": {
      "byteLimit": 2048000,
      "rowLimit": 10000
     },
     "inputWidgets": {},
     "nuid": "6482be4c-f067-47c9-b0ac-35c938b94601",
     "showTitle": false,
     "title": ""
    }
   },
   "outputs": [
    {
     "output_type": "stream",
     "name": "stdout",
     "output_type": "stream",
     "text": [
      "+--------------------+------------+--------------------+-------------------+----+--------------------------+------------------------------+--------+--------------------+-----------------------+----------------+----------+-----------+----------+-------------+---------------+\n|        Country Name|Country Code|              Region|        IncomeGroup|Year|Life Expectancy World Bank|Prevelance of Undernourishment|     CO2|Health Expenditure %|Education Expenditure %|    Unemployment|Corruption| Sanitation|  Injuries| Communicable|NonCommunicable|\n+--------------------+------------+--------------------+-------------------+----+--------------------------+------------------------------+--------+--------------------+-----------------------+----------------+----------+-----------+----------+-------------+---------------+\n|         Afghanistan|         AFG|          South Asia|         Low income|2001|                    56.308|                          47.8|   730.0|                null|                   null|10.8090000152588|      null|       null| 2179727.1|    9689193.7|     5795426.38|\n|              Angola|         AGO|  Sub-Saharan Africa|Lower middle income|2001|                    47.059|                          67.5| 15960.0|          4.48351622|                   null|4.00400018692017|      null|       null|1392080.71|1.119021053E7|     2663516.34|\n|             Albania|         ALB|Europe & Central ...|Upper middle income|2001|                    74.288|                           4.9|  3230.0|          7.13952398|       3.45869994163513|18.5750007629395|      null|40.52089533| 117081.67|    140894.78|      532324.75|\n|             Andorra|         AND|Europe & Central ...|        High income|2001|                      null|                          null|   520.0|          5.86593914|                   null|            null|      null|21.78866006|   1697.99|       695.56|       13636.64|\n|United Arab Emirates|         ARE|Middle East & Nor...|        High income|2001|                    74.544|                           2.8| 97200.0|          2.48437047|                   null|2.49300003051758|      null|       null| 144678.14|     65271.91|       481740.7|\n|           Argentina|         ARG|Latin America & C...|Upper middle income|2001|                    73.755|                           3.0|125260.0|          8.37179756|         4.833740234375|17.3199996948242|      null|48.05399554|1397676.07|   1507068.98|     8070909.52|\n|             Armenia|         ARM|Europe & Central ...|Upper middle income|2001|                      71.8|                          26.1|  3600.0|          4.64562702|       2.46943998336792|10.9119997024536|      null|46.35189576| 103371.75|    122238.13|      767916.19|\n|      American Samoa|         ASM| East Asia & Pacific|Upper middle income|2001|                      null|                          null|    null|                null|                   null|            null|      null|       null|   1683.98|      2933.98|       10752.13|\n| Antigua and Barbuda|         ATG|Latin America & C...|        High income|2001|                    74.171|                          null|   350.0|          5.43587589|                   null|            null|      null|       null|   2201.12|      3279.72|       14289.69|\n|           Australia|         AUS| East Asia & Pacific|        High income|2001|         79.63414634146342|                           2.5|345640.0|          7.69622898|                   null|6.73999977111816|      null|58.78889399| 612233.81|    208282.73|     4158052.86|\n+--------------------+------------+--------------------+-------------------+----+--------------------------+------------------------------+--------+--------------------+-----------------------+----------------+----------+-----------+----------+-------------+---------------+\nonly showing top 10 rows\n\n"
     ]
    }
   ],
   "source": [
    "# Importando o arquivo do Life expectancy & Socio-Economic\n",
    "\n",
    "# File location\n",
    "file_location = \"/FileStore/tables/life_expectancy.csv\"\n",
    "# File type\n",
    "file_type = \"csv\"\n",
    "\n",
    "# CSV options\n",
    "infer_schema = \"true\"\n",
    "first_row_is_header = \"true\"\n",
    "delimiter = \",\"\n",
    "\n",
    "# Importando o CSV para o dataframe df_life_expectancy\n",
    "df_life_expectancy = spark.read.format(file_type) \\\n",
    "  .option(\"inferSchema\", infer_schema) \\\n",
    "  .option(\"header\", first_row_is_header) \\\n",
    "  .option(\"sep\", delimiter) \\\n",
    "  .load(file_location)\n",
    "\n",
    "# Vendo como ficou o dataframe\n",
    "display(df_life_expectancy.show(10))"
   ]
  },
  {
   "cell_type": "markdown",
   "metadata": {
    "application/vnd.databricks.v1+cell": {
     "cellMetadata": {
      "byteLimit": 2048000,
      "rowLimit": 10000
     },
     "inputWidgets": {},
     "nuid": "d5c8b61c-8465-4cab-89f3-3bd5549c802e",
     "showTitle": false,
     "title": ""
    }
   },
   "source": [
    "Verificando as colunas no dataframe"
   ]
  },
  {
   "cell_type": "code",
   "execution_count": 0,
   "metadata": {
    "application/vnd.databricks.v1+cell": {
     "cellMetadata": {
      "byteLimit": 2048000,
      "rowLimit": 10000
     },
     "inputWidgets": {},
     "nuid": "e712211a-a802-4def-b29e-18e970e69478",
     "showTitle": false,
     "title": ""
    }
   },
   "outputs": [
    {
     "output_type": "stream",
     "name": "stdout",
     "output_type": "stream",
     "text": [
      "Coluna do df_life_expectancy\n['Country Name', 'Country Code', 'Region', 'IncomeGroup', 'Year', 'Life Expectancy World Bank', 'Prevelance of Undernourishment', 'CO2', 'Health Expenditure %', 'Education Expenditure %', 'Unemployment', 'Corruption', 'Sanitation', 'Injuries', 'Communicable', 'NonCommunicable']\n"
     ]
    }
   ],
   "source": [
    "print(\"Coluna do df_life_expectancy\")\n",
    "print(df_life_expectancy.columns)"
   ]
  },
  {
   "cell_type": "markdown",
   "metadata": {
    "application/vnd.databricks.v1+cell": {
     "cellMetadata": {
      "byteLimit": 2048000,
      "rowLimit": 10000
     },
     "inputWidgets": {},
     "nuid": "aee7ae95-82d0-4957-b71f-1106289d0601",
     "showTitle": false,
     "title": ""
    }
   },
   "source": [
    "Criando a tabela tb_life_expectancy_raw que terá os dados brutos do df_life_expectancy"
   ]
  },
  {
   "cell_type": "code",
   "execution_count": 0,
   "metadata": {
    "application/vnd.databricks.v1+cell": {
     "cellMetadata": {
      "byteLimit": 2048000,
      "rowLimit": 10000
     },
     "inputWidgets": {},
     "nuid": "66a6936a-2c48-401c-ba6c-2dc778b0a6f4",
     "showTitle": false,
     "title": ""
    }
   },
   "outputs": [],
   "source": [
    "permanent_table_name = \"tb_life_expectancy_raw\"\n",
    "\n",
    "df_life_expectancy.write.format(\"parquet\").saveAsTable(permanent_table_name)"
   ]
  },
  {
   "cell_type": "markdown",
   "metadata": {
    "application/vnd.databricks.v1+cell": {
     "cellMetadata": {},
     "inputWidgets": {},
     "nuid": "51786f6d-5ded-41e8-a19b-91bd7d84514e",
     "showTitle": false,
     "title": ""
    }
   },
   "source": [
    "Vendo como ficou a tabela"
   ]
  },
  {
   "cell_type": "code",
   "execution_count": 0,
   "metadata": {
    "application/vnd.databricks.v1+cell": {
     "cellMetadata": {
      "byteLimit": 2048000,
      "implicitDf": true,
      "rowLimit": 10000
     },
     "inputWidgets": {},
     "nuid": "3794451d-7143-4bdb-b8c0-2f1d465bf609",
     "showTitle": false,
     "title": ""
    }
   },
   "outputs": [
    {
     "output_type": "display_data",
     "data": {
      "text/html": [
       "<style scoped>\n",
       "  .table-result-container {\n",
       "    max-height: 300px;\n",
       "    overflow: auto;\n",
       "  }\n",
       "  table, th, td {\n",
       "    border: 1px solid black;\n",
       "    border-collapse: collapse;\n",
       "  }\n",
       "  th, td {\n",
       "    padding: 5px;\n",
       "  }\n",
       "  th {\n",
       "    text-align: left;\n",
       "  }\n",
       "</style><div class='table-result-container'><table class='table-result'><thead style='background-color: white'><tr><th>Country Name</th><th>Country Code</th><th>Region</th><th>IncomeGroup</th><th>Year</th><th>Life Expectancy World Bank</th><th>Prevelance of Undernourishment</th><th>CO2</th><th>Health Expenditure %</th><th>Education Expenditure %</th><th>Unemployment</th><th>Corruption</th><th>Sanitation</th><th>Injuries</th><th>Communicable</th><th>NonCommunicable</th></tr></thead><tbody><tr><td>Afghanistan</td><td>AFG</td><td>South Asia</td><td>Low income</td><td>2001</td><td>56.308</td><td>47.8</td><td>730.0</td><td>null</td><td>null</td><td>10.8090000152588</td><td>null</td><td>null</td><td>2179727.1</td><td>9689193.7</td><td>5795426.38</td></tr><tr><td>Angola</td><td>AGO</td><td>Sub-Saharan Africa</td><td>Lower middle income</td><td>2001</td><td>47.059</td><td>67.5</td><td>15960.0</td><td>4.48351622</td><td>null</td><td>4.00400018692017</td><td>null</td><td>null</td><td>1392080.71</td><td>1.119021053E7</td><td>2663516.34</td></tr><tr><td>Albania</td><td>ALB</td><td>Europe & Central Asia</td><td>Upper middle income</td><td>2001</td><td>74.288</td><td>4.9</td><td>3230.0</td><td>7.13952398</td><td>3.45869994163513</td><td>18.5750007629395</td><td>null</td><td>40.52089533</td><td>117081.67</td><td>140894.78</td><td>532324.75</td></tr><tr><td>Andorra</td><td>AND</td><td>Europe & Central Asia</td><td>High income</td><td>2001</td><td>null</td><td>null</td><td>520.0</td><td>5.86593914</td><td>null</td><td>null</td><td>null</td><td>21.78866006</td><td>1697.99</td><td>695.56</td><td>13636.64</td></tr></tbody></table></div>"
      ]
     },
     "metadata": {
      "application/vnd.databricks.v1+output": {
       "addedWidgets": {},
       "aggData": [],
       "aggError": "",
       "aggOverflow": false,
       "aggSchema": [],
       "aggSeriesLimitReached": false,
       "aggType": "",
       "arguments": {},
       "columnCustomDisplayInfos": {},
       "data": [
        [
         "Afghanistan",
         "AFG",
         "South Asia",
         "Low income",
         2001,
         56.308,
         47.8,
         730.0,
         null,
         null,
         10.8090000152588,
         null,
         null,
         2179727.1,
         9689193.7,
         5795426.38
        ],
        [
         "Angola",
         "AGO",
         "Sub-Saharan Africa",
         "Lower middle income",
         2001,
         47.059,
         67.5,
         15960.0,
         4.48351622,
         null,
         4.00400018692017,
         null,
         null,
         1392080.71,
         1.119021053E7,
         2663516.34
        ],
        [
         "Albania",
         "ALB",
         "Europe & Central Asia",
         "Upper middle income",
         2001,
         74.288,
         4.9,
         3230.0,
         7.13952398,
         3.45869994163513,
         18.5750007629395,
         null,
         40.52089533,
         117081.67,
         140894.78,
         532324.75
        ],
        [
         "Andorra",
         "AND",
         "Europe & Central Asia",
         "High income",
         2001,
         null,
         null,
         520.0,
         5.86593914,
         null,
         null,
         null,
         21.78866006,
         1697.99,
         695.56,
         13636.64
        ]
       ],
       "datasetInfos": [],
       "dbfsResultPath": null,
       "isJsonSchema": true,
       "metadata": {},
       "overflow": false,
       "plotOptions": {
        "customPlotOptions": {},
        "displayType": "table",
        "pivotAggregation": null,
        "pivotColumns": null,
        "xColumns": null,
        "yColumns": null
       },
       "removedWidgets": [],
       "schema": [
        {
         "metadata": "{\"comment\":\"The name of the country\"}",
         "name": "Country Name",
         "type": "\"string\""
        },
        {
         "metadata": "{\"comment\":\"The 3-letter code of the country. ISO COde 3166-1 alpha-3\"}",
         "name": "Country Code",
         "type": "\"string\""
        },
        {
         "metadata": "{\"comment\":\"The region of the world the country is located in\"}",
         "name": "Region",
         "type": "\"string\""
        },
        {
         "metadata": "{\"comment\":\"The country`s income class\"}",
         "name": "IncomeGroup",
         "type": "\"string\""
        },
        {
         "metadata": "{\"comment\":\"The year of the report\"}",
         "name": "Year",
         "type": "\"integer\""
        },
        {
         "metadata": "{\"comment\":\"The average number of years a newborn infant would live if prevailing patterns of mortality at the time of its birth were to stay the same throughout its life\"}",
         "name": "Life Expectancy World Bank",
         "type": "\"double\""
        },
        {
         "metadata": "{\"comment\":\"The percentage of the population whose habitual food consumption is insufficient to provide the dietary\"}",
         "name": "Prevelance of Undernourishment",
         "type": "\"double\""
        },
        {
         "metadata": "{\"comment\":\"Carbon dioxide emissions are those stemming from the burning of fossil fuels and the manufacture of cement. They include carbon dioxide produced during the consumption of solid, liquid, and gas fuels and gas flaring\"}",
         "name": "CO2",
         "type": "\"double\""
        },
        {
         "metadata": "{\"comment\":\"Level of current health expenditure expressed as a percentage of GDP. Estimates of current health expenditures include healthcare goods and services consumed during each year. This indicator does not include capital health expenditures such as buildings,machinery, IT, and stocks of vaccines for emergencies or outbreaks\"}",
         "name": "Health Expenditure %",
         "type": "\"double\""
        },
        {
         "metadata": "{\"comment\":\"General government expenditure on education (current, capital, and transfers) is expressed as a percentage of GDP. It includes expenditures funded by transfers from international sources to the government. General government usually refers to local, regional, and central governments\"}",
         "name": "Education Expenditure %",
         "type": "\"double\""
        },
        {
         "metadata": "{\"comment\":\"Unemployment refers to the % share of the labor force that is without work but available for and seeking employment\"}",
         "name": "Unemployment",
         "type": "\"double\""
        },
        {
         "metadata": "{\"comment\":\"Corruption (CPIA rating) - Transparency, accountability, and corruption in the public sector assets the extent to which the executive can be held accountable for its use of funds and for the results of its actions by the electorate and by the legislature and judiciary, and the extent to which public employees within the executive are required to account for administrative decisions, use of resources, and results obtained\"}",
         "name": "Corruption",
         "type": "\"double\""
        },
        {
         "metadata": "{\"comment\":\"The percentage of people using improved sanitation facilities that are not shared with other households and where excreta are safely disposed of in situ or transported and treated offsite. Improved sanitation facilities include flush/pour flush to piped sewer systems, septic tanks, or pit latrines: ventilated improved pit latrines, compositing toilets, or pit latrines with slabs\"}",
         "name": "Sanitation",
         "type": "\"double\""
        },
        {
         "metadata": "{\"comment\":\"Disability-Adjusted Life Years (DALYs) due to Injuries - One DALY represents the loss of the equivalent of one year of full health. DALYs for an injury or health condition is the sum of the years of life lost due to premature mortality (YLLs) and the years lived with a disability (YLDs) due to prevalent cases of the disease in a population\"}",
         "name": "Injuries",
         "type": "\"double\""
        },
        {
         "metadata": "{\"comment\":\"Disability-Adjusted Life Years (DALYs) due to Communicable diseases - One DALY represents the loss of the equivalent of one year of full health. DALYs for a communicable disease or health condition is the sum of the years of life lost due to premature mortality (YLLs) and the years lived with a disability (YLDs) due to prevalent cases of the disease in a population\"}",
         "name": "Communicable",
         "type": "\"double\""
        },
        {
         "metadata": "{\"comment\":\"Disability-Adjusted Life Years (DALYs) due to Non-Communicable diseases - One DALY represents the loss of the equivalent of one year of full health. DALYs for a non-communicable disease or health condition is the sum of the years of life lost due to premature mortality (YLLs) and the years lived with a disability (YLDs) due to prevalent cases of the disease in a population\"}",
         "name": "NonCommunicable",
         "type": "\"double\""
        }
       ],
       "type": "table"
      }
     },
     "output_type": "display_data"
    }
   ],
   "source": [
    "%sql\n",
    "select    *     from `tb_life_expectancy_raw`\n",
    "limit 4"
   ]
  },
  {
   "cell_type": "markdown",
   "metadata": {
    "application/vnd.databricks.v1+cell": {
     "cellMetadata": {
      "byteLimit": 2048000,
      "rowLimit": 10000
     },
     "inputWidgets": {},
     "nuid": "7a4a4510-0a08-45ac-947b-2fb3a2ec7999",
     "showTitle": false,
     "title": ""
    }
   },
   "source": [
    "##### Life World Happiness Report"
   ]
  },
  {
   "cell_type": "code",
   "execution_count": 0,
   "metadata": {
    "application/vnd.databricks.v1+cell": {
     "cellMetadata": {
      "byteLimit": 2048000,
      "rowLimit": 10000
     },
     "inputWidgets": {},
     "nuid": "913ec2b4-9142-461e-8dfc-e920df3fe548",
     "showTitle": false,
     "title": ""
    }
   },
   "outputs": [],
   "source": [
    "\n",
    "# Importando os arquivos do Life World Happiness Report\n",
    "\n",
    "# File location\n",
    "file_location_1 = \"/FileStore/tables/2019.csv\"\n",
    "file_location_2 = \"/FileStore/tables/2018.csv\"\n",
    "file_location_3 = \"/FileStore/tables/2017.csv\"\n",
    "file_location_4 = \"/FileStore/tables/2016.csv\"\n",
    "file_location_5 = \"/FileStore/tables/2015.csv\"\n",
    "\n",
    "\n",
    "# A opções do CVS são as mesma no conjunto de dados Life expectancy & Socio-Economic e por isso não serão definidas de novo\n",
    "\n",
    "# Importando os arquivo de cada ano\n",
    "df_world_happiness_report_2019 = spark.read.format(file_type).option(\"inferSchema\", infer_schema) \\\n",
    "  .option(\"header\", first_row_is_header).option(\"sep\", delimiter) \\\n",
    "  .load(file_location_1)\n",
    "\n",
    "df_world_happiness_report_2018 = spark.read.format(file_type).option(\"inferSchema\", infer_schema) \\\n",
    "  .option(\"header\", first_row_is_header).option(\"sep\", delimiter) \\\n",
    "  .load(file_location_2)\n",
    "\n",
    "df_world_happiness_report_2017 = spark.read.format(file_type).option(\"inferSchema\", infer_schema) \\\n",
    "  .option(\"header\", first_row_is_header).option(\"sep\", delimiter) \\\n",
    "  .load(file_location_3)\n",
    "\n",
    "df_world_happiness_report_2016 = spark.read.format(file_type).option(\"inferSchema\", infer_schema) \\\n",
    "  .option(\"header\", first_row_is_header).option(\"sep\", delimiter) \\\n",
    "  .load(file_location_4)\n",
    "\n",
    "df_world_happiness_report_2015 = spark.read.format(file_type).option(\"inferSchema\", infer_schema) \\\n",
    "  .option(\"header\", first_row_is_header).option(\"sep\", delimiter) \\\n",
    "  .load(file_location_5)\n",
    "\n"
   ]
  },
  {
   "cell_type": "code",
   "execution_count": 0,
   "metadata": {
    "application/vnd.databricks.v1+cell": {
     "cellMetadata": {
      "byteLimit": 2048000,
      "rowLimit": 10000
     },
     "inputWidgets": {},
     "nuid": "0be34f05-30c4-40ea-8669-d3f818d931f5",
     "showTitle": false,
     "title": ""
    }
   },
   "outputs": [
    {
     "output_type": "stream",
     "name": "stdout",
     "output_type": "stream",
     "text": [
      "+------------+-----------------+-----+--------------+--------------+-----------------------+----------------------------+----------+-------------------------+\n|Overall rank|Country or region|Score|GDP per capita|Social support|Healthy life expectancy|Freedom to make life choices|Generosity|Perceptions of corruption|\n+------------+-----------------+-----+--------------+--------------+-----------------------+----------------------------+----------+-------------------------+\n|           1|          Finland|7.769|          1.34|         1.587|                  0.986|                       0.596|     0.153|                    0.393|\n|           2|          Denmark|  7.6|         1.383|         1.573|                  0.996|                       0.592|     0.252|                     0.41|\n|           3|           Norway|7.554|         1.488|         1.582|                  1.028|                       0.603|     0.271|                    0.341|\n|           4|          Iceland|7.494|          1.38|         1.624|                  1.026|                       0.591|     0.354|                    0.118|\n|           5|      Netherlands|7.488|         1.396|         1.522|                  0.999|                       0.557|     0.322|                    0.298|\n|           6|      Switzerland| 7.48|         1.452|         1.526|                  1.052|                       0.572|     0.263|                    0.343|\n|           7|           Sweden|7.343|         1.387|         1.487|                  1.009|                       0.574|     0.267|                    0.373|\n|           8|      New Zealand|7.307|         1.303|         1.557|                  1.026|                       0.585|      0.33|                     0.38|\n|           9|           Canada|7.278|         1.365|         1.505|                  1.039|                       0.584|     0.285|                    0.308|\n|          10|          Austria|7.246|         1.376|         1.475|                  1.016|                       0.532|     0.244|                    0.226|\n+------------+-----------------+-----+--------------+--------------+-----------------------+----------------------------+----------+-------------------------+\nonly showing top 10 rows\n\n+------------+-----------------+-----+--------------+--------------+-----------------------+----------------------------+----------+-------------------------+\n|Overall rank|Country or region|Score|GDP per capita|Social support|Healthy life expectancy|Freedom to make life choices|Generosity|Perceptions of corruption|\n+------------+-----------------+-----+--------------+--------------+-----------------------+----------------------------+----------+-------------------------+\n|           1|          Finland|7.632|         1.305|         1.592|                  0.874|                       0.681|     0.202|                    0.393|\n|           2|           Norway|7.594|         1.456|         1.582|                  0.861|                       0.686|     0.286|                    0.340|\n|           3|          Denmark|7.555|         1.351|          1.59|                  0.868|                       0.683|     0.284|                    0.408|\n|           4|          Iceland|7.495|         1.343|         1.644|                  0.914|                       0.677|     0.353|                    0.138|\n|           5|      Switzerland|7.487|          1.42|         1.549|                  0.927|                        0.66|     0.256|                    0.357|\n|           6|      Netherlands|7.441|         1.361|         1.488|                  0.878|                       0.638|     0.333|                    0.295|\n|           7|           Canada|7.328|          1.33|         1.532|                  0.896|                       0.653|     0.321|                    0.291|\n|           8|      New Zealand|7.324|         1.268|         1.601|                  0.876|                       0.669|     0.365|                    0.389|\n|           9|           Sweden|7.314|         1.355|         1.501|                  0.913|                       0.659|     0.285|                    0.383|\n|          10|        Australia|7.272|          1.34|         1.573|                   0.91|                       0.647|     0.361|                    0.302|\n+------------+-----------------+-----+--------------+--------------+-----------------------+----------------------------+----------+-------------------------+\nonly showing top 10 rows\n\n+-----------+--------------+----------------+----------------+----------------+------------------------+----------------+------------------------+-----------------+-----------------+-----------------------------+-----------------+\n|    Country|Happiness.Rank| Happiness.Score|    Whisker.high|     Whisker.low|Economy..GDP.per.Capita.|          Family|Health..Life.Expectancy.|          Freedom|       Generosity|Trust..Government.Corruption.|Dystopia.Residual|\n+-----------+--------------+----------------+----------------+----------------+------------------------+----------------+------------------------+-----------------+-----------------+-----------------------------+-----------------+\n|     Norway|             1|7.53700017929077|7.59444482058287|7.47955553799868|        1.61646318435669|1.53352355957031|       0.796666502952576|0.635422587394714| 0.36201223731041|            0.315963834524155| 2.27702665328979|\n|    Denmark|             2|7.52199983596802|7.58172806486487|7.46227160707116|        1.48238301277161|1.55112159252167|       0.792565524578094|0.626006722450256|0.355280488729477|             0.40077006816864| 2.31370735168457|\n|    Iceland|             3|7.50400018692017|7.62203047305346|7.38596990078688|          1.480633020401| 1.6105740070343|       0.833552122116089|0.627162635326385|0.475540220737457|            0.153526559472084| 2.32271528244019|\n|Switzerland|             4|7.49399995803833|7.56177242040634|7.42622749567032|        1.56497955322266|1.51691174507141|       0.858131289482117|0.620070576667786|0.290549278259277|            0.367007285356522|  2.2767162322998|\n|    Finland|             5| 7.4689998626709|7.52754207581282|7.41045764952898|        1.44357192516327| 1.5402467250824|        0.80915766954422|0.617950856685638| 0.24548277258873|             0.38261154294014|  2.4301815032959|\n|Netherlands|             6| 7.3769998550415|7.42742584124207|7.32657386884093|        1.50394463539124|1.42893922328949|       0.810696125030518|0.585384488105774|0.470489829778671|            0.282661825418472| 2.29480409622192|\n|     Canada|             7|7.31599998474121|7.38440283536911|7.24759713411331|        1.47920441627502|1.48134899139404|        0.83455765247345|0.611100912094116|0.435539722442627|            0.287371516227722| 2.18726444244385|\n|New Zealand|             8|7.31400012969971| 7.3795104418695|7.24848981752992|        1.40570604801178|1.54819512367249|       0.816759705543518|0.614062130451202|0.500005125999451|            0.382816702127457|  2.0464563369751|\n|     Sweden|             9|7.28399991989136|7.34409487739205|7.22390496239066|        1.49438726902008|1.47816216945648|       0.830875158309937|0.612924098968506|0.385399252176285|            0.384398728609085| 2.09753799438477|\n|  Australia|            10|7.28399991989136|7.35665122494102| 7.2113486148417|          1.484414935112|1.51004195213318|        0.84388679265976|0.601607382297516|0.477699249982834|            0.301183730363846| 2.06521081924438|\n+-----------+--------------+----------------+----------------+----------------+------------------------+----------------+------------------------+-----------------+-----------------+-----------------------------+-----------------+\nonly showing top 10 rows\n\n+-----------+--------------------+--------------+---------------+-------------------------+-------------------------+------------------------+-------+------------------------+-------+-----------------------------+----------+-----------------+\n|    Country|              Region|Happiness Rank|Happiness Score|Lower Confidence Interval|Upper Confidence Interval|Economy (GDP per Capita)| Family|Health (Life Expectancy)|Freedom|Trust (Government Corruption)|Generosity|Dystopia Residual|\n+-----------+--------------------+--------------+---------------+-------------------------+-------------------------+------------------------+-------+------------------------+-------+-----------------------------+----------+-----------------+\n|    Denmark|      Western Europe|             1|          7.526|                     7.46|                    7.592|                 1.44178|1.16374|                 0.79504|0.57941|                      0.44453|   0.36171|          2.73939|\n|Switzerland|      Western Europe|             2|          7.509|                    7.428|                     7.59|                 1.52733|1.14524|                 0.86303|0.58557|                      0.41203|   0.28083|          2.69463|\n|    Iceland|      Western Europe|             3|          7.501|                    7.333|                    7.669|                 1.42666|1.18326|                 0.86733|0.56624|                      0.14975|   0.47678|          2.83137|\n|     Norway|      Western Europe|             4|          7.498|                    7.421|                    7.575|                 1.57744| 1.1269|                 0.79579|0.59609|                      0.35776|   0.37895|          2.66465|\n|    Finland|      Western Europe|             5|          7.413|                    7.351|                    7.475|                 1.40598|1.13464|                 0.81091|0.57104|                      0.41004|   0.25492|          2.82596|\n|     Canada|       North America|             6|          7.404|                    7.335|                    7.473|                 1.44015| 1.0961|                  0.8276| 0.5737|                      0.31329|   0.44834|          2.70485|\n|Netherlands|      Western Europe|             7|          7.339|                    7.284|                    7.394|                 1.46468|1.02912|                 0.81231|0.55211|                      0.29927|   0.47416|          2.70749|\n|New Zealand|Australia and New...|             8|          7.334|                    7.264|                    7.404|                 1.36066|1.17278|                 0.83096|0.58147|                      0.41904|   0.49401|          2.47553|\n|  Australia|Australia and New...|             9|          7.313|                    7.241|                    7.385|                 1.44443|1.10476|                  0.8512|0.56837|                      0.32331|   0.47407|           2.5465|\n|     Sweden|      Western Europe|            10|          7.291|                    7.227|                    7.355|                 1.45181|1.08764|                 0.83121|0.58218|                      0.40867|   0.38254|          2.54734|\n+-----------+--------------------+--------------+---------------+-------------------------+-------------------------+------------------------+-------+------------------------+-------+-----------------------------+----------+-----------------+\nonly showing top 10 rows\n\n+-----------+--------------------+--------------+---------------+--------------+------------------------+-------+------------------------+-------+-----------------------------+----------+-----------------+\n|    Country|              Region|Happiness Rank|Happiness Score|Standard Error|Economy (GDP per Capita)| Family|Health (Life Expectancy)|Freedom|Trust (Government Corruption)|Generosity|Dystopia Residual|\n+-----------+--------------------+--------------+---------------+--------------+------------------------+-------+------------------------+-------+-----------------------------+----------+-----------------+\n|Switzerland|      Western Europe|             1|          7.587|       0.03411|                 1.39651|1.34951|                 0.94143|0.66557|                      0.41978|   0.29678|          2.51738|\n|    Iceland|      Western Europe|             2|          7.561|       0.04884|                 1.30232|1.40223|                 0.94784|0.62877|                      0.14145|    0.4363|          2.70201|\n|    Denmark|      Western Europe|             3|          7.527|       0.03328|                 1.32548|1.36058|                 0.87464|0.64938|                      0.48357|   0.34139|          2.49204|\n|     Norway|      Western Europe|             4|          7.522|        0.0388|                   1.459|1.33095|                 0.88521|0.66973|                      0.36503|   0.34699|          2.46531|\n|     Canada|       North America|             5|          7.427|       0.03553|                 1.32629|1.32261|                 0.90563|0.63297|                      0.32957|   0.45811|          2.45176|\n|    Finland|      Western Europe|             6|          7.406|        0.0314|                 1.29025|1.31826|                 0.88911|0.64169|                      0.41372|   0.23351|          2.61955|\n|Netherlands|      Western Europe|             7|          7.378|       0.02799|                 1.32944|1.28017|                 0.89284|0.61576|                      0.31814|    0.4761|           2.4657|\n|     Sweden|      Western Europe|             8|          7.364|       0.03157|                 1.33171|1.28907|                 0.91087| 0.6598|                      0.43844|   0.36262|          2.37119|\n|New Zealand|Australia and New...|             9|          7.286|       0.03371|                 1.25018|1.31967|                 0.90837|0.63938|                      0.42922|   0.47501|          2.26425|\n|  Australia|Australia and New...|            10|          7.284|       0.04083|                 1.33358|1.30923|                 0.93156|0.65124|                      0.35637|   0.43562|          2.26646|\n+-----------+--------------------+--------------+---------------+--------------+------------------------+-------+------------------------+-------+-----------------------------+----------+-----------------+\nonly showing top 10 rows\n\n"
     ]
    }
   ],
   "source": [
    "# Vendo como ficou cada dataframe\n",
    "display(df_world_happiness_report_2019.show(10))\n",
    "display(df_world_happiness_report_2018.show(10))\n",
    "display(df_world_happiness_report_2017.show(10))\n",
    "display(df_world_happiness_report_2016.show(10))\n",
    "display(df_world_happiness_report_2015.show(10))"
   ]
  },
  {
   "cell_type": "markdown",
   "metadata": {
    "application/vnd.databricks.v1+cell": {
     "cellMetadata": {
      "byteLimit": 2048000,
      "rowLimit": 10000
     },
     "inputWidgets": {},
     "nuid": "d3b5e822-e4fd-4b99-96c6-0544e5a2d588",
     "showTitle": false,
     "title": ""
    }
   },
   "source": [
    "Criando as tabelas raw que terão os dados brutos do world_happiness_report de cada ano"
   ]
  },
  {
   "cell_type": "code",
   "execution_count": 0,
   "metadata": {
    "application/vnd.databricks.v1+cell": {
     "cellMetadata": {
      "byteLimit": 2048000,
      "rowLimit": 10000
     },
     "inputWidgets": {},
     "nuid": "c7d0bc06-e731-46b3-9d03-6e57fdef111c",
     "showTitle": false,
     "title": ""
    }
   },
   "outputs": [],
   "source": [
    "permanent_table_name = \"tb_world_happiness_report_2019_raw\"\n",
    "df_world_happiness_report_2019.write.format(\"parquet\").saveAsTable(permanent_table_name)\n",
    "permanent_table_name = \"tb_world_happiness_report_2018_raw\"\n",
    "df_world_happiness_report_2018.write.format(\"parquet\").saveAsTable(permanent_table_name)\n",
    "permanent_table_name = \"tb_world_happiness_report_2017_raw\"\n",
    "df_world_happiness_report_2017.write.format(\"parquet\").saveAsTable(permanent_table_name)\n",
    "permanent_table_name = \"tb_world_happiness_report_2016_raw\"\n",
    "df_world_happiness_report_2016.write.format(\"parquet\").saveAsTable(permanent_table_name)\n",
    "permanent_table_name = \"tb_world_happiness_report_2015_raw\"\n",
    "df_world_happiness_report_2015.write.format(\"parquet\").saveAsTable(permanent_table_name)"
   ]
  },
  {
   "cell_type": "markdown",
   "metadata": {
    "application/vnd.databricks.v1+cell": {
     "cellMetadata": {},
     "inputWidgets": {},
     "nuid": "c8cdfe78-afc1-4163-9fc3-1684c21ae709",
     "showTitle": false,
     "title": ""
    }
   },
   "source": [
    "Vendo como ficaram as tabelas "
   ]
  },
  {
   "cell_type": "code",
   "execution_count": 0,
   "metadata": {
    "application/vnd.databricks.v1+cell": {
     "cellMetadata": {
      "byteLimit": 2048000,
      "implicitDf": true,
      "rowLimit": 10000
     },
     "inputWidgets": {},
     "nuid": "6698cb54-9d96-4c9f-9b20-2b7ebfc83044",
     "showTitle": false,
     "title": ""
    }
   },
   "outputs": [
    {
     "output_type": "display_data",
     "data": {
      "text/html": [
       "<style scoped>\n",
       "  .table-result-container {\n",
       "    max-height: 300px;\n",
       "    overflow: auto;\n",
       "  }\n",
       "  table, th, td {\n",
       "    border: 1px solid black;\n",
       "    border-collapse: collapse;\n",
       "  }\n",
       "  th, td {\n",
       "    padding: 5px;\n",
       "  }\n",
       "  th {\n",
       "    text-align: left;\n",
       "  }\n",
       "</style><div class='table-result-container'><table class='table-result'><thead style='background-color: white'><tr><th>Overall rank</th><th>Country or region</th><th>Score</th><th>GDP per capita</th><th>Social support</th><th>Healthy life expectancy</th><th>Freedom to make life choices</th><th>Generosity</th><th>Perceptions of corruption</th></tr></thead><tbody><tr><td>1</td><td>Finland</td><td>7.769</td><td>1.34</td><td>1.587</td><td>0.986</td><td>0.596</td><td>0.153</td><td>0.393</td></tr><tr><td>2</td><td>Denmark</td><td>7.6</td><td>1.383</td><td>1.573</td><td>0.996</td><td>0.592</td><td>0.252</td><td>0.41</td></tr><tr><td>3</td><td>Norway</td><td>7.554</td><td>1.488</td><td>1.582</td><td>1.028</td><td>0.603</td><td>0.271</td><td>0.341</td></tr><tr><td>4</td><td>Iceland</td><td>7.494</td><td>1.38</td><td>1.624</td><td>1.026</td><td>0.591</td><td>0.354</td><td>0.118</td></tr></tbody></table></div>"
      ]
     },
     "metadata": {
      "application/vnd.databricks.v1+output": {
       "addedWidgets": {},
       "aggData": [],
       "aggError": "",
       "aggOverflow": false,
       "aggSchema": [],
       "aggSeriesLimitReached": false,
       "aggType": "",
       "arguments": {},
       "columnCustomDisplayInfos": {},
       "data": [
        [
         1,
         "Finland",
         7.769,
         1.34,
         1.587,
         0.986,
         0.596,
         0.153,
         0.393
        ],
        [
         2,
         "Denmark",
         7.6,
         1.383,
         1.573,
         0.996,
         0.592,
         0.252,
         0.41
        ],
        [
         3,
         "Norway",
         7.554,
         1.488,
         1.582,
         1.028,
         0.603,
         0.271,
         0.341
        ],
        [
         4,
         "Iceland",
         7.494,
         1.38,
         1.624,
         1.026,
         0.591,
         0.354,
         0.118
        ]
       ],
       "datasetInfos": [],
       "dbfsResultPath": null,
       "isJsonSchema": true,
       "metadata": {},
       "overflow": false,
       "plotOptions": {
        "customPlotOptions": {},
        "displayType": "table",
        "pivotAggregation": null,
        "pivotColumns": null,
        "xColumns": null,
        "yColumns": null
       },
       "removedWidgets": [],
       "schema": [
        {
         "metadata": "{\"comment\":\"Rank of the country based on the Happiness Score\"}",
         "name": "Overall rank",
         "type": "\"integer\""
        },
        {
         "metadata": "{\"comment\":\"The name of the country or region\"}",
         "name": "Country or region",
         "type": "\"string\""
        },
        {
         "metadata": "{\"comment\":\"The happiness score of the country\"}",
         "name": "Score",
         "type": "\"double\""
        },
        {
         "metadata": "{\"comment\":\"The extent to which GDP contributes to the calculation of the Happiness Score\"}",
         "name": "GDP per capita",
         "type": "\"double\""
        },
        {
         "metadata": "{\"comment\":\"The extent to which Family contributes to the calculation of the Happiness Score\"}",
         "name": "Social support",
         "type": "\"double\""
        },
        {
         "metadata": "{\"comment\":\"The extent to which Life expectancy contributed to the calculation of the Happiness Score\"}",
         "name": "Healthy life expectancy",
         "type": "\"double\""
        },
        {
         "metadata": "{\"comment\":\"The extent to which Freedom contributed to the calculation of the Happiness Score\"}",
         "name": "Freedom to make life choices",
         "type": "\"double\""
        },
        {
         "metadata": "{\"comment\":\"The extent to which Generosity contributed to the calculation of the Happiness Score\"}",
         "name": "Generosity",
         "type": "\"double\""
        },
        {
         "metadata": "{\"comment\":\"The extent to which Perception of Corruption contributes to Happiness Score\"}",
         "name": "Perceptions of corruption",
         "type": "\"double\""
        }
       ],
       "type": "table"
      }
     },
     "output_type": "display_data"
    }
   ],
   "source": [
    "%sql\n",
    "select    *     from `tb_world_happiness_report_2019_raw`\n",
    "limit 4"
   ]
  },
  {
   "cell_type": "code",
   "execution_count": 0,
   "metadata": {
    "application/vnd.databricks.v1+cell": {
     "cellMetadata": {
      "byteLimit": 2048000,
      "implicitDf": true,
      "rowLimit": 10000
     },
     "inputWidgets": {},
     "nuid": "4889a785-c7a5-4f63-85ad-8c3267b38ea1",
     "showTitle": false,
     "title": ""
    }
   },
   "outputs": [
    {
     "output_type": "display_data",
     "data": {
      "text/html": [
       "<style scoped>\n",
       "  .table-result-container {\n",
       "    max-height: 300px;\n",
       "    overflow: auto;\n",
       "  }\n",
       "  table, th, td {\n",
       "    border: 1px solid black;\n",
       "    border-collapse: collapse;\n",
       "  }\n",
       "  th, td {\n",
       "    padding: 5px;\n",
       "  }\n",
       "  th {\n",
       "    text-align: left;\n",
       "  }\n",
       "</style><div class='table-result-container'><table class='table-result'><thead style='background-color: white'><tr><th>Overall rank</th><th>Country or region</th><th>Score</th><th>GDP per capita</th><th>Social support</th><th>Healthy life expectancy</th><th>Freedom to make life choices</th><th>Generosity</th><th>Perceptions of corruption</th></tr></thead><tbody><tr><td>1</td><td>Finland</td><td>7.632</td><td>1.305</td><td>1.592</td><td>0.874</td><td>0.681</td><td>0.202</td><td>0.393</td></tr><tr><td>2</td><td>Norway</td><td>7.594</td><td>1.456</td><td>1.582</td><td>0.861</td><td>0.686</td><td>0.286</td><td>0.340</td></tr><tr><td>3</td><td>Denmark</td><td>7.555</td><td>1.351</td><td>1.59</td><td>0.868</td><td>0.683</td><td>0.284</td><td>0.408</td></tr><tr><td>4</td><td>Iceland</td><td>7.495</td><td>1.343</td><td>1.644</td><td>0.914</td><td>0.677</td><td>0.353</td><td>0.138</td></tr></tbody></table></div>"
      ]
     },
     "metadata": {
      "application/vnd.databricks.v1+output": {
       "addedWidgets": {},
       "aggData": [],
       "aggError": "",
       "aggOverflow": false,
       "aggSchema": [],
       "aggSeriesLimitReached": false,
       "aggType": "",
       "arguments": {},
       "columnCustomDisplayInfos": {},
       "data": [
        [
         1,
         "Finland",
         7.632,
         1.305,
         1.592,
         0.874,
         0.681,
         0.202,
         "0.393"
        ],
        [
         2,
         "Norway",
         7.594,
         1.456,
         1.582,
         0.861,
         0.686,
         0.286,
         "0.340"
        ],
        [
         3,
         "Denmark",
         7.555,
         1.351,
         1.59,
         0.868,
         0.683,
         0.284,
         "0.408"
        ],
        [
         4,
         "Iceland",
         7.495,
         1.343,
         1.644,
         0.914,
         0.677,
         0.353,
         "0.138"
        ]
       ],
       "datasetInfos": [],
       "dbfsResultPath": null,
       "isJsonSchema": true,
       "metadata": {},
       "overflow": false,
       "plotOptions": {
        "customPlotOptions": {},
        "displayType": "table",
        "pivotAggregation": null,
        "pivotColumns": null,
        "xColumns": null,
        "yColumns": null
       },
       "removedWidgets": [],
       "schema": [
        {
         "metadata": "{\"comment\":\"Rank of the country based on the Happiness Score\"}",
         "name": "Overall rank",
         "type": "\"integer\""
        },
        {
         "metadata": "{\"comment\":\"The name of the country or region\"}",
         "name": "Country or region",
         "type": "\"string\""
        },
        {
         "metadata": "{\"comment\":\"The happiness score of the country\"}",
         "name": "Score",
         "type": "\"double\""
        },
        {
         "metadata": "{\"comment\":\"The extent to which GDP contributes to the calculation of the Happiness Score\"}",
         "name": "GDP per capita",
         "type": "\"double\""
        },
        {
         "metadata": "{\"comment\":\"The extent to which Family contributes to the calculation of the Happiness Score\"}",
         "name": "Social support",
         "type": "\"double\""
        },
        {
         "metadata": "{\"comment\":\"The extent to which Life expectancy contributed to the calculation of the Happiness Score\"}",
         "name": "Healthy life expectancy",
         "type": "\"double\""
        },
        {
         "metadata": "{\"comment\":\"The extent to which Freedom contributed to the calculation of the Happiness Score\"}",
         "name": "Freedom to make life choices",
         "type": "\"double\""
        },
        {
         "metadata": "{\"comment\":\"The extent to which Generosity contributed to the calculation of the Happiness Score\"}",
         "name": "Generosity",
         "type": "\"double\""
        },
        {
         "metadata": "{\"comment\":\"The extent to which Perception of Corruption contributes to Happiness Score\"}",
         "name": "Perceptions of corruption",
         "type": "\"string\""
        }
       ],
       "type": "table"
      }
     },
     "output_type": "display_data"
    }
   ],
   "source": [
    "%sql\n",
    "select    *     from `tb_world_happiness_report_2018_raw`\n",
    "limit 4"
   ]
  },
  {
   "cell_type": "code",
   "execution_count": 0,
   "metadata": {
    "application/vnd.databricks.v1+cell": {
     "cellMetadata": {
      "byteLimit": 2048000,
      "implicitDf": true,
      "rowLimit": 10000
     },
     "inputWidgets": {},
     "nuid": "288338bd-2b9b-4a42-83bb-fc6bb3ca176b",
     "showTitle": false,
     "title": ""
    }
   },
   "outputs": [
    {
     "output_type": "display_data",
     "data": {
      "text/html": [
       "<style scoped>\n",
       "  .table-result-container {\n",
       "    max-height: 300px;\n",
       "    overflow: auto;\n",
       "  }\n",
       "  table, th, td {\n",
       "    border: 1px solid black;\n",
       "    border-collapse: collapse;\n",
       "  }\n",
       "  th, td {\n",
       "    padding: 5px;\n",
       "  }\n",
       "  th {\n",
       "    text-align: left;\n",
       "  }\n",
       "</style><div class='table-result-container'><table class='table-result'><thead style='background-color: white'><tr><th>Country</th><th>Happiness.Rank</th><th>Happiness.Score</th><th>Whisker.high</th><th>Whisker.low</th><th>Economy..GDP.per.Capita.</th><th>Family</th><th>Health..Life.Expectancy.</th><th>Freedom</th><th>Generosity</th><th>Trust..Government.Corruption.</th><th>Dystopia.Residual</th></tr></thead><tbody><tr><td>Norway</td><td>1</td><td>7.53700017929077</td><td>7.59444482058287</td><td>7.47955553799868</td><td>1.61646318435669</td><td>1.53352355957031</td><td>0.796666502952576</td><td>0.635422587394714</td><td>0.36201223731041</td><td>0.315963834524155</td><td>2.27702665328979</td></tr><tr><td>Denmark</td><td>2</td><td>7.52199983596802</td><td>7.58172806486487</td><td>7.46227160707116</td><td>1.48238301277161</td><td>1.55112159252167</td><td>0.792565524578094</td><td>0.626006722450256</td><td>0.355280488729477</td><td>0.40077006816864</td><td>2.31370735168457</td></tr><tr><td>Iceland</td><td>3</td><td>7.50400018692017</td><td>7.62203047305346</td><td>7.38596990078688</td><td>1.480633020401</td><td>1.6105740070343</td><td>0.833552122116089</td><td>0.627162635326385</td><td>0.475540220737457</td><td>0.153526559472084</td><td>2.32271528244019</td></tr><tr><td>Switzerland</td><td>4</td><td>7.49399995803833</td><td>7.56177242040634</td><td>7.42622749567032</td><td>1.56497955322266</td><td>1.51691174507141</td><td>0.858131289482117</td><td>0.620070576667786</td><td>0.290549278259277</td><td>0.367007285356522</td><td>2.2767162322998</td></tr></tbody></table></div>"
      ]
     },
     "metadata": {
      "application/vnd.databricks.v1+output": {
       "addedWidgets": {},
       "aggData": [],
       "aggError": "",
       "aggOverflow": false,
       "aggSchema": [],
       "aggSeriesLimitReached": false,
       "aggType": "",
       "arguments": {},
       "columnCustomDisplayInfos": {},
       "data": [
        [
         "Norway",
         1,
         7.53700017929077,
         7.59444482058287,
         7.47955553799868,
         1.61646318435669,
         1.53352355957031,
         0.796666502952576,
         0.635422587394714,
         0.36201223731041,
         0.315963834524155,
         2.27702665328979
        ],
        [
         "Denmark",
         2,
         7.52199983596802,
         7.58172806486487,
         7.46227160707116,
         1.48238301277161,
         1.55112159252167,
         0.792565524578094,
         0.626006722450256,
         0.355280488729477,
         0.40077006816864,
         2.31370735168457
        ],
        [
         "Iceland",
         3,
         7.50400018692017,
         7.62203047305346,
         7.38596990078688,
         1.480633020401,
         1.6105740070343,
         0.833552122116089,
         0.627162635326385,
         0.475540220737457,
         0.153526559472084,
         2.32271528244019
        ],
        [
         "Switzerland",
         4,
         7.49399995803833,
         7.56177242040634,
         7.42622749567032,
         1.56497955322266,
         1.51691174507141,
         0.858131289482117,
         0.620070576667786,
         0.290549278259277,
         0.367007285356522,
         2.2767162322998
        ]
       ],
       "datasetInfos": [],
       "dbfsResultPath": null,
       "isJsonSchema": true,
       "metadata": {},
       "overflow": false,
       "plotOptions": {
        "customPlotOptions": {},
        "displayType": "table",
        "pivotAggregation": null,
        "pivotColumns": null,
        "xColumns": null,
        "yColumns": null
       },
       "removedWidgets": [],
       "schema": [
        {
         "metadata": "{\"comment\":\"The name of the country\"}",
         "name": "Country",
         "type": "\"string\""
        },
        {
         "metadata": "{\"comment\":\"Rank of the country based on the Happiness Score\"}",
         "name": "Happiness.Rank",
         "type": "\"integer\""
        },
        {
         "metadata": "{\"comment\":\"The happiness score of the country\"}",
         "name": "Happiness.Score",
         "type": "\"double\""
        },
        {
         "metadata": "{\"comment\":\"This represents the upper bound of the data in a boxplot\"}",
         "name": "Whisker.high",
         "type": "\"double\""
        },
        {
         "metadata": "{\"comment\":\"This represents the lower bound of the data in a boxplot\"}",
         "name": "Whisker.low",
         "type": "\"double\""
        },
        {
         "metadata": "{\"comment\":\"The extent to which GDP contributes to the calculation of the Happiness Score\"}",
         "name": "Economy..GDP.per.Capita.",
         "type": "\"double\""
        },
        {
         "metadata": "{\"comment\":\"The extent to which Family contributes to the calculation of the Happiness Score\"}",
         "name": "Family",
         "type": "\"double\""
        },
        {
         "metadata": "{\"comment\":\"The extent to which Life expectancy contributed to the calculation of the Happiness Score\"}",
         "name": "Health..Life.Expectancy.",
         "type": "\"double\""
        },
        {
         "metadata": "{\"comment\":\"The extent to which Freedom contributed to the calculation of the Happiness Score\"}",
         "name": "Freedom",
         "type": "\"double\""
        },
        {
         "metadata": "{\"comment\":\"The extent to which Generosity contributed to the calculation of the Happiness Score\"}",
         "name": "Generosity",
         "type": "\"double\""
        },
        {
         "metadata": "{\"comment\":\"The extent to which Perception of Corruption contributes to Happiness Score\"}",
         "name": "Trust..Government.Corruption.",
         "type": "\"double\""
        },
        {
         "metadata": "{\"comment\":\"term used in the context of the World Happiness Report, which measures and compares the happiness levels of countries worldwide. The concept of Dystopia Residual helps explain the difference in happiness between the actual scores of countries and the expected scores based on various factors\"}",
         "name": "Dystopia.Residual",
         "type": "\"double\""
        }
       ],
       "type": "table"
      }
     },
     "output_type": "display_data"
    }
   ],
   "source": [
    "%sql\n",
    "select    *     from `tb_world_happiness_report_2017_raw`\n",
    "limit 4"
   ]
  },
  {
   "cell_type": "code",
   "execution_count": 0,
   "metadata": {
    "application/vnd.databricks.v1+cell": {
     "cellMetadata": {
      "byteLimit": 2048000,
      "implicitDf": true,
      "rowLimit": 10000
     },
     "inputWidgets": {},
     "nuid": "007527d2-02e8-482f-8c7f-1ac155d143c8",
     "showTitle": false,
     "title": ""
    }
   },
   "outputs": [
    {
     "output_type": "display_data",
     "data": {
      "text/html": [
       "<style scoped>\n",
       "  .table-result-container {\n",
       "    max-height: 300px;\n",
       "    overflow: auto;\n",
       "  }\n",
       "  table, th, td {\n",
       "    border: 1px solid black;\n",
       "    border-collapse: collapse;\n",
       "  }\n",
       "  th, td {\n",
       "    padding: 5px;\n",
       "  }\n",
       "  th {\n",
       "    text-align: left;\n",
       "  }\n",
       "</style><div class='table-result-container'><table class='table-result'><thead style='background-color: white'><tr><th>Country</th><th>Region</th><th>Happiness Rank</th><th>Happiness Score</th><th>Lower Confidence Interval</th><th>Upper Confidence Interval</th><th>Economy (GDP per Capita)</th><th>Family</th><th>Health (Life Expectancy)</th><th>Freedom</th><th>Trust (Government Corruption)</th><th>Generosity</th><th>Dystopia Residual</th></tr></thead><tbody><tr><td>Denmark</td><td>Western Europe</td><td>1</td><td>7.526</td><td>7.46</td><td>7.592</td><td>1.44178</td><td>1.16374</td><td>0.79504</td><td>0.57941</td><td>0.44453</td><td>0.36171</td><td>2.73939</td></tr><tr><td>Switzerland</td><td>Western Europe</td><td>2</td><td>7.509</td><td>7.428</td><td>7.59</td><td>1.52733</td><td>1.14524</td><td>0.86303</td><td>0.58557</td><td>0.41203</td><td>0.28083</td><td>2.69463</td></tr><tr><td>Iceland</td><td>Western Europe</td><td>3</td><td>7.501</td><td>7.333</td><td>7.669</td><td>1.42666</td><td>1.18326</td><td>0.86733</td><td>0.56624</td><td>0.14975</td><td>0.47678</td><td>2.83137</td></tr><tr><td>Norway</td><td>Western Europe</td><td>4</td><td>7.498</td><td>7.421</td><td>7.575</td><td>1.57744</td><td>1.1269</td><td>0.79579</td><td>0.59609</td><td>0.35776</td><td>0.37895</td><td>2.66465</td></tr></tbody></table></div>"
      ]
     },
     "metadata": {
      "application/vnd.databricks.v1+output": {
       "addedWidgets": {},
       "aggData": [],
       "aggError": "",
       "aggOverflow": false,
       "aggSchema": [],
       "aggSeriesLimitReached": false,
       "aggType": "",
       "arguments": {},
       "columnCustomDisplayInfos": {},
       "data": [
        [
         "Denmark",
         "Western Europe",
         1,
         7.526,
         7.46,
         7.592,
         1.44178,
         1.16374,
         0.79504,
         0.57941,
         0.44453,
         0.36171,
         2.73939
        ],
        [
         "Switzerland",
         "Western Europe",
         2,
         7.509,
         7.428,
         7.59,
         1.52733,
         1.14524,
         0.86303,
         0.58557,
         0.41203,
         0.28083,
         2.69463
        ],
        [
         "Iceland",
         "Western Europe",
         3,
         7.501,
         7.333,
         7.669,
         1.42666,
         1.18326,
         0.86733,
         0.56624,
         0.14975,
         0.47678,
         2.83137
        ],
        [
         "Norway",
         "Western Europe",
         4,
         7.498,
         7.421,
         7.575,
         1.57744,
         1.1269,
         0.79579,
         0.59609,
         0.35776,
         0.37895,
         2.66465
        ]
       ],
       "datasetInfos": [],
       "dbfsResultPath": null,
       "isJsonSchema": true,
       "metadata": {},
       "overflow": false,
       "plotOptions": {
        "customPlotOptions": {},
        "displayType": "table",
        "pivotAggregation": null,
        "pivotColumns": null,
        "xColumns": null,
        "yColumns": null
       },
       "removedWidgets": [],
       "schema": [
        {
         "metadata": "{\"comment\":\"The name of the country\"}",
         "name": "Country",
         "type": "\"string\""
        },
        {
         "metadata": "{\"comment\":\"The region of the world the country is located in\"}",
         "name": "Region",
         "type": "\"string\""
        },
        {
         "metadata": "{\"comment\":\"The happiness score of the country\"}",
         "name": "Happiness Rank",
         "type": "\"integer\""
        },
        {
         "metadata": "{\"comment\":\"Rank of the country based on the Happiness Score\"}",
         "name": "Happiness Score",
         "type": "\"double\""
        },
        {
         "metadata": "{\"comment\":\"This represents the lower bound of the data in a boxplot\"}",
         "name": "Lower Confidence Interval",
         "type": "\"double\""
        },
        {
         "metadata": "{\"comment\":\"This represents the upper bound of the data in a boxplot\"}",
         "name": "Upper Confidence Interval",
         "type": "\"double\""
        },
        {
         "metadata": "{\"comment\":\"The extent to which GDP contributes to the calculation of the Happiness Score\"}",
         "name": "Economy (GDP per Capita)",
         "type": "\"double\""
        },
        {
         "metadata": "{\"comment\":\"The extent to which Family contributes to the calculation of the Happiness Score\"}",
         "name": "Family",
         "type": "\"double\""
        },
        {
         "metadata": "{\"comment\":\"The extent to which Life expectancy contributed to the calculation of the Happiness Score\"}",
         "name": "Health (Life Expectancy)",
         "type": "\"double\""
        },
        {
         "metadata": "{\"comment\":\"The extent to which Freedom contributed to the calculation of the Happiness Score\"}",
         "name": "Freedom",
         "type": "\"double\""
        },
        {
         "metadata": "{\"comment\":\"The extent to which Perception of Corruption contributes to Happiness Score\"}",
         "name": "Trust (Government Corruption)",
         "type": "\"double\""
        },
        {
         "metadata": "{\"comment\":\"The extent to which Generosity contributed to the calculation of the Happiness Score\"}",
         "name": "Generosity",
         "type": "\"double\""
        },
        {
         "metadata": "{\"comment\":\"term used in the context of the World Happiness Report, which measures and compares the happiness levels of countries worldwide. The concept of Dystopia Residual helps explain the difference in happiness between the actual scores of countries and the expected scores based on various factors\"}",
         "name": "Dystopia Residual",
         "type": "\"double\""
        }
       ],
       "type": "table"
      }
     },
     "output_type": "display_data"
    }
   ],
   "source": [
    "%sql\n",
    "select    *     from `tb_world_happiness_report_2016_raw`\n",
    "limit 4"
   ]
  },
  {
   "cell_type": "code",
   "execution_count": 0,
   "metadata": {
    "application/vnd.databricks.v1+cell": {
     "cellMetadata": {
      "byteLimit": 2048000,
      "implicitDf": true,
      "rowLimit": 10000
     },
     "inputWidgets": {},
     "nuid": "120f5408-f575-4490-ad2a-f19564479ce1",
     "showTitle": false,
     "title": ""
    }
   },
   "outputs": [
    {
     "output_type": "display_data",
     "data": {
      "text/html": [
       "<style scoped>\n",
       "  .table-result-container {\n",
       "    max-height: 300px;\n",
       "    overflow: auto;\n",
       "  }\n",
       "  table, th, td {\n",
       "    border: 1px solid black;\n",
       "    border-collapse: collapse;\n",
       "  }\n",
       "  th, td {\n",
       "    padding: 5px;\n",
       "  }\n",
       "  th {\n",
       "    text-align: left;\n",
       "  }\n",
       "</style><div class='table-result-container'><table class='table-result'><thead style='background-color: white'><tr><th>Country</th><th>Region</th><th>Happiness Rank</th><th>Happiness Score</th><th>Standard Error</th><th>Economy (GDP per Capita)</th><th>Family</th><th>Health (Life Expectancy)</th><th>Freedom</th><th>Trust (Government Corruption)</th><th>Generosity</th><th>Dystopia Residual</th></tr></thead><tbody><tr><td>Switzerland</td><td>Western Europe</td><td>1</td><td>7.587</td><td>0.03411</td><td>1.39651</td><td>1.34951</td><td>0.94143</td><td>0.66557</td><td>0.41978</td><td>0.29678</td><td>2.51738</td></tr><tr><td>Iceland</td><td>Western Europe</td><td>2</td><td>7.561</td><td>0.04884</td><td>1.30232</td><td>1.40223</td><td>0.94784</td><td>0.62877</td><td>0.14145</td><td>0.4363</td><td>2.70201</td></tr><tr><td>Denmark</td><td>Western Europe</td><td>3</td><td>7.527</td><td>0.03328</td><td>1.32548</td><td>1.36058</td><td>0.87464</td><td>0.64938</td><td>0.48357</td><td>0.34139</td><td>2.49204</td></tr><tr><td>Norway</td><td>Western Europe</td><td>4</td><td>7.522</td><td>0.0388</td><td>1.459</td><td>1.33095</td><td>0.88521</td><td>0.66973</td><td>0.36503</td><td>0.34699</td><td>2.46531</td></tr></tbody></table></div>"
      ]
     },
     "metadata": {
      "application/vnd.databricks.v1+output": {
       "addedWidgets": {},
       "aggData": [],
       "aggError": "",
       "aggOverflow": false,
       "aggSchema": [],
       "aggSeriesLimitReached": false,
       "aggType": "",
       "arguments": {},
       "columnCustomDisplayInfos": {},
       "data": [
        [
         "Switzerland",
         "Western Europe",
         1,
         7.587,
         0.03411,
         1.39651,
         1.34951,
         0.94143,
         0.66557,
         0.41978,
         0.29678,
         2.51738
        ],
        [
         "Iceland",
         "Western Europe",
         2,
         7.561,
         0.04884,
         1.30232,
         1.40223,
         0.94784,
         0.62877,
         0.14145,
         0.4363,
         2.70201
        ],
        [
         "Denmark",
         "Western Europe",
         3,
         7.527,
         0.03328,
         1.32548,
         1.36058,
         0.87464,
         0.64938,
         0.48357,
         0.34139,
         2.49204
        ],
        [
         "Norway",
         "Western Europe",
         4,
         7.522,
         0.0388,
         1.459,
         1.33095,
         0.88521,
         0.66973,
         0.36503,
         0.34699,
         2.46531
        ]
       ],
       "datasetInfos": [],
       "dbfsResultPath": null,
       "isJsonSchema": true,
       "metadata": {},
       "overflow": false,
       "plotOptions": {
        "customPlotOptions": {},
        "displayType": "table",
        "pivotAggregation": null,
        "pivotColumns": null,
        "xColumns": null,
        "yColumns": null
       },
       "removedWidgets": [],
       "schema": [
        {
         "metadata": "{\"comment\":\"The name of the country\"}",
         "name": "Country",
         "type": "\"string\""
        },
        {
         "metadata": "{\"comment\":\"The region of the world the country is located in\"}",
         "name": "Region",
         "type": "\"string\""
        },
        {
         "metadata": "{\"comment\":\"The happiness score of the country\"}",
         "name": "Happiness Rank",
         "type": "\"integer\""
        },
        {
         "metadata": "{\"comment\":\"Rank of the country based on the Happiness Score\"}",
         "name": "Happiness Score",
         "type": "\"double\""
        },
        {
         "metadata": "{\"comment\":\"The standard error (SE) is a statistical term that measures the accuracy with which a sample distribution represents a population by using standard deviation. In simpler terms, it provides an estimate of how much the sample mean (average) is expected to vary from the true population mean\"}",
         "name": "Standard Error",
         "type": "\"double\""
        },
        {
         "metadata": "{\"comment\":\"The extent to which GDP contributes to the calculation of the Happiness Score\"}",
         "name": "Economy (GDP per Capita)",
         "type": "\"double\""
        },
        {
         "metadata": "{\"comment\":\"The extent to which Family contributes to the calculation of the Happiness Score\"}",
         "name": "Family",
         "type": "\"double\""
        },
        {
         "metadata": "{\"comment\":\"The extent to which Life expectancy contributed to the calculation of the Happiness Score\"}",
         "name": "Health (Life Expectancy)",
         "type": "\"double\""
        },
        {
         "metadata": "{\"comment\":\"The extent to which Freedom contributed to the calculation of the Happiness Score\"}",
         "name": "Freedom",
         "type": "\"double\""
        },
        {
         "metadata": "{\"comment\":\"The extent to which Perception of Corruption contributes to Happiness Score\"}",
         "name": "Trust (Government Corruption)",
         "type": "\"double\""
        },
        {
         "metadata": "{\"comment\":\"The extent to which Generosity contributed to the calculation of the Happiness Score\"}",
         "name": "Generosity",
         "type": "\"double\""
        },
        {
         "metadata": "{\"comment\":\"term used in the context of the World Happiness Report, which measures and compares the happiness levels of countries worldwide. The concept of Dystopia Residual helps explain the difference in happiness between the actual scores of countries and the expected scores based on various factors\"}",
         "name": "Dystopia Residual",
         "type": "\"double\""
        }
       ],
       "type": "table"
      }
     },
     "output_type": "display_data"
    }
   ],
   "source": [
    "%sql\n",
    "select    *     from `tb_world_happiness_report_2015_raw`\n",
    "limit 4"
   ]
  },
  {
   "cell_type": "code",
   "execution_count": 0,
   "metadata": {
    "application/vnd.databricks.v1+cell": {
     "cellMetadata": {
      "byteLimit": 2048000,
      "rowLimit": 10000
     },
     "inputWidgets": {},
     "nuid": "6812305e-b2db-482c-9a6d-6ca2ebe9accf",
     "showTitle": false,
     "title": ""
    }
   },
   "outputs": [
    {
     "output_type": "stream",
     "name": "stdout",
     "output_type": "stream",
     "text": [
      "Columns from df_world_happiness_report_2019\n['Overall rank', 'Country or region', 'Score', 'GDP per capita', 'Social support', 'Healthy life expectancy', 'Freedom to make life choices', 'Generosity', 'Perceptions of corruption']\n9\n\nColumns from df_world_happiness_report_2018\n['Overall rank', 'Country or region', 'Score', 'GDP per capita', 'Social support', 'Healthy life expectancy', 'Freedom to make life choices', 'Generosity', 'Perceptions of corruption']\n9\n\nColumns from df_world_happiness_report_2017\n['Country', 'Happiness.Rank', 'Happiness.Score', 'Whisker.high', 'Whisker.low', 'Economy..GDP.per.Capita.', 'Family', 'Health..Life.Expectancy.', 'Freedom', 'Generosity', 'Trust..Government.Corruption.', 'Dystopia.Residual']\n12\n\nColumns from df_world_happiness_report_2016\n['Country', 'Region', 'Happiness Rank', 'Happiness Score', 'Lower Confidence Interval', 'Upper Confidence Interval', 'Economy (GDP per Capita)', 'Family', 'Health (Life Expectancy)', 'Freedom', 'Trust (Government Corruption)', 'Generosity', 'Dystopia Residual']\n13\n\nColumns from df_world_happiness_report_2015\n['Country', 'Region', 'Happiness Rank', 'Happiness Score', 'Standard Error', 'Economy (GDP per Capita)', 'Family', 'Health (Life Expectancy)', 'Freedom', 'Trust (Government Corruption)', 'Generosity', 'Dystopia Residual']\n12\n"
     ]
    }
   ],
   "source": [
    "# Vendo quais são as colunas de cada df\n",
    "print(\"Columns from df_world_happiness_report_2019\")\n",
    "print(df_world_happiness_report_2019.columns)\n",
    "print(len(df_world_happiness_report_2019.columns))\n",
    "print()\n",
    "print(\"Columns from df_world_happiness_report_2018\")\n",
    "print(df_world_happiness_report_2018.columns)\n",
    "print(len(df_world_happiness_report_2018.columns))\n",
    "print()\n",
    "print(\"Columns from df_world_happiness_report_2017\")\n",
    "print(df_world_happiness_report_2017.columns)\n",
    "print(len(df_world_happiness_report_2017.columns))\n",
    "print()\n",
    "print(\"Columns from df_world_happiness_report_2016\")\n",
    "print(df_world_happiness_report_2016.columns)\n",
    "print(len(df_world_happiness_report_2016.columns))\n",
    "print()\n",
    "print(\"Columns from df_world_happiness_report_2015\")\n",
    "print(df_world_happiness_report_2015.columns)\n",
    "print(len(df_world_happiness_report_2015.columns))"
   ]
  },
  {
   "cell_type": "markdown",
   "metadata": {
    "application/vnd.databricks.v1+cell": {
     "cellMetadata": {
      "byteLimit": 2048000,
      "rowLimit": 10000
     },
     "inputWidgets": {},
     "nuid": "3c8cabb6-4e48-4607-adca-7e9ec743bcb2",
     "showTitle": false,
     "title": ""
    }
   },
   "source": [
    "##### Adicionando a descrição de cada coluna das tabelas"
   ]
  },
  {
   "cell_type": "markdown",
   "metadata": {
    "application/vnd.databricks.v1+cell": {
     "cellMetadata": {
      "byteLimit": 2048000,
      "rowLimit": 10000
     },
     "inputWidgets": {},
     "nuid": "435b17c7-afa4-40da-8f76-6e1a46395ce3",
     "showTitle": false,
     "title": ""
    }
   },
   "source": [
    "###### tb_life_expectancy_raw"
   ]
  },
  {
   "cell_type": "code",
   "execution_count": 0,
   "metadata": {
    "application/vnd.databricks.v1+cell": {
     "cellMetadata": {
      "byteLimit": 2048000,
      "rowLimit": 10000
     },
     "inputWidgets": {},
     "nuid": "19ad56e6-8d2a-44fe-9254-847da1b30f6f",
     "showTitle": false,
     "title": ""
    }
   },
   "outputs": [
    {
     "output_type": "stream",
     "name": "stdout",
     "output_type": "stream",
     "text": [
      "+------------------------------+-------------+----------------------------------------------------------------------------------------------------------------------------------------------------------------------------------------------------------------------------------------------------------------------------------------------------------------------------------------------------------------------------------------------------------------------------------------+\n|col_name                      |data_type    |comment                                                                                                                                                                                                                                                                                                                                                                                                                                 |\n+------------------------------+-------------+----------------------------------------------------------------------------------------------------------------------------------------------------------------------------------------------------------------------------------------------------------------------------------------------------------------------------------------------------------------------------------------------------------------------------------------+\n|Country Name                  |string       |The name of the country                                                                                                                                                                                                                                                                                                                                                                                                                 |\n|Country Code                  |string       |The 3-letter code of the country. ISO COde 3166-1 alpha-3                                                                                                                                                                                                                                                                                                                                                                               |\n|Region                        |string       |The region of the world the country is located in                                                                                                                                                                                                                                                                                                                                                                                       |\n|IncomeGroup                   |string       |The country`s income class                                                                                                                                                                                                                                                                                                                                                                                                              |\n|Year                          |int          |The year of the report                                                                                                                                                                                                                                                                                                                                                                                                                  |\n|Life Expectancy World Bank    |double       |The average number of years a newborn infant would live if prevailing patterns of mortality at the time of its birth were to stay the same throughout its life                                                                                                                                                                                                                                                                          |\n|Prevelance of Undernourishment|double       |The percentage of the population whose habitual food consumption is insufficient to provide the dietary                                                                                                                                                                                                                                                                                                                                 |\n|CO2                           |double       |Carbon dioxide emissions are those stemming from the burning of fossil fuels and the manufacture of cement. They include carbon dioxide produced during the consumption of solid, liquid, and gas fuels and gas flaring                                                                                                                                                                                                                 |\n|Health Expenditure %          |double       |Level of current health expenditure expressed as a percentage of GDP. Estimates of current health expenditures include healthcare goods and services consumed during each year. This indicator does not include capital health expenditures such as buildings,machinery, IT, and stocks of vaccines for emergencies or outbreaks                                                                                                        |\n|Education Expenditure %       |double       |General government expenditure on education (current, capital, and transfers) is expressed as a percentage of GDP. It includes expenditures funded by transfers from international sources to the government. General government usually refers to local, regional, and central governments                                                                                                                                             |\n|Unemployment                  |double       |Unemployment refers to the % share of the labor force that is without work but available for and seeking employment                                                                                                                                                                                                                                                                                                                     |\n|Corruption                    |double       |Corruption (CPIA rating) - Transparency, accountability, and corruption in the public sector assets the extent to which the executive can be held accountable for its use of funds and for the results of its actions by the electorate and by the legislature and judiciary, and the extent to which public employees within the executive are required to account for administrative decisions, use of resources, and results obtained|\n|Sanitation                    |double       |The percentage of people using improved sanitation facilities that are not shared with other households and where excreta are safely disposed of in situ or transported and treated offsite. Improved sanitation facilities include flush/pour flush to piped sewer systems, septic tanks, or pit latrines: ventilated improved pit latrines, compositing toilets, or pit latrines with slabs                                           |\n|Injuries                      |double       |Disability-Adjusted Life Years (DALYs) due to Injuries - One DALY represents the loss of the equivalent of one year of full health. DALYs for an injury or health condition is the sum of the years of life lost due to premature mortality (YLLs) and the years lived with a disability (YLDs) due to prevalent cases of the disease in a population                                                                                   |\n|Communicable                  |double       |Disability-Adjusted Life Years (DALYs) due to Communicable diseases - One DALY represents the loss of the equivalent of one year of full health. DALYs for a communicable disease or health condition is the sum of the years of life lost due to premature mortality (YLLs) and the years lived with a disability (YLDs) due to prevalent cases of the disease in a population                                                         |\n|NonCommunicable               |double       |Disability-Adjusted Life Years (DALYs) due to Non-Communicable diseases - One DALY represents the loss of the equivalent of one year of full health. DALYs for a non-communicable disease or health condition is the sum of the years of life lost due to premature mortality (YLLs) and the years lived with a disability (YLDs) due to prevalent cases of the disease in a population                                                 |\n|                              |             |                                                                                                                                                                                                                                                                                                                                                                                                                                        |\n|# Detailed Table Information  |             |                                                                                                                                                                                                                                                                                                                                                                                                                                        |\n|Catalog                       |spark_catalog|                                                                                                                                                                                                                                                                                                                                                                                                                                        |\n|Database                      |default      |                                                                                                                                                                                                                                                                                                                                                                                                                                        |\n+------------------------------+-------------+----------------------------------------------------------------------------------------------------------------------------------------------------------------------------------------------------------------------------------------------------------------------------------------------------------------------------------------------------------------------------------------------------------------------------------------+\nonly showing top 20 rows\n\n"
     ]
    }
   ],
   "source": [
    "# Adiciona comentários às colunas\n",
    "\n",
    "table_name = \"tb_life_expectancy_raw\"\n",
    "\n",
    "spark.sql(f\"ALTER TABLE {table_name} CHANGE COLUMN `Country Name` `Country Name` STRING COMMENT 'The name of the country'\")\n",
    "\n",
    "spark.sql(f\"ALTER TABLE {table_name} CHANGE COLUMN `Country Code` `Country Code` STRING COMMENT 'The 3-letter code of the country. ISO COde 3166-1 alpha-3'\")\n",
    "\n",
    "spark.sql(f\"ALTER TABLE {table_name} CHANGE COLUMN Region Region STRING COMMENT 'The region of the world the country is located in'\")\n",
    "\n",
    "spark.sql(f\"ALTER TABLE {table_name} CHANGE COLUMN Year Year INT COMMENT 'The year of the report'\")\n",
    "\n",
    "spark.sql(f\"ALTER TABLE {table_name} CHANGE COLUMN  `Life Expectancy World Bank` `Life Expectancy World Bank` DOUBLE COMMENT 'The average number of years a newborn infant would live if prevailing patterns of mortality at the time of its birth were to stay the same throughout its life'\")\n",
    "\n",
    "spark.sql(f\"ALTER TABLE {table_name} CHANGE COLUMN `Prevelance of Undernourishment`  `Prevelance of Undernourishment`  DOUBLE COMMENT 'The percentage of the population whose habitual food consumption is insufficient to provide the dietary'\")\n",
    "\n",
    "spark.sql(f\"ALTER TABLE {table_name} CHANGE COLUMN IncomeGroup  IncomeGroup  STRING COMMENT 'The country`s income class'\")\n",
    "\n",
    "spark.sql(f\"ALTER TABLE {table_name} CHANGE COLUMN CO2 CO2 DOUBLE COMMENT 'Carbon dioxide emissions are those stemming from the burning of fossil fuels and the manufacture of cement. They include carbon dioxide produced during the consumption of solid, liquid, and gas fuels and gas flaring'\")\n",
    "\n",
    "spark.sql(f\"ALTER TABLE {table_name} CHANGE COLUMN `Health Expenditure %` `Health Expenditure %`  DOUBLE COMMENT 'Level of current health expenditure expressed as a percentage of GDP. Estimates of current health expenditures include healthcare goods and services consumed during each year. This indicator does not include capital health expenditures such as buildings,machinery, IT, and stocks of vaccines for emergencies or outbreaks'\")\n",
    "\n",
    "spark.sql(f\"ALTER TABLE {table_name} CHANGE COLUMN  `Education Expenditure %`  `Education Expenditure %` DOUBLE COMMENT 'General government expenditure on education (current, capital, and transfers) is expressed as a percentage of GDP. It includes expenditures funded by transfers from international sources to the government. General government usually refers to local, regional, and central governments'\")\n",
    "\n",
    "spark.sql(f\"ALTER TABLE {table_name} CHANGE COLUMN Unemployment Unemployment DOUBLE COMMENT 'Unemployment refers to the % share of the labor force that is without work but available for and seeking employment'\")\n",
    "\n",
    "spark.sql(f\"ALTER TABLE {table_name} CHANGE COLUMN Corruption Corruption DOUBLE COMMENT 'Corruption (CPIA rating) - Transparency, accountability, and corruption in the public sector assets the extent to which the executive can be held accountable for its use of funds and for the results of its actions by the electorate and by the legislature and judiciary, and the extent to which public employees within the executive are required to account for administrative decisions, use of resources, and results obtained'\")\n",
    "\n",
    "spark.sql(f\"ALTER TABLE {table_name} CHANGE COLUMN Sanitation Sanitation DOUBLE COMMENT 'The percentage of people using improved sanitation facilities that are not shared with other households and where excreta are safely disposed of in situ or transported and treated offsite. Improved sanitation facilities include flush/pour flush to piped sewer systems, septic tanks, or pit latrines: ventilated improved pit latrines, compositing toilets, or pit latrines with slabs'\")\n",
    "\n",
    "spark.sql(f\"ALTER TABLE {table_name} CHANGE COLUMN Injuries Injuries DOUBLE COMMENT 'Disability-Adjusted Life Years (DALYs) due to Injuries - One DALY represents the loss of the equivalent of one year of full health. DALYs for an injury or health condition is the sum of the years of life lost due to premature mortality (YLLs) and the years lived with a disability (YLDs) due to prevalent cases of the disease in a population'\")\n",
    "\n",
    "spark.sql(f\"ALTER TABLE {table_name} CHANGE COLUMN Communicable Communicable DOUBLE COMMENT 'Disability-Adjusted Life Years (DALYs) due to Communicable diseases - One DALY represents the loss of the equivalent of one year of full health. DALYs for a communicable disease or health condition is the sum of the years of life lost due to premature mortality (YLLs) and the years lived with a disability (YLDs) due to prevalent cases of the disease in a population'\")\n",
    "\n",
    "spark.sql(f\"ALTER TABLE {table_name} CHANGE COLUMN NonCommunicable NonCommunicable DOUBLE COMMENT 'Disability-Adjusted Life Years (DALYs) due to Non-Communicable diseases - One DALY represents the loss of the equivalent of one year of full health. DALYs for a non-communicable disease or health condition is the sum of the years of life lost due to premature mortality (YLLs) and the years lived with a disability (YLDs) due to prevalent cases of the disease in a population'\")\n",
    "\n",
    "\n",
    "# Verificar se os comentários foram adicionados\n",
    "desc_table = spark.sql(f\"DESCRIBE EXTENDED {table_name}\")\n",
    "desc_table.show(truncate=False)"
   ]
  },
  {
   "cell_type": "markdown",
   "metadata": {
    "application/vnd.databricks.v1+cell": {
     "cellMetadata": {
      "byteLimit": 2048000,
      "rowLimit": 10000
     },
     "inputWidgets": {},
     "nuid": "67193eb7-cc83-4745-9b4b-a334ce40f49a",
     "showTitle": false,
     "title": ""
    }
   },
   "source": [
    "###### tb_world_happiness_report_2019_raw"
   ]
  },
  {
   "cell_type": "code",
   "execution_count": 0,
   "metadata": {
    "application/vnd.databricks.v1+cell": {
     "cellMetadata": {
      "byteLimit": 2048000,
      "rowLimit": 10000
     },
     "inputWidgets": {},
     "nuid": "4773216b-87c1-428d-b035-fb0e058baac2",
     "showTitle": false,
     "title": ""
    }
   },
   "outputs": [
    {
     "output_type": "stream",
     "name": "stdout",
     "output_type": "stream",
     "text": [
      "+----------------------------+----------------------------------+-----------------------------------------------------------------------------------------+\n|col_name                    |data_type                         |comment                                                                                  |\n+----------------------------+----------------------------------+-----------------------------------------------------------------------------------------+\n|Overall rank                |int                               |Rank of the country based on the Happiness Score                                         |\n|Country or region           |string                            |The name of the country or region                                                        |\n|Score                       |double                            |The happiness score of the country                                                       |\n|GDP per capita              |double                            |The extent to which GDP contributes to the calculation of the Happiness Score            |\n|Social support              |double                            |The extent to which Family contributes to the calculation of the Happiness Score         |\n|Healthy life expectancy     |double                            |The extent to which Life expectancy contributed to the calculation of the Happiness Score|\n|Freedom to make life choices|double                            |The extent to which Freedom contributed to the calculation of the Happiness Score        |\n|Generosity                  |double                            |The extent to which Generosity contributed to the calculation of the Happiness Score     |\n|Perceptions of corruption   |double                            |The extent to which Perception of Corruption contributes to Happiness Score              |\n|                            |                                  |                                                                                         |\n|# Detailed Table Information|                                  |                                                                                         |\n|Catalog                     |spark_catalog                     |                                                                                         |\n|Database                    |default                           |                                                                                         |\n|Table                       |tb_world_happiness_report_2019_raw|                                                                                         |\n|Owner                       |root                              |                                                                                         |\n|Created Time                |Wed Jul 10 20:44:54 UTC 2024      |                                                                                         |\n|Last Access                 |UNKNOWN                           |                                                                                         |\n|Created By                  |Spark 3.3.2                       |                                                                                         |\n|Type                        |MANAGED                           |                                                                                         |\n|Provider                    |parquet                           |                                                                                         |\n+----------------------------+----------------------------------+-----------------------------------------------------------------------------------------+\nonly showing top 20 rows\n\n"
     ]
    }
   ],
   "source": [
    "# Adiciona comentários às colunas\n",
    "\n",
    "table_name = \"tb_world_happiness_report_2019_raw\"\n",
    "\n",
    "spark.sql(f\"ALTER TABLE {table_name} CHANGE COLUMN `Country or region` `Country or region` STRING COMMENT 'The name of the country or region'\")\n",
    "\n",
    "spark.sql(f\"ALTER TABLE {table_name} CHANGE COLUMN Score Score DOUBLE COMMENT 'The happiness score of the country'\")\n",
    "\n",
    "spark.sql(f\"ALTER TABLE {table_name} CHANGE COLUMN `Overall rank` `Overall rank` INT COMMENT 'Rank of the country based on the Happiness Score'\")\n",
    "\n",
    "spark.sql(f\"ALTER TABLE {table_name} CHANGE COLUMN `GDP per capita` `GDP per capita` DOUBLE COMMENT 'The extent to which GDP contributes to the calculation of the Happiness Score'\")\n",
    "\n",
    "spark.sql(f\"ALTER TABLE {table_name} CHANGE COLUMN `Social support` `Social support` DOUBLE COMMENT 'The extent to which Family contributes to the calculation of the Happiness Score'\")\n",
    "\n",
    "spark.sql(f\"ALTER TABLE {table_name} CHANGE COLUMN `Healthy life expectancy` `Healthy life expectancy` DOUBLE COMMENT 'The extent to which Life expectancy contributed to the calculation of the Happiness Score'\")\n",
    "\n",
    "spark.sql(f\"ALTER TABLE {table_name} CHANGE COLUMN `Freedom to make life choices` `Freedom to make life choices` DOUBLE COMMENT 'The extent to which Freedom contributed to the calculation of the Happiness Score'\")\n",
    "\n",
    "spark.sql(f\"ALTER TABLE {table_name} CHANGE COLUMN Generosity  Generosity  DOUBLE COMMENT 'The extent to which Generosity contributed to the calculation of the Happiness Score'\")\n",
    "\n",
    "spark.sql(f\"ALTER TABLE {table_name} CHANGE COLUMN `Perceptions of corruption` `Perceptions of corruption` DOUBLE COMMENT 'The extent to which Perception of Corruption contributes to Happiness Score'\")\n",
    "\n",
    "\n",
    "# Verificar se os comentários foram adicionados\n",
    "desc_table = spark.sql(f\"DESCRIBE EXTENDED {table_name}\")\n",
    "desc_table.show(truncate=False)"
   ]
  },
  {
   "cell_type": "markdown",
   "metadata": {
    "application/vnd.databricks.v1+cell": {
     "cellMetadata": {
      "byteLimit": 2048000,
      "rowLimit": 10000
     },
     "inputWidgets": {},
     "nuid": "48d36a98-1b31-4e47-952e-cc3042716b3a",
     "showTitle": false,
     "title": ""
    }
   },
   "source": [
    "###### tb_world_happiness_report_2018_raw"
   ]
  },
  {
   "cell_type": "code",
   "execution_count": 0,
   "metadata": {
    "application/vnd.databricks.v1+cell": {
     "cellMetadata": {
      "byteLimit": 2048000,
      "rowLimit": 10000
     },
     "inputWidgets": {},
     "nuid": "adce818b-1de1-45a8-b19b-272eeb3a2532",
     "showTitle": false,
     "title": ""
    }
   },
   "outputs": [
    {
     "output_type": "stream",
     "name": "stdout",
     "output_type": "stream",
     "text": [
      "+----------------------------+----------------------------------+-----------------------------------------------------------------------------------------+\n|col_name                    |data_type                         |comment                                                                                  |\n+----------------------------+----------------------------------+-----------------------------------------------------------------------------------------+\n|Overall rank                |int                               |Rank of the country based on the Happiness Score                                         |\n|Country or region           |string                            |The name of the country or region                                                        |\n|Score                       |double                            |The happiness score of the country                                                       |\n|GDP per capita              |double                            |The extent to which GDP contributes to the calculation of the Happiness Score            |\n|Social support              |double                            |The extent to which Family contributes to the calculation of the Happiness Score         |\n|Healthy life expectancy     |double                            |The extent to which Life expectancy contributed to the calculation of the Happiness Score|\n|Freedom to make life choices|double                            |The extent to which Freedom contributed to the calculation of the Happiness Score        |\n|Generosity                  |double                            |The extent to which Generosity contributed to the calculation of the Happiness Score     |\n|Perceptions of corruption   |string                            |The extent to which Perception of Corruption contributes to Happiness Score              |\n|                            |                                  |                                                                                         |\n|# Detailed Table Information|                                  |                                                                                         |\n|Catalog                     |spark_catalog                     |                                                                                         |\n|Database                    |default                           |                                                                                         |\n|Table                       |tb_world_happiness_report_2018_raw|                                                                                         |\n|Owner                       |root                              |                                                                                         |\n|Created Time                |Wed Jul 10 20:44:58 UTC 2024      |                                                                                         |\n|Last Access                 |UNKNOWN                           |                                                                                         |\n|Created By                  |Spark 3.3.2                       |                                                                                         |\n|Type                        |MANAGED                           |                                                                                         |\n|Provider                    |parquet                           |                                                                                         |\n+----------------------------+----------------------------------+-----------------------------------------------------------------------------------------+\nonly showing top 20 rows\n\n"
     ]
    }
   ],
   "source": [
    "# Adiciona comentários às colunas\n",
    "\n",
    "table_name = \"tb_world_happiness_report_2018_raw\"\n",
    "\n",
    "spark.sql(f\"ALTER TABLE {table_name} CHANGE COLUMN `Country or region` `Country or region` STRING COMMENT 'The name of the country or region'\")\n",
    "\n",
    "spark.sql(f\"ALTER TABLE {table_name} CHANGE COLUMN Score Score DOUBLE COMMENT 'The happiness score of the country'\")\n",
    "\n",
    "spark.sql(f\"ALTER TABLE {table_name} CHANGE COLUMN `Overall rank` `Overall rank` INT COMMENT 'Rank of the country based on the Happiness Score'\")\n",
    "\n",
    "spark.sql(f\"ALTER TABLE {table_name} CHANGE COLUMN `GDP per capita` `GDP per capita` DOUBLE COMMENT 'The extent to which GDP contributes to the calculation of the Happiness Score'\")\n",
    "\n",
    "spark.sql(f\"ALTER TABLE {table_name} CHANGE COLUMN `Social support` `Social support` DOUBLE COMMENT 'The extent to which Family contributes to the calculation of the Happiness Score'\")\n",
    "\n",
    "spark.sql(f\"ALTER TABLE {table_name} CHANGE COLUMN `Healthy life expectancy` `Healthy life expectancy` DOUBLE COMMENT 'The extent to which Life expectancy contributed to the calculation of the Happiness Score'\")\n",
    "\n",
    "spark.sql(f\"ALTER TABLE {table_name} CHANGE COLUMN `Freedom to make life choices` `Freedom to make life choices` DOUBLE COMMENT 'The extent to which Freedom contributed to the calculation of the Happiness Score'\")\n",
    "\n",
    "spark.sql(f\"ALTER TABLE {table_name} CHANGE COLUMN Generosity  Generosity  DOUBLE COMMENT 'The extent to which Generosity contributed to the calculation of the Happiness Score'\")\n",
    "\n",
    "spark.sql(f\"ALTER TABLE {table_name} CHANGE COLUMN `Perceptions of corruption` `Perceptions of corruption` STRING COMMENT 'The extent to which Perception of Corruption contributes to Happiness Score'\")\n",
    "\n",
    "\n",
    "# Verificar se os comentários foram adicionados\n",
    "desc_table = spark.sql(f\"DESCRIBE EXTENDED {table_name}\")\n",
    "desc_table.show(truncate=False)"
   ]
  },
  {
   "cell_type": "markdown",
   "metadata": {
    "application/vnd.databricks.v1+cell": {
     "cellMetadata": {
      "byteLimit": 2048000,
      "rowLimit": 10000
     },
     "inputWidgets": {},
     "nuid": "5febecda-bf62-4565-a3d7-38db4be31037",
     "showTitle": false,
     "title": ""
    }
   },
   "source": [
    "###### tb_world_happiness_report_2017_raw"
   ]
  },
  {
   "cell_type": "code",
   "execution_count": 0,
   "metadata": {
    "application/vnd.databricks.v1+cell": {
     "cellMetadata": {
      "byteLimit": 2048000,
      "rowLimit": 10000
     },
     "inputWidgets": {},
     "nuid": "3257eaaf-7547-411e-80aa-3dbc467bbba8",
     "showTitle": false,
     "title": ""
    }
   },
   "outputs": [
    {
     "output_type": "stream",
     "name": "stdout",
     "output_type": "stream",
     "text": [
      "+-----------------------------+----------------------------------+---------------------------------------------------------------------------------------------------------------------------------------------------------------------------------------------------------------------------------------------------------------------------------------------------+\n|col_name                     |data_type                         |comment                                                                                                                                                                                                                                                                                            |\n+-----------------------------+----------------------------------+---------------------------------------------------------------------------------------------------------------------------------------------------------------------------------------------------------------------------------------------------------------------------------------------------+\n|Country                      |string                            |The name of the country                                                                                                                                                                                                                                                                            |\n|Happiness.Rank               |int                               |Rank of the country based on the Happiness Score                                                                                                                                                                                                                                                   |\n|Happiness.Score              |double                            |The happiness score of the country                                                                                                                                                                                                                                                                 |\n|Whisker.high                 |double                            |This represents the upper bound of the data in a boxplot                                                                                                                                                                                                                                           |\n|Whisker.low                  |double                            |This represents the lower bound of the data in a boxplot                                                                                                                                                                                                                                           |\n|Economy..GDP.per.Capita.     |double                            |The extent to which GDP contributes to the calculation of the Happiness Score                                                                                                                                                                                                                      |\n|Family                       |double                            |The extent to which Family contributes to the calculation of the Happiness Score                                                                                                                                                                                                                   |\n|Health..Life.Expectancy.     |double                            |The extent to which Life expectancy contributed to the calculation of the Happiness Score                                                                                                                                                                                                          |\n|Freedom                      |double                            |The extent to which Freedom contributed to the calculation of the Happiness Score                                                                                                                                                                                                                  |\n|Generosity                   |double                            |The extent to which Generosity contributed to the calculation of the Happiness Score                                                                                                                                                                                                               |\n|Trust..Government.Corruption.|double                            |The extent to which Perception of Corruption contributes to Happiness Score                                                                                                                                                                                                                        |\n|Dystopia.Residual            |double                            |term used in the context of the World Happiness Report, which measures and compares the happiness levels of countries worldwide. The concept of Dystopia Residual helps explain the difference in happiness between the actual scores of countries and the expected scores based on various factors|\n|                             |                                  |                                                                                                                                                                                                                                                                                                   |\n|# Detailed Table Information |                                  |                                                                                                                                                                                                                                                                                                   |\n|Catalog                      |spark_catalog                     |                                                                                                                                                                                                                                                                                                   |\n|Database                     |default                           |                                                                                                                                                                                                                                                                                                   |\n|Table                        |tb_world_happiness_report_2017_raw|                                                                                                                                                                                                                                                                                                   |\n|Owner                        |root                              |                                                                                                                                                                                                                                                                                                   |\n|Created Time                 |Wed Jul 10 20:45:01 UTC 2024      |                                                                                                                                                                                                                                                                                                   |\n|Last Access                  |UNKNOWN                           |                                                                                                                                                                                                                                                                                                   |\n+-----------------------------+----------------------------------+---------------------------------------------------------------------------------------------------------------------------------------------------------------------------------------------------------------------------------------------------------------------------------------------------+\nonly showing top 20 rows\n\n"
     ]
    }
   ],
   "source": [
    "# Adiciona comentários às colunas\n",
    "\n",
    "table_name = \"tb_world_happiness_report_2017_raw\"\n",
    "\n",
    "\n",
    "spark.sql(f\"ALTER TABLE {table_name} CHANGE COLUMN Country Country STRING COMMENT 'The name of the country'\")\n",
    "\n",
    "spark.sql(f\"ALTER TABLE {table_name} CHANGE COLUMN `Happiness.Score` `Happiness.Score` DOUBLE COMMENT 'The happiness score of the country'\")\n",
    "\n",
    "spark.sql(f\"ALTER TABLE {table_name} CHANGE COLUMN `Whisker.high` `Whisker.high` DOUBLE COMMENT 'This represents the upper bound of the data in a boxplot'\")\n",
    "\n",
    "spark.sql(f\"ALTER TABLE {table_name} CHANGE COLUMN `Whisker.low` `Whisker.low` DOUBLE COMMENT 'This represents the lower bound of the data in a boxplot'\")\n",
    "\n",
    "spark.sql(f\"ALTER TABLE {table_name} CHANGE COLUMN `Dystopia.Residual` `Dystopia.Residual` DOUBLE COMMENT 'term used in the context of the World Happiness Report, which measures and compares the happiness levels of countries worldwide. The concept of Dystopia Residual helps explain the difference in happiness between the actual scores of countries and the expected scores based on various factors'\")\n",
    "\n",
    "spark.sql(f\"ALTER TABLE {table_name} CHANGE COLUMN `Happiness.Rank` `Happiness.Rank` INT COMMENT 'Rank of the country based on the Happiness Score'\")\n",
    "\n",
    "spark.sql(f\"ALTER TABLE {table_name} CHANGE COLUMN `Economy..GDP.per.Capita.` `Economy..GDP.per.Capita.` DOUBLE COMMENT 'The extent to which GDP contributes to the calculation of the Happiness Score'\")\n",
    "\n",
    "spark.sql(f\"ALTER TABLE {table_name} CHANGE COLUMN Family Family DOUBLE COMMENT 'The extent to which Family contributes to the calculation of the Happiness Score'\")\n",
    "\n",
    "spark.sql(f\"ALTER TABLE {table_name} CHANGE COLUMN `Health..Life.Expectancy.` `Health..Life.Expectancy.` DOUBLE COMMENT 'The extent to which Life expectancy contributed to the calculation of the Happiness Score'\")\n",
    "\n",
    "spark.sql(f\"ALTER TABLE {table_name} CHANGE COLUMN Freedom Freedom DOUBLE COMMENT 'The extent to which Freedom contributed to the calculation of the Happiness Score'\")\n",
    "\n",
    "spark.sql(f\"ALTER TABLE {table_name} CHANGE COLUMN Generosity  Generosity  DOUBLE COMMENT 'The extent to which Generosity contributed to the calculation of the Happiness Score'\")\n",
    "\n",
    "spark.sql(f\"ALTER TABLE {table_name} CHANGE COLUMN `Trust..Government.Corruption.` `Trust..Government.Corruption.` DOUBLE COMMENT 'The extent to which Perception of Corruption contributes to Happiness Score'\")\n",
    "\n",
    "\n",
    "# Verificar se os comentários foram adicionados\n",
    "desc_table = spark.sql(f\"DESCRIBE EXTENDED {table_name}\")\n",
    "desc_table.show(truncate=False)"
   ]
  },
  {
   "cell_type": "markdown",
   "metadata": {
    "application/vnd.databricks.v1+cell": {
     "cellMetadata": {
      "byteLimit": 2048000,
      "rowLimit": 10000
     },
     "inputWidgets": {},
     "nuid": "e005adf0-92ef-42ae-b9df-8b152e0cc168",
     "showTitle": false,
     "title": ""
    }
   },
   "source": [
    "###### tb_world_happiness_report_2016_raw"
   ]
  },
  {
   "cell_type": "code",
   "execution_count": 0,
   "metadata": {
    "application/vnd.databricks.v1+cell": {
     "cellMetadata": {
      "byteLimit": 2048000,
      "rowLimit": 10000
     },
     "inputWidgets": {},
     "nuid": "f96be268-5aa2-400d-ac4d-be6de36b9014",
     "showTitle": false,
     "title": ""
    }
   },
   "outputs": [
    {
     "output_type": "stream",
     "name": "stdout",
     "output_type": "stream",
     "text": [
      "+-----------------------------+----------------------------------+---------------------------------------------------------------------------------------------------------------------------------------------------------------------------------------------------------------------------------------------------------------------------------------------------+\n|col_name                     |data_type                         |comment                                                                                                                                                                                                                                                                                            |\n+-----------------------------+----------------------------------+---------------------------------------------------------------------------------------------------------------------------------------------------------------------------------------------------------------------------------------------------------------------------------------------------+\n|Country                      |string                            |The name of the country                                                                                                                                                                                                                                                                            |\n|Region                       |string                            |The region of the world the country is located in                                                                                                                                                                                                                                                  |\n|Happiness Rank               |int                               |The happiness score of the country                                                                                                                                                                                                                                                                 |\n|Happiness Score              |double                            |Rank of the country based on the Happiness Score                                                                                                                                                                                                                                                   |\n|Lower Confidence Interval    |double                            |This represents the lower bound of the data in a boxplot                                                                                                                                                                                                                                           |\n|Upper Confidence Interval    |double                            |This represents the upper bound of the data in a boxplot                                                                                                                                                                                                                                           |\n|Economy (GDP per Capita)     |double                            |The extent to which GDP contributes to the calculation of the Happiness Score                                                                                                                                                                                                                      |\n|Family                       |double                            |The extent to which Family contributes to the calculation of the Happiness Score                                                                                                                                                                                                                   |\n|Health (Life Expectancy)     |double                            |The extent to which Life expectancy contributed to the calculation of the Happiness Score                                                                                                                                                                                                          |\n|Freedom                      |double                            |The extent to which Freedom contributed to the calculation of the Happiness Score                                                                                                                                                                                                                  |\n|Trust (Government Corruption)|double                            |The extent to which Perception of Corruption contributes to Happiness Score                                                                                                                                                                                                                        |\n|Generosity                   |double                            |The extent to which Generosity contributed to the calculation of the Happiness Score                                                                                                                                                                                                               |\n|Dystopia Residual            |double                            |term used in the context of the World Happiness Report, which measures and compares the happiness levels of countries worldwide. The concept of Dystopia Residual helps explain the difference in happiness between the actual scores of countries and the expected scores based on various factors|\n|                             |                                  |                                                                                                                                                                                                                                                                                                   |\n|# Detailed Table Information |                                  |                                                                                                                                                                                                                                                                                                   |\n|Catalog                      |spark_catalog                     |                                                                                                                                                                                                                                                                                                   |\n|Database                     |default                           |                                                                                                                                                                                                                                                                                                   |\n|Table                        |tb_world_happiness_report_2016_raw|                                                                                                                                                                                                                                                                                                   |\n|Owner                        |root                              |                                                                                                                                                                                                                                                                                                   |\n|Created Time                 |Wed Jul 10 20:45:06 UTC 2024      |                                                                                                                                                                                                                                                                                                   |\n+-----------------------------+----------------------------------+---------------------------------------------------------------------------------------------------------------------------------------------------------------------------------------------------------------------------------------------------------------------------------------------------+\nonly showing top 20 rows\n\n"
     ]
    }
   ],
   "source": [
    "# Adiciona comentários às colunas\n",
    "\n",
    "table_name = \"tb_world_happiness_report_2016_raw\"\n",
    "\n",
    "spark.sql(f\"ALTER TABLE {table_name} CHANGE COLUMN Country Country STRING COMMENT 'The name of the country'\")\n",
    "\n",
    "spark.sql(f\"ALTER TABLE {table_name} CHANGE COLUMN Region Region STRING COMMENT 'The region of the world the country is located in'\")\n",
    "\n",
    "spark.sql(f\"ALTER TABLE {table_name} CHANGE COLUMN `Happiness Rank` `Happiness Rank` INT COMMENT 'The happiness score of the country'\")\n",
    "\n",
    "spark.sql(f\"ALTER TABLE {table_name} CHANGE COLUMN `Upper Confidence Interval` `Upper Confidence Interval` DOUBLE COMMENT 'This represents the upper bound of the data in a boxplot'\")\n",
    "\n",
    "spark.sql(f\"ALTER TABLE {table_name} CHANGE COLUMN `Lower Confidence Interval` `Lower Confidence Interval` DOUBLE COMMENT 'This represents the lower bound of the data in a boxplot'\")\n",
    "\n",
    "spark.sql(f\"ALTER TABLE {table_name} CHANGE COLUMN `Dystopia Residual` `Dystopia Residual` DOUBLE COMMENT 'term used in the context of the World Happiness Report, which measures and compares the happiness levels of countries worldwide. The concept of Dystopia Residual helps explain the difference in happiness between the actual scores of countries and the expected scores based on various factors'\")\n",
    "\n",
    "spark.sql(f\"ALTER TABLE {table_name} CHANGE COLUMN `Happiness Score` `Happiness Score` DOUBLE COMMENT 'Rank of the country based on the Happiness Score'\")\n",
    "\n",
    "spark.sql(f\"ALTER TABLE {table_name} CHANGE COLUMN `Economy (GDP per Capita)` `Economy (GDP per Capita)` DOUBLE COMMENT 'The extent to which GDP contributes to the calculation of the Happiness Score'\")\n",
    "\n",
    "spark.sql(f\"ALTER TABLE {table_name} CHANGE COLUMN Family Family DOUBLE COMMENT 'The extent to which Family contributes to the calculation of the Happiness Score'\")\n",
    "\n",
    "spark.sql(f\"ALTER TABLE {table_name} CHANGE COLUMN `Health (Life Expectancy)` `Health (Life Expectancy)` DOUBLE COMMENT 'The extent to which Life expectancy contributed to the calculation of the Happiness Score'\")\n",
    "\n",
    "spark.sql(f\"ALTER TABLE {table_name} CHANGE COLUMN Freedom Freedom DOUBLE COMMENT 'The extent to which Freedom contributed to the calculation of the Happiness Score'\")\n",
    "\n",
    "spark.sql(f\"ALTER TABLE {table_name} CHANGE COLUMN Generosity  Generosity  DOUBLE COMMENT 'The extent to which Generosity contributed to the calculation of the Happiness Score'\")\n",
    "\n",
    "spark.sql(f\"ALTER TABLE {table_name} CHANGE COLUMN `Trust (Government Corruption)` `Trust (Government Corruption)` DOUBLE COMMENT 'The extent to which Perception of Corruption contributes to Happiness Score'\")\n",
    "\n",
    "\n",
    "# Verificar se os comentários foram adicionados\n",
    "desc_table = spark.sql(f\"DESCRIBE EXTENDED {table_name}\")\n",
    "desc_table.show(truncate=False)"
   ]
  },
  {
   "cell_type": "markdown",
   "metadata": {
    "application/vnd.databricks.v1+cell": {
     "cellMetadata": {
      "byteLimit": 2048000,
      "rowLimit": 10000
     },
     "inputWidgets": {},
     "nuid": "3bb50cfd-9872-4d01-a475-8bc1306aa769",
     "showTitle": false,
     "title": ""
    }
   },
   "source": [
    "###### tb_world_happiness_report_2015_raw"
   ]
  },
  {
   "cell_type": "code",
   "execution_count": 0,
   "metadata": {
    "application/vnd.databricks.v1+cell": {
     "cellMetadata": {
      "byteLimit": 2048000,
      "rowLimit": 10000
     },
     "inputWidgets": {},
     "nuid": "8c4912e3-53f4-4379-8b05-d57f8f101fef",
     "showTitle": false,
     "title": ""
    }
   },
   "outputs": [
    {
     "output_type": "stream",
     "name": "stdout",
     "output_type": "stream",
     "text": [
      "+-----------------------------+----------------------------------+---------------------------------------------------------------------------------------------------------------------------------------------------------------------------------------------------------------------------------------------------------------------------------------------------+\n|col_name                     |data_type                         |comment                                                                                                                                                                                                                                                                                            |\n+-----------------------------+----------------------------------+---------------------------------------------------------------------------------------------------------------------------------------------------------------------------------------------------------------------------------------------------------------------------------------------------+\n|Country                      |string                            |The name of the country                                                                                                                                                                                                                                                                            |\n|Region                       |string                            |The region of the world the country is located in                                                                                                                                                                                                                                                  |\n|Happiness Rank               |int                               |The happiness score of the country                                                                                                                                                                                                                                                                 |\n|Happiness Score              |double                            |Rank of the country based on the Happiness Score                                                                                                                                                                                                                                                   |\n|Standard Error               |double                            |The standard error (SE) is a statistical term that measures the accuracy with which a sample distribution represents a population by using standard deviation. In simpler terms, it provides an estimate of how much the sample mean (average) is expected to vary from the true population mean   |\n|Economy (GDP per Capita)     |double                            |The extent to which GDP contributes to the calculation of the Happiness Score                                                                                                                                                                                                                      |\n|Family                       |double                            |The extent to which Family contributes to the calculation of the Happiness Score                                                                                                                                                                                                                   |\n|Health (Life Expectancy)     |double                            |The extent to which Life expectancy contributed to the calculation of the Happiness Score                                                                                                                                                                                                          |\n|Freedom                      |double                            |The extent to which Freedom contributed to the calculation of the Happiness Score                                                                                                                                                                                                                  |\n|Trust (Government Corruption)|double                            |The extent to which Perception of Corruption contributes to Happiness Score                                                                                                                                                                                                                        |\n|Generosity                   |double                            |The extent to which Generosity contributed to the calculation of the Happiness Score                                                                                                                                                                                                               |\n|Dystopia Residual            |double                            |term used in the context of the World Happiness Report, which measures and compares the happiness levels of countries worldwide. The concept of Dystopia Residual helps explain the difference in happiness between the actual scores of countries and the expected scores based on various factors|\n|                             |                                  |                                                                                                                                                                                                                                                                                                   |\n|# Detailed Table Information |                                  |                                                                                                                                                                                                                                                                                                   |\n|Catalog                      |spark_catalog                     |                                                                                                                                                                                                                                                                                                   |\n|Database                     |default                           |                                                                                                                                                                                                                                                                                                   |\n|Table                        |tb_world_happiness_report_2015_raw|                                                                                                                                                                                                                                                                                                   |\n|Owner                        |root                              |                                                                                                                                                                                                                                                                                                   |\n|Created Time                 |Wed Jul 10 20:45:10 UTC 2024      |                                                                                                                                                                                                                                                                                                   |\n|Last Access                  |UNKNOWN                           |                                                                                                                                                                                                                                                                                                   |\n+-----------------------------+----------------------------------+---------------------------------------------------------------------------------------------------------------------------------------------------------------------------------------------------------------------------------------------------------------------------------------------------+\nonly showing top 20 rows\n\n"
     ]
    }
   ],
   "source": [
    "# Adiciona comentários às colunas\n",
    "\n",
    "table_name = \"tb_world_happiness_report_2015_raw\"\n",
    "\n",
    "spark.sql(f\"ALTER TABLE {table_name} CHANGE COLUMN Country Country STRING COMMENT 'The name of the country'\")\n",
    "\n",
    "spark.sql(f\"ALTER TABLE {table_name} CHANGE COLUMN Region Region STRING COMMENT 'The region of the world the country is located in'\")\n",
    "\n",
    "spark.sql(f\"ALTER TABLE {table_name} CHANGE COLUMN `Happiness Rank` `Happiness Rank` INT COMMENT 'The happiness score of the country'\")\n",
    "\n",
    "spark.sql(f\"ALTER TABLE {table_name} CHANGE COLUMN `Standard Error` `Standard Error` DOUBLE COMMENT 'The standard error (SE) is a statistical term that measures the accuracy with which a sample distribution represents a population by using standard deviation. In simpler terms, it provides an estimate of how much the sample mean (average) is expected to vary from the true population mean'\")\n",
    "\n",
    "spark.sql(f\"ALTER TABLE {table_name} CHANGE COLUMN `Dystopia Residual` `Dystopia Residual` DOUBLE COMMENT 'term used in the context of the World Happiness Report, which measures and compares the happiness levels of countries worldwide. The concept of Dystopia Residual helps explain the difference in happiness between the actual scores of countries and the expected scores based on various factors'\")\n",
    "\n",
    "spark.sql(f\"ALTER TABLE {table_name} CHANGE COLUMN `Happiness Score` `Happiness Score` DOUBLE COMMENT 'Rank of the country based on the Happiness Score'\")\n",
    "\n",
    "spark.sql(f\"ALTER TABLE {table_name} CHANGE COLUMN `Economy (GDP per Capita)` `Economy (GDP per Capita)` DOUBLE COMMENT 'The extent to which GDP contributes to the calculation of the Happiness Score'\")\n",
    "\n",
    "spark.sql(f\"ALTER TABLE {table_name} CHANGE COLUMN Family Family DOUBLE COMMENT 'The extent to which Family contributes to the calculation of the Happiness Score'\")\n",
    "\n",
    "spark.sql(f\"ALTER TABLE {table_name} CHANGE COLUMN `Health (Life Expectancy)` `Health (Life Expectancy)` DOUBLE COMMENT 'The extent to which Life expectancy contributed to the calculation of the Happiness Score'\")\n",
    "\n",
    "spark.sql(f\"ALTER TABLE {table_name} CHANGE COLUMN Freedom Freedom DOUBLE COMMENT 'The extent to which Freedom contributed to the calculation of the Happiness Score'\")\n",
    "\n",
    "spark.sql(f\"ALTER TABLE {table_name} CHANGE COLUMN Generosity  Generosity  DOUBLE COMMENT 'The extent to which Generosity contributed to the calculation of the Happiness Score'\")\n",
    "\n",
    "spark.sql(f\"ALTER TABLE {table_name} CHANGE COLUMN `Trust (Government Corruption)` `Trust (Government Corruption)` DOUBLE COMMENT 'The extent to which Perception of Corruption contributes to Happiness Score'\")\n",
    "\n",
    "\n",
    "# Verificar se os comentários foram adicionados\n",
    "desc_table = spark.sql(f\"DESCRIBE EXTENDED {table_name}\")\n",
    "desc_table.show(truncate=False)"
   ]
  },
  {
   "cell_type": "markdown",
   "metadata": {
    "application/vnd.databricks.v1+cell": {
     "cellMetadata": {
      "byteLimit": 2048000,
      "rowLimit": 10000
     },
     "inputWidgets": {},
     "nuid": "46686d34-1364-43a2-8686-54896cb0ed5a",
     "showTitle": false,
     "title": ""
    }
   },
   "source": [
    "Nessa etapa criamos todas as tabelas com os dados cruos e suas descrições, assim se outras pessoas precisarem usar essas informações temos os dados no banco"
   ]
  },
  {
   "cell_type": "markdown",
   "metadata": {
    "application/vnd.databricks.v1+cell": {
     "cellMetadata": {
      "byteLimit": 2048000,
      "rowLimit": 10000
     },
     "inputWidgets": {},
     "nuid": "d85324ef-8d15-4a66-9085-82015532b6df",
     "showTitle": false,
     "title": ""
    }
   },
   "source": [
    "#### Camada Silver"
   ]
  },
  {
   "cell_type": "markdown",
   "metadata": {
    "application/vnd.databricks.v1+cell": {
     "cellMetadata": {
      "byteLimit": 2048000,
      "rowLimit": 10000
     },
     "inputWidgets": {},
     "nuid": "42674e86-13e5-40f6-b7ec-82ff7034e0db",
     "showTitle": false,
     "title": ""
    }
   },
   "source": [
    "Vamos fazer alguns tratamentos nos dados encontradas, como: renomear, adicionar e remover colunas e criar tabela dimensão de região \n",
    "\n",
    "Perceba que estamos usando o mesmo notebook, então podemos utilizar os dataframes que usamos para criar as tabelas da camadas bronze para fazer o tratamento necessário para a camada silver. "
   ]
  },
  {
   "cell_type": "markdown",
   "metadata": {
    "application/vnd.databricks.v1+cell": {
     "cellMetadata": {
      "byteLimit": 2048000,
      "rowLimit": 10000
     },
     "inputWidgets": {},
     "nuid": "64aa2289-2609-43aa-a912-1ea91ac911cf",
     "showTitle": false,
     "title": ""
    }
   },
   "source": [
    "##### Renomear colunas"
   ]
  },
  {
   "cell_type": "markdown",
   "metadata": {
    "application/vnd.databricks.v1+cell": {
     "cellMetadata": {
      "byteLimit": 2048000,
      "rowLimit": 10000
     },
     "inputWidgets": {},
     "nuid": "2d699307-4834-48c3-acee-e0dc771229c2",
     "showTitle": false,
     "title": ""
    }
   },
   "source": [
    "Vamos alterar os nomes das colunas para criar um padrão"
   ]
  },
  {
   "cell_type": "markdown",
   "metadata": {
    "application/vnd.databricks.v1+cell": {
     "cellMetadata": {
      "byteLimit": 2048000,
      "rowLimit": 10000
     },
     "inputWidgets": {},
     "nuid": "27ade88d-f0d8-4bc6-a7e8-aa632591a384",
     "showTitle": false,
     "title": ""
    }
   },
   "source": [
    "###### Life expectancy & Socio-Economic"
   ]
  },
  {
   "cell_type": "code",
   "execution_count": 0,
   "metadata": {
    "application/vnd.databricks.v1+cell": {
     "cellMetadata": {
      "byteLimit": 2048000,
      "rowLimit": 10000
     },
     "inputWidgets": {},
     "nuid": "5a4dd8ec-ae5e-4032-9675-b69a821bf8cd",
     "showTitle": false,
     "title": ""
    }
   },
   "outputs": [],
   "source": [
    "# Renaming columns\n",
    "df_life_expectancy_renamed = df_life_expectancy\\\n",
    "  .withColumnRenamed('Country Name', 'country') \\\n",
    "  .withColumnRenamed('Country Code', 'country_code') \\\n",
    "  .withColumnRenamed('Region', 'region_life_expectancy')\\\n",
    "  .withColumnRenamed('IncomeGroup', 'income_group') \\\n",
    "  .withColumnRenamed('Year', 'year') \\\n",
    "  .withColumnRenamed('Life Expectancy World Bank', 'life_expectancy_world_bank') \\\n",
    "  .withColumnRenamed('Prevelance of Undernourishment', 'prevelance_of_undernourishment') \\\n",
    "  .withColumnRenamed('CO2', 'co2')\\\n",
    "  .withColumnRenamed('Health Expenditure %', 'health_expenditure')\\\n",
    "  .withColumnRenamed('Education Expenditure %', 'education_expenditure')\\\n",
    "  .withColumnRenamed('Unemployment', 'unemployment')\\\n",
    "  .withColumnRenamed('Corruption', 'corruption')\\\n",
    "  .withColumnRenamed('Sanitation', 'sanitation')\\\n",
    "  .withColumnRenamed('Injuries', 'injuries')\\\n",
    "  .withColumnRenamed('Communicable', 'communicable_diseases')\\\n",
    "  .withColumnRenamed('NonCommunicable', 'non_communicable_diseases')"
   ]
  },
  {
   "cell_type": "markdown",
   "metadata": {
    "application/vnd.databricks.v1+cell": {
     "cellMetadata": {
      "byteLimit": 2048000,
      "rowLimit": 10000
     },
     "inputWidgets": {},
     "nuid": "c31a52a6-1008-47cd-a98a-eec20d3c1f8f",
     "showTitle": false,
     "title": ""
    }
   },
   "source": [
    "###### Life World Happiness Report"
   ]
  },
  {
   "cell_type": "markdown",
   "metadata": {
    "application/vnd.databricks.v1+cell": {
     "cellMetadata": {
      "byteLimit": 2048000,
      "rowLimit": 10000
     },
     "inputWidgets": {},
     "nuid": "4a35964a-1229-401a-a686-1cf25fcfd8be",
     "showTitle": false,
     "title": ""
    }
   },
   "source": [
    "Perceba que os dfs de happiness report de cada ano possuem colunas com nomes diferentes. Vamos padronizar os nomes das colunas"
   ]
  },
  {
   "cell_type": "code",
   "execution_count": 0,
   "metadata": {
    "application/vnd.databricks.v1+cell": {
     "cellMetadata": {
      "byteLimit": 2048000,
      "rowLimit": 10000
     },
     "inputWidgets": {},
     "nuid": "64c42772-24d0-48d0-8dd9-104062ad228d",
     "showTitle": false,
     "title": ""
    }
   },
   "outputs": [],
   "source": [
    "# Renaming columns\n",
    "df_world_happiness_report_2019_renamed = df_world_happiness_report_2019\\\n",
    "  .withColumnRenamed('Overall rank', 'overall_rank') \\\n",
    "  .withColumnRenamed('Country or region', 'country') \\\n",
    "  .withColumnRenamed('Score', 'happiness_score')\\\n",
    "  .withColumnRenamed('GDP per capita', 'gpd_per_capita') \\\n",
    "  .withColumnRenamed('Social support', 'social_support') \\\n",
    "  .withColumnRenamed('Healthy life expectancy', 'healthy_life_expectancy') \\\n",
    "  .withColumnRenamed('Freedom to make life choices', 'freedom_to_make_life_choices') \\\n",
    "  .withColumnRenamed('Generosity', 'generosity')\\\n",
    "  .withColumnRenamed('Perceptions of corruption', 'perceptions_of_corruption')\n",
    "\n",
    "df_world_happiness_report_2018_renamed = df_world_happiness_report_2018\\\n",
    "  .withColumnRenamed('Overall rank', 'overall_rank') \\\n",
    "  .withColumnRenamed('Country or region', 'country') \\\n",
    "  .withColumnRenamed('Score', 'happiness_score')\\\n",
    "  .withColumnRenamed('GDP per capita', 'gpd_per_capita') \\\n",
    "  .withColumnRenamed('Social support', 'social_support') \\\n",
    "  .withColumnRenamed('Healthy life expectancy', 'healthy_life_expectancy') \\\n",
    "  .withColumnRenamed('Freedom to make life choices', 'freedom_to_make_life_choices') \\\n",
    "  .withColumnRenamed('Generosity', 'generosity')\\\n",
    "  .withColumnRenamed('Perceptions of corruption', 'perceptions_of_corruption')\n",
    "      \n",
    "df_world_happiness_report_2017_renamed = df_world_happiness_report_2017\\\n",
    "  .withColumnRenamed('Happiness.Rank', 'overall_rank') \\\n",
    "  .withColumnRenamed('Country', 'country') \\\n",
    "  .withColumnRenamed('Happiness.Score', 'happiness_score')\\\n",
    "  .withColumnRenamed('Economy..GDP.per.Capita.', 'gpd_per_capita') \\\n",
    "  .withColumnRenamed('Family', 'social_support') \\\n",
    "  .withColumnRenamed('Health..Life.Expectancy.', 'healthy_life_expectancy') \\\n",
    "  .withColumnRenamed('Freedom', 'freedom_to_make_life_choices') \\\n",
    "  .withColumnRenamed('Generosity', 'generosity')\\\n",
    "  .withColumnRenamed('Trust..Government.Corruption.', 'perceptions_of_corruption')\\\n",
    "  .withColumnRenamed('Dystopia.Residual', 'dystopia_residual')\n",
    "\n",
    "df_world_happiness_report_2016_renamed = df_world_happiness_report_2016\\\n",
    "  .withColumnRenamed('Happiness Rank', 'overall_rank') \\\n",
    "  .withColumnRenamed('Country', 'country') \\\n",
    "  .withColumnRenamed('Region', 'region') \\\n",
    "  .withColumnRenamed('Happiness Score', 'happiness_score')\\\n",
    "  .withColumnRenamed('Economy (GDP per Capita)', 'gpd_per_capita') \\\n",
    "  .withColumnRenamed('Family', 'social_support') \\\n",
    "  .withColumnRenamed('Health (Life Expectancy)', 'healthy_life_expectancy') \\\n",
    "  .withColumnRenamed('Freedom', 'freedom_to_make_life_choices') \\\n",
    "  .withColumnRenamed('Generosity', 'generosity')\\\n",
    "  .withColumnRenamed('Trust (Government Corruption)', 'perceptions_of_corruption')\\\n",
    "  .withColumnRenamed('Dystopia Residual', 'dystopia_residual')\n",
    "\n",
    "df_world_happiness_report_2015_renamed = df_world_happiness_report_2015\\\n",
    "  .withColumnRenamed('Happiness Rank', 'overall_rank') \\\n",
    "  .withColumnRenamed('Country', 'country') \\\n",
    "  .withColumnRenamed('Region', 'region') \\\n",
    "  .withColumnRenamed('Happiness Score', 'happiness_score')\\\n",
    "  .withColumnRenamed('Economy (GDP per Capita)', 'gpd_per_capita') \\\n",
    "  .withColumnRenamed('Family', 'social_support') \\\n",
    "  .withColumnRenamed('Health (Life Expectancy)', 'healthy_life_expectancy') \\\n",
    "  .withColumnRenamed('Freedom', 'freedom_to_make_life_choices') \\\n",
    "  .withColumnRenamed('Generosity', 'generosity')\\\n",
    "  .withColumnRenamed('Trust (Government Corruption)', 'perceptions_of_corruption')\\\n",
    "  .withColumnRenamed('Dystopia Residual', 'dystopia_residual')\n"
   ]
  },
  {
   "cell_type": "markdown",
   "metadata": {
    "application/vnd.databricks.v1+cell": {
     "cellMetadata": {
      "byteLimit": 2048000,
      "rowLimit": 10000
     },
     "inputWidgets": {},
     "nuid": "f02c1830-5640-4820-958b-c59f37af4e17",
     "showTitle": false,
     "title": ""
    }
   },
   "source": [
    "##### Criando o dataframe de regiões"
   ]
  },
  {
   "cell_type": "markdown",
   "metadata": {
    "application/vnd.databricks.v1+cell": {
     "cellMetadata": {
      "byteLimit": 2048000,
      "rowLimit": 10000
     },
     "inputWidgets": {},
     "nuid": "0c510f99-a616-465e-8456-2a195a10dda9",
     "showTitle": false,
     "title": ""
    }
   },
   "source": [
    "###### Regiões do Life World Happiness Report"
   ]
  },
  {
   "cell_type": "markdown",
   "metadata": {
    "application/vnd.databricks.v1+cell": {
     "cellMetadata": {
      "byteLimit": 2048000,
      "rowLimit": 10000
     },
     "inputWidgets": {},
     "nuid": "13954758-d337-4874-a5cd-471444d7abf4",
     "showTitle": false,
     "title": ""
    }
   },
   "source": [
    "Vamos criar um df com as informações de Country and Region, para levar como uma tabela para o banco de dados. \n",
    "\n",
    "Como o país não muda de região conforme os anos passam por mais que essa informação só exista nos arquivos de 2025 e 2016 ela também é válida para os arquivos dos anos seguintes."
   ]
  },
  {
   "cell_type": "code",
   "execution_count": 0,
   "metadata": {
    "application/vnd.databricks.v1+cell": {
     "cellMetadata": {
      "byteLimit": 2048000,
      "rowLimit": 10000
     },
     "inputWidgets": {},
     "nuid": "a4377a64-16da-4e4d-b465-0c2df32246ef",
     "showTitle": false,
     "title": ""
    }
   },
   "outputs": [
    {
     "output_type": "stream",
     "name": "stdout",
     "output_type": "stream",
     "text": [
      "No ano de 2016 temos 157 países na base\nNo ano de 2015 temos 158 países na base\n"
     ]
    }
   ],
   "source": [
    "df_region_2016 = df_world_happiness_report_2016_renamed.select('country', 'region') \n",
    "print(\"No ano de 2016 temos \" + str(df_region_2016.count()) +\" países na base\")\n",
    "df_region_2015 = df_world_happiness_report_2015_renamed.select('country', 'region') \n",
    "print(\"No ano de 2015 temos \" + str(df_region_2015.count()) +\" países na base\")"
   ]
  },
  {
   "cell_type": "markdown",
   "metadata": {
    "application/vnd.databricks.v1+cell": {
     "cellMetadata": {
      "byteLimit": 2048000,
      "rowLimit": 10000
     },
     "inputWidgets": {},
     "nuid": "be05a23b-b3fc-448a-9fc9-84479367563d",
     "showTitle": false,
     "title": ""
    }
   },
   "source": [
    "Vamos juntar os dois dfs de região e tirar a duplicidade das linhas pois assim garantimos que estamos trazendo todos os países com a sua respectiva região"
   ]
  },
  {
   "cell_type": "code",
   "execution_count": 0,
   "metadata": {
    "application/vnd.databricks.v1+cell": {
     "cellMetadata": {
      "byteLimit": 2048000,
      "rowLimit": 10000
     },
     "inputWidgets": {},
     "nuid": "a197ae0f-9720-4142-aa63-556b040d06cd",
     "showTitle": false,
     "title": ""
    }
   },
   "outputs": [
    {
     "output_type": "stream",
     "name": "stdout",
     "output_type": "stream",
     "text": [
      "Temos 315 linhas no df_region\nDepois de tirar a duplicidade temos 164 linhas no df_region\n"
     ]
    }
   ],
   "source": [
    "#  Unificando as duas base         \n",
    "df_region = df_region_2016.union(df_region_2015)\n",
    "\n",
    "print(\"Temos \" + str(df_region.count()) +\" linhas no df_region\")\n",
    "\n",
    "# Tirando a duplicidade das linhas\n",
    "df_region = df_region.drop_duplicates()\n",
    "\n",
    "print(\"Depois de tirar a duplicidade temos \" + str(df_region.count()) +\" linhas no df_region\")"
   ]
  },
  {
   "cell_type": "markdown",
   "metadata": {
    "application/vnd.databricks.v1+cell": {
     "cellMetadata": {
      "byteLimit": 2048000,
      "rowLimit": 10000
     },
     "inputWidgets": {},
     "nuid": "9d87224a-10e5-4284-aa49-d7bf1f1141de",
     "showTitle": false,
     "title": ""
    }
   },
   "source": [
    "###### Regiões do Life expectancy & Socio-Economic"
   ]
  },
  {
   "cell_type": "markdown",
   "metadata": {
    "application/vnd.databricks.v1+cell": {
     "cellMetadata": {
      "byteLimit": 2048000,
      "rowLimit": 10000
     },
     "inputWidgets": {},
     "nuid": "3144ff90-2237-4ef9-b374-13295bba43f6",
     "showTitle": false,
     "title": ""
    }
   },
   "source": [
    "O df_life_expectancy_renamed também possue dados de países e sua região.\n",
    "\n",
    "Vamos adicionar os países, e sua região, que só aparecem na base df_life_expectancy_renamed no df_region"
   ]
  },
  {
   "cell_type": "code",
   "execution_count": 0,
   "metadata": {
    "application/vnd.databricks.v1+cell": {
     "cellMetadata": {
      "byteLimit": 2048000,
      "rowLimit": 10000
     },
     "inputWidgets": {},
     "nuid": "1a0c3ca5-6a88-4ca0-820f-ed6f4f63a95f",
     "showTitle": false,
     "title": ""
    }
   },
   "outputs": [
    {
     "output_type": "stream",
     "name": "stdout",
     "output_type": "stream",
     "text": [
      "No df_region_life_expectancy temos 174 países\n"
     ]
    }
   ],
   "source": [
    "# Ficando apenas com as colunas de país e região\n",
    "df_region_life_expectancy = df_life_expectancy_renamed.select('country', 'region_life_expectancy') \n",
    "\n",
    "# Tirando a duplicidade, pois temos diversos anos nessa base e um país aparece mais que uma vez\n",
    "df_region_life_expectancy = df_region_life_expectancy.drop_duplicates()\n",
    "\n",
    "print(\"No df_region_life_expectancy temos \" + str(df_region_life_expectancy.count()) + \" países\" )"
   ]
  },
  {
   "cell_type": "markdown",
   "metadata": {
    "application/vnd.databricks.v1+cell": {
     "cellMetadata": {
      "byteLimit": 2048000,
      "rowLimit": 10000
     },
     "inputWidgets": {},
     "nuid": "96626b15-a0d6-472d-ada5-c97582f45d87",
     "showTitle": false,
     "title": ""
    }
   },
   "source": [
    "Juntando os dois dfs de região"
   ]
  },
  {
   "cell_type": "code",
   "execution_count": 0,
   "metadata": {
    "application/vnd.databricks.v1+cell": {
     "cellMetadata": {
      "byteLimit": 2048000,
      "rowLimit": 10000
     },
     "inputWidgets": {},
     "nuid": "6a22fc32-d74e-4b7b-8d57-f7c53b7b773e",
     "showTitle": false,
     "title": ""
    }
   },
   "outputs": [
    {
     "output_type": "stream",
     "name": "stdout",
     "output_type": "stream",
     "text": [
      "198 países no df_region_combined\n"
     ]
    }
   ],
   "source": [
    "df_region_combined = df_region.join(df_region_life_expectancy, ['country'], 'full_outer')\n",
    "print( str(df_region_combined.count()) +\" países no df_region_combined\")"
   ]
  },
  {
   "cell_type": "code",
   "execution_count": 0,
   "metadata": {
    "application/vnd.databricks.v1+cell": {
     "cellMetadata": {
      "byteLimit": 2048000,
      "rowLimit": 10000
     },
     "inputWidgets": {},
     "nuid": "eec86996-58f7-478e-9e4c-0d7a38ad3be9",
     "showTitle": false,
     "title": ""
    }
   },
   "outputs": [
    {
     "output_type": "display_data",
     "data": {
      "text/html": [
       "<style scoped>\n",
       "  .table-result-container {\n",
       "    max-height: 300px;\n",
       "    overflow: auto;\n",
       "  }\n",
       "  table, th, td {\n",
       "    border: 1px solid black;\n",
       "    border-collapse: collapse;\n",
       "  }\n",
       "  th, td {\n",
       "    padding: 5px;\n",
       "  }\n",
       "  th {\n",
       "    text-align: left;\n",
       "  }\n",
       "</style><div class='table-result-container'><table class='table-result'><thead style='background-color: white'><tr><th>country</th><th>region</th><th>region_life_expectancy</th></tr></thead><tbody><tr><td>Afghanistan</td><td>Southern Asia</td><td>South Asia</td></tr><tr><td>Albania</td><td>Central and Eastern Europe</td><td>Europe & Central Asia</td></tr><tr><td>Algeria</td><td>Middle East and Northern Africa</td><td>Middle East & North Africa</td></tr><tr><td>American Samoa</td><td>null</td><td>East Asia & Pacific</td></tr><tr><td>Andorra</td><td>null</td><td>Europe & Central Asia</td></tr><tr><td>Angola</td><td>Sub-Saharan Africa</td><td>Sub-Saharan Africa</td></tr><tr><td>Antigua and Barbuda</td><td>null</td><td>Latin America & Caribbean</td></tr><tr><td>Argentina</td><td>Latin America and Caribbean</td><td>Latin America & Caribbean</td></tr><tr><td>Armenia</td><td>Central and Eastern Europe</td><td>Europe & Central Asia</td></tr><tr><td>Australia</td><td>Australia and New Zealand</td><td>East Asia & Pacific</td></tr><tr><td>Austria</td><td>Western Europe</td><td>Europe & Central Asia</td></tr><tr><td>Azerbaijan</td><td>Central and Eastern Europe</td><td>Europe & Central Asia</td></tr><tr><td>Bahrain</td><td>Middle East and Northern Africa</td><td>Middle East & North Africa</td></tr><tr><td>Bangladesh</td><td>Southern Asia</td><td>South Asia</td></tr><tr><td>Barbados</td><td>null</td><td>Latin America & Caribbean</td></tr><tr><td>Belarus</td><td>Central and Eastern Europe</td><td>Europe & Central Asia</td></tr><tr><td>Belgium</td><td>Western Europe</td><td>Europe & Central Asia</td></tr><tr><td>Belize</td><td>Latin America and Caribbean</td><td>Latin America & Caribbean</td></tr><tr><td>Benin</td><td>Sub-Saharan Africa</td><td>Sub-Saharan Africa</td></tr><tr><td>Bermuda</td><td>null</td><td>North America</td></tr><tr><td>Bhutan</td><td>Southern Asia</td><td>South Asia</td></tr><tr><td>Bolivia</td><td>Latin America and Caribbean</td><td>Latin America & Caribbean</td></tr><tr><td>Bosnia and Herzegovina</td><td>Central and Eastern Europe</td><td>Europe & Central Asia</td></tr><tr><td>Botswana</td><td>Sub-Saharan Africa</td><td>Sub-Saharan Africa</td></tr><tr><td>Brazil</td><td>Latin America and Caribbean</td><td>Latin America & Caribbean</td></tr><tr><td>Bulgaria</td><td>Central and Eastern Europe</td><td>Europe & Central Asia</td></tr><tr><td>Burkina Faso</td><td>Sub-Saharan Africa</td><td>Sub-Saharan Africa</td></tr><tr><td>Burundi</td><td>Sub-Saharan Africa</td><td>Sub-Saharan Africa</td></tr><tr><td>Cambodia</td><td>Southeastern Asia</td><td>East Asia & Pacific</td></tr><tr><td>Cameroon</td><td>Sub-Saharan Africa</td><td>Sub-Saharan Africa</td></tr><tr><td>Canada</td><td>North America</td><td>North America</td></tr><tr><td>Central African Republic</td><td>Sub-Saharan Africa</td><td>Sub-Saharan Africa</td></tr><tr><td>Chad</td><td>Sub-Saharan Africa</td><td>Sub-Saharan Africa</td></tr><tr><td>Chile</td><td>Latin America and Caribbean</td><td>Latin America & Caribbean</td></tr><tr><td>China</td><td>Eastern Asia</td><td>East Asia & Pacific</td></tr><tr><td>Colombia</td><td>Latin America and Caribbean</td><td>Latin America & Caribbean</td></tr><tr><td>Comoros</td><td>Sub-Saharan Africa</td><td>Sub-Saharan Africa</td></tr><tr><td>Congo (Brazzaville)</td><td>Sub-Saharan Africa</td><td>null</td></tr><tr><td>Congo (Kinshasa)</td><td>Sub-Saharan Africa</td><td>null</td></tr><tr><td>Costa Rica</td><td>Latin America and Caribbean</td><td>Latin America & Caribbean</td></tr><tr><td>Cote d'Ivoire</td><td>null</td><td>Sub-Saharan Africa</td></tr><tr><td>Croatia</td><td>Central and Eastern Europe</td><td>Europe & Central Asia</td></tr><tr><td>Cuba</td><td>null</td><td>Latin America & Caribbean</td></tr><tr><td>Cyprus</td><td>Western Europe</td><td>Europe & Central Asia</td></tr><tr><td>Czech Republic</td><td>Central and Eastern Europe</td><td>null</td></tr><tr><td>Denmark</td><td>Western Europe</td><td>Europe & Central Asia</td></tr><tr><td>Djibouti</td><td>Sub-Saharan Africa</td><td>Middle East & North Africa</td></tr><tr><td>Dominica</td><td>null</td><td>Latin America & Caribbean</td></tr><tr><td>Dominican Republic</td><td>Latin America and Caribbean</td><td>Latin America & Caribbean</td></tr><tr><td>Ecuador</td><td>Latin America and Caribbean</td><td>Latin America & Caribbean</td></tr><tr><td>Egypt</td><td>Middle East and Northern Africa</td><td>null</td></tr><tr><td>El Salvador</td><td>Latin America and Caribbean</td><td>Latin America & Caribbean</td></tr><tr><td>Equatorial Guinea</td><td>null</td><td>Sub-Saharan Africa</td></tr><tr><td>Eritrea</td><td>null</td><td>Sub-Saharan Africa</td></tr><tr><td>Estonia</td><td>Central and Eastern Europe</td><td>Europe & Central Asia</td></tr><tr><td>Eswatini</td><td>null</td><td>Sub-Saharan Africa</td></tr><tr><td>Ethiopia</td><td>Sub-Saharan Africa</td><td>Sub-Saharan Africa</td></tr><tr><td>Fiji</td><td>null</td><td>East Asia & Pacific</td></tr><tr><td>Finland</td><td>Western Europe</td><td>Europe & Central Asia</td></tr><tr><td>France</td><td>Western Europe</td><td>Europe & Central Asia</td></tr><tr><td>Gabon</td><td>Sub-Saharan Africa</td><td>Sub-Saharan Africa</td></tr><tr><td>Georgia</td><td>Central and Eastern Europe</td><td>Europe & Central Asia</td></tr><tr><td>Germany</td><td>Western Europe</td><td>Europe & Central Asia</td></tr><tr><td>Ghana</td><td>Sub-Saharan Africa</td><td>Sub-Saharan Africa</td></tr><tr><td>Greece</td><td>Western Europe</td><td>Europe & Central Asia</td></tr><tr><td>Greenland</td><td>null</td><td>Europe & Central Asia</td></tr><tr><td>Grenada</td><td>null</td><td>Latin America & Caribbean</td></tr><tr><td>Guam</td><td>null</td><td>East Asia & Pacific</td></tr><tr><td>Guatemala</td><td>Latin America and Caribbean</td><td>Latin America & Caribbean</td></tr><tr><td>Guinea</td><td>Sub-Saharan Africa</td><td>Sub-Saharan Africa</td></tr><tr><td>Guinea-Bissau</td><td>null</td><td>Sub-Saharan Africa</td></tr><tr><td>Guyana</td><td>null</td><td>Latin America & Caribbean</td></tr><tr><td>Haiti</td><td>Latin America and Caribbean</td><td>Latin America & Caribbean</td></tr><tr><td>Honduras</td><td>Latin America and Caribbean</td><td>Latin America & Caribbean</td></tr><tr><td>Hong Kong</td><td>Eastern Asia</td><td>null</td></tr><tr><td>Hungary</td><td>Central and Eastern Europe</td><td>Europe & Central Asia</td></tr><tr><td>Iceland</td><td>Western Europe</td><td>Europe & Central Asia</td></tr><tr><td>India</td><td>Southern Asia</td><td>South Asia</td></tr><tr><td>Indonesia</td><td>Southeastern Asia</td><td>East Asia & Pacific</td></tr><tr><td>Iran</td><td>Middle East and Northern Africa</td><td>null</td></tr><tr><td>Iraq</td><td>Middle East and Northern Africa</td><td>Middle East & North Africa</td></tr><tr><td>Ireland</td><td>Western Europe</td><td>Europe & Central Asia</td></tr><tr><td>Israel</td><td>Middle East and Northern Africa</td><td>Middle East & North Africa</td></tr><tr><td>Italy</td><td>Western Europe</td><td>Europe & Central Asia</td></tr><tr><td>Ivory Coast</td><td>Sub-Saharan Africa</td><td>null</td></tr><tr><td>Jamaica</td><td>Latin America and Caribbean</td><td>Latin America & Caribbean</td></tr><tr><td>Japan</td><td>Eastern Asia</td><td>East Asia & Pacific</td></tr><tr><td>Jordan</td><td>Middle East and Northern Africa</td><td>Middle East & North Africa</td></tr><tr><td>Kazakhstan</td><td>Central and Eastern Europe</td><td>Europe & Central Asia</td></tr><tr><td>Kenya</td><td>Sub-Saharan Africa</td><td>Sub-Saharan Africa</td></tr><tr><td>Kiribati</td><td>null</td><td>East Asia & Pacific</td></tr><tr><td>Kosovo</td><td>Central and Eastern Europe</td><td>null</td></tr><tr><td>Kuwait</td><td>Middle East and Northern Africa</td><td>Middle East & North Africa</td></tr><tr><td>Kyrgyzstan</td><td>Central and Eastern Europe</td><td>null</td></tr><tr><td>Laos</td><td>Southeastern Asia</td><td>null</td></tr><tr><td>Latvia</td><td>Central and Eastern Europe</td><td>Europe & Central Asia</td></tr><tr><td>Lebanon</td><td>Middle East and Northern Africa</td><td>Middle East & North Africa</td></tr><tr><td>Lesotho</td><td>Sub-Saharan Africa</td><td>Sub-Saharan Africa</td></tr><tr><td>Liberia</td><td>Sub-Saharan Africa</td><td>Sub-Saharan Africa</td></tr><tr><td>Libya</td><td>Middle East and Northern Africa</td><td>Middle East & North Africa</td></tr><tr><td>Lithuania</td><td>Central and Eastern Europe</td><td>Europe & Central Asia</td></tr><tr><td>Luxembourg</td><td>Western Europe</td><td>Europe & Central Asia</td></tr><tr><td>Macedonia</td><td>Central and Eastern Europe</td><td>null</td></tr><tr><td>Madagascar</td><td>Sub-Saharan Africa</td><td>Sub-Saharan Africa</td></tr><tr><td>Malawi</td><td>Sub-Saharan Africa</td><td>Sub-Saharan Africa</td></tr><tr><td>Malaysia</td><td>Southeastern Asia</td><td>East Asia & Pacific</td></tr><tr><td>Maldives</td><td>null</td><td>South Asia</td></tr><tr><td>Mali</td><td>Sub-Saharan Africa</td><td>Sub-Saharan Africa</td></tr><tr><td>Malta</td><td>Western Europe</td><td>Middle East & North Africa</td></tr><tr><td>Marshall Islands</td><td>null</td><td>East Asia & Pacific</td></tr><tr><td>Mauritania</td><td>Sub-Saharan Africa</td><td>Sub-Saharan Africa</td></tr><tr><td>Mauritius</td><td>Sub-Saharan Africa</td><td>Sub-Saharan Africa</td></tr><tr><td>Mexico</td><td>Latin America and Caribbean</td><td>Latin America & Caribbean</td></tr><tr><td>Moldova</td><td>Central and Eastern Europe</td><td>Europe & Central Asia</td></tr><tr><td>Monaco</td><td>null</td><td>Europe & Central Asia</td></tr><tr><td>Mongolia</td><td>Eastern Asia</td><td>East Asia & Pacific</td></tr><tr><td>Montenegro</td><td>Central and Eastern Europe</td><td>Europe & Central Asia</td></tr><tr><td>Morocco</td><td>Middle East and Northern Africa</td><td>Middle East & North Africa</td></tr><tr><td>Mozambique</td><td>Sub-Saharan Africa</td><td>Sub-Saharan Africa</td></tr><tr><td>Myanmar</td><td>Southeastern Asia</td><td>East Asia & Pacific</td></tr><tr><td>Namibia</td><td>Sub-Saharan Africa</td><td>Sub-Saharan Africa</td></tr><tr><td>Nauru</td><td>null</td><td>East Asia & Pacific</td></tr><tr><td>Nepal</td><td>Southern Asia</td><td>South Asia</td></tr><tr><td>Netherlands</td><td>Western Europe</td><td>Europe & Central Asia</td></tr><tr><td>New Zealand</td><td>Australia and New Zealand</td><td>East Asia & Pacific</td></tr><tr><td>Nicaragua</td><td>Latin America and Caribbean</td><td>Latin America & Caribbean</td></tr><tr><td>Niger</td><td>Sub-Saharan Africa</td><td>Sub-Saharan Africa</td></tr><tr><td>Nigeria</td><td>Sub-Saharan Africa</td><td>Sub-Saharan Africa</td></tr><tr><td>North Cyprus</td><td>Western Europe</td><td>null</td></tr><tr><td>North Macedonia</td><td>null</td><td>Europe & Central Asia</td></tr><tr><td>Northern Mariana Islands</td><td>null</td><td>East Asia & Pacific</td></tr><tr><td>Norway</td><td>Western Europe</td><td>Europe & Central Asia</td></tr><tr><td>Oman</td><td>Middle East and Northern Africa</td><td>Middle East & North Africa</td></tr><tr><td>Pakistan</td><td>Southern Asia</td><td>South Asia</td></tr><tr><td>Palau</td><td>null</td><td>East Asia & Pacific</td></tr><tr><td>Palestinian Territories</td><td>Middle East and Northern Africa</td><td>null</td></tr><tr><td>Panama</td><td>Latin America and Caribbean</td><td>Latin America & Caribbean</td></tr><tr><td>Papua New Guinea</td><td>null</td><td>East Asia & Pacific</td></tr><tr><td>Paraguay</td><td>Latin America and Caribbean</td><td>Latin America & Caribbean</td></tr><tr><td>Peru</td><td>Latin America and Caribbean</td><td>Latin America & Caribbean</td></tr><tr><td>Philippines</td><td>Southeastern Asia</td><td>East Asia & Pacific</td></tr><tr><td>Poland</td><td>Central and Eastern Europe</td><td>Europe & Central Asia</td></tr><tr><td>Portugal</td><td>Western Europe</td><td>Europe & Central Asia</td></tr><tr><td>Puerto Rico</td><td>Latin America and Caribbean</td><td>Latin America & Caribbean</td></tr><tr><td>Qatar</td><td>Middle East and Northern Africa</td><td>Middle East & North Africa</td></tr><tr><td>Romania</td><td>Central and Eastern Europe</td><td>Europe & Central Asia</td></tr><tr><td>Russia</td><td>Central and Eastern Europe</td><td>null</td></tr><tr><td>Rwanda</td><td>Sub-Saharan Africa</td><td>Sub-Saharan Africa</td></tr><tr><td>Samoa</td><td>null</td><td>East Asia & Pacific</td></tr><tr><td>San Marino</td><td>null</td><td>Europe & Central Asia</td></tr><tr><td>Sao Tome and Principe</td><td>null</td><td>Sub-Saharan Africa</td></tr><tr><td>Saudi Arabia</td><td>Middle East and Northern Africa</td><td>Middle East & North Africa</td></tr><tr><td>Senegal</td><td>Sub-Saharan Africa</td><td>Sub-Saharan Africa</td></tr><tr><td>Serbia</td><td>Central and Eastern Europe</td><td>Europe & Central Asia</td></tr><tr><td>Seychelles</td><td>null</td><td>Sub-Saharan Africa</td></tr><tr><td>Sierra Leone</td><td>Sub-Saharan Africa</td><td>Sub-Saharan Africa</td></tr><tr><td>Singapore</td><td>Southeastern Asia</td><td>East Asia & Pacific</td></tr><tr><td>Slovakia</td><td>Central and Eastern Europe</td><td>null</td></tr><tr><td>Slovenia</td><td>Central and Eastern Europe</td><td>Europe & Central Asia</td></tr><tr><td>Solomon Islands</td><td>null</td><td>East Asia & Pacific</td></tr><tr><td>Somalia</td><td>Sub-Saharan Africa</td><td>Sub-Saharan Africa</td></tr><tr><td>Somaliland Region</td><td>Sub-Saharan Africa</td><td>null</td></tr><tr><td>Somaliland region</td><td>Sub-Saharan Africa</td><td>null</td></tr><tr><td>South Africa</td><td>Sub-Saharan Africa</td><td>Sub-Saharan Africa</td></tr><tr><td>South Korea</td><td>Eastern Asia</td><td>null</td></tr><tr><td>South Sudan</td><td>Sub-Saharan Africa</td><td>Sub-Saharan Africa</td></tr><tr><td>Spain</td><td>Western Europe</td><td>Europe & Central Asia</td></tr><tr><td>Sri Lanka</td><td>Southern Asia</td><td>South Asia</td></tr><tr><td>Sudan</td><td>Sub-Saharan Africa</td><td>Sub-Saharan Africa</td></tr><tr><td>Suriname</td><td>Latin America and Caribbean</td><td>Latin America & Caribbean</td></tr><tr><td>Swaziland</td><td>Sub-Saharan Africa</td><td>null</td></tr><tr><td>Sweden</td><td>Western Europe</td><td>Europe & Central Asia</td></tr><tr><td>Switzerland</td><td>Western Europe</td><td>Europe & Central Asia</td></tr><tr><td>Syria</td><td>Middle East and Northern Africa</td><td>null</td></tr><tr><td>Taiwan</td><td>Eastern Asia</td><td>null</td></tr><tr><td>Tajikistan</td><td>Central and Eastern Europe</td><td>Europe & Central Asia</td></tr><tr><td>Tanzania</td><td>Sub-Saharan Africa</td><td>Sub-Saharan Africa</td></tr><tr><td>Thailand</td><td>Southeastern Asia</td><td>East Asia & Pacific</td></tr><tr><td>Togo</td><td>Sub-Saharan Africa</td><td>Sub-Saharan Africa</td></tr><tr><td>Tonga</td><td>null</td><td>East Asia & Pacific</td></tr><tr><td>Trinidad and Tobago</td><td>Latin America and Caribbean</td><td>Latin America & Caribbean</td></tr><tr><td>Tunisia</td><td>Middle East and Northern Africa</td><td>Middle East & North Africa</td></tr><tr><td>Turkey</td><td>Middle East and Northern Africa</td><td>null</td></tr><tr><td>Turkmenistan</td><td>Central and Eastern Europe</td><td>Europe & Central Asia</td></tr><tr><td>Tuvalu</td><td>null</td><td>East Asia & Pacific</td></tr><tr><td>Uganda</td><td>Sub-Saharan Africa</td><td>Sub-Saharan Africa</td></tr><tr><td>Ukraine</td><td>Central and Eastern Europe</td><td>Europe & Central Asia</td></tr><tr><td>United Arab Emirates</td><td>Middle East and Northern Africa</td><td>Middle East & North Africa</td></tr><tr><td>United Kingdom</td><td>Western Europe</td><td>Europe & Central Asia</td></tr><tr><td>United States</td><td>North America</td><td>North America</td></tr><tr><td>Uruguay</td><td>Latin America and Caribbean</td><td>Latin America & Caribbean</td></tr><tr><td>Uzbekistan</td><td>Central and Eastern Europe</td><td>Europe & Central Asia</td></tr><tr><td>Vanuatu</td><td>null</td><td>East Asia & Pacific</td></tr><tr><td>Venezuela</td><td>Latin America and Caribbean</td><td>null</td></tr><tr><td>Vietnam</td><td>Southeastern Asia</td><td>East Asia & Pacific</td></tr><tr><td>Yemen</td><td>Middle East and Northern Africa</td><td>null</td></tr><tr><td>Zambia</td><td>Sub-Saharan Africa</td><td>Sub-Saharan Africa</td></tr><tr><td>Zimbabwe</td><td>Sub-Saharan Africa</td><td>Sub-Saharan Africa</td></tr></tbody></table></div>"
      ]
     },
     "metadata": {
      "application/vnd.databricks.v1+output": {
       "addedWidgets": {},
       "aggData": [],
       "aggError": "",
       "aggOverflow": false,
       "aggSchema": [],
       "aggSeriesLimitReached": false,
       "aggType": "",
       "arguments": {},
       "columnCustomDisplayInfos": {},
       "data": [
        [
         "Afghanistan",
         "Southern Asia",
         "South Asia"
        ],
        [
         "Albania",
         "Central and Eastern Europe",
         "Europe & Central Asia"
        ],
        [
         "Algeria",
         "Middle East and Northern Africa",
         "Middle East & North Africa"
        ],
        [
         "American Samoa",
         null,
         "East Asia & Pacific"
        ],
        [
         "Andorra",
         null,
         "Europe & Central Asia"
        ],
        [
         "Angola",
         "Sub-Saharan Africa",
         "Sub-Saharan Africa"
        ],
        [
         "Antigua and Barbuda",
         null,
         "Latin America & Caribbean"
        ],
        [
         "Argentina",
         "Latin America and Caribbean",
         "Latin America & Caribbean"
        ],
        [
         "Armenia",
         "Central and Eastern Europe",
         "Europe & Central Asia"
        ],
        [
         "Australia",
         "Australia and New Zealand",
         "East Asia & Pacific"
        ],
        [
         "Austria",
         "Western Europe",
         "Europe & Central Asia"
        ],
        [
         "Azerbaijan",
         "Central and Eastern Europe",
         "Europe & Central Asia"
        ],
        [
         "Bahrain",
         "Middle East and Northern Africa",
         "Middle East & North Africa"
        ],
        [
         "Bangladesh",
         "Southern Asia",
         "South Asia"
        ],
        [
         "Barbados",
         null,
         "Latin America & Caribbean"
        ],
        [
         "Belarus",
         "Central and Eastern Europe",
         "Europe & Central Asia"
        ],
        [
         "Belgium",
         "Western Europe",
         "Europe & Central Asia"
        ],
        [
         "Belize",
         "Latin America and Caribbean",
         "Latin America & Caribbean"
        ],
        [
         "Benin",
         "Sub-Saharan Africa",
         "Sub-Saharan Africa"
        ],
        [
         "Bermuda",
         null,
         "North America"
        ],
        [
         "Bhutan",
         "Southern Asia",
         "South Asia"
        ],
        [
         "Bolivia",
         "Latin America and Caribbean",
         "Latin America & Caribbean"
        ],
        [
         "Bosnia and Herzegovina",
         "Central and Eastern Europe",
         "Europe & Central Asia"
        ],
        [
         "Botswana",
         "Sub-Saharan Africa",
         "Sub-Saharan Africa"
        ],
        [
         "Brazil",
         "Latin America and Caribbean",
         "Latin America & Caribbean"
        ],
        [
         "Bulgaria",
         "Central and Eastern Europe",
         "Europe & Central Asia"
        ],
        [
         "Burkina Faso",
         "Sub-Saharan Africa",
         "Sub-Saharan Africa"
        ],
        [
         "Burundi",
         "Sub-Saharan Africa",
         "Sub-Saharan Africa"
        ],
        [
         "Cambodia",
         "Southeastern Asia",
         "East Asia & Pacific"
        ],
        [
         "Cameroon",
         "Sub-Saharan Africa",
         "Sub-Saharan Africa"
        ],
        [
         "Canada",
         "North America",
         "North America"
        ],
        [
         "Central African Republic",
         "Sub-Saharan Africa",
         "Sub-Saharan Africa"
        ],
        [
         "Chad",
         "Sub-Saharan Africa",
         "Sub-Saharan Africa"
        ],
        [
         "Chile",
         "Latin America and Caribbean",
         "Latin America & Caribbean"
        ],
        [
         "China",
         "Eastern Asia",
         "East Asia & Pacific"
        ],
        [
         "Colombia",
         "Latin America and Caribbean",
         "Latin America & Caribbean"
        ],
        [
         "Comoros",
         "Sub-Saharan Africa",
         "Sub-Saharan Africa"
        ],
        [
         "Congo (Brazzaville)",
         "Sub-Saharan Africa",
         null
        ],
        [
         "Congo (Kinshasa)",
         "Sub-Saharan Africa",
         null
        ],
        [
         "Costa Rica",
         "Latin America and Caribbean",
         "Latin America & Caribbean"
        ],
        [
         "Cote d'Ivoire",
         null,
         "Sub-Saharan Africa"
        ],
        [
         "Croatia",
         "Central and Eastern Europe",
         "Europe & Central Asia"
        ],
        [
         "Cuba",
         null,
         "Latin America & Caribbean"
        ],
        [
         "Cyprus",
         "Western Europe",
         "Europe & Central Asia"
        ],
        [
         "Czech Republic",
         "Central and Eastern Europe",
         null
        ],
        [
         "Denmark",
         "Western Europe",
         "Europe & Central Asia"
        ],
        [
         "Djibouti",
         "Sub-Saharan Africa",
         "Middle East & North Africa"
        ],
        [
         "Dominica",
         null,
         "Latin America & Caribbean"
        ],
        [
         "Dominican Republic",
         "Latin America and Caribbean",
         "Latin America & Caribbean"
        ],
        [
         "Ecuador",
         "Latin America and Caribbean",
         "Latin America & Caribbean"
        ],
        [
         "Egypt",
         "Middle East and Northern Africa",
         null
        ],
        [
         "El Salvador",
         "Latin America and Caribbean",
         "Latin America & Caribbean"
        ],
        [
         "Equatorial Guinea",
         null,
         "Sub-Saharan Africa"
        ],
        [
         "Eritrea",
         null,
         "Sub-Saharan Africa"
        ],
        [
         "Estonia",
         "Central and Eastern Europe",
         "Europe & Central Asia"
        ],
        [
         "Eswatini",
         null,
         "Sub-Saharan Africa"
        ],
        [
         "Ethiopia",
         "Sub-Saharan Africa",
         "Sub-Saharan Africa"
        ],
        [
         "Fiji",
         null,
         "East Asia & Pacific"
        ],
        [
         "Finland",
         "Western Europe",
         "Europe & Central Asia"
        ],
        [
         "France",
         "Western Europe",
         "Europe & Central Asia"
        ],
        [
         "Gabon",
         "Sub-Saharan Africa",
         "Sub-Saharan Africa"
        ],
        [
         "Georgia",
         "Central and Eastern Europe",
         "Europe & Central Asia"
        ],
        [
         "Germany",
         "Western Europe",
         "Europe & Central Asia"
        ],
        [
         "Ghana",
         "Sub-Saharan Africa",
         "Sub-Saharan Africa"
        ],
        [
         "Greece",
         "Western Europe",
         "Europe & Central Asia"
        ],
        [
         "Greenland",
         null,
         "Europe & Central Asia"
        ],
        [
         "Grenada",
         null,
         "Latin America & Caribbean"
        ],
        [
         "Guam",
         null,
         "East Asia & Pacific"
        ],
        [
         "Guatemala",
         "Latin America and Caribbean",
         "Latin America & Caribbean"
        ],
        [
         "Guinea",
         "Sub-Saharan Africa",
         "Sub-Saharan Africa"
        ],
        [
         "Guinea-Bissau",
         null,
         "Sub-Saharan Africa"
        ],
        [
         "Guyana",
         null,
         "Latin America & Caribbean"
        ],
        [
         "Haiti",
         "Latin America and Caribbean",
         "Latin America & Caribbean"
        ],
        [
         "Honduras",
         "Latin America and Caribbean",
         "Latin America & Caribbean"
        ],
        [
         "Hong Kong",
         "Eastern Asia",
         null
        ],
        [
         "Hungary",
         "Central and Eastern Europe",
         "Europe & Central Asia"
        ],
        [
         "Iceland",
         "Western Europe",
         "Europe & Central Asia"
        ],
        [
         "India",
         "Southern Asia",
         "South Asia"
        ],
        [
         "Indonesia",
         "Southeastern Asia",
         "East Asia & Pacific"
        ],
        [
         "Iran",
         "Middle East and Northern Africa",
         null
        ],
        [
         "Iraq",
         "Middle East and Northern Africa",
         "Middle East & North Africa"
        ],
        [
         "Ireland",
         "Western Europe",
         "Europe & Central Asia"
        ],
        [
         "Israel",
         "Middle East and Northern Africa",
         "Middle East & North Africa"
        ],
        [
         "Italy",
         "Western Europe",
         "Europe & Central Asia"
        ],
        [
         "Ivory Coast",
         "Sub-Saharan Africa",
         null
        ],
        [
         "Jamaica",
         "Latin America and Caribbean",
         "Latin America & Caribbean"
        ],
        [
         "Japan",
         "Eastern Asia",
         "East Asia & Pacific"
        ],
        [
         "Jordan",
         "Middle East and Northern Africa",
         "Middle East & North Africa"
        ],
        [
         "Kazakhstan",
         "Central and Eastern Europe",
         "Europe & Central Asia"
        ],
        [
         "Kenya",
         "Sub-Saharan Africa",
         "Sub-Saharan Africa"
        ],
        [
         "Kiribati",
         null,
         "East Asia & Pacific"
        ],
        [
         "Kosovo",
         "Central and Eastern Europe",
         null
        ],
        [
         "Kuwait",
         "Middle East and Northern Africa",
         "Middle East & North Africa"
        ],
        [
         "Kyrgyzstan",
         "Central and Eastern Europe",
         null
        ],
        [
         "Laos",
         "Southeastern Asia",
         null
        ],
        [
         "Latvia",
         "Central and Eastern Europe",
         "Europe & Central Asia"
        ],
        [
         "Lebanon",
         "Middle East and Northern Africa",
         "Middle East & North Africa"
        ],
        [
         "Lesotho",
         "Sub-Saharan Africa",
         "Sub-Saharan Africa"
        ],
        [
         "Liberia",
         "Sub-Saharan Africa",
         "Sub-Saharan Africa"
        ],
        [
         "Libya",
         "Middle East and Northern Africa",
         "Middle East & North Africa"
        ],
        [
         "Lithuania",
         "Central and Eastern Europe",
         "Europe & Central Asia"
        ],
        [
         "Luxembourg",
         "Western Europe",
         "Europe & Central Asia"
        ],
        [
         "Macedonia",
         "Central and Eastern Europe",
         null
        ],
        [
         "Madagascar",
         "Sub-Saharan Africa",
         "Sub-Saharan Africa"
        ],
        [
         "Malawi",
         "Sub-Saharan Africa",
         "Sub-Saharan Africa"
        ],
        [
         "Malaysia",
         "Southeastern Asia",
         "East Asia & Pacific"
        ],
        [
         "Maldives",
         null,
         "South Asia"
        ],
        [
         "Mali",
         "Sub-Saharan Africa",
         "Sub-Saharan Africa"
        ],
        [
         "Malta",
         "Western Europe",
         "Middle East & North Africa"
        ],
        [
         "Marshall Islands",
         null,
         "East Asia & Pacific"
        ],
        [
         "Mauritania",
         "Sub-Saharan Africa",
         "Sub-Saharan Africa"
        ],
        [
         "Mauritius",
         "Sub-Saharan Africa",
         "Sub-Saharan Africa"
        ],
        [
         "Mexico",
         "Latin America and Caribbean",
         "Latin America & Caribbean"
        ],
        [
         "Moldova",
         "Central and Eastern Europe",
         "Europe & Central Asia"
        ],
        [
         "Monaco",
         null,
         "Europe & Central Asia"
        ],
        [
         "Mongolia",
         "Eastern Asia",
         "East Asia & Pacific"
        ],
        [
         "Montenegro",
         "Central and Eastern Europe",
         "Europe & Central Asia"
        ],
        [
         "Morocco",
         "Middle East and Northern Africa",
         "Middle East & North Africa"
        ],
        [
         "Mozambique",
         "Sub-Saharan Africa",
         "Sub-Saharan Africa"
        ],
        [
         "Myanmar",
         "Southeastern Asia",
         "East Asia & Pacific"
        ],
        [
         "Namibia",
         "Sub-Saharan Africa",
         "Sub-Saharan Africa"
        ],
        [
         "Nauru",
         null,
         "East Asia & Pacific"
        ],
        [
         "Nepal",
         "Southern Asia",
         "South Asia"
        ],
        [
         "Netherlands",
         "Western Europe",
         "Europe & Central Asia"
        ],
        [
         "New Zealand",
         "Australia and New Zealand",
         "East Asia & Pacific"
        ],
        [
         "Nicaragua",
         "Latin America and Caribbean",
         "Latin America & Caribbean"
        ],
        [
         "Niger",
         "Sub-Saharan Africa",
         "Sub-Saharan Africa"
        ],
        [
         "Nigeria",
         "Sub-Saharan Africa",
         "Sub-Saharan Africa"
        ],
        [
         "North Cyprus",
         "Western Europe",
         null
        ],
        [
         "North Macedonia",
         null,
         "Europe & Central Asia"
        ],
        [
         "Northern Mariana Islands",
         null,
         "East Asia & Pacific"
        ],
        [
         "Norway",
         "Western Europe",
         "Europe & Central Asia"
        ],
        [
         "Oman",
         "Middle East and Northern Africa",
         "Middle East & North Africa"
        ],
        [
         "Pakistan",
         "Southern Asia",
         "South Asia"
        ],
        [
         "Palau",
         null,
         "East Asia & Pacific"
        ],
        [
         "Palestinian Territories",
         "Middle East and Northern Africa",
         null
        ],
        [
         "Panama",
         "Latin America and Caribbean",
         "Latin America & Caribbean"
        ],
        [
         "Papua New Guinea",
         null,
         "East Asia & Pacific"
        ],
        [
         "Paraguay",
         "Latin America and Caribbean",
         "Latin America & Caribbean"
        ],
        [
         "Peru",
         "Latin America and Caribbean",
         "Latin America & Caribbean"
        ],
        [
         "Philippines",
         "Southeastern Asia",
         "East Asia & Pacific"
        ],
        [
         "Poland",
         "Central and Eastern Europe",
         "Europe & Central Asia"
        ],
        [
         "Portugal",
         "Western Europe",
         "Europe & Central Asia"
        ],
        [
         "Puerto Rico",
         "Latin America and Caribbean",
         "Latin America & Caribbean"
        ],
        [
         "Qatar",
         "Middle East and Northern Africa",
         "Middle East & North Africa"
        ],
        [
         "Romania",
         "Central and Eastern Europe",
         "Europe & Central Asia"
        ],
        [
         "Russia",
         "Central and Eastern Europe",
         null
        ],
        [
         "Rwanda",
         "Sub-Saharan Africa",
         "Sub-Saharan Africa"
        ],
        [
         "Samoa",
         null,
         "East Asia & Pacific"
        ],
        [
         "San Marino",
         null,
         "Europe & Central Asia"
        ],
        [
         "Sao Tome and Principe",
         null,
         "Sub-Saharan Africa"
        ],
        [
         "Saudi Arabia",
         "Middle East and Northern Africa",
         "Middle East & North Africa"
        ],
        [
         "Senegal",
         "Sub-Saharan Africa",
         "Sub-Saharan Africa"
        ],
        [
         "Serbia",
         "Central and Eastern Europe",
         "Europe & Central Asia"
        ],
        [
         "Seychelles",
         null,
         "Sub-Saharan Africa"
        ],
        [
         "Sierra Leone",
         "Sub-Saharan Africa",
         "Sub-Saharan Africa"
        ],
        [
         "Singapore",
         "Southeastern Asia",
         "East Asia & Pacific"
        ],
        [
         "Slovakia",
         "Central and Eastern Europe",
         null
        ],
        [
         "Slovenia",
         "Central and Eastern Europe",
         "Europe & Central Asia"
        ],
        [
         "Solomon Islands",
         null,
         "East Asia & Pacific"
        ],
        [
         "Somalia",
         "Sub-Saharan Africa",
         "Sub-Saharan Africa"
        ],
        [
         "Somaliland Region",
         "Sub-Saharan Africa",
         null
        ],
        [
         "Somaliland region",
         "Sub-Saharan Africa",
         null
        ],
        [
         "South Africa",
         "Sub-Saharan Africa",
         "Sub-Saharan Africa"
        ],
        [
         "South Korea",
         "Eastern Asia",
         null
        ],
        [
         "South Sudan",
         "Sub-Saharan Africa",
         "Sub-Saharan Africa"
        ],
        [
         "Spain",
         "Western Europe",
         "Europe & Central Asia"
        ],
        [
         "Sri Lanka",
         "Southern Asia",
         "South Asia"
        ],
        [
         "Sudan",
         "Sub-Saharan Africa",
         "Sub-Saharan Africa"
        ],
        [
         "Suriname",
         "Latin America and Caribbean",
         "Latin America & Caribbean"
        ],
        [
         "Swaziland",
         "Sub-Saharan Africa",
         null
        ],
        [
         "Sweden",
         "Western Europe",
         "Europe & Central Asia"
        ],
        [
         "Switzerland",
         "Western Europe",
         "Europe & Central Asia"
        ],
        [
         "Syria",
         "Middle East and Northern Africa",
         null
        ],
        [
         "Taiwan",
         "Eastern Asia",
         null
        ],
        [
         "Tajikistan",
         "Central and Eastern Europe",
         "Europe & Central Asia"
        ],
        [
         "Tanzania",
         "Sub-Saharan Africa",
         "Sub-Saharan Africa"
        ],
        [
         "Thailand",
         "Southeastern Asia",
         "East Asia & Pacific"
        ],
        [
         "Togo",
         "Sub-Saharan Africa",
         "Sub-Saharan Africa"
        ],
        [
         "Tonga",
         null,
         "East Asia & Pacific"
        ],
        [
         "Trinidad and Tobago",
         "Latin America and Caribbean",
         "Latin America & Caribbean"
        ],
        [
         "Tunisia",
         "Middle East and Northern Africa",
         "Middle East & North Africa"
        ],
        [
         "Turkey",
         "Middle East and Northern Africa",
         null
        ],
        [
         "Turkmenistan",
         "Central and Eastern Europe",
         "Europe & Central Asia"
        ],
        [
         "Tuvalu",
         null,
         "East Asia & Pacific"
        ],
        [
         "Uganda",
         "Sub-Saharan Africa",
         "Sub-Saharan Africa"
        ],
        [
         "Ukraine",
         "Central and Eastern Europe",
         "Europe & Central Asia"
        ],
        [
         "United Arab Emirates",
         "Middle East and Northern Africa",
         "Middle East & North Africa"
        ],
        [
         "United Kingdom",
         "Western Europe",
         "Europe & Central Asia"
        ],
        [
         "United States",
         "North America",
         "North America"
        ],
        [
         "Uruguay",
         "Latin America and Caribbean",
         "Latin America & Caribbean"
        ],
        [
         "Uzbekistan",
         "Central and Eastern Europe",
         "Europe & Central Asia"
        ],
        [
         "Vanuatu",
         null,
         "East Asia & Pacific"
        ],
        [
         "Venezuela",
         "Latin America and Caribbean",
         null
        ],
        [
         "Vietnam",
         "Southeastern Asia",
         "East Asia & Pacific"
        ],
        [
         "Yemen",
         "Middle East and Northern Africa",
         null
        ],
        [
         "Zambia",
         "Sub-Saharan Africa",
         "Sub-Saharan Africa"
        ],
        [
         "Zimbabwe",
         "Sub-Saharan Africa",
         "Sub-Saharan Africa"
        ]
       ],
       "datasetInfos": [],
       "dbfsResultPath": null,
       "isJsonSchema": true,
       "metadata": {},
       "overflow": false,
       "plotOptions": {
        "customPlotOptions": {},
        "displayType": "table",
        "pivotAggregation": null,
        "pivotColumns": null,
        "xColumns": null,
        "yColumns": null
       },
       "removedWidgets": [],
       "schema": [
        {
         "metadata": "{}",
         "name": "country",
         "type": "\"string\""
        },
        {
         "metadata": "{}",
         "name": "region",
         "type": "\"string\""
        },
        {
         "metadata": "{}",
         "name": "region_life_expectancy",
         "type": "\"string\""
        }
       ],
       "type": "table"
      }
     },
     "output_type": "display_data"
    }
   ],
   "source": [
    "# Visualizando o df_region_combined\n",
    "display(df_region_combined)"
   ]
  },
  {
   "cell_type": "markdown",
   "metadata": {
    "application/vnd.databricks.v1+cell": {
     "cellMetadata": {
      "byteLimit": 2048000,
      "rowLimit": 10000
     },
     "inputWidgets": {},
     "nuid": "2b46500a-8ff0-4899-8b03-c4ff1cb6a029",
     "showTitle": false,
     "title": ""
    }
   },
   "source": [
    "Precisamos combinar as colunas de região dos dois dfs"
   ]
  },
  {
   "cell_type": "code",
   "execution_count": 0,
   "metadata": {
    "application/vnd.databricks.v1+cell": {
     "cellMetadata": {
      "byteLimit": 2048000,
      "rowLimit": 10000
     },
     "inputWidgets": {},
     "nuid": "57f79d8b-9e14-4531-8e2a-783a1744e431",
     "showTitle": false,
     "title": ""
    }
   },
   "outputs": [],
   "source": [
    "from pyspark.sql.functions import coalesce\n",
    "\n",
    "df_region_combined = df_region_combined.withColumn('region_world', coalesce(df_region_combined[1], df_region_combined[2]))"
   ]
  },
  {
   "cell_type": "markdown",
   "metadata": {
    "application/vnd.databricks.v1+cell": {
     "cellMetadata": {
      "byteLimit": 2048000,
      "rowLimit": 10000
     },
     "inputWidgets": {},
     "nuid": "52ecad6b-8936-448a-9619-59aa3b9d515c",
     "showTitle": false,
     "title": ""
    }
   },
   "source": [
    "Vamos verificar que não temos países duplicados na base"
   ]
  },
  {
   "cell_type": "code",
   "execution_count": 0,
   "metadata": {
    "application/vnd.databricks.v1+cell": {
     "cellMetadata": {
      "byteLimit": 2048000,
      "rowLimit": 10000
     },
     "inputWidgets": {},
     "nuid": "4c645880-74e7-4951-b6c9-096bbff1defe",
     "showTitle": false,
     "title": ""
    }
   },
   "outputs": [
    {
     "output_type": "stream",
     "name": "stdout",
     "output_type": "stream",
     "text": [
      "+------------+-----+\n|     country|count|\n+------------+-----+\n|        Chad|    1|\n|    Paraguay|    1|\n|      Russia|    1|\n|       Yemen|    1|\n|     Senegal|    1|\n|      Sweden|    1|\n|    Kiribati|    1|\n|      Guyana|    1|\n|North Cyprus|    1|\n|     Eritrea|    1|\n+------------+-----+\nonly showing top 10 rows\n\n"
     ]
    }
   ],
   "source": [
    "from pyspark.sql.functions import col\n",
    "\n",
    "# Agrupando o df pelo campo de country e ordenando de forma decrecsente para que os países que aparecem em mais que uma linha fiquem no início do df_value_counts\n",
    "df_value_counts = df_region_combined.groupBy(\"country\").count().orderBy(col(\"count\").desc())\n",
    "\n",
    "# Exibir o DataFrame resultante\n",
    "df_value_counts.show(10)\n"
   ]
  },
  {
   "cell_type": "markdown",
   "metadata": {
    "application/vnd.databricks.v1+cell": {
     "cellMetadata": {
      "byteLimit": 2048000,
      "rowLimit": 10000
     },
     "inputWidgets": {},
     "nuid": "a3e1080c-6e48-4f24-bf56-3a383ac09a24",
     "showTitle": false,
     "title": ""
    }
   },
   "source": [
    "Como podemos ver não temos duplicidade de países no dataframe de regiões que criamos."
   ]
  },
  {
   "cell_type": "code",
   "execution_count": 0,
   "metadata": {
    "application/vnd.databricks.v1+cell": {
     "cellMetadata": {
      "byteLimit": 2048000,
      "rowLimit": 10000
     },
     "inputWidgets": {},
     "nuid": "64d83206-7ad6-4f83-8e86-74eb7b4aea73",
     "showTitle": false,
     "title": ""
    }
   },
   "outputs": [],
   "source": [
    "df_region_combined = df_region_combined['country', 'region_world']"
   ]
  },
  {
   "cell_type": "markdown",
   "metadata": {
    "application/vnd.databricks.v1+cell": {
     "cellMetadata": {
      "byteLimit": 2048000,
      "rowLimit": 10000
     },
     "inputWidgets": {},
     "nuid": "064f086f-2be0-4c43-b546-c7710b6b3441",
     "showTitle": false,
     "title": ""
    }
   },
   "source": [
    "##### Criando o dataframe de ano"
   ]
  },
  {
   "cell_type": "code",
   "execution_count": 0,
   "metadata": {
    "application/vnd.databricks.v1+cell": {
     "cellMetadata": {
      "byteLimit": 2048000,
      "rowLimit": 10000
     },
     "inputWidgets": {},
     "nuid": "92f7f730-d259-4749-9fb7-3947498b9e38",
     "showTitle": false,
     "title": ""
    }
   },
   "outputs": [
    {
     "output_type": "display_data",
     "data": {
      "text/html": [
       "<style scoped>\n",
       "  .table-result-container {\n",
       "    max-height: 300px;\n",
       "    overflow: auto;\n",
       "  }\n",
       "  table, th, td {\n",
       "    border: 1px solid black;\n",
       "    border-collapse: collapse;\n",
       "  }\n",
       "  th, td {\n",
       "    padding: 5px;\n",
       "  }\n",
       "  th {\n",
       "    text-align: left;\n",
       "  }\n",
       "</style><div class='table-result-container'><table class='table-result'><thead style='background-color: white'><tr><th>year</th></tr></thead><tbody><tr><td>2003</td></tr><tr><td>2007</td></tr><tr><td>2018</td></tr><tr><td>2015</td></tr><tr><td>2006</td></tr><tr><td>2013</td></tr><tr><td>2014</td></tr><tr><td>2019</td></tr><tr><td>2004</td></tr><tr><td>2012</td></tr><tr><td>2009</td></tr><tr><td>2016</td></tr><tr><td>2001</td></tr><tr><td>2005</td></tr><tr><td>2010</td></tr><tr><td>2011</td></tr><tr><td>2008</td></tr><tr><td>2017</td></tr><tr><td>2002</td></tr></tbody></table></div>"
      ]
     },
     "metadata": {
      "application/vnd.databricks.v1+output": {
       "addedWidgets": {},
       "aggData": [],
       "aggError": "",
       "aggOverflow": false,
       "aggSchema": [],
       "aggSeriesLimitReached": false,
       "aggType": "",
       "arguments": {},
       "columnCustomDisplayInfos": {},
       "data": [
        [
         2003
        ],
        [
         2007
        ],
        [
         2018
        ],
        [
         2015
        ],
        [
         2006
        ],
        [
         2013
        ],
        [
         2014
        ],
        [
         2019
        ],
        [
         2004
        ],
        [
         2012
        ],
        [
         2009
        ],
        [
         2016
        ],
        [
         2001
        ],
        [
         2005
        ],
        [
         2010
        ],
        [
         2011
        ],
        [
         2008
        ],
        [
         2017
        ],
        [
         2002
        ]
       ],
       "datasetInfos": [],
       "dbfsResultPath": null,
       "isJsonSchema": true,
       "metadata": {},
       "overflow": false,
       "plotOptions": {
        "customPlotOptions": {},
        "displayType": "table",
        "pivotAggregation": null,
        "pivotColumns": null,
        "xColumns": null,
        "yColumns": null
       },
       "removedWidgets": [],
       "schema": [
        {
         "metadata": "{}",
         "name": "year",
         "type": "\"integer\""
        }
       ],
       "type": "table"
      }
     },
     "output_type": "display_data"
    }
   ],
   "source": [
    "# Ficando apenas com a coluna de year\n",
    "df_year = df_life_expectancy_renamed.select('year') \n",
    "\n",
    "# Tirando a duplicidade, pois temos diversos países nessa base e um ano aparece em mais que uma linha\n",
    "df_year = df_year.drop_duplicates()\n",
    "display(df_year)"
   ]
  },
  {
   "cell_type": "markdown",
   "metadata": {
    "application/vnd.databricks.v1+cell": {
     "cellMetadata": {
      "byteLimit": 2048000,
      "rowLimit": 10000
     },
     "inputWidgets": {},
     "nuid": "4f6d3e8e-f9e0-48dc-bec1-04a86906e4da",
     "showTitle": false,
     "title": ""
    }
   },
   "source": [
    "##### Retirando colunas"
   ]
  },
  {
   "cell_type": "markdown",
   "metadata": {
    "application/vnd.databricks.v1+cell": {
     "cellMetadata": {
      "byteLimit": 2048000,
      "rowLimit": 10000
     },
     "inputWidgets": {},
     "nuid": "2f2ec2d7-7a17-4969-b959-bb3d98bd1f38",
     "showTitle": false,
     "title": ""
    }
   },
   "source": [
    "Perceba que os dfs do the world hapiness report dos anos de 2015 à 2017 possuem 3 ou 4 colunas a mais. Precisamos tratar as diferenças antes de consolidar as informações em um df único"
   ]
  },
  {
   "cell_type": "code",
   "execution_count": 0,
   "metadata": {
    "application/vnd.databricks.v1+cell": {
     "cellMetadata": {
      "byteLimit": 2048000,
      "rowLimit": 10000
     },
     "inputWidgets": {},
     "nuid": "6bc9c4c3-afde-4819-978a-64af1f8b9c4f",
     "showTitle": false,
     "title": ""
    }
   },
   "outputs": [],
   "source": [
    "\n",
    "# Deletando colunas de intervalo de confiança\n",
    "df_world_happiness_report_2017_renamed = df_world_happiness_report_2017_renamed.drop('Whisker.high','Whisker.low')\n",
    "\n",
    "# Deletando colunas de intervalo de confiança e região\n",
    "df_world_happiness_report_2016_renamed = df_world_happiness_report_2016_renamed.drop('Lower Confidence Interval','Upper Confidence Interval', 'region')\n",
    "\n",
    "# Deletando coluna de desvio padrão e região\n",
    "df_world_happiness_report_2015_renamed = df_world_happiness_report_2015_renamed.drop('Standard Error', 'region')\n",
    "\n",
    "# Deletando coluna de região\n",
    "df_life_expectancy_renamed = df_life_expectancy_renamed.drop('region_life_expectancy')\n",
    "\n",
    "# Deletando coluna de região\n",
    "df_region_combined = df_region_combined.drop('region', 'region_life_expectancy')\n",
    "\n",
    "# Deletando coluna de dystopia_residual, não vamos utilizá-la\n",
    "df_world_happiness_report_2019_renamed = df_world_happiness_report_2019_renamed.drop('dystopia_residual')\n",
    "df_world_happiness_report_2018_renamed = df_world_happiness_report_2018_renamed.drop('dystopia_residual')\n",
    "df_world_happiness_report_2017_renamed = df_world_happiness_report_2017_renamed.drop('dystopia_residual')\n",
    "df_world_happiness_report_2016_renamed = df_world_happiness_report_2016_renamed.drop('dystopia_residual')\n",
    "df_world_happiness_report_2015_renamed = df_world_happiness_report_2015_renamed.drop('dystopia_residual')\n"
   ]
  },
  {
   "cell_type": "markdown",
   "metadata": {
    "application/vnd.databricks.v1+cell": {
     "cellMetadata": {
      "byteLimit": 2048000,
      "rowLimit": 10000
     },
     "inputWidgets": {},
     "nuid": "113108a9-253b-466b-9767-18450ef0dd65",
     "showTitle": false,
     "title": ""
    }
   },
   "source": [
    "##### Adicionando colunas"
   ]
  },
  {
   "cell_type": "code",
   "execution_count": 0,
   "metadata": {
    "application/vnd.databricks.v1+cell": {
     "cellMetadata": {
      "byteLimit": 2048000,
      "rowLimit": 10000
     },
     "inputWidgets": {},
     "nuid": "8b6e8ea2-c5cc-4869-a301-347260db0a09",
     "showTitle": false,
     "title": ""
    }
   },
   "outputs": [],
   "source": [
    "# Importando biblioteca para preencher coluna nova\n",
    "from pyspark.sql.functions import lit\n",
    "\n",
    "# Antes de juntar os dfs tratados de cada ano precisamos adicionar uma coluna de ano \n",
    "df_world_happiness_report_2019_renamed = df_world_happiness_report_2019_renamed.withColumn('year', lit(2019))\n",
    "df_world_happiness_report_2018_renamed = df_world_happiness_report_2018_renamed.withColumn('year', lit(2018))\n",
    "df_world_happiness_report_2017_renamed = df_world_happiness_report_2017_renamed.withColumn('year', lit(2017))\n",
    "df_world_happiness_report_2016_renamed = df_world_happiness_report_2016_renamed.withColumn('year', lit(2016))\n",
    "df_world_happiness_report_2015_renamed = df_world_happiness_report_2015_renamed.withColumn('year', lit(2015))"
   ]
  },
  {
   "cell_type": "markdown",
   "metadata": {
    "application/vnd.databricks.v1+cell": {
     "cellMetadata": {
      "byteLimit": 2048000,
      "rowLimit": 10000
     },
     "inputWidgets": {},
     "nuid": "c275f535-c380-444a-afe2-d111c61f0375",
     "showTitle": false,
     "title": ""
    }
   },
   "source": [
    "##### Alterando o tipo da coluna "
   ]
  },
  {
   "cell_type": "markdown",
   "metadata": {
    "application/vnd.databricks.v1+cell": {
     "cellMetadata": {
      "byteLimit": 2048000,
      "rowLimit": 10000
     },
     "inputWidgets": {},
     "nuid": "cce6c81e-e87a-4070-97de-1005d489d4f8",
     "showTitle": false,
     "title": ""
    }
   },
   "source": [
    "A coluna perceptions_of_corruption está com string em alguns dfs e como double em outros, precisamos que todas estejam como double"
   ]
  },
  {
   "cell_type": "code",
   "execution_count": 0,
   "metadata": {
    "application/vnd.databricks.v1+cell": {
     "cellMetadata": {
      "byteLimit": 2048000,
      "rowLimit": 10000
     },
     "inputWidgets": {},
     "nuid": "0b33cbca-bc2c-4010-a783-9d5a11fbdf00",
     "showTitle": false,
     "title": ""
    }
   },
   "outputs": [],
   "source": [
    "# Supondo que seu DataFrame se chame df e a coluna se chame perceptions_of_corruption\n",
    "df_world_happiness_report_2018_renamed = df_world_happiness_report_2018_renamed.withColumn(\"perceptions_of_corruption\", col(\"perceptions_of_corruption\").cast(\"double\"))"
   ]
  },
  {
   "cell_type": "markdown",
   "metadata": {
    "application/vnd.databricks.v1+cell": {
     "cellMetadata": {
      "byteLimit": 2048000,
      "rowLimit": 10000
     },
     "inputWidgets": {},
     "nuid": "568638bd-f540-46cf-bfa6-5865ea6abcea",
     "showTitle": false,
     "title": ""
    }
   },
   "source": [
    "##### Juntando bases tratadas do Like World Happiness Report"
   ]
  },
  {
   "cell_type": "markdown",
   "metadata": {
    "application/vnd.databricks.v1+cell": {
     "cellMetadata": {
      "byteLimit": 2048000,
      "rowLimit": 10000
     },
     "inputWidgets": {},
     "nuid": "12d86e3d-8b06-4c56-8676-83e1644c4643",
     "showTitle": false,
     "title": ""
    }
   },
   "source": [
    "Vamos reordenar as colunas para todos os dfs ficarem com a mesma ordem"
   ]
  },
  {
   "cell_type": "code",
   "execution_count": 0,
   "metadata": {
    "application/vnd.databricks.v1+cell": {
     "cellMetadata": {
      "byteLimit": 2048000,
      "rowLimit": 10000
     },
     "inputWidgets": {},
     "nuid": "d66c2e5b-2cd2-497f-932c-34388f7394d5",
     "showTitle": false,
     "title": ""
    }
   },
   "outputs": [],
   "source": [
    "# Nova ordem das colunas\n",
    "new_column_order = [\n",
    "    \"country\",  # Primeiro coluna\n",
    "    \"year\",\n",
    "    \"overall_rank\",\n",
    "    \"happiness_score\",\n",
    "    \"gpd_per_capita\",\n",
    "    \"social_support\",\n",
    "    \"healthy_life_expectancy\",\n",
    "    \"freedom_to_make_life_choices\",\n",
    "    \"generosity\",\n",
    "    \"perceptions_of_corruption\",\n",
    "]\n",
    "\n",
    "# Reordenar as colunas usando o método select\n",
    "df_world_happiness_report_2019_renamed = df_world_happiness_report_2019_renamed.select(new_column_order)\n",
    "df_world_happiness_report_2018_renamed = df_world_happiness_report_2018_renamed.select(new_column_order)\n",
    "df_world_happiness_report_2017_renamed = df_world_happiness_report_2017_renamed.select(new_column_order)\n",
    "df_world_happiness_report_2016_renamed = df_world_happiness_report_2016_renamed.select(new_column_order)\n",
    "df_world_happiness_report_2015_renamed = df_world_happiness_report_2015_renamed.select(new_column_order)"
   ]
  },
  {
   "cell_type": "code",
   "execution_count": 0,
   "metadata": {
    "application/vnd.databricks.v1+cell": {
     "cellMetadata": {
      "byteLimit": 2048000,
      "rowLimit": 10000
     },
     "inputWidgets": {},
     "nuid": "95abe85f-052c-4aa9-8597-6ea833be3164",
     "showTitle": false,
     "title": ""
    }
   },
   "outputs": [
    {
     "output_type": "display_data",
     "data": {
      "application/vnd.databricks.v1+bamboolib_hint": "{\"pd.DataFrames\": [], \"version\": \"0.0.1\"}",
      "text/plain": []
     },
     "metadata": {},
     "output_type": "display_data"
    },
    {
     "output_type": "stream",
     "name": "stdout",
     "output_type": "stream",
     "text": [
      "DataFrame[country: string, year: int, overall_rank: int, happiness_score: double, gpd_per_capita: double, social_support: double, healthy_life_expectancy: double, freedom_to_make_life_choices: double, generosity: double, perceptions_of_corruption: double]\n"
     ]
    }
   ],
   "source": [
    "# Juntando os dfs tratados de cada ano \n",
    "import pandas as pd\n",
    "\n",
    "df_world_happiness_report = df_world_happiness_report_2019_renamed.union(df_world_happiness_report_2018_renamed).union(df_world_happiness_report_2017_renamed).union(df_world_happiness_report_2016_renamed).union(df_world_happiness_report_2015_renamed)\n",
    "\n",
    "print(df_world_happiness_report)"
   ]
  },
  {
   "cell_type": "markdown",
   "metadata": {
    "application/vnd.databricks.v1+cell": {
     "cellMetadata": {
      "byteLimit": 2048000,
      "rowLimit": 10000
     },
     "inputWidgets": {},
     "nuid": "dd8b7134-550e-42f7-b6d6-5e9bd3fb7a44",
     "showTitle": false,
     "title": ""
    }
   },
   "source": [
    "##### Criando e populando as tabelas da camada silver "
   ]
  },
  {
   "cell_type": "markdown",
   "metadata": {
    "application/vnd.databricks.v1+cell": {
     "cellMetadata": {
      "byteLimit": 2048000,
      "rowLimit": 10000
     },
     "inputWidgets": {},
     "nuid": "98dc7567-1dac-4f06-8005-3990a85e02fd",
     "showTitle": false,
     "title": ""
    }
   },
   "source": [
    "Os nomes finais dos dfs são:\n",
    "\n",
    "*  df_world_happiness_report\n",
    "*  df_life_expectancy_renamed\n",
    "*  df_region_combined\n",
    "*  df_year"
   ]
  },
  {
   "cell_type": "code",
   "execution_count": 0,
   "metadata": {
    "application/vnd.databricks.v1+cell": {
     "cellMetadata": {
      "byteLimit": 2048000,
      "rowLimit": 10000
     },
     "inputWidgets": {},
     "nuid": "33b9fd15-c4bb-427c-9c97-45c32e3c3656",
     "showTitle": false,
     "title": ""
    }
   },
   "outputs": [],
   "source": [
    "# Criando as tabelas da camada SILVER\n",
    "\n",
    "permanent_table_name = \"tb_world_happiness_report_silver\"\n",
    "df_world_happiness_report.write.format(\"parquet\").saveAsTable(permanent_table_name)\n",
    "permanent_table_name = \"tb_life_expectancy_silver\"\n",
    "df_life_expectancy_renamed.write.format(\"parquet\").saveAsTable(permanent_table_name)\n",
    "permanent_table_name = \"tb_region_silver\"\n",
    "df_region_combined.write.format(\"parquet\").saveAsTable(permanent_table_name)\n",
    "permanent_table_name = \"tb_year_silver\"\n",
    "df_year.write.format(\"parquet\").saveAsTable(permanent_table_name)"
   ]
  },
  {
   "cell_type": "markdown",
   "metadata": {
    "application/vnd.databricks.v1+cell": {
     "cellMetadata": {},
     "inputWidgets": {},
     "nuid": "1ecb8d4c-99c5-48d2-9a14-dd4ba9904d7f",
     "showTitle": false,
     "title": ""
    }
   },
   "source": [
    "Vendo como estão as tabelas da camada Silver"
   ]
  },
  {
   "cell_type": "code",
   "execution_count": 0,
   "metadata": {
    "application/vnd.databricks.v1+cell": {
     "cellMetadata": {
      "byteLimit": 2048000,
      "implicitDf": true,
      "rowLimit": 10000
     },
     "inputWidgets": {},
     "nuid": "f5d0dd43-95eb-406a-b0aa-572691a9b6f5",
     "showTitle": false,
     "title": ""
    }
   },
   "outputs": [
    {
     "output_type": "display_data",
     "data": {
      "text/html": [
       "<style scoped>\n",
       "  .table-result-container {\n",
       "    max-height: 300px;\n",
       "    overflow: auto;\n",
       "  }\n",
       "  table, th, td {\n",
       "    border: 1px solid black;\n",
       "    border-collapse: collapse;\n",
       "  }\n",
       "  th, td {\n",
       "    padding: 5px;\n",
       "  }\n",
       "  th {\n",
       "    text-align: left;\n",
       "  }\n",
       "</style><div class='table-result-container'><table class='table-result'><thead style='background-color: white'><tr><th>country</th><th>year</th><th>overall_rank</th><th>happiness_score</th><th>gpd_per_capita</th><th>social_support</th><th>healthy_life_expectancy</th><th>freedom_to_make_life_choices</th><th>generosity</th><th>perceptions_of_corruption</th></tr></thead><tbody><tr><td>Switzerland</td><td>2015</td><td>1</td><td>7.587</td><td>1.39651</td><td>1.34951</td><td>0.94143</td><td>0.66557</td><td>0.29678</td><td>0.41978</td></tr><tr><td>Iceland</td><td>2015</td><td>2</td><td>7.561</td><td>1.30232</td><td>1.40223</td><td>0.94784</td><td>0.62877</td><td>0.4363</td><td>0.14145</td></tr><tr><td>Denmark</td><td>2015</td><td>3</td><td>7.527</td><td>1.32548</td><td>1.36058</td><td>0.87464</td><td>0.64938</td><td>0.34139</td><td>0.48357</td></tr><tr><td>Norway</td><td>2015</td><td>4</td><td>7.522</td><td>1.459</td><td>1.33095</td><td>0.88521</td><td>0.66973</td><td>0.34699</td><td>0.36503</td></tr></tbody></table></div>"
      ]
     },
     "metadata": {
      "application/vnd.databricks.v1+output": {
       "addedWidgets": {},
       "aggData": [],
       "aggError": "",
       "aggOverflow": false,
       "aggSchema": [],
       "aggSeriesLimitReached": false,
       "aggType": "",
       "arguments": {},
       "columnCustomDisplayInfos": {},
       "data": [
        [
         "Switzerland",
         2015,
         1,
         7.587,
         1.39651,
         1.34951,
         0.94143,
         0.66557,
         0.29678,
         0.41978
        ],
        [
         "Iceland",
         2015,
         2,
         7.561,
         1.30232,
         1.40223,
         0.94784,
         0.62877,
         0.4363,
         0.14145
        ],
        [
         "Denmark",
         2015,
         3,
         7.527,
         1.32548,
         1.36058,
         0.87464,
         0.64938,
         0.34139,
         0.48357
        ],
        [
         "Norway",
         2015,
         4,
         7.522,
         1.459,
         1.33095,
         0.88521,
         0.66973,
         0.34699,
         0.36503
        ]
       ],
       "datasetInfos": [],
       "dbfsResultPath": null,
       "isJsonSchema": true,
       "metadata": {},
       "overflow": false,
       "plotOptions": {
        "customPlotOptions": {},
        "displayType": "table",
        "pivotAggregation": null,
        "pivotColumns": null,
        "xColumns": null,
        "yColumns": null
       },
       "removedWidgets": [],
       "schema": [
        {
         "metadata": "{\"comment\":\"The name of the country\"}",
         "name": "country",
         "type": "\"string\""
        },
        {
         "metadata": "{\"comment\":\"The year of the report\"}",
         "name": "year",
         "type": "\"integer\""
        },
        {
         "metadata": "{\"comment\":\"Rank of the country based on the Happiness Score\"}",
         "name": "overall_rank",
         "type": "\"integer\""
        },
        {
         "metadata": "{\"comment\":\"The happiness score of the country\"}",
         "name": "happiness_score",
         "type": "\"double\""
        },
        {
         "metadata": "{\"comment\":\"The extent to which GDP contributes to the calculation of the Happiness Score\"}",
         "name": "gpd_per_capita",
         "type": "\"double\""
        },
        {
         "metadata": "{\"comment\":\"The extent to which Family contributes to the calculation of the Happiness Score\"}",
         "name": "social_support",
         "type": "\"double\""
        },
        {
         "metadata": "{\"comment\":\"The extent to which Life expectancy contributed to the calculation of the Happiness Score\"}",
         "name": "healthy_life_expectancy",
         "type": "\"double\""
        },
        {
         "metadata": "{\"comment\":\"The extent to which Freedom contributed to the calculation of the Happiness Score\"}",
         "name": "freedom_to_make_life_choices",
         "type": "\"double\""
        },
        {
         "metadata": "{\"comment\":\"The extent to which Generosity contributed to the calculation of the Happiness Score\"}",
         "name": "generosity",
         "type": "\"double\""
        },
        {
         "metadata": "{\"comment\":\"The extent to which Perception of Corruption contributes to Happiness Score\"}",
         "name": "perceptions_of_corruption",
         "type": "\"double\""
        }
       ],
       "type": "table"
      }
     },
     "output_type": "display_data"
    }
   ],
   "source": [
    "%sql\n",
    "select    *     from `tb_world_happiness_report_silver`\n",
    "limit 4"
   ]
  },
  {
   "cell_type": "code",
   "execution_count": 0,
   "metadata": {
    "application/vnd.databricks.v1+cell": {
     "cellMetadata": {
      "byteLimit": 2048000,
      "implicitDf": true,
      "rowLimit": 10000
     },
     "inputWidgets": {},
     "nuid": "14385a38-f47f-4901-adaf-04a68c8487c6",
     "showTitle": false,
     "title": ""
    }
   },
   "outputs": [
    {
     "output_type": "display_data",
     "data": {
      "text/html": [
       "<style scoped>\n",
       "  .table-result-container {\n",
       "    max-height: 300px;\n",
       "    overflow: auto;\n",
       "  }\n",
       "  table, th, td {\n",
       "    border: 1px solid black;\n",
       "    border-collapse: collapse;\n",
       "  }\n",
       "  th, td {\n",
       "    padding: 5px;\n",
       "  }\n",
       "  th {\n",
       "    text-align: left;\n",
       "  }\n",
       "</style><div class='table-result-container'><table class='table-result'><thead style='background-color: white'><tr><th>country</th><th>country_code</th><th>income_group</th><th>year</th><th>life_expectancy_world_bank</th><th>prevelance_of_undernourishment</th><th>co2</th><th>health_expenditure</th><th>education_expenditure</th><th>unemployment</th><th>corruption</th><th>sanitation</th><th>injuries</th><th>communicable_diseases</th><th>non_communicable_diseases</th></tr></thead><tbody><tr><td>Afghanistan</td><td>AFG</td><td>Low income</td><td>2001</td><td>56.308</td><td>47.8</td><td>730.0</td><td>null</td><td>null</td><td>10.8090000152588</td><td>null</td><td>null</td><td>2179727.1</td><td>9689193.7</td><td>5795426.38</td></tr><tr><td>Angola</td><td>AGO</td><td>Lower middle income</td><td>2001</td><td>47.059</td><td>67.5</td><td>15960.0</td><td>4.48351622</td><td>null</td><td>4.00400018692017</td><td>null</td><td>null</td><td>1392080.71</td><td>1.119021053E7</td><td>2663516.34</td></tr><tr><td>Albania</td><td>ALB</td><td>Upper middle income</td><td>2001</td><td>74.288</td><td>4.9</td><td>3230.0</td><td>7.13952398</td><td>3.45869994163513</td><td>18.5750007629395</td><td>null</td><td>40.52089533</td><td>117081.67</td><td>140894.78</td><td>532324.75</td></tr><tr><td>Andorra</td><td>AND</td><td>High income</td><td>2001</td><td>null</td><td>null</td><td>520.0</td><td>5.86593914</td><td>null</td><td>null</td><td>null</td><td>21.78866006</td><td>1697.99</td><td>695.56</td><td>13636.64</td></tr></tbody></table></div>"
      ]
     },
     "metadata": {
      "application/vnd.databricks.v1+output": {
       "addedWidgets": {},
       "aggData": [],
       "aggError": "",
       "aggOverflow": false,
       "aggSchema": [],
       "aggSeriesLimitReached": false,
       "aggType": "",
       "arguments": {},
       "columnCustomDisplayInfos": {},
       "data": [
        [
         "Afghanistan",
         "AFG",
         "Low income",
         2001,
         56.308,
         47.8,
         730.0,
         null,
         null,
         10.8090000152588,
         null,
         null,
         2179727.1,
         9689193.7,
         5795426.38
        ],
        [
         "Angola",
         "AGO",
         "Lower middle income",
         2001,
         47.059,
         67.5,
         15960.0,
         4.48351622,
         null,
         4.00400018692017,
         null,
         null,
         1392080.71,
         1.119021053E7,
         2663516.34
        ],
        [
         "Albania",
         "ALB",
         "Upper middle income",
         2001,
         74.288,
         4.9,
         3230.0,
         7.13952398,
         3.45869994163513,
         18.5750007629395,
         null,
         40.52089533,
         117081.67,
         140894.78,
         532324.75
        ],
        [
         "Andorra",
         "AND",
         "High income",
         2001,
         null,
         null,
         520.0,
         5.86593914,
         null,
         null,
         null,
         21.78866006,
         1697.99,
         695.56,
         13636.64
        ]
       ],
       "datasetInfos": [],
       "dbfsResultPath": null,
       "isJsonSchema": true,
       "metadata": {},
       "overflow": false,
       "plotOptions": {
        "customPlotOptions": {},
        "displayType": "table",
        "pivotAggregation": null,
        "pivotColumns": null,
        "xColumns": null,
        "yColumns": null
       },
       "removedWidgets": [],
       "schema": [
        {
         "metadata": "{\"comment\":\"The name of the country\"}",
         "name": "country",
         "type": "\"string\""
        },
        {
         "metadata": "{\"comment\":\"The 3-letter code of the country\"}",
         "name": "country_code",
         "type": "\"string\""
        },
        {
         "metadata": "{\"comment\":\"The country`s income class\"}",
         "name": "income_group",
         "type": "\"string\""
        },
        {
         "metadata": "{\"comment\":\"The year of the report\"}",
         "name": "year",
         "type": "\"integer\""
        },
        {
         "metadata": "{\"comment\":\"The average number of years a newborn infant would live if prevailing patterns of mortality at the time of its birth were to stay the same throughout its life\"}",
         "name": "life_expectancy_world_bank",
         "type": "\"double\""
        },
        {
         "metadata": "{\"comment\":\"The percentage of the population whose habitual food consumption is insufficient to provide the dietary\"}",
         "name": "prevelance_of_undernourishment",
         "type": "\"double\""
        },
        {
         "metadata": "{\"comment\":\"Carbon dioxide emissions are those stemming from the burning of fossil fuels and the manufacture of cement. They include carbon dioxide produced during the consumption of solid, liquid, and gas fuels and gas flaring\"}",
         "name": "co2",
         "type": "\"double\""
        },
        {
         "metadata": "{\"comment\":\"Level of current health expenditure expressed as a percentage of GDP. Estimates of current health expenditures include healthcare goods and services consumed during each year. This indicator does not include capital health expenditures such as buildings,machinery, IT, and stocks of vaccines for emergencies or outbreaks\"}",
         "name": "health_expenditure",
         "type": "\"double\""
        },
        {
         "metadata": "{\"comment\":\"General government expenditure on education (current, capital, and transfers) is expressed as a percentage of GDP. It includes expenditures funded by transfers from international sources to the government. General government usually refers to local, regional, and central governments\"}",
         "name": "education_expenditure",
         "type": "\"double\""
        },
        {
         "metadata": "{\"comment\":\"Unemployment refers to the % share of the labor force that is without work but available for and seeking employment\"}",
         "name": "unemployment",
         "type": "\"double\""
        },
        {
         "metadata": "{\"comment\":\"Corruption (CPIA rating) - Transparency, accountability, and corruption in the public sector assets the extent to which the executive can be held accountable for its use of funds and for the results of its actions by the electorate and by the legislature and judiciary, and the extent to which public employees within the executive are required to account for administrative decisions, use of resources, and results obtained\"}",
         "name": "corruption",
         "type": "\"double\""
        },
        {
         "metadata": "{\"comment\":\"The percentage of people using improved sanitation facilities that are not shared with other households and where excreta are safely disposed of in situ or transported and treated offsite. Improved sanitation facilities include flush/pour flush to piped sewer systems, septic tanks, or pit latrines: ventilated improved pit latrines, compositing toilets, or pit latrines with slabs\"}",
         "name": "sanitation",
         "type": "\"double\""
        },
        {
         "metadata": "{\"comment\":\"Disability-Adjusted Life Years (DALYs) due to Injuries - One DALY represents the loss of the equivalent of one year of full health. DALYs for an injury or health condition is the sum of the years of life lost due to premature mortality (YLLs) and the years lived with a disability (YLDs) due to prevalent cases of the disease in a population\"}",
         "name": "injuries",
         "type": "\"double\""
        },
        {
         "metadata": "{\"comment\":\"Disability-Adjusted Life Years (DALYs) due to Communicable diseases - One DALY represents the loss of the equivalent of one year of full health. DALYs for a communicable disease or health condition is the sum of the years of life lost due to premature mortality (YLLs) and the years lived with a disability (YLDs) due to prevalent cases of the disease in a population\"}",
         "name": "communicable_diseases",
         "type": "\"double\""
        },
        {
         "metadata": "{\"comment\":\"Disability-Adjusted Life Years (DALYs) due to Non-Communicable diseases - One DALY represents the loss of the equivalent of one year of full health. DALYs for a non-communicable disease or health condition is the sum of the years of life lost due to premature mortality (YLLs) and the years lived with a disability (YLDs) due to prevalent cases of the disease in a population\"}",
         "name": "non_communicable_diseases",
         "type": "\"double\""
        }
       ],
       "type": "table"
      }
     },
     "output_type": "display_data"
    }
   ],
   "source": [
    "%sql\n",
    "select    *     from `tb_life_expectancy_silver`\n",
    "limit 4"
   ]
  },
  {
   "cell_type": "code",
   "execution_count": 0,
   "metadata": {
    "application/vnd.databricks.v1+cell": {
     "cellMetadata": {
      "byteLimit": 2048000,
      "implicitDf": true,
      "rowLimit": 10000
     },
     "inputWidgets": {},
     "nuid": "b50e50fa-0e23-46e6-8e96-328552cf8a0c",
     "showTitle": false,
     "title": ""
    }
   },
   "outputs": [
    {
     "output_type": "display_data",
     "data": {
      "text/html": [
       "<style scoped>\n",
       "  .table-result-container {\n",
       "    max-height: 300px;\n",
       "    overflow: auto;\n",
       "  }\n",
       "  table, th, td {\n",
       "    border: 1px solid black;\n",
       "    border-collapse: collapse;\n",
       "  }\n",
       "  th, td {\n",
       "    padding: 5px;\n",
       "  }\n",
       "  th {\n",
       "    text-align: left;\n",
       "  }\n",
       "</style><div class='table-result-container'><table class='table-result'><thead style='background-color: white'><tr><th>country</th><th>region_world</th></tr></thead><tbody><tr><td>Afghanistan</td><td>Southern Asia</td></tr><tr><td>Albania</td><td>Central and Eastern Europe</td></tr><tr><td>Algeria</td><td>Middle East and Northern Africa</td></tr><tr><td>American Samoa</td><td>East Asia & Pacific</td></tr></tbody></table></div>"
      ]
     },
     "metadata": {
      "application/vnd.databricks.v1+output": {
       "addedWidgets": {},
       "aggData": [],
       "aggError": "",
       "aggOverflow": false,
       "aggSchema": [],
       "aggSeriesLimitReached": false,
       "aggType": "",
       "arguments": {},
       "columnCustomDisplayInfos": {},
       "data": [
        [
         "Afghanistan",
         "Southern Asia"
        ],
        [
         "Albania",
         "Central and Eastern Europe"
        ],
        [
         "Algeria",
         "Middle East and Northern Africa"
        ],
        [
         "American Samoa",
         "East Asia & Pacific"
        ]
       ],
       "datasetInfos": [],
       "dbfsResultPath": null,
       "isJsonSchema": true,
       "metadata": {},
       "overflow": false,
       "plotOptions": {
        "customPlotOptions": {},
        "displayType": "table",
        "pivotAggregation": null,
        "pivotColumns": null,
        "xColumns": null,
        "yColumns": null
       },
       "removedWidgets": [],
       "schema": [
        {
         "metadata": "{\"comment\":\"The name of the country\"}",
         "name": "country",
         "type": "\"string\""
        },
        {
         "metadata": "{\"comment\":\"The region of the world the country is located in\"}",
         "name": "region_world",
         "type": "\"string\""
        }
       ],
       "type": "table"
      }
     },
     "output_type": "display_data"
    }
   ],
   "source": [
    "%sql\n",
    "select    *     from `tb_region_silver`\n",
    "limit 4"
   ]
  },
  {
   "cell_type": "code",
   "execution_count": 0,
   "metadata": {
    "application/vnd.databricks.v1+cell": {
     "cellMetadata": {
      "byteLimit": 2048000,
      "implicitDf": true,
      "rowLimit": 10000
     },
     "inputWidgets": {},
     "nuid": "c24ef459-ab95-44e2-9122-0998c1bfca41",
     "showTitle": false,
     "title": ""
    }
   },
   "outputs": [
    {
     "output_type": "display_data",
     "data": {
      "text/html": [
       "<style scoped>\n",
       "  .table-result-container {\n",
       "    max-height: 300px;\n",
       "    overflow: auto;\n",
       "  }\n",
       "  table, th, td {\n",
       "    border: 1px solid black;\n",
       "    border-collapse: collapse;\n",
       "  }\n",
       "  th, td {\n",
       "    padding: 5px;\n",
       "  }\n",
       "  th {\n",
       "    text-align: left;\n",
       "  }\n",
       "</style><div class='table-result-container'><table class='table-result'><thead style='background-color: white'><tr><th>year</th></tr></thead><tbody><tr><td>2003</td></tr><tr><td>2007</td></tr><tr><td>2018</td></tr><tr><td>2015</td></tr></tbody></table></div>"
      ]
     },
     "metadata": {
      "application/vnd.databricks.v1+output": {
       "addedWidgets": {},
       "aggData": [],
       "aggError": "",
       "aggOverflow": false,
       "aggSchema": [],
       "aggSeriesLimitReached": false,
       "aggType": "",
       "arguments": {},
       "columnCustomDisplayInfos": {},
       "data": [
        [
         2003
        ],
        [
         2007
        ],
        [
         2018
        ],
        [
         2015
        ]
       ],
       "datasetInfos": [],
       "dbfsResultPath": null,
       "isJsonSchema": true,
       "metadata": {},
       "overflow": false,
       "plotOptions": {
        "customPlotOptions": {},
        "displayType": "table",
        "pivotAggregation": null,
        "pivotColumns": null,
        "xColumns": null,
        "yColumns": null
       },
       "removedWidgets": [],
       "schema": [
        {
         "metadata": "{\"comment\":\"The year of the report\"}",
         "name": "year",
         "type": "\"integer\""
        }
       ],
       "type": "table"
      }
     },
     "output_type": "display_data"
    }
   ],
   "source": [
    "%sql\n",
    "select    *     from `tb_year_silver`\n",
    "limit 4"
   ]
  },
  {
   "cell_type": "markdown",
   "metadata": {
    "application/vnd.databricks.v1+cell": {
     "cellMetadata": {
      "byteLimit": 2048000,
      "rowLimit": 10000
     },
     "inputWidgets": {},
     "nuid": "6b692380-e385-4c92-b7bd-106faaa9e089",
     "showTitle": false,
     "title": ""
    }
   },
   "source": [
    "##### Adicionando a descrição de cada coluna das tabelas"
   ]
  },
  {
   "cell_type": "markdown",
   "metadata": {
    "application/vnd.databricks.v1+cell": {
     "cellMetadata": {
      "byteLimit": 2048000,
      "rowLimit": 10000
     },
     "inputWidgets": {},
     "nuid": "0e824706-425b-4764-9ac2-828607ca451a",
     "showTitle": false,
     "title": ""
    }
   },
   "source": [
    "###### tb_world_happiness_report_silver"
   ]
  },
  {
   "cell_type": "code",
   "execution_count": 0,
   "metadata": {
    "application/vnd.databricks.v1+cell": {
     "cellMetadata": {
      "byteLimit": 2048000,
      "rowLimit": 10000
     },
     "inputWidgets": {},
     "nuid": "d3ac4838-2b1c-4076-8d96-cab25c85cb45",
     "showTitle": false,
     "title": ""
    }
   },
   "outputs": [
    {
     "output_type": "stream",
     "name": "stdout",
     "output_type": "stream",
     "text": [
      "+----------------------------+--------------------------------+-----------------------------------------------------------------------------------------+\n|col_name                    |data_type                       |comment                                                                                  |\n+----------------------------+--------------------------------+-----------------------------------------------------------------------------------------+\n|country                     |string                          |The name of the country                                                                  |\n|year                        |int                             |The year of the report                                                                   |\n|overall_rank                |int                             |Rank of the country based on the Happiness Score                                         |\n|happiness_score             |double                          |The happiness score of the country                                                       |\n|gpd_per_capita              |double                          |The extent to which GDP contributes to the calculation of the Happiness Score            |\n|social_support              |double                          |The extent to which Family contributes to the calculation of the Happiness Score         |\n|healthy_life_expectancy     |double                          |The extent to which Life expectancy contributed to the calculation of the Happiness Score|\n|freedom_to_make_life_choices|double                          |The extent to which Freedom contributed to the calculation of the Happiness Score        |\n|generosity                  |double                          |The extent to which Generosity contributed to the calculation of the Happiness Score     |\n|perceptions_of_corruption   |double                          |The extent to which Perception of Corruption contributes to Happiness Score              |\n|                            |                                |                                                                                         |\n|# Detailed Table Information|                                |                                                                                         |\n|Catalog                     |spark_catalog                   |                                                                                         |\n|Database                    |default                         |                                                                                         |\n|Table                       |tb_world_happiness_report_silver|                                                                                         |\n|Owner                       |root                            |                                                                                         |\n|Created Time                |Wed Jul 10 20:57:37 UTC 2024    |                                                                                         |\n|Last Access                 |UNKNOWN                         |                                                                                         |\n|Created By                  |Spark 3.3.2                     |                                                                                         |\n|Type                        |MANAGED                         |                                                                                         |\n+----------------------------+--------------------------------+-----------------------------------------------------------------------------------------+\nonly showing top 20 rows\n\n"
     ]
    }
   ],
   "source": [
    "# Adiciona comentários às colunas\n",
    "\n",
    "table_name = \"tb_world_happiness_report_silver\"\n",
    "\n",
    "spark.sql(f\"ALTER TABLE {table_name} CHANGE COLUMN country country STRING COMMENT 'The name of the country'\")\n",
    "\n",
    "spark.sql(f\"ALTER TABLE {table_name} CHANGE COLUMN year year INT COMMENT 'The year of the report'\")\n",
    "\n",
    "spark.sql(f\"ALTER TABLE {table_name} CHANGE COLUMN happiness_score happiness_score DOUBLE COMMENT 'The happiness score of the country'\")\n",
    "\n",
    "spark.sql(f\"ALTER TABLE {table_name} CHANGE COLUMN overall_rank overall_rank INT COMMENT 'Rank of the country based on the Happiness Score'\")\n",
    "\n",
    "spark.sql(f\"ALTER TABLE {table_name} CHANGE COLUMN gpd_per_capita gpd_per_capita DOUBLE COMMENT 'The extent to which GDP contributes to the calculation of the Happiness Score'\")\n",
    "\n",
    "spark.sql(f\"ALTER TABLE {table_name} CHANGE COLUMN social_support  social_support  DOUBLE COMMENT 'The extent to which Family contributes to the calculation of the Happiness Score'\")\n",
    "\n",
    "spark.sql(f\"ALTER TABLE {table_name} CHANGE COLUMN healthy_life_expectancy  healthy_life_expectancy  DOUBLE COMMENT 'The extent to which Life expectancy contributed to the calculation of the Happiness Score'\")\n",
    "\n",
    "spark.sql(f\"ALTER TABLE {table_name} CHANGE COLUMN freedom_to_make_life_choices freedom_to_make_life_choices DOUBLE COMMENT 'The extent to which Freedom contributed to the calculation of the Happiness Score'\")\n",
    "\n",
    "spark.sql(f\"ALTER TABLE {table_name} CHANGE COLUMN generosity  generosity  DOUBLE COMMENT 'The extent to which Generosity contributed to the calculation of the Happiness Score'\")\n",
    "\n",
    "spark.sql(f\"ALTER TABLE {table_name} CHANGE COLUMN perceptions_of_corruption perceptions_of_corruption DOUBLE COMMENT 'The extent to which Perception of Corruption contributes to Happiness Score'\")\n",
    "\n",
    "\n",
    "# Verificar se os comentários foram adicionados\n",
    "desc_table = spark.sql(f\"DESCRIBE EXTENDED {table_name}\")\n",
    "desc_table.show(truncate=False)"
   ]
  },
  {
   "cell_type": "markdown",
   "metadata": {
    "application/vnd.databricks.v1+cell": {
     "cellMetadata": {
      "byteLimit": 2048000,
      "rowLimit": 10000
     },
     "inputWidgets": {},
     "nuid": "c055be50-eff8-43ab-b634-1b5f1ef6e73b",
     "showTitle": false,
     "title": ""
    }
   },
   "source": [
    "###### tb_life_expectancy_silver"
   ]
  },
  {
   "cell_type": "code",
   "execution_count": 0,
   "metadata": {
    "application/vnd.databricks.v1+cell": {
     "cellMetadata": {
      "byteLimit": 2048000,
      "rowLimit": 10000
     },
     "inputWidgets": {},
     "nuid": "3feb9c5c-32ac-47f3-87b6-7e9841b16c73",
     "showTitle": false,
     "title": ""
    }
   },
   "outputs": [
    {
     "output_type": "stream",
     "name": "stdout",
     "output_type": "stream",
     "text": [
      "+------------------------------+-------------------------+----------------------------------------------------------------------------------------------------------------------------------------------------------------------------------------------------------------------------------------------------------------------------------------------------------------------------------------------------------------------------------------------------------------------------------------+\n|col_name                      |data_type                |comment                                                                                                                                                                                                                                                                                                                                                                                                                                 |\n+------------------------------+-------------------------+----------------------------------------------------------------------------------------------------------------------------------------------------------------------------------------------------------------------------------------------------------------------------------------------------------------------------------------------------------------------------------------------------------------------------------------+\n|country                       |string                   |The name of the country                                                                                                                                                                                                                                                                                                                                                                                                                 |\n|country_code                  |string                   |The 3-letter code of the country                                                                                                                                                                                                                                                                                                                                                                                                        |\n|income_group                  |string                   |The country`s income class                                                                                                                                                                                                                                                                                                                                                                                                              |\n|year                          |int                      |The year of the report                                                                                                                                                                                                                                                                                                                                                                                                                  |\n|life_expectancy_world_bank    |double                   |The average number of years a newborn infant would live if prevailing patterns of mortality at the time of its birth were to stay the same throughout its life                                                                                                                                                                                                                                                                          |\n|prevelance_of_undernourishment|double                   |The percentage of the population whose habitual food consumption is insufficient to provide the dietary                                                                                                                                                                                                                                                                                                                                 |\n|co2                           |double                   |Carbon dioxide emissions are those stemming from the burning of fossil fuels and the manufacture of cement. They include carbon dioxide produced during the consumption of solid, liquid, and gas fuels and gas flaring                                                                                                                                                                                                                 |\n|health_expenditure            |double                   |Level of current health expenditure expressed as a percentage of GDP. Estimates of current health expenditures include healthcare goods and services consumed during each year. This indicator does not include capital health expenditures such as buildings,machinery, IT, and stocks of vaccines for emergencies or outbreaks                                                                                                        |\n|education_expenditure         |double                   |General government expenditure on education (current, capital, and transfers) is expressed as a percentage of GDP. It includes expenditures funded by transfers from international sources to the government. General government usually refers to local, regional, and central governments                                                                                                                                             |\n|unemployment                  |double                   |Unemployment refers to the % share of the labor force that is without work but available for and seeking employment                                                                                                                                                                                                                                                                                                                     |\n|corruption                    |double                   |Corruption (CPIA rating) - Transparency, accountability, and corruption in the public sector assets the extent to which the executive can be held accountable for its use of funds and for the results of its actions by the electorate and by the legislature and judiciary, and the extent to which public employees within the executive are required to account for administrative decisions, use of resources, and results obtained|\n|sanitation                    |double                   |The percentage of people using improved sanitation facilities that are not shared with other households and where excreta are safely disposed of in situ or transported and treated offsite. Improved sanitation facilities include flush/pour flush to piped sewer systems, septic tanks, or pit latrines: ventilated improved pit latrines, compositing toilets, or pit latrines with slabs                                           |\n|injuries                      |double                   |Disability-Adjusted Life Years (DALYs) due to Injuries - One DALY represents the loss of the equivalent of one year of full health. DALYs for an injury or health condition is the sum of the years of life lost due to premature mortality (YLLs) and the years lived with a disability (YLDs) due to prevalent cases of the disease in a population                                                                                   |\n|communicable_diseases         |double                   |Disability-Adjusted Life Years (DALYs) due to Communicable diseases - One DALY represents the loss of the equivalent of one year of full health. DALYs for a communicable disease or health condition is the sum of the years of life lost due to premature mortality (YLLs) and the years lived with a disability (YLDs) due to prevalent cases of the disease in a population                                                         |\n|non_communicable_diseases     |double                   |Disability-Adjusted Life Years (DALYs) due to Non-Communicable diseases - One DALY represents the loss of the equivalent of one year of full health. DALYs for a non-communicable disease or health condition is the sum of the years of life lost due to premature mortality (YLLs) and the years lived with a disability (YLDs) due to prevalent cases of the disease in a population                                                 |\n|                              |                         |                                                                                                                                                                                                                                                                                                                                                                                                                                        |\n|# Detailed Table Information  |                         |                                                                                                                                                                                                                                                                                                                                                                                                                                        |\n|Catalog                       |spark_catalog            |                                                                                                                                                                                                                                                                                                                                                                                                                                        |\n|Database                      |default                  |                                                                                                                                                                                                                                                                                                                                                                                                                                        |\n|Table                         |tb_life_expectancy_silver|                                                                                                                                                                                                                                                                                                                                                                                                                                        |\n+------------------------------+-------------------------+----------------------------------------------------------------------------------------------------------------------------------------------------------------------------------------------------------------------------------------------------------------------------------------------------------------------------------------------------------------------------------------------------------------------------------------+\nonly showing top 20 rows\n\n"
     ]
    }
   ],
   "source": [
    "# Adiciona comentários às colunas\n",
    "\n",
    "table_name = \"tb_life_expectancy_silver\"\n",
    "\n",
    "spark.sql(f\"ALTER TABLE {table_name} CHANGE COLUMN country country STRING COMMENT 'The name of the country'\")\n",
    "\n",
    "spark.sql(f\"ALTER TABLE {table_name} CHANGE COLUMN country_code country_code STRING COMMENT 'The 3-letter code of the country'\")\n",
    "\n",
    "\n",
    "spark.sql(f\"ALTER TABLE {table_name} CHANGE COLUMN year year INT COMMENT 'The year of the report'\")\n",
    "\n",
    "spark.sql(f\"ALTER TABLE {table_name} CHANGE COLUMN life_expectancy_world_bank life_expectancy_world_bank DOUBLE COMMENT 'The average number of years a newborn infant would live if prevailing patterns of mortality at the time of its birth were to stay the same throughout its life'\")\n",
    "\n",
    "spark.sql(f\"ALTER TABLE {table_name} CHANGE COLUMN prevelance_of_undernourishment prevelance_of_undernourishment  DOUBLE COMMENT 'The percentage of the population whose habitual food consumption is insufficient to provide the dietary'\")\n",
    "\n",
    "spark.sql(f\"ALTER TABLE {table_name} CHANGE COLUMN income_group  income_group  STRING COMMENT 'The country`s income class'\")\n",
    "\n",
    "spark.sql(f\"ALTER TABLE {table_name} CHANGE COLUMN co2 co2 DOUBLE COMMENT 'Carbon dioxide emissions are those stemming from the burning of fossil fuels and the manufacture of cement. They include carbon dioxide produced during the consumption of solid, liquid, and gas fuels and gas flaring'\")\n",
    "\n",
    "spark.sql(f\"ALTER TABLE {table_name} CHANGE COLUMN health_expenditure health_expenditure  DOUBLE COMMENT 'Level of current health expenditure expressed as a percentage of GDP. Estimates of current health expenditures include healthcare goods and services consumed during each year. This indicator does not include capital health expenditures such as buildings,machinery, IT, and stocks of vaccines for emergencies or outbreaks'\")\n",
    "\n",
    "spark.sql(f\"ALTER TABLE {table_name} CHANGE COLUMN  education_expenditure education_expenditure DOUBLE COMMENT 'General government expenditure on education (current, capital, and transfers) is expressed as a percentage of GDP. It includes expenditures funded by transfers from international sources to the government. General government usually refers to local, regional, and central governments'\")\n",
    "\n",
    "spark.sql(f\"ALTER TABLE {table_name} CHANGE COLUMN unemployment unemployment DOUBLE COMMENT 'Unemployment refers to the % share of the labor force that is without work but available for and seeking employment'\")\n",
    "\n",
    "spark.sql(f\"ALTER TABLE {table_name} CHANGE COLUMN corruption corruption DOUBLE COMMENT 'Corruption (CPIA rating) - Transparency, accountability, and corruption in the public sector assets the extent to which the executive can be held accountable for its use of funds and for the results of its actions by the electorate and by the legislature and judiciary, and the extent to which public employees within the executive are required to account for administrative decisions, use of resources, and results obtained'\")\n",
    "\n",
    "spark.sql(f\"ALTER TABLE {table_name} CHANGE COLUMN sanitation sanitation DOUBLE COMMENT 'The percentage of people using improved sanitation facilities that are not shared with other households and where excreta are safely disposed of in situ or transported and treated offsite. Improved sanitation facilities include flush/pour flush to piped sewer systems, septic tanks, or pit latrines: ventilated improved pit latrines, compositing toilets, or pit latrines with slabs'\")\n",
    "\n",
    "spark.sql(f\"ALTER TABLE {table_name} CHANGE COLUMN injuries injuries DOUBLE COMMENT 'Disability-Adjusted Life Years (DALYs) due to Injuries - One DALY represents the loss of the equivalent of one year of full health. DALYs for an injury or health condition is the sum of the years of life lost due to premature mortality (YLLs) and the years lived with a disability (YLDs) due to prevalent cases of the disease in a population'\")\n",
    "\n",
    "spark.sql(f\"ALTER TABLE {table_name} CHANGE COLUMN communicable_diseases communicable_diseases DOUBLE COMMENT 'Disability-Adjusted Life Years (DALYs) due to Communicable diseases - One DALY represents the loss of the equivalent of one year of full health. DALYs for a communicable disease or health condition is the sum of the years of life lost due to premature mortality (YLLs) and the years lived with a disability (YLDs) due to prevalent cases of the disease in a population'\")\n",
    "\n",
    "spark.sql(f\"ALTER TABLE {table_name} CHANGE COLUMN non_communicable_diseases non_communicable_diseases DOUBLE COMMENT 'Disability-Adjusted Life Years (DALYs) due to Non-Communicable diseases - One DALY represents the loss of the equivalent of one year of full health. DALYs for a non-communicable disease or health condition is the sum of the years of life lost due to premature mortality (YLLs) and the years lived with a disability (YLDs) due to prevalent cases of the disease in a population'\")\n",
    "\n",
    "\n",
    "# Verificar se os comentários foram adicionados\n",
    "desc_table = spark.sql(f\"DESCRIBE EXTENDED {table_name}\")\n",
    "desc_table.show(truncate=False)"
   ]
  },
  {
   "cell_type": "markdown",
   "metadata": {
    "application/vnd.databricks.v1+cell": {
     "cellMetadata": {
      "byteLimit": 2048000,
      "rowLimit": 10000
     },
     "inputWidgets": {},
     "nuid": "637b2061-6592-43fb-9a5e-84004c7deca1",
     "showTitle": false,
     "title": ""
    }
   },
   "source": [
    "###### tb_year_silver"
   ]
  },
  {
   "cell_type": "code",
   "execution_count": 0,
   "metadata": {
    "application/vnd.databricks.v1+cell": {
     "cellMetadata": {
      "byteLimit": 2048000,
      "rowLimit": 10000
     },
     "inputWidgets": {},
     "nuid": "f58ec1fc-fe7f-41c5-a02f-1660afa50a45",
     "showTitle": false,
     "title": ""
    }
   },
   "outputs": [
    {
     "output_type": "stream",
     "name": "stdout",
     "output_type": "stream",
     "text": [
      "Out[40]: DataFrame[]"
     ]
    }
   ],
   "source": [
    "# Adiciona comentários às colunas\n",
    "\n",
    "table_name = \"tb_year_silver\"\n",
    "\n",
    "spark.sql(f\"ALTER TABLE {table_name} CHANGE COLUMN year year INT COMMENT 'The year of the report'\")"
   ]
  },
  {
   "cell_type": "markdown",
   "metadata": {
    "application/vnd.databricks.v1+cell": {
     "cellMetadata": {
      "byteLimit": 2048000,
      "rowLimit": 10000
     },
     "inputWidgets": {},
     "nuid": "337f37af-aff9-49e6-9cc2-929518276983",
     "showTitle": false,
     "title": ""
    }
   },
   "source": [
    "###### tb_region_silver"
   ]
  },
  {
   "cell_type": "code",
   "execution_count": 0,
   "metadata": {
    "application/vnd.databricks.v1+cell": {
     "cellMetadata": {
      "byteLimit": 2048000,
      "rowLimit": 10000
     },
     "inputWidgets": {},
     "nuid": "ef03fcb5-11af-42bd-9bf2-b0b2dc169dc2",
     "showTitle": false,
     "title": ""
    }
   },
   "outputs": [
    {
     "output_type": "stream",
     "name": "stdout",
     "output_type": "stream",
     "text": [
      "Out[41]: DataFrame[]"
     ]
    }
   ],
   "source": [
    "# Adiciona comentários às colunas\n",
    "\n",
    "table_name = \"tb_region_silver\"\n",
    "\n",
    "\n",
    "spark.sql(f\"ALTER TABLE {table_name} CHANGE COLUMN country country STRING COMMENT 'The name of the country'\")\n",
    "\n",
    "spark.sql(f\"ALTER TABLE {table_name} CHANGE COLUMN region_world region_world STRING COMMENT 'The region of the world the country is located in'\")"
   ]
  },
  {
   "cell_type": "markdown",
   "metadata": {
    "application/vnd.databricks.v1+cell": {
     "cellMetadata": {
      "byteLimit": 2048000,
      "rowLimit": 10000
     },
     "inputWidgets": {},
     "nuid": "1bbca6a9-05b5-49f4-989c-8ce8b1244fec",
     "showTitle": false,
     "title": ""
    }
   },
   "source": [
    "#### Camada Gold"
   ]
  },
  {
   "cell_type": "markdown",
   "metadata": {
    "application/vnd.databricks.v1+cell": {
     "cellMetadata": {
      "byteLimit": 2048000,
      "rowLimit": 10000
     },
     "inputWidgets": {},
     "nuid": "49fb2a4c-c704-4fac-8e04-c5ae641783e0",
     "showTitle": false,
     "title": ""
    }
   },
   "source": [
    "Nesta etapa iremos pegar as informações das tabelas da camada silver e aplicar algumas regras de negócio, regras como: código da região precisa ser válido, rank de felicidade precisa ser inteiro maior que 0, o campo de ano deve ser um inteiro entre 2000 e 2024, campos de porcentagem devem variar de 0 à 100, etc..."
   ]
  },
  {
   "cell_type": "markdown",
   "metadata": {
    "application/vnd.databricks.v1+cell": {
     "cellMetadata": {
      "byteLimit": 2048000,
      "rowLimit": 10000
     },
     "inputWidgets": {},
     "nuid": "ab76bd8a-e3eb-4aa3-bfc3-a5f01a6d1659",
     "showTitle": false,
     "title": ""
    }
   },
   "source": [
    "##### tb_life_expectancy_gold"
   ]
  },
  {
   "cell_type": "markdown",
   "metadata": {
    "application/vnd.databricks.v1+cell": {
     "cellMetadata": {
      "byteLimit": 2048000,
      "rowLimit": 10000
     },
     "inputWidgets": {},
     "nuid": "b09360ef-bd7b-4f5b-b104-41680b095a93",
     "showTitle": false,
     "title": ""
    }
   },
   "source": [
    "###### Visão geral dos campos"
   ]
  },
  {
   "cell_type": "markdown",
   "metadata": {
    "application/vnd.databricks.v1+cell": {
     "cellMetadata": {
      "byteLimit": 2048000,
      "rowLimit": 10000
     },
     "inputWidgets": {},
     "nuid": "2b1ec511-ccdf-452f-9ae6-9807dfda5ecc",
     "showTitle": false,
     "title": ""
    }
   },
   "source": [
    "Aqui vamos entender algumas estatísticas de cada campo para verificar se é preciso aplicar alguma regra de negócio ou se eles já estão dentro do intervalo ou cantegoria esperada."
   ]
  },
  {
   "cell_type": "code",
   "execution_count": 0,
   "metadata": {
    "application/vnd.databricks.v1+cell": {
     "cellMetadata": {
      "byteLimit": 2048000,
      "rowLimit": 10000
     },
     "inputWidgets": {},
     "nuid": "5389ab26-fde9-4d80-a521-a4c77ba78b6c",
     "showTitle": false,
     "title": ""
    }
   },
   "outputs": [],
   "source": [
    "# Nome da tabela que queremos ler\n",
    "table_name = \"tb_life_expectancy_silver\"\n",
    "\n",
    "# Lê os dados da tabela e coloca em um DataFrame\n",
    "df_life_expectancy = spark.table(table_name)"
   ]
  },
  {
   "cell_type": "code",
   "execution_count": 0,
   "metadata": {
    "application/vnd.databricks.v1+cell": {
     "cellMetadata": {
      "byteLimit": 2048000,
      "rowLimit": 10000
     },
     "inputWidgets": {},
     "nuid": "a1f7fdd6-8a9d-440b-beba-8fac251e946e",
     "showTitle": false,
     "title": ""
    }
   },
   "outputs": [],
   "source": [
    "summary_df = df_life_expectancy.summary(\"count\", \"mean\", \"stddev\", \"min\", \"25%\", \"50%\", \"75%\", \"max\")"
   ]
  },
  {
   "cell_type": "code",
   "execution_count": 0,
   "metadata": {
    "application/vnd.databricks.v1+cell": {
     "cellMetadata": {
      "byteLimit": 2048000,
      "rowLimit": 10000
     },
     "inputWidgets": {},
     "nuid": "3d9524d2-6fc1-47d9-b43f-a64d3312b71b",
     "showTitle": false,
     "title": ""
    }
   },
   "outputs": [
    {
     "output_type": "stream",
     "name": "stdout",
     "output_type": "stream",
     "text": [
      "  summary      country country_code         income_group                year  \\\n0   count         3306         3306                 3306                3306   \n1    mean         None         None                 None              2010.0   \n2  stddev         None         None                 None  5.4780541395506335   \n3     min  Afghanistan          AFG          High income                2001   \n4     25%         None         None                 None                2005   \n5     50%         None         None                 None                2010   \n6     75%         None         None                 None                2015   \n7     max     Zimbabwe          ZWE  Upper middle income                2019   \n\n  life_expectancy_world_bank prevelance_of_undernourishment  \\\n0                       3118                           2622   \n1          69.74836158262792             10.663653699466057   \n2          9.408154138421754             11.285897007751588   \n3                     40.369                            2.5   \n4                      63.64                            2.5   \n5                     72.167                            6.2   \n6                     76.812                           14.8   \n7          84.35634146341464                           70.9   \n\n                  co2 health_expenditure education_expenditure  \\\n0                3154               3126                  2216   \n1   157492.4126899346  6.364059062843895     4.589014243832134   \n2   772641.5327602884   2.84284370966523    2.1191647159478872   \n3    9.99999977648258         1.26357603     0.850319981575012   \n4              2000.0          4.2048173      3.13467001914978   \n5    10189.9995803833          5.8885684      4.37038993835449   \n6    58799.9992370605         8.11923409      5.51981019973755   \n7  1.07072197265625E7        24.23068047      23.2700004577637   \n\n        unemployment          corruption         sanitation  \\\n0               3002                 975               2059   \n1  7.890760492220729  2.8605128205128203  52.73878455545835   \n2  6.270831862862082  0.6213433016876406  30.12676164063562   \n3  0.100000001490116                 1.0        2.377647105   \n4   3.73099994659424                 2.5        24.71672828   \n5   5.92000007629395                 3.0        49.31748103   \n6   10.1000003814697                 3.5        80.31126813   \n7              37.25                 4.5        100.0000037   \n\n            injuries communicable_diseases non_communicable_diseases  \n0               3306                  3306                      3306  \n1  1318219.451076832     4686288.641721113         7392488.091079861  \n2  5214067.916349137   1.843726907144983E7      2.9326878483634982E7  \n3             430.49                330.16                   2481.82  \n4           62352.06               57758.4                 318455.49  \n5          245496.96             314709.73                1349234.33  \n6          846597.84            2832623.59                3918928.31  \n7       5.56367593E7         2.685646098E8             3.246378105E8  \n"
     ]
    }
   ],
   "source": [
    "import pandas as pd\n",
    "\n",
    "# Convertendo para Pandas DataFrame para melhor visualização\n",
    "summary_pandas_df = summary_df.toPandas()\n",
    "\n",
    "# Exibe as estatísticas usando Pandas, que formata melhor\n",
    "print(summary_pandas_df)"
   ]
  },
  {
   "cell_type": "markdown",
   "metadata": {
    "application/vnd.databricks.v1+cell": {
     "cellMetadata": {
      "byteLimit": 2048000,
      "rowLimit": 10000
     },
     "inputWidgets": {},
     "nuid": "7cc87644-b107-4b24-88d4-9a7b9b797b74",
     "showTitle": false,
     "title": ""
    }
   },
   "source": [
    "Conclusão de cada coluna:\n",
    "* country, country_code e income_group são strings e serão avaliadas separadamente.\n",
    "  - Vale mencionar que todas essa colunas estão 100% preenchidas\n",
    "* year \n",
    "  - Varia entre 2001 e 2019. \n",
    "  - A contagem de linhas dessa coluna bate com a contagem de linhas total então ela está sempre preenchida.\n",
    "* life_expectancy_world_bank\n",
    "  - Varia entre 40 anos à 84 anos, aproximadamente.\n",
    "  - Não está sempre preenchida, temos 188 linhas sem informação (3.306-3.118)\n",
    "* prevelance_of_undernourishment\n",
    "  - Varia entre 2,5 à 70,9.\n",
    "  - Não está sempre preenchida, temos 684 linhas sem informação (3.306-2.622)\n",
    "* co2\n",
    "  - Varia entre 10 à 10 Milhões, aproximadamente.\n",
    "  - Não está sempre preenchida, temos 152 linhas sem informação (3.306-3.154)\n",
    "* health_expenditure \n",
    "  - Varia entre 1,2 à 24,2, aproximadamente.\n",
    "  - Não está sempre preenchida, temos 180 linhas sem informação (3.306-3.126)\n",
    "* education_expenditure\n",
    "  - Varia entre 0,8 à 23,2, aproximadamente.\n",
    "  - Não está sempre preenchida, temos 1090 linhas sem informação (3.306-2.216)\n",
    "* unemployment   \n",
    "  - Varia entre 0,1 à 37, aproximadamente.\n",
    "  - Não está sempre preenchida, temos 304 linhas sem informação (3.306-3.002)   \n",
    "* corruption\n",
    "  - Varia entre 1 à 4,5, aproximadamente.\n",
    "  - Não está sempre preenchida, temos 2.331 linhas sem informação (3.306-975)   \n",
    "* sanitation\n",
    "  - Varia entre 2,3 à 100, aproximadamente.\n",
    "  - Não está sempre preenchida, temos 1.247 linhas sem informação (3.306-2.059)  \n",
    "* injuries\n",
    "  - Varia entre 430 à 55 Milhões, aproximadamente.\n",
    "  - A contagem de linhas dessa coluna bate com a contagem de linhas total então ela está sempre preenchida.\n",
    "* communicable_diseases\n",
    "  - Varia entre 330 à 268 Milhões, aproximadamente. \n",
    "  - A contagem de linhas dessa coluna bate com a contagem de linhas total então ela está sempre preenchida.\n",
    "* non_communicable_diseases \n",
    "  - Varia entre 2.481 à 324 Milhões, aproximadamente.\n",
    "  - A contagem de linhas dessa coluna bate com a contagem de linhas total então ela está sempre preenchida."
   ]
  },
  {
   "cell_type": "markdown",
   "metadata": {
    "application/vnd.databricks.v1+cell": {
     "cellMetadata": {
      "byteLimit": 2048000,
      "rowLimit": 10000
     },
     "inputWidgets": {},
     "nuid": "4ae1b5cb-81fc-4bb7-8251-81dcb81c66a9",
     "showTitle": false,
     "title": ""
    }
   },
   "source": [
    "###### Colunas do tipo String"
   ]
  },
  {
   "cell_type": "markdown",
   "metadata": {
    "application/vnd.databricks.v1+cell": {
     "cellMetadata": {
      "byteLimit": 2048000,
      "rowLimit": 10000
     },
     "inputWidgets": {},
     "nuid": "93145484-e2d7-4aed-8f67-79c057c4ea4f",
     "showTitle": false,
     "title": ""
    }
   },
   "source": [
    "* Coluna income_group"
   ]
  },
  {
   "cell_type": "code",
   "execution_count": 0,
   "metadata": {
    "application/vnd.databricks.v1+cell": {
     "cellMetadata": {
      "byteLimit": 2048000,
      "implicitDf": true,
      "rowLimit": 10000
     },
     "inputWidgets": {},
     "nuid": "5616b1b5-2329-4a43-bd4b-f0c6d2446806",
     "showTitle": false,
     "title": ""
    }
   },
   "outputs": [
    {
     "output_type": "display_data",
     "data": {
      "text/html": [
       "<style scoped>\n",
       "  .table-result-container {\n",
       "    max-height: 300px;\n",
       "    overflow: auto;\n",
       "  }\n",
       "  table, th, td {\n",
       "    border: 1px solid black;\n",
       "    border-collapse: collapse;\n",
       "  }\n",
       "  th, td {\n",
       "    padding: 5px;\n",
       "  }\n",
       "  th {\n",
       "    text-align: left;\n",
       "  }\n",
       "</style><div class='table-result-container'><table class='table-result'><thead style='background-color: white'><tr><th>income_group</th><th>count__country_in_income_group</th></tr></thead><tbody><tr><td>High income</td><td>1083</td></tr><tr><td>Upper middle income</td><td>931</td></tr><tr><td>Lower middle income</td><td>855</td></tr><tr><td>Low income</td><td>437</td></tr></tbody></table></div>"
      ]
     },
     "metadata": {
      "application/vnd.databricks.v1+output": {
       "addedWidgets": {},
       "aggData": [],
       "aggError": "",
       "aggOverflow": false,
       "aggSchema": [],
       "aggSeriesLimitReached": false,
       "aggType": "",
       "arguments": {},
       "columnCustomDisplayInfos": {},
       "data": [
        [
         "High income",
         1083
        ],
        [
         "Upper middle income",
         931
        ],
        [
         "Lower middle income",
         855
        ],
        [
         "Low income",
         437
        ]
       ],
       "datasetInfos": [],
       "dbfsResultPath": null,
       "isJsonSchema": true,
       "metadata": {},
       "overflow": false,
       "plotOptions": {
        "customPlotOptions": {},
        "displayType": "table",
        "pivotAggregation": null,
        "pivotColumns": null,
        "xColumns": null,
        "yColumns": null
       },
       "removedWidgets": [],
       "schema": [
        {
         "metadata": "{\"comment\":\"The country`s income class\"}",
         "name": "income_group",
         "type": "\"string\""
        },
        {
         "metadata": "{}",
         "name": "count__country_in_income_group",
         "type": "\"long\""
        }
       ],
       "type": "table"
      }
     },
     "output_type": "display_data"
    }
   ],
   "source": [
    "%sql\n",
    "\n",
    "/* Query para verificar como está preenchido e distribuído o campo income_group */\n",
    "\n",
    "select \n",
    "income_group,\n",
    "count(1) count__country_in_income_group\n",
    "from `tb_life_expectancy_silver`\n",
    "group by 1 order by 2 desc"
   ]
  },
  {
   "cell_type": "code",
   "execution_count": 0,
   "metadata": {
    "application/vnd.databricks.v1+cell": {
     "cellMetadata": {
      "byteLimit": 2048000,
      "implicitDf": true,
      "rowLimit": 10000
     },
     "inputWidgets": {},
     "nuid": "6e1e5211-b55d-452c-8abb-320159b70419",
     "showTitle": false,
     "title": ""
    }
   },
   "outputs": [
    {
     "output_type": "display_data",
     "data": {
      "text/html": [
       "<style scoped>\n",
       "  .table-result-container {\n",
       "    max-height: 300px;\n",
       "    overflow: auto;\n",
       "  }\n",
       "  table, th, td {\n",
       "    border: 1px solid black;\n",
       "    border-collapse: collapse;\n",
       "  }\n",
       "  th, td {\n",
       "    padding: 5px;\n",
       "  }\n",
       "  th {\n",
       "    text-align: left;\n",
       "  }\n",
       "</style><div class='table-result-container'><table class='table-result'><thead style='background-color: white'><tr><th>income_group</th><th>len(max(income_group))</th></tr></thead><tbody><tr><td>Lower middle income</td><td>19</td></tr><tr><td>Upper middle income</td><td>19</td></tr><tr><td>High income</td><td>11</td></tr><tr><td>Low income</td><td>10</td></tr></tbody></table></div>"
      ]
     },
     "metadata": {
      "application/vnd.databricks.v1+output": {
       "addedWidgets": {},
       "aggData": [],
       "aggError": "",
       "aggOverflow": false,
       "aggSchema": [],
       "aggSeriesLimitReached": false,
       "aggType": "",
       "arguments": {},
       "columnCustomDisplayInfos": {},
       "data": [
        [
         "Lower middle income",
         19
        ],
        [
         "Upper middle income",
         19
        ],
        [
         "High income",
         11
        ],
        [
         "Low income",
         10
        ]
       ],
       "datasetInfos": [],
       "dbfsResultPath": null,
       "isJsonSchema": true,
       "metadata": {},
       "overflow": false,
       "plotOptions": {
        "customPlotOptions": {},
        "displayType": "table",
        "pivotAggregation": null,
        "pivotColumns": null,
        "xColumns": null,
        "yColumns": null
       },
       "removedWidgets": [],
       "schema": [
        {
         "metadata": "{\"comment\":\"The country`s income class\"}",
         "name": "income_group",
         "type": "\"string\""
        },
        {
         "metadata": "{\"__autoGeneratedAlias\":\"true\"}",
         "name": "len(max(income_group))",
         "type": "\"integer\""
        }
       ],
       "type": "table"
      }
     },
     "output_type": "display_data"
    }
   ],
   "source": [
    "%sql\n",
    "\n",
    "/* Query para verificar a quantidade de caractéres máximo no campo income_group */\n",
    "\n",
    "select \n",
    "income_group,\n",
    "len(max(income_group))\n",
    "from `tb_life_expectancy_silver`\n",
    "group by 1 order by 2 desc"
   ]
  },
  {
   "cell_type": "markdown",
   "metadata": {
    "application/vnd.databricks.v1+cell": {
     "cellMetadata": {
      "byteLimit": 2048000,
      "rowLimit": 10000
     },
     "inputWidgets": {},
     "nuid": "f464032f-7097-4019-a683-b4536c2f5559",
     "showTitle": false,
     "title": ""
    }
   },
   "source": [
    "Tudo certo com a coluna income_group"
   ]
  },
  {
   "cell_type": "markdown",
   "metadata": {
    "application/vnd.databricks.v1+cell": {
     "cellMetadata": {
      "byteLimit": 2048000,
      "rowLimit": 10000
     },
     "inputWidgets": {},
     "nuid": "a685c910-2784-402a-8d7c-980035c0837d",
     "showTitle": false,
     "title": ""
    }
   },
   "source": [
    "* Colunas country e country_code"
   ]
  },
  {
   "cell_type": "code",
   "execution_count": 0,
   "metadata": {
    "application/vnd.databricks.v1+cell": {
     "cellMetadata": {
      "byteLimit": 2048000,
      "implicitDf": true,
      "rowLimit": 10000
     },
     "inputWidgets": {},
     "nuid": "3dbef470-54d1-415d-bb21-4db3ab439f1e",
     "showTitle": false,
     "title": ""
    }
   },
   "outputs": [
    {
     "output_type": "display_data",
     "data": {
      "text/html": [
       "<style scoped>\n",
       "  .table-result-container {\n",
       "    max-height: 300px;\n",
       "    overflow: auto;\n",
       "  }\n",
       "  table, th, td {\n",
       "    border: 1px solid black;\n",
       "    border-collapse: collapse;\n",
       "  }\n",
       "  th, td {\n",
       "    padding: 5px;\n",
       "  }\n",
       "  th {\n",
       "    text-align: left;\n",
       "  }\n",
       "</style><div class='table-result-container'><table class='table-result'><thead style='background-color: white'><tr><th>country</th><th>len(country)</th></tr></thead><tbody><tr><td>Northern Mariana Islands</td><td>24</td></tr><tr><td>Central African Republic</td><td>24</td></tr><tr><td>Bosnia and Herzegovina</td><td>22</td></tr><tr><td>Sao Tome and Principe</td><td>21</td></tr><tr><td>United Arab Emirates</td><td>20</td></tr><tr><td>Trinidad and Tobago</td><td>19</td></tr><tr><td>Antigua and Barbuda</td><td>19</td></tr><tr><td>Dominican Republic</td><td>18</td></tr><tr><td>Equatorial Guinea</td><td>17</td></tr><tr><td>Marshall Islands</td><td>16</td></tr></tbody></table></div>"
      ]
     },
     "metadata": {
      "application/vnd.databricks.v1+output": {
       "addedWidgets": {},
       "aggData": [],
       "aggError": "",
       "aggOverflow": false,
       "aggSchema": [],
       "aggSeriesLimitReached": false,
       "aggType": "",
       "arguments": {},
       "columnCustomDisplayInfos": {},
       "data": [
        [
         "Northern Mariana Islands",
         24
        ],
        [
         "Central African Republic",
         24
        ],
        [
         "Bosnia and Herzegovina",
         22
        ],
        [
         "Sao Tome and Principe",
         21
        ],
        [
         "United Arab Emirates",
         20
        ],
        [
         "Trinidad and Tobago",
         19
        ],
        [
         "Antigua and Barbuda",
         19
        ],
        [
         "Dominican Republic",
         18
        ],
        [
         "Equatorial Guinea",
         17
        ],
        [
         "Marshall Islands",
         16
        ]
       ],
       "datasetInfos": [],
       "dbfsResultPath": null,
       "isJsonSchema": true,
       "metadata": {},
       "overflow": false,
       "plotOptions": {
        "customPlotOptions": {},
        "displayType": "table",
        "pivotAggregation": null,
        "pivotColumns": null,
        "xColumns": null,
        "yColumns": null
       },
       "removedWidgets": [],
       "schema": [
        {
         "metadata": "{\"comment\":\"The name of the country\"}",
         "name": "country",
         "type": "\"string\""
        },
        {
         "metadata": "{\"__autoGeneratedAlias\":\"true\"}",
         "name": "len(country)",
         "type": "\"integer\""
        }
       ],
       "type": "table"
      }
     },
     "output_type": "display_data"
    }
   ],
   "source": [
    "%sql\n",
    "\n",
    "/* Query para verificar a quantidade de caractéres máximo no campo country, vamos mostrar apenas o top 10 países com mais caratéres */\n",
    "\n",
    "select \n",
    "country,\n",
    "len(country)\n",
    "from `tb_life_expectancy_silver`\n",
    "group by 1 order by 2 desc limit 10"
   ]
  },
  {
   "cell_type": "code",
   "execution_count": 0,
   "metadata": {
    "application/vnd.databricks.v1+cell": {
     "cellMetadata": {
      "byteLimit": 2048000,
      "implicitDf": true,
      "rowLimit": 10000
     },
     "inputWidgets": {},
     "nuid": "f7d25bcd-f6a6-4d80-8196-326128380564",
     "showTitle": false,
     "title": ""
    }
   },
   "outputs": [
    {
     "output_type": "display_data",
     "data": {
      "text/html": [
       "<style scoped>\n",
       "  .table-result-container {\n",
       "    max-height: 300px;\n",
       "    overflow: auto;\n",
       "  }\n",
       "  table, th, td {\n",
       "    border: 1px solid black;\n",
       "    border-collapse: collapse;\n",
       "  }\n",
       "  th, td {\n",
       "    padding: 5px;\n",
       "  }\n",
       "  th {\n",
       "    text-align: left;\n",
       "  }\n",
       "</style><div class='table-result-container'><table class='table-result'><thead style='background-color: white'><tr><th>country</th><th>len(country)</th></tr></thead><tbody><tr><td>Fiji</td><td>4</td></tr><tr><td>Chad</td><td>4</td></tr><tr><td>Iraq</td><td>4</td></tr><tr><td>Togo</td><td>4</td></tr><tr><td>Peru</td><td>4</td></tr><tr><td>Cuba</td><td>4</td></tr><tr><td>Oman</td><td>4</td></tr><tr><td>Guam</td><td>4</td></tr><tr><td>Mali</td><td>4</td></tr><tr><td>Tonga</td><td>5</td></tr></tbody></table></div>"
      ]
     },
     "metadata": {
      "application/vnd.databricks.v1+output": {
       "addedWidgets": {},
       "aggData": [],
       "aggError": "",
       "aggOverflow": false,
       "aggSchema": [],
       "aggSeriesLimitReached": false,
       "aggType": "",
       "arguments": {},
       "columnCustomDisplayInfos": {},
       "data": [
        [
         "Fiji",
         4
        ],
        [
         "Chad",
         4
        ],
        [
         "Iraq",
         4
        ],
        [
         "Togo",
         4
        ],
        [
         "Peru",
         4
        ],
        [
         "Cuba",
         4
        ],
        [
         "Oman",
         4
        ],
        [
         "Guam",
         4
        ],
        [
         "Mali",
         4
        ],
        [
         "Tonga",
         5
        ]
       ],
       "datasetInfos": [],
       "dbfsResultPath": null,
       "isJsonSchema": true,
       "metadata": {},
       "overflow": false,
       "plotOptions": {
        "customPlotOptions": {},
        "displayType": "table",
        "pivotAggregation": null,
        "pivotColumns": null,
        "xColumns": null,
        "yColumns": null
       },
       "removedWidgets": [],
       "schema": [
        {
         "metadata": "{\"comment\":\"The name of the country\"}",
         "name": "country",
         "type": "\"string\""
        },
        {
         "metadata": "{\"__autoGeneratedAlias\":\"true\"}",
         "name": "len(country)",
         "type": "\"integer\""
        }
       ],
       "type": "table"
      }
     },
     "output_type": "display_data"
    }
   ],
   "source": [
    "%sql\n",
    "\n",
    "/* Query para verificar a quantidade de caractéres máximo no campo country_code*/\n",
    "/* Vendo os 10 menores */\n",
    "\n",
    "select \n",
    "country,\n",
    "len(country)\n",
    "from `tb_life_expectancy_silver`\n",
    "group by 1 order by 2 asc limit 10"
   ]
  },
  {
   "cell_type": "code",
   "execution_count": 0,
   "metadata": {
    "application/vnd.databricks.v1+cell": {
     "cellMetadata": {
      "byteLimit": 2048000,
      "implicitDf": true,
      "rowLimit": 10000
     },
     "inputWidgets": {},
     "nuid": "6c76e9f0-2795-428c-afe3-40fdaedd47ea",
     "showTitle": false,
     "title": ""
    }
   },
   "outputs": [
    {
     "output_type": "display_data",
     "data": {
      "text/html": [
       "<style scoped>\n",
       "  .table-result-container {\n",
       "    max-height: 300px;\n",
       "    overflow: auto;\n",
       "  }\n",
       "  table, th, td {\n",
       "    border: 1px solid black;\n",
       "    border-collapse: collapse;\n",
       "  }\n",
       "  th, td {\n",
       "    padding: 5px;\n",
       "  }\n",
       "  th {\n",
       "    text-align: left;\n",
       "  }\n",
       "</style><div class='table-result-container'><table class='table-result'><thead style='background-color: white'><tr><th>country_code</th><th>len(country_code)</th></tr></thead><tbody><tr><td>HTI</td><td>3</td></tr><tr><td>BRB</td><td>3</td></tr><tr><td>LVA</td><td>3</td></tr><tr><td>POL</td><td>3</td></tr><tr><td>JAM</td><td>3</td></tr><tr><td>ZMB</td><td>3</td></tr><tr><td>BRA</td><td>3</td></tr><tr><td>ARM</td><td>3</td></tr><tr><td>MOZ</td><td>3</td></tr><tr><td>CUB</td><td>3</td></tr></tbody></table></div>"
      ]
     },
     "metadata": {
      "application/vnd.databricks.v1+output": {
       "addedWidgets": {},
       "aggData": [],
       "aggError": "",
       "aggOverflow": false,
       "aggSchema": [],
       "aggSeriesLimitReached": false,
       "aggType": "",
       "arguments": {},
       "columnCustomDisplayInfos": {},
       "data": [
        [
         "HTI",
         3
        ],
        [
         "BRB",
         3
        ],
        [
         "LVA",
         3
        ],
        [
         "POL",
         3
        ],
        [
         "JAM",
         3
        ],
        [
         "ZMB",
         3
        ],
        [
         "BRA",
         3
        ],
        [
         "ARM",
         3
        ],
        [
         "MOZ",
         3
        ],
        [
         "CUB",
         3
        ]
       ],
       "datasetInfos": [],
       "dbfsResultPath": null,
       "isJsonSchema": true,
       "metadata": {},
       "overflow": false,
       "plotOptions": {
        "customPlotOptions": {},
        "displayType": "table",
        "pivotAggregation": null,
        "pivotColumns": null,
        "xColumns": null,
        "yColumns": null
       },
       "removedWidgets": [],
       "schema": [
        {
         "metadata": "{\"comment\":\"The 3-letter code of the country\"}",
         "name": "country_code",
         "type": "\"string\""
        },
        {
         "metadata": "{\"__autoGeneratedAlias\":\"true\"}",
         "name": "len(country_code)",
         "type": "\"integer\""
        }
       ],
       "type": "table"
      }
     },
     "output_type": "display_data"
    }
   ],
   "source": [
    "%sql\n",
    "\n",
    "/* Query para verificar a quantidade de caractéres máximo no campo country_code*/\n",
    "/* Vendo os 10 maiores */\n",
    "\n",
    "select \n",
    "country_code,\n",
    "len(country_code)\n",
    "from `tb_life_expectancy_silver`\n",
    "group by 1 order by 2 desc limit 10"
   ]
  },
  {
   "cell_type": "code",
   "execution_count": 0,
   "metadata": {
    "application/vnd.databricks.v1+cell": {
     "cellMetadata": {
      "byteLimit": 2048000,
      "implicitDf": true,
      "rowLimit": 10000
     },
     "inputWidgets": {},
     "nuid": "85ed3a41-5aa1-4cd0-bd7d-44aafc675821",
     "showTitle": false,
     "title": ""
    }
   },
   "outputs": [
    {
     "output_type": "display_data",
     "data": {
      "text/html": [
       "<style scoped>\n",
       "  .table-result-container {\n",
       "    max-height: 300px;\n",
       "    overflow: auto;\n",
       "  }\n",
       "  table, th, td {\n",
       "    border: 1px solid black;\n",
       "    border-collapse: collapse;\n",
       "  }\n",
       "  th, td {\n",
       "    padding: 5px;\n",
       "  }\n",
       "  th {\n",
       "    text-align: left;\n",
       "  }\n",
       "</style><div class='table-result-container'><table class='table-result'><thead style='background-color: white'><tr><th>country_code</th><th>len(country_code)</th></tr></thead><tbody><tr><td>HTI</td><td>3</td></tr><tr><td>BRB</td><td>3</td></tr><tr><td>LVA</td><td>3</td></tr><tr><td>POL</td><td>3</td></tr><tr><td>JAM</td><td>3</td></tr><tr><td>ZMB</td><td>3</td></tr><tr><td>BRA</td><td>3</td></tr><tr><td>ARM</td><td>3</td></tr><tr><td>MOZ</td><td>3</td></tr><tr><td>CUB</td><td>3</td></tr></tbody></table></div>"
      ]
     },
     "metadata": {
      "application/vnd.databricks.v1+output": {
       "addedWidgets": {},
       "aggData": [],
       "aggError": "",
       "aggOverflow": false,
       "aggSchema": [],
       "aggSeriesLimitReached": false,
       "aggType": "",
       "arguments": {},
       "columnCustomDisplayInfos": {},
       "data": [
        [
         "HTI",
         3
        ],
        [
         "BRB",
         3
        ],
        [
         "LVA",
         3
        ],
        [
         "POL",
         3
        ],
        [
         "JAM",
         3
        ],
        [
         "ZMB",
         3
        ],
        [
         "BRA",
         3
        ],
        [
         "ARM",
         3
        ],
        [
         "MOZ",
         3
        ],
        [
         "CUB",
         3
        ]
       ],
       "datasetInfos": [],
       "dbfsResultPath": null,
       "isJsonSchema": true,
       "metadata": {},
       "overflow": false,
       "plotOptions": {
        "customPlotOptions": {},
        "displayType": "table",
        "pivotAggregation": null,
        "pivotColumns": null,
        "xColumns": null,
        "yColumns": null
       },
       "removedWidgets": [],
       "schema": [
        {
         "metadata": "{\"comment\":\"The 3-letter code of the country\"}",
         "name": "country_code",
         "type": "\"string\""
        },
        {
         "metadata": "{\"__autoGeneratedAlias\":\"true\"}",
         "name": "len(country_code)",
         "type": "\"integer\""
        }
       ],
       "type": "table"
      }
     },
     "output_type": "display_data"
    }
   ],
   "source": [
    "%sql\n",
    "\n",
    "/* Query para verificar a quantidade de caractéres máximo no campo country_code*/\n",
    "/* Vendo os 10 menores */\n",
    "\n",
    "select \n",
    "country_code,\n",
    "len(country_code)\n",
    "from `tb_life_expectancy_silver`\n",
    "group by 1 order by 2 asc limit 10"
   ]
  },
  {
   "cell_type": "markdown",
   "metadata": {
    "application/vnd.databricks.v1+cell": {
     "cellMetadata": {
      "byteLimit": 2048000,
      "rowLimit": 10000
     },
     "inputWidgets": {},
     "nuid": "bbf4879c-1ce9-4a32-b84e-1fa4b242d38f",
     "showTitle": false,
     "title": ""
    }
   },
   "source": [
    "Tudo ok com relação aos limites de caractéres"
   ]
  },
  {
   "cell_type": "markdown",
   "metadata": {
    "application/vnd.databricks.v1+cell": {
     "cellMetadata": {
      "byteLimit": 2048000,
      "rowLimit": 10000
     },
     "inputWidgets": {},
     "nuid": "4b08cb31-ed26-4966-9649-47012cec141b",
     "showTitle": false,
     "title": ""
    }
   },
   "source": [
    "\n",
    "Para verificar essas informações vamos utilizar o arquivo com o De-Para dos países e seus código baixado no seguinte link: <br>\n",
    "https://github.com/lukes/ISO-3166-Countries-with-Regional-Codes/blob/master/all/all.csv"
   ]
  },
  {
   "cell_type": "code",
   "execution_count": 0,
   "metadata": {
    "application/vnd.databricks.v1+cell": {
     "cellMetadata": {
      "byteLimit": 2048000,
      "rowLimit": 10000
     },
     "inputWidgets": {},
     "nuid": "819e1936-8fcd-4112-88f7-cc819e367743",
     "showTitle": false,
     "title": ""
    }
   },
   "outputs": [],
   "source": [
    "# File location and type\n",
    "file_location = \"/FileStore/tables/all.csv\"\n",
    "file_type = \"csv\"\n",
    "\n",
    "# CSV options\n",
    "infer_schema = \"false\"\n",
    "first_row_is_header = \"true\"\n",
    "delimiter = \",\"\n",
    "\n",
    "# The applied options are for CSV files. For other file types, these will be ignored.\n",
    "df_aux_country = spark.read.format(file_type) \\\n",
    "  .option(\"inferSchema\", infer_schema) \\\n",
    "  .option(\"header\", first_row_is_header) \\\n",
    "  .option(\"sep\", delimiter) \\\n",
    "  .load(file_location)\n"
   ]
  },
  {
   "cell_type": "code",
   "execution_count": 0,
   "metadata": {
    "application/vnd.databricks.v1+cell": {
     "cellMetadata": {
      "byteLimit": 2048000,
      "rowLimit": 10000
     },
     "inputWidgets": {},
     "nuid": "c778cb24-d2a8-4434-a76b-4f488b5e0014",
     "showTitle": false,
     "title": ""
    }
   },
   "outputs": [],
   "source": [
    "# Create a view or table\n",
    "\n",
    "temp_table_name = \"tb_aux_country\"\n",
    "\n",
    "df_aux_country.createOrReplaceTempView(temp_table_name)"
   ]
  },
  {
   "cell_type": "markdown",
   "metadata": {
    "application/vnd.databricks.v1+cell": {
     "cellMetadata": {
      "byteLimit": 2048000,
      "rowLimit": 10000
     },
     "inputWidgets": {},
     "nuid": "28b87e5a-1688-4dd2-a1b5-46b1196ea8e1",
     "showTitle": false,
     "title": ""
    }
   },
   "source": [
    "Confirmando que 1 país só possue um código:"
   ]
  },
  {
   "cell_type": "code",
   "execution_count": 0,
   "metadata": {
    "application/vnd.databricks.v1+cell": {
     "cellMetadata": {
      "byteLimit": 2048000,
      "implicitDf": true,
      "rowLimit": 10000
     },
     "inputWidgets": {},
     "nuid": "40b5a4a7-8a7e-4db7-84b5-32551f3af8e8",
     "showTitle": false,
     "title": ""
    }
   },
   "outputs": [
    {
     "output_type": "display_data",
     "data": {
      "text/html": [
       "<style scoped>\n",
       "  .table-result-container {\n",
       "    max-height: 300px;\n",
       "    overflow: auto;\n",
       "  }\n",
       "  table, th, td {\n",
       "    border: 1px solid black;\n",
       "    border-collapse: collapse;\n",
       "  }\n",
       "  th, td {\n",
       "    padding: 5px;\n",
       "  }\n",
       "  th {\n",
       "    text-align: left;\n",
       "  }\n",
       "</style><div class='table-result-container'><table class='table-result'><thead style='background-color: white'><tr><th>country</th><th>qt_cod</th></tr></thead><tbody><tr><td>Chad</td><td>1</td></tr><tr><td>Paraguay</td><td>1</td></tr><tr><td>Senegal</td><td>1</td></tr><tr><td>Sweden</td><td>1</td></tr><tr><td>Kiribati</td><td>1</td></tr><tr><td>Guyana</td><td>1</td></tr><tr><td>Eritrea</td><td>1</td></tr><tr><td>Philippines</td><td>1</td></tr><tr><td>Tonga</td><td>1</td></tr><tr><td>Djibouti</td><td>1</td></tr><tr><td>Singapore</td><td>1</td></tr><tr><td>Malaysia</td><td>1</td></tr><tr><td>Fiji</td><td>1</td></tr><tr><td>Malawi</td><td>1</td></tr><tr><td>Iraq</td><td>1</td></tr><tr><td>Northern Mariana Islands</td><td>1</td></tr><tr><td>Germany</td><td>1</td></tr><tr><td>Comoros</td><td>1</td></tr><tr><td>Afghanistan</td><td>1</td></tr><tr><td>Cambodia</td><td>1</td></tr><tr><td>Maldives</td><td>1</td></tr><tr><td>Jordan</td><td>1</td></tr><tr><td>Rwanda</td><td>1</td></tr><tr><td>Sudan</td><td>1</td></tr><tr><td>Palau</td><td>1</td></tr><tr><td>France</td><td>1</td></tr><tr><td>Greece</td><td>1</td></tr><tr><td>Sri Lanka</td><td>1</td></tr><tr><td>Dominica</td><td>1</td></tr><tr><td>Algeria</td><td>1</td></tr><tr><td>Equatorial Guinea</td><td>1</td></tr><tr><td>Togo</td><td>1</td></tr><tr><td>Argentina</td><td>1</td></tr><tr><td>Angola</td><td>1</td></tr><tr><td>Belgium</td><td>1</td></tr><tr><td>San Marino</td><td>1</td></tr><tr><td>Qatar</td><td>1</td></tr><tr><td>Ecuador</td><td>1</td></tr><tr><td>Lesotho</td><td>1</td></tr><tr><td>Albania</td><td>1</td></tr><tr><td>Madagascar</td><td>1</td></tr><tr><td>Finland</td><td>1</td></tr><tr><td>Nicaragua</td><td>1</td></tr><tr><td>Ghana</td><td>1</td></tr><tr><td>Myanmar</td><td>1</td></tr><tr><td>Sierra Leone</td><td>1</td></tr><tr><td>Peru</td><td>1</td></tr><tr><td>Benin</td><td>1</td></tr><tr><td>United States</td><td>1</td></tr><tr><td>India</td><td>1</td></tr></tbody></table></div>"
      ]
     },
     "metadata": {
      "application/vnd.databricks.v1+output": {
       "addedWidgets": {},
       "aggData": [],
       "aggError": "",
       "aggOverflow": false,
       "aggSchema": [],
       "aggSeriesLimitReached": false,
       "aggType": "",
       "arguments": {},
       "columnCustomDisplayInfos": {},
       "data": [
        [
         "Chad",
         1
        ],
        [
         "Paraguay",
         1
        ],
        [
         "Senegal",
         1
        ],
        [
         "Sweden",
         1
        ],
        [
         "Kiribati",
         1
        ],
        [
         "Guyana",
         1
        ],
        [
         "Eritrea",
         1
        ],
        [
         "Philippines",
         1
        ],
        [
         "Tonga",
         1
        ],
        [
         "Djibouti",
         1
        ],
        [
         "Singapore",
         1
        ],
        [
         "Malaysia",
         1
        ],
        [
         "Fiji",
         1
        ],
        [
         "Malawi",
         1
        ],
        [
         "Iraq",
         1
        ],
        [
         "Northern Mariana Islands",
         1
        ],
        [
         "Germany",
         1
        ],
        [
         "Comoros",
         1
        ],
        [
         "Afghanistan",
         1
        ],
        [
         "Cambodia",
         1
        ],
        [
         "Maldives",
         1
        ],
        [
         "Jordan",
         1
        ],
        [
         "Rwanda",
         1
        ],
        [
         "Sudan",
         1
        ],
        [
         "Palau",
         1
        ],
        [
         "France",
         1
        ],
        [
         "Greece",
         1
        ],
        [
         "Sri Lanka",
         1
        ],
        [
         "Dominica",
         1
        ],
        [
         "Algeria",
         1
        ],
        [
         "Equatorial Guinea",
         1
        ],
        [
         "Togo",
         1
        ],
        [
         "Argentina",
         1
        ],
        [
         "Angola",
         1
        ],
        [
         "Belgium",
         1
        ],
        [
         "San Marino",
         1
        ],
        [
         "Qatar",
         1
        ],
        [
         "Ecuador",
         1
        ],
        [
         "Lesotho",
         1
        ],
        [
         "Albania",
         1
        ],
        [
         "Madagascar",
         1
        ],
        [
         "Finland",
         1
        ],
        [
         "Nicaragua",
         1
        ],
        [
         "Ghana",
         1
        ],
        [
         "Myanmar",
         1
        ],
        [
         "Sierra Leone",
         1
        ],
        [
         "Peru",
         1
        ],
        [
         "Benin",
         1
        ],
        [
         "United States",
         1
        ],
        [
         "India",
         1
        ]
       ],
       "datasetInfos": [],
       "dbfsResultPath": null,
       "isJsonSchema": true,
       "metadata": {},
       "overflow": false,
       "plotOptions": {
        "customPlotOptions": {},
        "displayType": "table",
        "pivotAggregation": null,
        "pivotColumns": null,
        "xColumns": null,
        "yColumns": null
       },
       "removedWidgets": [],
       "schema": [
        {
         "metadata": "{\"comment\":\"The name of the country\"}",
         "name": "country",
         "type": "\"string\""
        },
        {
         "metadata": "{}",
         "name": "qt_cod",
         "type": "\"long\""
        }
       ],
       "type": "table"
      }
     },
     "output_type": "display_data"
    }
   ],
   "source": [
    "%sql\n",
    "select  \n",
    "  country, \n",
    "  count(distinct country_code) qt_cod\n",
    "from `tb_life_expectancy_silver`\n",
    "group by 1 order by 2 desc limit 50"
   ]
  },
  {
   "cell_type": "markdown",
   "metadata": {
    "application/vnd.databricks.v1+cell": {
     "cellMetadata": {
      "byteLimit": 2048000,
      "rowLimit": 10000
     },
     "inputWidgets": {},
     "nuid": "e33f9c21-f472-460d-9ece-a28406610ac5",
     "showTitle": false,
     "title": ""
    }
   },
   "source": [
    "Confirmando que 1 código só está associado à 1 país:"
   ]
  },
  {
   "cell_type": "code",
   "execution_count": 0,
   "metadata": {
    "application/vnd.databricks.v1+cell": {
     "cellMetadata": {
      "byteLimit": 2048000,
      "implicitDf": true,
      "rowLimit": 10000
     },
     "collapsed": true,
     "inputWidgets": {},
     "nuid": "6cee1c21-7029-4eae-8488-226500559532",
     "showTitle": false,
     "title": ""
    }
   },
   "outputs": [
    {
     "output_type": "display_data",
     "data": {
      "text/html": [
       "<style scoped>\n",
       "  .table-result-container {\n",
       "    max-height: 300px;\n",
       "    overflow: auto;\n",
       "  }\n",
       "  table, th, td {\n",
       "    border: 1px solid black;\n",
       "    border-collapse: collapse;\n",
       "  }\n",
       "  th, td {\n",
       "    padding: 5px;\n",
       "  }\n",
       "  th {\n",
       "    text-align: left;\n",
       "  }\n",
       "</style><div class='table-result-container'><table class='table-result'><thead style='background-color: white'><tr><th>country_code</th><th>qt_country</th></tr></thead><tbody><tr><td>HTI</td><td>1</td></tr><tr><td>BRB</td><td>1</td></tr><tr><td>POL</td><td>1</td></tr><tr><td>LVA</td><td>1</td></tr><tr><td>JAM</td><td>1</td></tr><tr><td>ZMB</td><td>1</td></tr><tr><td>BRA</td><td>1</td></tr><tr><td>ARM</td><td>1</td></tr><tr><td>MOZ</td><td>1</td></tr><tr><td>JOR</td><td>1</td></tr><tr><td>CUB</td><td>1</td></tr><tr><td>SOM</td><td>1</td></tr><tr><td>FRA</td><td>1</td></tr><tr><td>URY</td><td>1</td></tr><tr><td>BOL</td><td>1</td></tr><tr><td>LBY</td><td>1</td></tr><tr><td>ETH</td><td>1</td></tr><tr><td>ATG</td><td>1</td></tr><tr><td>GNQ</td><td>1</td></tr><tr><td>ITA</td><td>1</td></tr><tr><td>UKR</td><td>1</td></tr><tr><td>CMR</td><td>1</td></tr><tr><td>GHA</td><td>1</td></tr><tr><td>NER</td><td>1</td></tr><tr><td>SEN</td><td>1</td></tr><tr><td>GTM</td><td>1</td></tr><tr><td>COM</td><td>1</td></tr><tr><td>GUY</td><td>1</td></tr><tr><td>HRV</td><td>1</td></tr><tr><td>QAT</td><td>1</td></tr><tr><td>GBR</td><td>1</td></tr><tr><td>PRY</td><td>1</td></tr><tr><td>ARE</td><td>1</td></tr><tr><td>TON</td><td>1</td></tr><tr><td>CRI</td><td>1</td></tr><tr><td>TJK</td><td>1</td></tr><tr><td>BMU</td><td>1</td></tr><tr><td>ERI</td><td>1</td></tr><tr><td>NPL</td><td>1</td></tr><tr><td>UGA</td><td>1</td></tr><tr><td>VUT</td><td>1</td></tr><tr><td>AZE</td><td>1</td></tr><tr><td>MLI</td><td>1</td></tr><tr><td>AUS</td><td>1</td></tr><tr><td>MLT</td><td>1</td></tr><tr><td>MEX</td><td>1</td></tr><tr><td>DMA</td><td>1</td></tr><tr><td>AFG</td><td>1</td></tr><tr><td>PNG</td><td>1</td></tr><tr><td>BGD</td><td>1</td></tr><tr><td>MNG</td><td>1</td></tr><tr><td>BLR</td><td>1</td></tr><tr><td>SYC</td><td>1</td></tr><tr><td>STP</td><td>1</td></tr><tr><td>HUN</td><td>1</td></tr><tr><td>TKM</td><td>1</td></tr><tr><td>NZL</td><td>1</td></tr><tr><td>DJI</td><td>1</td></tr><tr><td>THA</td><td>1</td></tr><tr><td>NOR</td><td>1</td></tr><tr><td>IRQ</td><td>1</td></tr><tr><td>TUV</td><td>1</td></tr><tr><td>GNB</td><td>1</td></tr><tr><td>SAU</td><td>1</td></tr><tr><td>BWA</td><td>1</td></tr><tr><td>FIN</td><td>1</td></tr><tr><td>BFA</td><td>1</td></tr><tr><td>DOM</td><td>1</td></tr><tr><td>ALB</td><td>1</td></tr><tr><td>TGO</td><td>1</td></tr><tr><td>BHR</td><td>1</td></tr><tr><td>NIC</td><td>1</td></tr><tr><td>SSD</td><td>1</td></tr><tr><td>SUR</td><td>1</td></tr><tr><td>BIH</td><td>1</td></tr><tr><td>KWT</td><td>1</td></tr><tr><td>MWI</td><td>1</td></tr><tr><td>FJI</td><td>1</td></tr><tr><td>MRT</td><td>1</td></tr><tr><td>AND</td><td>1</td></tr><tr><td>CAF</td><td>1</td></tr><tr><td>PER</td><td>1</td></tr><tr><td>NLD</td><td>1</td></tr><tr><td>PAK</td><td>1</td></tr><tr><td>LUX</td><td>1</td></tr><tr><td>RWA</td><td>1</td></tr><tr><td>SLE</td><td>1</td></tr><tr><td>MNE</td><td>1</td></tr><tr><td>AUT</td><td>1</td></tr><tr><td>BDI</td><td>1</td></tr><tr><td>USA</td><td>1</td></tr><tr><td>MDG</td><td>1</td></tr><tr><td>MAR</td><td>1</td></tr><tr><td>SDN</td><td>1</td></tr><tr><td>GEO</td><td>1</td></tr><tr><td>OMN</td><td>1</td></tr><tr><td>PAN</td><td>1</td></tr><tr><td>VNM</td><td>1</td></tr><tr><td>CIV</td><td>1</td></tr><tr><td>LBR</td><td>1</td></tr><tr><td>LSO</td><td>1</td></tr><tr><td>ZAF</td><td>1</td></tr><tr><td>BTN</td><td>1</td></tr><tr><td>ISR</td><td>1</td></tr><tr><td>PRT</td><td>1</td></tr><tr><td>TUN</td><td>1</td></tr><tr><td>NAM</td><td>1</td></tr><tr><td>SMR</td><td>1</td></tr><tr><td>GRL</td><td>1</td></tr><tr><td>LTU</td><td>1</td></tr><tr><td>CYP</td><td>1</td></tr><tr><td>ZWE</td><td>1</td></tr><tr><td>MYS</td><td>1</td></tr><tr><td>ASM</td><td>1</td></tr><tr><td>MHL</td><td>1</td></tr><tr><td>CHL</td><td>1</td></tr><tr><td>MUS</td><td>1</td></tr><tr><td>CAN</td><td>1</td></tr><tr><td>COL</td><td>1</td></tr><tr><td>KIR</td><td>1</td></tr><tr><td>ROU</td><td>1</td></tr><tr><td>ARG</td><td>1</td></tr><tr><td>BLZ</td><td>1</td></tr><tr><td>DNK</td><td>1</td></tr><tr><td>SWZ</td><td>1</td></tr><tr><td>TTO</td><td>1</td></tr><tr><td>PRI</td><td>1</td></tr><tr><td>ESP</td><td>1</td></tr><tr><td>KEN</td><td>1</td></tr><tr><td>LKA</td><td>1</td></tr><tr><td>WSM</td><td>1</td></tr><tr><td>MDV</td><td>1</td></tr><tr><td>MNP</td><td>1</td></tr><tr><td>LBN</td><td>1</td></tr><tr><td>EST</td><td>1</td></tr><tr><td>AGO</td><td>1</td></tr><tr><td>SLB</td><td>1</td></tr><tr><td>IRL</td><td>1</td></tr><tr><td>SWE</td><td>1</td></tr><tr><td>GAB</td><td>1</td></tr><tr><td>NGA</td><td>1</td></tr><tr><td>HND</td><td>1</td></tr><tr><td>SVN</td><td>1</td></tr><tr><td>NRU</td><td>1</td></tr><tr><td>GUM</td><td>1</td></tr><tr><td>SLV</td><td>1</td></tr><tr><td>ECU</td><td>1</td></tr><tr><td>GRD</td><td>1</td></tr><tr><td>GRC</td><td>1</td></tr><tr><td>GIN</td><td>1</td></tr><tr><td>SGP</td><td>1</td></tr><tr><td>IND</td><td>1</td></tr><tr><td>KAZ</td><td>1</td></tr><tr><td>MMR</td><td>1</td></tr><tr><td>KHM</td><td>1</td></tr><tr><td>TCD</td><td>1</td></tr><tr><td>MKD</td><td>1</td></tr><tr><td>BEL</td><td>1</td></tr><tr><td>CHN</td><td>1</td></tr><tr><td>IDN</td><td>1</td></tr><tr><td>DEU</td><td>1</td></tr><tr><td>MDA</td><td>1</td></tr><tr><td>DZA</td><td>1</td></tr><tr><td>UZB</td><td>1</td></tr><tr><td>BGR</td><td>1</td></tr><tr><td>MCO</td><td>1</td></tr><tr><td>JPN</td><td>1</td></tr><tr><td>SRB</td><td>1</td></tr><tr><td>TZA</td><td>1</td></tr><tr><td>PLW</td><td>1</td></tr><tr><td>CHE</td><td>1</td></tr><tr><td>PHL</td><td>1</td></tr><tr><td>ISL</td><td>1</td></tr><tr><td>BEN</td><td>1</td></tr></tbody></table></div>"
      ]
     },
     "metadata": {
      "application/vnd.databricks.v1+output": {
       "addedWidgets": {},
       "aggData": [],
       "aggError": "",
       "aggOverflow": false,
       "aggSchema": [],
       "aggSeriesLimitReached": false,
       "aggType": "",
       "arguments": {},
       "columnCustomDisplayInfos": {},
       "data": [
        [
         "HTI",
         1
        ],
        [
         "BRB",
         1
        ],
        [
         "POL",
         1
        ],
        [
         "LVA",
         1
        ],
        [
         "JAM",
         1
        ],
        [
         "ZMB",
         1
        ],
        [
         "BRA",
         1
        ],
        [
         "ARM",
         1
        ],
        [
         "MOZ",
         1
        ],
        [
         "JOR",
         1
        ],
        [
         "CUB",
         1
        ],
        [
         "SOM",
         1
        ],
        [
         "FRA",
         1
        ],
        [
         "URY",
         1
        ],
        [
         "BOL",
         1
        ],
        [
         "LBY",
         1
        ],
        [
         "ETH",
         1
        ],
        [
         "ATG",
         1
        ],
        [
         "GNQ",
         1
        ],
        [
         "ITA",
         1
        ],
        [
         "UKR",
         1
        ],
        [
         "CMR",
         1
        ],
        [
         "GHA",
         1
        ],
        [
         "NER",
         1
        ],
        [
         "SEN",
         1
        ],
        [
         "GTM",
         1
        ],
        [
         "COM",
         1
        ],
        [
         "GUY",
         1
        ],
        [
         "HRV",
         1
        ],
        [
         "QAT",
         1
        ],
        [
         "GBR",
         1
        ],
        [
         "PRY",
         1
        ],
        [
         "ARE",
         1
        ],
        [
         "TON",
         1
        ],
        [
         "CRI",
         1
        ],
        [
         "TJK",
         1
        ],
        [
         "BMU",
         1
        ],
        [
         "ERI",
         1
        ],
        [
         "NPL",
         1
        ],
        [
         "UGA",
         1
        ],
        [
         "VUT",
         1
        ],
        [
         "AZE",
         1
        ],
        [
         "MLI",
         1
        ],
        [
         "AUS",
         1
        ],
        [
         "MLT",
         1
        ],
        [
         "MEX",
         1
        ],
        [
         "DMA",
         1
        ],
        [
         "AFG",
         1
        ],
        [
         "PNG",
         1
        ],
        [
         "BGD",
         1
        ],
        [
         "MNG",
         1
        ],
        [
         "BLR",
         1
        ],
        [
         "SYC",
         1
        ],
        [
         "STP",
         1
        ],
        [
         "HUN",
         1
        ],
        [
         "TKM",
         1
        ],
        [
         "NZL",
         1
        ],
        [
         "DJI",
         1
        ],
        [
         "THA",
         1
        ],
        [
         "NOR",
         1
        ],
        [
         "IRQ",
         1
        ],
        [
         "TUV",
         1
        ],
        [
         "GNB",
         1
        ],
        [
         "SAU",
         1
        ],
        [
         "BWA",
         1
        ],
        [
         "FIN",
         1
        ],
        [
         "BFA",
         1
        ],
        [
         "DOM",
         1
        ],
        [
         "ALB",
         1
        ],
        [
         "TGO",
         1
        ],
        [
         "BHR",
         1
        ],
        [
         "NIC",
         1
        ],
        [
         "SSD",
         1
        ],
        [
         "SUR",
         1
        ],
        [
         "BIH",
         1
        ],
        [
         "KWT",
         1
        ],
        [
         "MWI",
         1
        ],
        [
         "FJI",
         1
        ],
        [
         "MRT",
         1
        ],
        [
         "AND",
         1
        ],
        [
         "CAF",
         1
        ],
        [
         "PER",
         1
        ],
        [
         "NLD",
         1
        ],
        [
         "PAK",
         1
        ],
        [
         "LUX",
         1
        ],
        [
         "RWA",
         1
        ],
        [
         "SLE",
         1
        ],
        [
         "MNE",
         1
        ],
        [
         "AUT",
         1
        ],
        [
         "BDI",
         1
        ],
        [
         "USA",
         1
        ],
        [
         "MDG",
         1
        ],
        [
         "MAR",
         1
        ],
        [
         "SDN",
         1
        ],
        [
         "GEO",
         1
        ],
        [
         "OMN",
         1
        ],
        [
         "PAN",
         1
        ],
        [
         "VNM",
         1
        ],
        [
         "CIV",
         1
        ],
        [
         "LBR",
         1
        ],
        [
         "LSO",
         1
        ],
        [
         "ZAF",
         1
        ],
        [
         "BTN",
         1
        ],
        [
         "ISR",
         1
        ],
        [
         "PRT",
         1
        ],
        [
         "TUN",
         1
        ],
        [
         "NAM",
         1
        ],
        [
         "SMR",
         1
        ],
        [
         "GRL",
         1
        ],
        [
         "LTU",
         1
        ],
        [
         "CYP",
         1
        ],
        [
         "ZWE",
         1
        ],
        [
         "MYS",
         1
        ],
        [
         "ASM",
         1
        ],
        [
         "MHL",
         1
        ],
        [
         "CHL",
         1
        ],
        [
         "MUS",
         1
        ],
        [
         "CAN",
         1
        ],
        [
         "COL",
         1
        ],
        [
         "KIR",
         1
        ],
        [
         "ROU",
         1
        ],
        [
         "ARG",
         1
        ],
        [
         "BLZ",
         1
        ],
        [
         "DNK",
         1
        ],
        [
         "SWZ",
         1
        ],
        [
         "TTO",
         1
        ],
        [
         "PRI",
         1
        ],
        [
         "ESP",
         1
        ],
        [
         "KEN",
         1
        ],
        [
         "LKA",
         1
        ],
        [
         "WSM",
         1
        ],
        [
         "MDV",
         1
        ],
        [
         "MNP",
         1
        ],
        [
         "LBN",
         1
        ],
        [
         "EST",
         1
        ],
        [
         "AGO",
         1
        ],
        [
         "SLB",
         1
        ],
        [
         "IRL",
         1
        ],
        [
         "SWE",
         1
        ],
        [
         "GAB",
         1
        ],
        [
         "NGA",
         1
        ],
        [
         "HND",
         1
        ],
        [
         "SVN",
         1
        ],
        [
         "NRU",
         1
        ],
        [
         "GUM",
         1
        ],
        [
         "SLV",
         1
        ],
        [
         "ECU",
         1
        ],
        [
         "GRD",
         1
        ],
        [
         "GRC",
         1
        ],
        [
         "GIN",
         1
        ],
        [
         "SGP",
         1
        ],
        [
         "IND",
         1
        ],
        [
         "KAZ",
         1
        ],
        [
         "MMR",
         1
        ],
        [
         "KHM",
         1
        ],
        [
         "TCD",
         1
        ],
        [
         "MKD",
         1
        ],
        [
         "BEL",
         1
        ],
        [
         "CHN",
         1
        ],
        [
         "IDN",
         1
        ],
        [
         "DEU",
         1
        ],
        [
         "MDA",
         1
        ],
        [
         "DZA",
         1
        ],
        [
         "UZB",
         1
        ],
        [
         "BGR",
         1
        ],
        [
         "MCO",
         1
        ],
        [
         "JPN",
         1
        ],
        [
         "SRB",
         1
        ],
        [
         "TZA",
         1
        ],
        [
         "PLW",
         1
        ],
        [
         "CHE",
         1
        ],
        [
         "PHL",
         1
        ],
        [
         "ISL",
         1
        ],
        [
         "BEN",
         1
        ]
       ],
       "datasetInfos": [],
       "dbfsResultPath": null,
       "isJsonSchema": true,
       "metadata": {},
       "overflow": false,
       "plotOptions": {
        "customPlotOptions": {},
        "displayType": "table",
        "pivotAggregation": null,
        "pivotColumns": null,
        "xColumns": null,
        "yColumns": null
       },
       "removedWidgets": [],
       "schema": [
        {
         "metadata": "{\"comment\":\"The 3-letter code of the country\"}",
         "name": "country_code",
         "type": "\"string\""
        },
        {
         "metadata": "{}",
         "name": "qt_country",
         "type": "\"long\""
        }
       ],
       "type": "table"
      }
     },
     "output_type": "display_data"
    }
   ],
   "source": [
    "%sql\n",
    "select  \n",
    "  country_code, \n",
    "  count(distinct country) qt_country\n",
    "from `tb_life_expectancy_silver`\n",
    "group by 1 order by 2 desc"
   ]
  },
  {
   "cell_type": "markdown",
   "metadata": {
    "application/vnd.databricks.v1+cell": {
     "cellMetadata": {
      "byteLimit": 2048000,
      "rowLimit": 10000
     },
     "inputWidgets": {},
     "nuid": "40ee631e-c169-4b63-a4fc-9b6b7bf3cf14",
     "showTitle": false,
     "title": ""
    }
   },
   "source": [
    "Confirmando que os código e países da tabela silver são válidos:"
   ]
  },
  {
   "cell_type": "code",
   "execution_count": 0,
   "metadata": {
    "application/vnd.databricks.v1+cell": {
     "cellMetadata": {
      "byteLimit": 2048000,
      "implicitDf": true,
      "rowLimit": 10000
     },
     "inputWidgets": {},
     "nuid": "d91f5330-e503-48e1-ab36-9cbf3cb77372",
     "showTitle": false,
     "title": ""
    }
   },
   "outputs": [
    {
     "output_type": "display_data",
     "data": {
      "text/html": [
       "<style scoped>\n",
       "  .table-result-container {\n",
       "    max-height: 300px;\n",
       "    overflow: auto;\n",
       "  }\n",
       "  table, th, td {\n",
       "    border: 1px solid black;\n",
       "    border-collapse: collapse;\n",
       "  }\n",
       "  th, td {\n",
       "    padding: 5px;\n",
       "  }\n",
       "  th {\n",
       "    text-align: left;\n",
       "  }\n",
       "</style><div class='table-result-container'><table class='table-result'><thead style='background-color: white'><tr><th>country_name_aux</th><th>country_code_aux</th><th>country</th><th>country_code</th><th>flag_pais_igual</th><th>flag_codigo_igual</th></tr></thead><tbody><tr><td>Afghanistan</td><td>AFG</td><td>Afghanistan</td><td>AFG</td><td>true</td><td>true</td></tr><tr><td>Albania</td><td>ALB</td><td>Albania</td><td>ALB</td><td>true</td><td>true</td></tr><tr><td>Algeria</td><td>DZA</td><td>Algeria</td><td>DZA</td><td>true</td><td>true</td></tr><tr><td>American Samoa</td><td>ASM</td><td>American Samoa</td><td>ASM</td><td>true</td><td>true</td></tr><tr><td>Andorra</td><td>AND</td><td>Andorra</td><td>AND</td><td>true</td><td>true</td></tr><tr><td>Angola</td><td>AGO</td><td>Angola</td><td>AGO</td><td>true</td><td>true</td></tr><tr><td>Anguilla</td><td>AIA</td><td>null</td><td>null</td><td>null</td><td>null</td></tr><tr><td>Antarctica</td><td>ATA</td><td>null</td><td>null</td><td>null</td><td>null</td></tr><tr><td>Antigua and Barbuda</td><td>ATG</td><td>Antigua and Barbuda</td><td>ATG</td><td>true</td><td>true</td></tr><tr><td>Argentina</td><td>ARG</td><td>Argentina</td><td>ARG</td><td>true</td><td>true</td></tr><tr><td>Armenia</td><td>ARM</td><td>Armenia</td><td>ARM</td><td>true</td><td>true</td></tr><tr><td>Aruba</td><td>ABW</td><td>null</td><td>null</td><td>null</td><td>null</td></tr><tr><td>Australia</td><td>AUS</td><td>Australia</td><td>AUS</td><td>true</td><td>true</td></tr><tr><td>Austria</td><td>AUT</td><td>Austria</td><td>AUT</td><td>true</td><td>true</td></tr><tr><td>Azerbaijan</td><td>AZE</td><td>Azerbaijan</td><td>AZE</td><td>true</td><td>true</td></tr><tr><td>Bahamas</td><td>BHS</td><td>null</td><td>null</td><td>null</td><td>null</td></tr><tr><td>Bahrain</td><td>BHR</td><td>Bahrain</td><td>BHR</td><td>true</td><td>true</td></tr><tr><td>Bangladesh</td><td>BGD</td><td>Bangladesh</td><td>BGD</td><td>true</td><td>true</td></tr><tr><td>Barbados</td><td>BRB</td><td>Barbados</td><td>BRB</td><td>true</td><td>true</td></tr><tr><td>Belarus</td><td>BLR</td><td>Belarus</td><td>BLR</td><td>true</td><td>true</td></tr><tr><td>Belgium</td><td>BEL</td><td>Belgium</td><td>BEL</td><td>true</td><td>true</td></tr><tr><td>Belize</td><td>BLZ</td><td>Belize</td><td>BLZ</td><td>true</td><td>true</td></tr><tr><td>Benin</td><td>BEN</td><td>Benin</td><td>BEN</td><td>true</td><td>true</td></tr><tr><td>Bermuda</td><td>BMU</td><td>Bermuda</td><td>BMU</td><td>true</td><td>true</td></tr><tr><td>Bhutan</td><td>BTN</td><td>Bhutan</td><td>BTN</td><td>true</td><td>true</td></tr><tr><td>Bolivia, Plurinational State of</td><td>BOL</td><td>null</td><td>null</td><td>null</td><td>null</td></tr><tr><td>Bonaire, Sint Eustatius and Saba</td><td>BES</td><td>null</td><td>null</td><td>null</td><td>null</td></tr><tr><td>Bosnia and Herzegovina</td><td>BIH</td><td>Bosnia and Herzegovina</td><td>BIH</td><td>true</td><td>true</td></tr><tr><td>Botswana</td><td>BWA</td><td>Botswana</td><td>BWA</td><td>true</td><td>true</td></tr><tr><td>Bouvet Island</td><td>BVT</td><td>null</td><td>null</td><td>null</td><td>null</td></tr><tr><td>Brazil</td><td>BRA</td><td>Brazil</td><td>BRA</td><td>true</td><td>true</td></tr><tr><td>British Indian Ocean Territory</td><td>IOT</td><td>null</td><td>null</td><td>null</td><td>null</td></tr><tr><td>Brunei Darussalam</td><td>BRN</td><td>null</td><td>null</td><td>null</td><td>null</td></tr><tr><td>Bulgaria</td><td>BGR</td><td>Bulgaria</td><td>BGR</td><td>true</td><td>true</td></tr><tr><td>Burkina Faso</td><td>BFA</td><td>Burkina Faso</td><td>BFA</td><td>true</td><td>true</td></tr><tr><td>Burundi</td><td>BDI</td><td>Burundi</td><td>BDI</td><td>true</td><td>true</td></tr><tr><td>Cabo Verde</td><td>CPV</td><td>null</td><td>null</td><td>null</td><td>null</td></tr><tr><td>Cambodia</td><td>KHM</td><td>Cambodia</td><td>KHM</td><td>true</td><td>true</td></tr><tr><td>Cameroon</td><td>CMR</td><td>Cameroon</td><td>CMR</td><td>true</td><td>true</td></tr><tr><td>Canada</td><td>CAN</td><td>Canada</td><td>CAN</td><td>true</td><td>true</td></tr><tr><td>Cayman Islands</td><td>CYM</td><td>null</td><td>null</td><td>null</td><td>null</td></tr><tr><td>Central African Republic</td><td>CAF</td><td>Central African Republic</td><td>CAF</td><td>true</td><td>true</td></tr><tr><td>Chad</td><td>TCD</td><td>Chad</td><td>TCD</td><td>true</td><td>true</td></tr><tr><td>Chile</td><td>CHL</td><td>Chile</td><td>CHL</td><td>true</td><td>true</td></tr><tr><td>China</td><td>CHN</td><td>China</td><td>CHN</td><td>true</td><td>true</td></tr><tr><td>Christmas Island</td><td>CXR</td><td>null</td><td>null</td><td>null</td><td>null</td></tr><tr><td>Cocos (Keeling) Islands</td><td>CCK</td><td>null</td><td>null</td><td>null</td><td>null</td></tr><tr><td>Colombia</td><td>COL</td><td>Colombia</td><td>COL</td><td>true</td><td>true</td></tr><tr><td>Comoros</td><td>COM</td><td>Comoros</td><td>COM</td><td>true</td><td>true</td></tr><tr><td>Congo</td><td>COG</td><td>null</td><td>null</td><td>null</td><td>null</td></tr><tr><td>Congo, Democratic Republic of the</td><td>COD</td><td>null</td><td>null</td><td>null</td><td>null</td></tr><tr><td>Cook Islands</td><td>COK</td><td>null</td><td>null</td><td>null</td><td>null</td></tr><tr><td>Costa Rica</td><td>CRI</td><td>Costa Rica</td><td>CRI</td><td>true</td><td>true</td></tr><tr><td>Croatia</td><td>HRV</td><td>Croatia</td><td>HRV</td><td>true</td><td>true</td></tr><tr><td>Cuba</td><td>CUB</td><td>Cuba</td><td>CUB</td><td>true</td><td>true</td></tr><tr><td>Curaçao</td><td>CUW</td><td>null</td><td>null</td><td>null</td><td>null</td></tr><tr><td>Cyprus</td><td>CYP</td><td>Cyprus</td><td>CYP</td><td>true</td><td>true</td></tr><tr><td>Czechia</td><td>CZE</td><td>null</td><td>null</td><td>null</td><td>null</td></tr><tr><td>Côte d'Ivoire</td><td>CIV</td><td>null</td><td>null</td><td>null</td><td>null</td></tr><tr><td>Denmark</td><td>DNK</td><td>Denmark</td><td>DNK</td><td>true</td><td>true</td></tr><tr><td>Djibouti</td><td>DJI</td><td>Djibouti</td><td>DJI</td><td>true</td><td>true</td></tr><tr><td>Dominica</td><td>DMA</td><td>Dominica</td><td>DMA</td><td>true</td><td>true</td></tr><tr><td>Dominican Republic</td><td>DOM</td><td>Dominican Republic</td><td>DOM</td><td>true</td><td>true</td></tr><tr><td>Ecuador</td><td>ECU</td><td>Ecuador</td><td>ECU</td><td>true</td><td>true</td></tr><tr><td>Egypt</td><td>EGY</td><td>null</td><td>null</td><td>null</td><td>null</td></tr><tr><td>El Salvador</td><td>SLV</td><td>El Salvador</td><td>SLV</td><td>true</td><td>true</td></tr><tr><td>Equatorial Guinea</td><td>GNQ</td><td>Equatorial Guinea</td><td>GNQ</td><td>true</td><td>true</td></tr><tr><td>Eritrea</td><td>ERI</td><td>Eritrea</td><td>ERI</td><td>true</td><td>true</td></tr><tr><td>Estonia</td><td>EST</td><td>Estonia</td><td>EST</td><td>true</td><td>true</td></tr><tr><td>Eswatini</td><td>SWZ</td><td>Eswatini</td><td>SWZ</td><td>true</td><td>true</td></tr><tr><td>Ethiopia</td><td>ETH</td><td>Ethiopia</td><td>ETH</td><td>true</td><td>true</td></tr><tr><td>Falkland Islands (Malvinas)</td><td>FLK</td><td>null</td><td>null</td><td>null</td><td>null</td></tr><tr><td>Faroe Islands</td><td>FRO</td><td>null</td><td>null</td><td>null</td><td>null</td></tr><tr><td>Fiji</td><td>FJI</td><td>Fiji</td><td>FJI</td><td>true</td><td>true</td></tr><tr><td>Finland</td><td>FIN</td><td>Finland</td><td>FIN</td><td>true</td><td>true</td></tr><tr><td>France</td><td>FRA</td><td>France</td><td>FRA</td><td>true</td><td>true</td></tr><tr><td>French Guiana</td><td>GUF</td><td>null</td><td>null</td><td>null</td><td>null</td></tr><tr><td>French Polynesia</td><td>PYF</td><td>null</td><td>null</td><td>null</td><td>null</td></tr><tr><td>French Southern Territories</td><td>ATF</td><td>null</td><td>null</td><td>null</td><td>null</td></tr><tr><td>Gabon</td><td>GAB</td><td>Gabon</td><td>GAB</td><td>true</td><td>true</td></tr><tr><td>Gambia</td><td>GMB</td><td>null</td><td>null</td><td>null</td><td>null</td></tr><tr><td>Georgia</td><td>GEO</td><td>Georgia</td><td>GEO</td><td>true</td><td>true</td></tr><tr><td>Germany</td><td>DEU</td><td>Germany</td><td>DEU</td><td>true</td><td>true</td></tr><tr><td>Ghana</td><td>GHA</td><td>Ghana</td><td>GHA</td><td>true</td><td>true</td></tr><tr><td>Gibraltar</td><td>GIB</td><td>null</td><td>null</td><td>null</td><td>null</td></tr><tr><td>Greece</td><td>GRC</td><td>Greece</td><td>GRC</td><td>true</td><td>true</td></tr><tr><td>Greenland</td><td>GRL</td><td>Greenland</td><td>GRL</td><td>true</td><td>true</td></tr><tr><td>Grenada</td><td>GRD</td><td>Grenada</td><td>GRD</td><td>true</td><td>true</td></tr><tr><td>Guadeloupe</td><td>GLP</td><td>null</td><td>null</td><td>null</td><td>null</td></tr><tr><td>Guam</td><td>GUM</td><td>Guam</td><td>GUM</td><td>true</td><td>true</td></tr><tr><td>Guatemala</td><td>GTM</td><td>Guatemala</td><td>GTM</td><td>true</td><td>true</td></tr><tr><td>Guernsey</td><td>GGY</td><td>null</td><td>null</td><td>null</td><td>null</td></tr><tr><td>Guinea</td><td>GIN</td><td>Guinea</td><td>GIN</td><td>true</td><td>true</td></tr><tr><td>Guinea-Bissau</td><td>GNB</td><td>Guinea-Bissau</td><td>GNB</td><td>true</td><td>true</td></tr><tr><td>Guyana</td><td>GUY</td><td>Guyana</td><td>GUY</td><td>true</td><td>true</td></tr><tr><td>Haiti</td><td>HTI</td><td>Haiti</td><td>HTI</td><td>true</td><td>true</td></tr><tr><td>Heard Island and McDonald Islands</td><td>HMD</td><td>null</td><td>null</td><td>null</td><td>null</td></tr><tr><td>Holy See</td><td>VAT</td><td>null</td><td>null</td><td>null</td><td>null</td></tr><tr><td>Honduras</td><td>HND</td><td>Honduras</td><td>HND</td><td>true</td><td>true</td></tr><tr><td>Hong Kong</td><td>HKG</td><td>null</td><td>null</td><td>null</td><td>null</td></tr><tr><td>Hungary</td><td>HUN</td><td>Hungary</td><td>HUN</td><td>true</td><td>true</td></tr><tr><td>Iceland</td><td>ISL</td><td>Iceland</td><td>ISL</td><td>true</td><td>true</td></tr><tr><td>India</td><td>IND</td><td>India</td><td>IND</td><td>true</td><td>true</td></tr><tr><td>Indonesia</td><td>IDN</td><td>Indonesia</td><td>IDN</td><td>true</td><td>true</td></tr><tr><td>Iran, Islamic Republic of</td><td>IRN</td><td>null</td><td>null</td><td>null</td><td>null</td></tr><tr><td>Iraq</td><td>IRQ</td><td>Iraq</td><td>IRQ</td><td>true</td><td>true</td></tr><tr><td>Ireland</td><td>IRL</td><td>Ireland</td><td>IRL</td><td>true</td><td>true</td></tr><tr><td>Isle of Man</td><td>IMN</td><td>null</td><td>null</td><td>null</td><td>null</td></tr><tr><td>Israel</td><td>ISR</td><td>Israel</td><td>ISR</td><td>true</td><td>true</td></tr><tr><td>Italy</td><td>ITA</td><td>Italy</td><td>ITA</td><td>true</td><td>true</td></tr><tr><td>Jamaica</td><td>JAM</td><td>Jamaica</td><td>JAM</td><td>true</td><td>true</td></tr><tr><td>Japan</td><td>JPN</td><td>Japan</td><td>JPN</td><td>true</td><td>true</td></tr><tr><td>Jersey</td><td>JEY</td><td>null</td><td>null</td><td>null</td><td>null</td></tr><tr><td>Jordan</td><td>JOR</td><td>Jordan</td><td>JOR</td><td>true</td><td>true</td></tr><tr><td>Kazakhstan</td><td>KAZ</td><td>Kazakhstan</td><td>KAZ</td><td>true</td><td>true</td></tr><tr><td>Kenya</td><td>KEN</td><td>Kenya</td><td>KEN</td><td>true</td><td>true</td></tr><tr><td>Kiribati</td><td>KIR</td><td>Kiribati</td><td>KIR</td><td>true</td><td>true</td></tr><tr><td>Korea, Democratic People's Republic of</td><td>PRK</td><td>null</td><td>null</td><td>null</td><td>null</td></tr><tr><td>Korea, Republic of</td><td>KOR</td><td>null</td><td>null</td><td>null</td><td>null</td></tr><tr><td>Kuwait</td><td>KWT</td><td>Kuwait</td><td>KWT</td><td>true</td><td>true</td></tr><tr><td>Kyrgyzstan</td><td>KGZ</td><td>null</td><td>null</td><td>null</td><td>null</td></tr><tr><td>Lao People's Democratic Republic</td><td>LAO</td><td>null</td><td>null</td><td>null</td><td>null</td></tr><tr><td>Latvia</td><td>LVA</td><td>Latvia</td><td>LVA</td><td>true</td><td>true</td></tr><tr><td>Lebanon</td><td>LBN</td><td>Lebanon</td><td>LBN</td><td>true</td><td>true</td></tr><tr><td>Lesotho</td><td>LSO</td><td>Lesotho</td><td>LSO</td><td>true</td><td>true</td></tr><tr><td>Liberia</td><td>LBR</td><td>Liberia</td><td>LBR</td><td>true</td><td>true</td></tr><tr><td>Libya</td><td>LBY</td><td>Libya</td><td>LBY</td><td>true</td><td>true</td></tr><tr><td>Liechtenstein</td><td>LIE</td><td>null</td><td>null</td><td>null</td><td>null</td></tr><tr><td>Lithuania</td><td>LTU</td><td>Lithuania</td><td>LTU</td><td>true</td><td>true</td></tr><tr><td>Luxembourg</td><td>LUX</td><td>Luxembourg</td><td>LUX</td><td>true</td><td>true</td></tr><tr><td>Macao</td><td>MAC</td><td>null</td><td>null</td><td>null</td><td>null</td></tr><tr><td>Madagascar</td><td>MDG</td><td>Madagascar</td><td>MDG</td><td>true</td><td>true</td></tr><tr><td>Malawi</td><td>MWI</td><td>Malawi</td><td>MWI</td><td>true</td><td>true</td></tr><tr><td>Malaysia</td><td>MYS</td><td>Malaysia</td><td>MYS</td><td>true</td><td>true</td></tr><tr><td>Maldives</td><td>MDV</td><td>Maldives</td><td>MDV</td><td>true</td><td>true</td></tr><tr><td>Mali</td><td>MLI</td><td>Mali</td><td>MLI</td><td>true</td><td>true</td></tr><tr><td>Malta</td><td>MLT</td><td>Malta</td><td>MLT</td><td>true</td><td>true</td></tr><tr><td>Marshall Islands</td><td>MHL</td><td>Marshall Islands</td><td>MHL</td><td>true</td><td>true</td></tr><tr><td>Martinique</td><td>MTQ</td><td>null</td><td>null</td><td>null</td><td>null</td></tr><tr><td>Mauritania</td><td>MRT</td><td>Mauritania</td><td>MRT</td><td>true</td><td>true</td></tr><tr><td>Mauritius</td><td>MUS</td><td>Mauritius</td><td>MUS</td><td>true</td><td>true</td></tr><tr><td>Mayotte</td><td>MYT</td><td>null</td><td>null</td><td>null</td><td>null</td></tr><tr><td>Mexico</td><td>MEX</td><td>Mexico</td><td>MEX</td><td>true</td><td>true</td></tr><tr><td>Micronesia, Federated States of</td><td>FSM</td><td>null</td><td>null</td><td>null</td><td>null</td></tr><tr><td>Moldova, Republic of</td><td>MDA</td><td>null</td><td>null</td><td>null</td><td>null</td></tr><tr><td>Monaco</td><td>MCO</td><td>Monaco</td><td>MCO</td><td>true</td><td>true</td></tr><tr><td>Mongolia</td><td>MNG</td><td>Mongolia</td><td>MNG</td><td>true</td><td>true</td></tr><tr><td>Montenegro</td><td>MNE</td><td>Montenegro</td><td>MNE</td><td>true</td><td>true</td></tr><tr><td>Montserrat</td><td>MSR</td><td>null</td><td>null</td><td>null</td><td>null</td></tr><tr><td>Morocco</td><td>MAR</td><td>Morocco</td><td>MAR</td><td>true</td><td>true</td></tr><tr><td>Mozambique</td><td>MOZ</td><td>Mozambique</td><td>MOZ</td><td>true</td><td>true</td></tr><tr><td>Myanmar</td><td>MMR</td><td>Myanmar</td><td>MMR</td><td>true</td><td>true</td></tr><tr><td>Namibia</td><td>NAM</td><td>Namibia</td><td>NAM</td><td>true</td><td>true</td></tr><tr><td>Nauru</td><td>NRU</td><td>Nauru</td><td>NRU</td><td>true</td><td>true</td></tr><tr><td>Nepal</td><td>NPL</td><td>Nepal</td><td>NPL</td><td>true</td><td>true</td></tr><tr><td>Netherlands, Kingdom of the</td><td>NLD</td><td>null</td><td>null</td><td>null</td><td>null</td></tr><tr><td>New Caledonia</td><td>NCL</td><td>null</td><td>null</td><td>null</td><td>null</td></tr><tr><td>New Zealand</td><td>NZL</td><td>New Zealand</td><td>NZL</td><td>true</td><td>true</td></tr><tr><td>Nicaragua</td><td>NIC</td><td>Nicaragua</td><td>NIC</td><td>true</td><td>true</td></tr><tr><td>Niger</td><td>NER</td><td>Niger</td><td>NER</td><td>true</td><td>true</td></tr><tr><td>Nigeria</td><td>NGA</td><td>Nigeria</td><td>NGA</td><td>true</td><td>true</td></tr><tr><td>Niue</td><td>NIU</td><td>null</td><td>null</td><td>null</td><td>null</td></tr><tr><td>Norfolk Island</td><td>NFK</td><td>null</td><td>null</td><td>null</td><td>null</td></tr><tr><td>North Macedonia</td><td>MKD</td><td>North Macedonia</td><td>MKD</td><td>true</td><td>true</td></tr><tr><td>Northern Mariana Islands</td><td>MNP</td><td>Northern Mariana Islands</td><td>MNP</td><td>true</td><td>true</td></tr><tr><td>Norway</td><td>NOR</td><td>Norway</td><td>NOR</td><td>true</td><td>true</td></tr><tr><td>Oman</td><td>OMN</td><td>Oman</td><td>OMN</td><td>true</td><td>true</td></tr><tr><td>Pakistan</td><td>PAK</td><td>Pakistan</td><td>PAK</td><td>true</td><td>true</td></tr><tr><td>Palau</td><td>PLW</td><td>Palau</td><td>PLW</td><td>true</td><td>true</td></tr><tr><td>Palestine, State of</td><td>PSE</td><td>null</td><td>null</td><td>null</td><td>null</td></tr><tr><td>Panama</td><td>PAN</td><td>Panama</td><td>PAN</td><td>true</td><td>true</td></tr><tr><td>Papua New Guinea</td><td>PNG</td><td>Papua New Guinea</td><td>PNG</td><td>true</td><td>true</td></tr><tr><td>Paraguay</td><td>PRY</td><td>Paraguay</td><td>PRY</td><td>true</td><td>true</td></tr><tr><td>Peru</td><td>PER</td><td>Peru</td><td>PER</td><td>true</td><td>true</td></tr><tr><td>Philippines</td><td>PHL</td><td>Philippines</td><td>PHL</td><td>true</td><td>true</td></tr><tr><td>Pitcairn</td><td>PCN</td><td>null</td><td>null</td><td>null</td><td>null</td></tr><tr><td>Poland</td><td>POL</td><td>Poland</td><td>POL</td><td>true</td><td>true</td></tr><tr><td>Portugal</td><td>PRT</td><td>Portugal</td><td>PRT</td><td>true</td><td>true</td></tr><tr><td>Puerto Rico</td><td>PRI</td><td>Puerto Rico</td><td>PRI</td><td>true</td><td>true</td></tr><tr><td>Qatar</td><td>QAT</td><td>Qatar</td><td>QAT</td><td>true</td><td>true</td></tr><tr><td>Romania</td><td>ROU</td><td>Romania</td><td>ROU</td><td>true</td><td>true</td></tr><tr><td>Russian Federation</td><td>RUS</td><td>null</td><td>null</td><td>null</td><td>null</td></tr><tr><td>Rwanda</td><td>RWA</td><td>Rwanda</td><td>RWA</td><td>true</td><td>true</td></tr><tr><td>Réunion</td><td>REU</td><td>null</td><td>null</td><td>null</td><td>null</td></tr><tr><td>Saint Barthélemy</td><td>BLM</td><td>null</td><td>null</td><td>null</td><td>null</td></tr><tr><td>Saint Helena, Ascension and Tristan da Cunha</td><td>SHN</td><td>null</td><td>null</td><td>null</td><td>null</td></tr><tr><td>Saint Kitts and Nevis</td><td>KNA</td><td>null</td><td>null</td><td>null</td><td>null</td></tr><tr><td>Saint Lucia</td><td>LCA</td><td>null</td><td>null</td><td>null</td><td>null</td></tr><tr><td>Saint Martin (French part)</td><td>MAF</td><td>null</td><td>null</td><td>null</td><td>null</td></tr><tr><td>Saint Pierre and Miquelon</td><td>SPM</td><td>null</td><td>null</td><td>null</td><td>null</td></tr><tr><td>Saint Vincent and the Grenadines</td><td>VCT</td><td>null</td><td>null</td><td>null</td><td>null</td></tr><tr><td>Samoa</td><td>WSM</td><td>Samoa</td><td>WSM</td><td>true</td><td>true</td></tr><tr><td>San Marino</td><td>SMR</td><td>San Marino</td><td>SMR</td><td>true</td><td>true</td></tr><tr><td>Sao Tome and Principe</td><td>STP</td><td>Sao Tome and Principe</td><td>STP</td><td>true</td><td>true</td></tr><tr><td>Saudi Arabia</td><td>SAU</td><td>Saudi Arabia</td><td>SAU</td><td>true</td><td>true</td></tr><tr><td>Senegal</td><td>SEN</td><td>Senegal</td><td>SEN</td><td>true</td><td>true</td></tr><tr><td>Serbia</td><td>SRB</td><td>Serbia</td><td>SRB</td><td>true</td><td>true</td></tr><tr><td>Seychelles</td><td>SYC</td><td>Seychelles</td><td>SYC</td><td>true</td><td>true</td></tr><tr><td>Sierra Leone</td><td>SLE</td><td>Sierra Leone</td><td>SLE</td><td>true</td><td>true</td></tr><tr><td>Singapore</td><td>SGP</td><td>Singapore</td><td>SGP</td><td>true</td><td>true</td></tr><tr><td>Sint Maarten (Dutch part)</td><td>SXM</td><td>null</td><td>null</td><td>null</td><td>null</td></tr><tr><td>Slovakia</td><td>SVK</td><td>null</td><td>null</td><td>null</td><td>null</td></tr><tr><td>Slovenia</td><td>SVN</td><td>Slovenia</td><td>SVN</td><td>true</td><td>true</td></tr><tr><td>Solomon Islands</td><td>SLB</td><td>Solomon Islands</td><td>SLB</td><td>true</td><td>true</td></tr><tr><td>Somalia</td><td>SOM</td><td>Somalia</td><td>SOM</td><td>true</td><td>true</td></tr><tr><td>South Africa</td><td>ZAF</td><td>South Africa</td><td>ZAF</td><td>true</td><td>true</td></tr><tr><td>South Georgia and the South Sandwich Islands</td><td>SGS</td><td>null</td><td>null</td><td>null</td><td>null</td></tr><tr><td>South Sudan</td><td>SSD</td><td>South Sudan</td><td>SSD</td><td>true</td><td>true</td></tr><tr><td>Spain</td><td>ESP</td><td>Spain</td><td>ESP</td><td>true</td><td>true</td></tr><tr><td>Sri Lanka</td><td>LKA</td><td>Sri Lanka</td><td>LKA</td><td>true</td><td>true</td></tr><tr><td>Sudan</td><td>SDN</td><td>Sudan</td><td>SDN</td><td>true</td><td>true</td></tr><tr><td>Suriname</td><td>SUR</td><td>Suriname</td><td>SUR</td><td>true</td><td>true</td></tr><tr><td>Svalbard and Jan Mayen</td><td>SJM</td><td>null</td><td>null</td><td>null</td><td>null</td></tr><tr><td>Sweden</td><td>SWE</td><td>Sweden</td><td>SWE</td><td>true</td><td>true</td></tr><tr><td>Switzerland</td><td>CHE</td><td>Switzerland</td><td>CHE</td><td>true</td><td>true</td></tr><tr><td>Syrian Arab Republic</td><td>SYR</td><td>null</td><td>null</td><td>null</td><td>null</td></tr><tr><td>Taiwan, Province of China</td><td>TWN</td><td>null</td><td>null</td><td>null</td><td>null</td></tr><tr><td>Tajikistan</td><td>TJK</td><td>Tajikistan</td><td>TJK</td><td>true</td><td>true</td></tr><tr><td>Tanzania, United Republic of</td><td>TZA</td><td>null</td><td>null</td><td>null</td><td>null</td></tr><tr><td>Thailand</td><td>THA</td><td>Thailand</td><td>THA</td><td>true</td><td>true</td></tr><tr><td>Timor-Leste</td><td>TLS</td><td>null</td><td>null</td><td>null</td><td>null</td></tr><tr><td>Togo</td><td>TGO</td><td>Togo</td><td>TGO</td><td>true</td><td>true</td></tr><tr><td>Tokelau</td><td>TKL</td><td>null</td><td>null</td><td>null</td><td>null</td></tr><tr><td>Tonga</td><td>TON</td><td>Tonga</td><td>TON</td><td>true</td><td>true</td></tr><tr><td>Trinidad and Tobago</td><td>TTO</td><td>Trinidad and Tobago</td><td>TTO</td><td>true</td><td>true</td></tr><tr><td>Tunisia</td><td>TUN</td><td>Tunisia</td><td>TUN</td><td>true</td><td>true</td></tr><tr><td>Turkmenistan</td><td>TKM</td><td>Turkmenistan</td><td>TKM</td><td>true</td><td>true</td></tr><tr><td>Turks and Caicos Islands</td><td>TCA</td><td>null</td><td>null</td><td>null</td><td>null</td></tr><tr><td>Tuvalu</td><td>TUV</td><td>Tuvalu</td><td>TUV</td><td>true</td><td>true</td></tr><tr><td>Türkiye</td><td>TUR</td><td>null</td><td>null</td><td>null</td><td>null</td></tr><tr><td>Uganda</td><td>UGA</td><td>Uganda</td><td>UGA</td><td>true</td><td>true</td></tr><tr><td>Ukraine</td><td>UKR</td><td>Ukraine</td><td>UKR</td><td>true</td><td>true</td></tr><tr><td>United Arab Emirates</td><td>ARE</td><td>United Arab Emirates</td><td>ARE</td><td>true</td><td>true</td></tr><tr><td>United Kingdom of Great Britain and Northern Ireland</td><td>GBR</td><td>null</td><td>null</td><td>null</td><td>null</td></tr><tr><td>United States Minor Outlying Islands</td><td>UMI</td><td>null</td><td>null</td><td>null</td><td>null</td></tr><tr><td>United States of America</td><td>USA</td><td>null</td><td>null</td><td>null</td><td>null</td></tr><tr><td>Uruguay</td><td>URY</td><td>Uruguay</td><td>URY</td><td>true</td><td>true</td></tr><tr><td>Uzbekistan</td><td>UZB</td><td>Uzbekistan</td><td>UZB</td><td>true</td><td>true</td></tr><tr><td>Vanuatu</td><td>VUT</td><td>Vanuatu</td><td>VUT</td><td>true</td><td>true</td></tr><tr><td>Venezuela, Bolivarian Republic of</td><td>VEN</td><td>null</td><td>null</td><td>null</td><td>null</td></tr><tr><td>Viet Nam</td><td>VNM</td><td>null</td><td>null</td><td>null</td><td>null</td></tr><tr><td>Virgin Islands (British)</td><td>VGB</td><td>null</td><td>null</td><td>null</td><td>null</td></tr><tr><td>Virgin Islands (U.S.)</td><td>VIR</td><td>null</td><td>null</td><td>null</td><td>null</td></tr><tr><td>Wallis and Futuna</td><td>WLF</td><td>null</td><td>null</td><td>null</td><td>null</td></tr><tr><td>Western Sahara</td><td>ESH</td><td>null</td><td>null</td><td>null</td><td>null</td></tr><tr><td>Yemen</td><td>YEM</td><td>null</td><td>null</td><td>null</td><td>null</td></tr><tr><td>Zambia</td><td>ZMB</td><td>Zambia</td><td>ZMB</td><td>true</td><td>true</td></tr><tr><td>Zimbabwe</td><td>ZWE</td><td>Zimbabwe</td><td>ZWE</td><td>true</td><td>true</td></tr><tr><td>Åland Islands</td><td>ALA</td><td>null</td><td>null</td><td>null</td><td>null</td></tr></tbody></table></div>"
      ]
     },
     "metadata": {
      "application/vnd.databricks.v1+output": {
       "addedWidgets": {},
       "aggData": [],
       "aggError": "",
       "aggOverflow": false,
       "aggSchema": [],
       "aggSeriesLimitReached": false,
       "aggType": "",
       "arguments": {},
       "columnCustomDisplayInfos": {},
       "data": [
        [
         "Afghanistan",
         "AFG",
         "Afghanistan",
         "AFG",
         true,
         true
        ],
        [
         "Albania",
         "ALB",
         "Albania",
         "ALB",
         true,
         true
        ],
        [
         "Algeria",
         "DZA",
         "Algeria",
         "DZA",
         true,
         true
        ],
        [
         "American Samoa",
         "ASM",
         "American Samoa",
         "ASM",
         true,
         true
        ],
        [
         "Andorra",
         "AND",
         "Andorra",
         "AND",
         true,
         true
        ],
        [
         "Angola",
         "AGO",
         "Angola",
         "AGO",
         true,
         true
        ],
        [
         "Anguilla",
         "AIA",
         null,
         null,
         null,
         null
        ],
        [
         "Antarctica",
         "ATA",
         null,
         null,
         null,
         null
        ],
        [
         "Antigua and Barbuda",
         "ATG",
         "Antigua and Barbuda",
         "ATG",
         true,
         true
        ],
        [
         "Argentina",
         "ARG",
         "Argentina",
         "ARG",
         true,
         true
        ],
        [
         "Armenia",
         "ARM",
         "Armenia",
         "ARM",
         true,
         true
        ],
        [
         "Aruba",
         "ABW",
         null,
         null,
         null,
         null
        ],
        [
         "Australia",
         "AUS",
         "Australia",
         "AUS",
         true,
         true
        ],
        [
         "Austria",
         "AUT",
         "Austria",
         "AUT",
         true,
         true
        ],
        [
         "Azerbaijan",
         "AZE",
         "Azerbaijan",
         "AZE",
         true,
         true
        ],
        [
         "Bahamas",
         "BHS",
         null,
         null,
         null,
         null
        ],
        [
         "Bahrain",
         "BHR",
         "Bahrain",
         "BHR",
         true,
         true
        ],
        [
         "Bangladesh",
         "BGD",
         "Bangladesh",
         "BGD",
         true,
         true
        ],
        [
         "Barbados",
         "BRB",
         "Barbados",
         "BRB",
         true,
         true
        ],
        [
         "Belarus",
         "BLR",
         "Belarus",
         "BLR",
         true,
         true
        ],
        [
         "Belgium",
         "BEL",
         "Belgium",
         "BEL",
         true,
         true
        ],
        [
         "Belize",
         "BLZ",
         "Belize",
         "BLZ",
         true,
         true
        ],
        [
         "Benin",
         "BEN",
         "Benin",
         "BEN",
         true,
         true
        ],
        [
         "Bermuda",
         "BMU",
         "Bermuda",
         "BMU",
         true,
         true
        ],
        [
         "Bhutan",
         "BTN",
         "Bhutan",
         "BTN",
         true,
         true
        ],
        [
         "Bolivia, Plurinational State of",
         "BOL",
         null,
         null,
         null,
         null
        ],
        [
         "Bonaire, Sint Eustatius and Saba",
         "BES",
         null,
         null,
         null,
         null
        ],
        [
         "Bosnia and Herzegovina",
         "BIH",
         "Bosnia and Herzegovina",
         "BIH",
         true,
         true
        ],
        [
         "Botswana",
         "BWA",
         "Botswana",
         "BWA",
         true,
         true
        ],
        [
         "Bouvet Island",
         "BVT",
         null,
         null,
         null,
         null
        ],
        [
         "Brazil",
         "BRA",
         "Brazil",
         "BRA",
         true,
         true
        ],
        [
         "British Indian Ocean Territory",
         "IOT",
         null,
         null,
         null,
         null
        ],
        [
         "Brunei Darussalam",
         "BRN",
         null,
         null,
         null,
         null
        ],
        [
         "Bulgaria",
         "BGR",
         "Bulgaria",
         "BGR",
         true,
         true
        ],
        [
         "Burkina Faso",
         "BFA",
         "Burkina Faso",
         "BFA",
         true,
         true
        ],
        [
         "Burundi",
         "BDI",
         "Burundi",
         "BDI",
         true,
         true
        ],
        [
         "Cabo Verde",
         "CPV",
         null,
         null,
         null,
         null
        ],
        [
         "Cambodia",
         "KHM",
         "Cambodia",
         "KHM",
         true,
         true
        ],
        [
         "Cameroon",
         "CMR",
         "Cameroon",
         "CMR",
         true,
         true
        ],
        [
         "Canada",
         "CAN",
         "Canada",
         "CAN",
         true,
         true
        ],
        [
         "Cayman Islands",
         "CYM",
         null,
         null,
         null,
         null
        ],
        [
         "Central African Republic",
         "CAF",
         "Central African Republic",
         "CAF",
         true,
         true
        ],
        [
         "Chad",
         "TCD",
         "Chad",
         "TCD",
         true,
         true
        ],
        [
         "Chile",
         "CHL",
         "Chile",
         "CHL",
         true,
         true
        ],
        [
         "China",
         "CHN",
         "China",
         "CHN",
         true,
         true
        ],
        [
         "Christmas Island",
         "CXR",
         null,
         null,
         null,
         null
        ],
        [
         "Cocos (Keeling) Islands",
         "CCK",
         null,
         null,
         null,
         null
        ],
        [
         "Colombia",
         "COL",
         "Colombia",
         "COL",
         true,
         true
        ],
        [
         "Comoros",
         "COM",
         "Comoros",
         "COM",
         true,
         true
        ],
        [
         "Congo",
         "COG",
         null,
         null,
         null,
         null
        ],
        [
         "Congo, Democratic Republic of the",
         "COD",
         null,
         null,
         null,
         null
        ],
        [
         "Cook Islands",
         "COK",
         null,
         null,
         null,
         null
        ],
        [
         "Costa Rica",
         "CRI",
         "Costa Rica",
         "CRI",
         true,
         true
        ],
        [
         "Croatia",
         "HRV",
         "Croatia",
         "HRV",
         true,
         true
        ],
        [
         "Cuba",
         "CUB",
         "Cuba",
         "CUB",
         true,
         true
        ],
        [
         "Curaçao",
         "CUW",
         null,
         null,
         null,
         null
        ],
        [
         "Cyprus",
         "CYP",
         "Cyprus",
         "CYP",
         true,
         true
        ],
        [
         "Czechia",
         "CZE",
         null,
         null,
         null,
         null
        ],
        [
         "Côte d'Ivoire",
         "CIV",
         null,
         null,
         null,
         null
        ],
        [
         "Denmark",
         "DNK",
         "Denmark",
         "DNK",
         true,
         true
        ],
        [
         "Djibouti",
         "DJI",
         "Djibouti",
         "DJI",
         true,
         true
        ],
        [
         "Dominica",
         "DMA",
         "Dominica",
         "DMA",
         true,
         true
        ],
        [
         "Dominican Republic",
         "DOM",
         "Dominican Republic",
         "DOM",
         true,
         true
        ],
        [
         "Ecuador",
         "ECU",
         "Ecuador",
         "ECU",
         true,
         true
        ],
        [
         "Egypt",
         "EGY",
         null,
         null,
         null,
         null
        ],
        [
         "El Salvador",
         "SLV",
         "El Salvador",
         "SLV",
         true,
         true
        ],
        [
         "Equatorial Guinea",
         "GNQ",
         "Equatorial Guinea",
         "GNQ",
         true,
         true
        ],
        [
         "Eritrea",
         "ERI",
         "Eritrea",
         "ERI",
         true,
         true
        ],
        [
         "Estonia",
         "EST",
         "Estonia",
         "EST",
         true,
         true
        ],
        [
         "Eswatini",
         "SWZ",
         "Eswatini",
         "SWZ",
         true,
         true
        ],
        [
         "Ethiopia",
         "ETH",
         "Ethiopia",
         "ETH",
         true,
         true
        ],
        [
         "Falkland Islands (Malvinas)",
         "FLK",
         null,
         null,
         null,
         null
        ],
        [
         "Faroe Islands",
         "FRO",
         null,
         null,
         null,
         null
        ],
        [
         "Fiji",
         "FJI",
         "Fiji",
         "FJI",
         true,
         true
        ],
        [
         "Finland",
         "FIN",
         "Finland",
         "FIN",
         true,
         true
        ],
        [
         "France",
         "FRA",
         "France",
         "FRA",
         true,
         true
        ],
        [
         "French Guiana",
         "GUF",
         null,
         null,
         null,
         null
        ],
        [
         "French Polynesia",
         "PYF",
         null,
         null,
         null,
         null
        ],
        [
         "French Southern Territories",
         "ATF",
         null,
         null,
         null,
         null
        ],
        [
         "Gabon",
         "GAB",
         "Gabon",
         "GAB",
         true,
         true
        ],
        [
         "Gambia",
         "GMB",
         null,
         null,
         null,
         null
        ],
        [
         "Georgia",
         "GEO",
         "Georgia",
         "GEO",
         true,
         true
        ],
        [
         "Germany",
         "DEU",
         "Germany",
         "DEU",
         true,
         true
        ],
        [
         "Ghana",
         "GHA",
         "Ghana",
         "GHA",
         true,
         true
        ],
        [
         "Gibraltar",
         "GIB",
         null,
         null,
         null,
         null
        ],
        [
         "Greece",
         "GRC",
         "Greece",
         "GRC",
         true,
         true
        ],
        [
         "Greenland",
         "GRL",
         "Greenland",
         "GRL",
         true,
         true
        ],
        [
         "Grenada",
         "GRD",
         "Grenada",
         "GRD",
         true,
         true
        ],
        [
         "Guadeloupe",
         "GLP",
         null,
         null,
         null,
         null
        ],
        [
         "Guam",
         "GUM",
         "Guam",
         "GUM",
         true,
         true
        ],
        [
         "Guatemala",
         "GTM",
         "Guatemala",
         "GTM",
         true,
         true
        ],
        [
         "Guernsey",
         "GGY",
         null,
         null,
         null,
         null
        ],
        [
         "Guinea",
         "GIN",
         "Guinea",
         "GIN",
         true,
         true
        ],
        [
         "Guinea-Bissau",
         "GNB",
         "Guinea-Bissau",
         "GNB",
         true,
         true
        ],
        [
         "Guyana",
         "GUY",
         "Guyana",
         "GUY",
         true,
         true
        ],
        [
         "Haiti",
         "HTI",
         "Haiti",
         "HTI",
         true,
         true
        ],
        [
         "Heard Island and McDonald Islands",
         "HMD",
         null,
         null,
         null,
         null
        ],
        [
         "Holy See",
         "VAT",
         null,
         null,
         null,
         null
        ],
        [
         "Honduras",
         "HND",
         "Honduras",
         "HND",
         true,
         true
        ],
        [
         "Hong Kong",
         "HKG",
         null,
         null,
         null,
         null
        ],
        [
         "Hungary",
         "HUN",
         "Hungary",
         "HUN",
         true,
         true
        ],
        [
         "Iceland",
         "ISL",
         "Iceland",
         "ISL",
         true,
         true
        ],
        [
         "India",
         "IND",
         "India",
         "IND",
         true,
         true
        ],
        [
         "Indonesia",
         "IDN",
         "Indonesia",
         "IDN",
         true,
         true
        ],
        [
         "Iran, Islamic Republic of",
         "IRN",
         null,
         null,
         null,
         null
        ],
        [
         "Iraq",
         "IRQ",
         "Iraq",
         "IRQ",
         true,
         true
        ],
        [
         "Ireland",
         "IRL",
         "Ireland",
         "IRL",
         true,
         true
        ],
        [
         "Isle of Man",
         "IMN",
         null,
         null,
         null,
         null
        ],
        [
         "Israel",
         "ISR",
         "Israel",
         "ISR",
         true,
         true
        ],
        [
         "Italy",
         "ITA",
         "Italy",
         "ITA",
         true,
         true
        ],
        [
         "Jamaica",
         "JAM",
         "Jamaica",
         "JAM",
         true,
         true
        ],
        [
         "Japan",
         "JPN",
         "Japan",
         "JPN",
         true,
         true
        ],
        [
         "Jersey",
         "JEY",
         null,
         null,
         null,
         null
        ],
        [
         "Jordan",
         "JOR",
         "Jordan",
         "JOR",
         true,
         true
        ],
        [
         "Kazakhstan",
         "KAZ",
         "Kazakhstan",
         "KAZ",
         true,
         true
        ],
        [
         "Kenya",
         "KEN",
         "Kenya",
         "KEN",
         true,
         true
        ],
        [
         "Kiribati",
         "KIR",
         "Kiribati",
         "KIR",
         true,
         true
        ],
        [
         "Korea, Democratic People's Republic of",
         "PRK",
         null,
         null,
         null,
         null
        ],
        [
         "Korea, Republic of",
         "KOR",
         null,
         null,
         null,
         null
        ],
        [
         "Kuwait",
         "KWT",
         "Kuwait",
         "KWT",
         true,
         true
        ],
        [
         "Kyrgyzstan",
         "KGZ",
         null,
         null,
         null,
         null
        ],
        [
         "Lao People's Democratic Republic",
         "LAO",
         null,
         null,
         null,
         null
        ],
        [
         "Latvia",
         "LVA",
         "Latvia",
         "LVA",
         true,
         true
        ],
        [
         "Lebanon",
         "LBN",
         "Lebanon",
         "LBN",
         true,
         true
        ],
        [
         "Lesotho",
         "LSO",
         "Lesotho",
         "LSO",
         true,
         true
        ],
        [
         "Liberia",
         "LBR",
         "Liberia",
         "LBR",
         true,
         true
        ],
        [
         "Libya",
         "LBY",
         "Libya",
         "LBY",
         true,
         true
        ],
        [
         "Liechtenstein",
         "LIE",
         null,
         null,
         null,
         null
        ],
        [
         "Lithuania",
         "LTU",
         "Lithuania",
         "LTU",
         true,
         true
        ],
        [
         "Luxembourg",
         "LUX",
         "Luxembourg",
         "LUX",
         true,
         true
        ],
        [
         "Macao",
         "MAC",
         null,
         null,
         null,
         null
        ],
        [
         "Madagascar",
         "MDG",
         "Madagascar",
         "MDG",
         true,
         true
        ],
        [
         "Malawi",
         "MWI",
         "Malawi",
         "MWI",
         true,
         true
        ],
        [
         "Malaysia",
         "MYS",
         "Malaysia",
         "MYS",
         true,
         true
        ],
        [
         "Maldives",
         "MDV",
         "Maldives",
         "MDV",
         true,
         true
        ],
        [
         "Mali",
         "MLI",
         "Mali",
         "MLI",
         true,
         true
        ],
        [
         "Malta",
         "MLT",
         "Malta",
         "MLT",
         true,
         true
        ],
        [
         "Marshall Islands",
         "MHL",
         "Marshall Islands",
         "MHL",
         true,
         true
        ],
        [
         "Martinique",
         "MTQ",
         null,
         null,
         null,
         null
        ],
        [
         "Mauritania",
         "MRT",
         "Mauritania",
         "MRT",
         true,
         true
        ],
        [
         "Mauritius",
         "MUS",
         "Mauritius",
         "MUS",
         true,
         true
        ],
        [
         "Mayotte",
         "MYT",
         null,
         null,
         null,
         null
        ],
        [
         "Mexico",
         "MEX",
         "Mexico",
         "MEX",
         true,
         true
        ],
        [
         "Micronesia, Federated States of",
         "FSM",
         null,
         null,
         null,
         null
        ],
        [
         "Moldova, Republic of",
         "MDA",
         null,
         null,
         null,
         null
        ],
        [
         "Monaco",
         "MCO",
         "Monaco",
         "MCO",
         true,
         true
        ],
        [
         "Mongolia",
         "MNG",
         "Mongolia",
         "MNG",
         true,
         true
        ],
        [
         "Montenegro",
         "MNE",
         "Montenegro",
         "MNE",
         true,
         true
        ],
        [
         "Montserrat",
         "MSR",
         null,
         null,
         null,
         null
        ],
        [
         "Morocco",
         "MAR",
         "Morocco",
         "MAR",
         true,
         true
        ],
        [
         "Mozambique",
         "MOZ",
         "Mozambique",
         "MOZ",
         true,
         true
        ],
        [
         "Myanmar",
         "MMR",
         "Myanmar",
         "MMR",
         true,
         true
        ],
        [
         "Namibia",
         "NAM",
         "Namibia",
         "NAM",
         true,
         true
        ],
        [
         "Nauru",
         "NRU",
         "Nauru",
         "NRU",
         true,
         true
        ],
        [
         "Nepal",
         "NPL",
         "Nepal",
         "NPL",
         true,
         true
        ],
        [
         "Netherlands, Kingdom of the",
         "NLD",
         null,
         null,
         null,
         null
        ],
        [
         "New Caledonia",
         "NCL",
         null,
         null,
         null,
         null
        ],
        [
         "New Zealand",
         "NZL",
         "New Zealand",
         "NZL",
         true,
         true
        ],
        [
         "Nicaragua",
         "NIC",
         "Nicaragua",
         "NIC",
         true,
         true
        ],
        [
         "Niger",
         "NER",
         "Niger",
         "NER",
         true,
         true
        ],
        [
         "Nigeria",
         "NGA",
         "Nigeria",
         "NGA",
         true,
         true
        ],
        [
         "Niue",
         "NIU",
         null,
         null,
         null,
         null
        ],
        [
         "Norfolk Island",
         "NFK",
         null,
         null,
         null,
         null
        ],
        [
         "North Macedonia",
         "MKD",
         "North Macedonia",
         "MKD",
         true,
         true
        ],
        [
         "Northern Mariana Islands",
         "MNP",
         "Northern Mariana Islands",
         "MNP",
         true,
         true
        ],
        [
         "Norway",
         "NOR",
         "Norway",
         "NOR",
         true,
         true
        ],
        [
         "Oman",
         "OMN",
         "Oman",
         "OMN",
         true,
         true
        ],
        [
         "Pakistan",
         "PAK",
         "Pakistan",
         "PAK",
         true,
         true
        ],
        [
         "Palau",
         "PLW",
         "Palau",
         "PLW",
         true,
         true
        ],
        [
         "Palestine, State of",
         "PSE",
         null,
         null,
         null,
         null
        ],
        [
         "Panama",
         "PAN",
         "Panama",
         "PAN",
         true,
         true
        ],
        [
         "Papua New Guinea",
         "PNG",
         "Papua New Guinea",
         "PNG",
         true,
         true
        ],
        [
         "Paraguay",
         "PRY",
         "Paraguay",
         "PRY",
         true,
         true
        ],
        [
         "Peru",
         "PER",
         "Peru",
         "PER",
         true,
         true
        ],
        [
         "Philippines",
         "PHL",
         "Philippines",
         "PHL",
         true,
         true
        ],
        [
         "Pitcairn",
         "PCN",
         null,
         null,
         null,
         null
        ],
        [
         "Poland",
         "POL",
         "Poland",
         "POL",
         true,
         true
        ],
        [
         "Portugal",
         "PRT",
         "Portugal",
         "PRT",
         true,
         true
        ],
        [
         "Puerto Rico",
         "PRI",
         "Puerto Rico",
         "PRI",
         true,
         true
        ],
        [
         "Qatar",
         "QAT",
         "Qatar",
         "QAT",
         true,
         true
        ],
        [
         "Romania",
         "ROU",
         "Romania",
         "ROU",
         true,
         true
        ],
        [
         "Russian Federation",
         "RUS",
         null,
         null,
         null,
         null
        ],
        [
         "Rwanda",
         "RWA",
         "Rwanda",
         "RWA",
         true,
         true
        ],
        [
         "Réunion",
         "REU",
         null,
         null,
         null,
         null
        ],
        [
         "Saint Barthélemy",
         "BLM",
         null,
         null,
         null,
         null
        ],
        [
         "Saint Helena, Ascension and Tristan da Cunha",
         "SHN",
         null,
         null,
         null,
         null
        ],
        [
         "Saint Kitts and Nevis",
         "KNA",
         null,
         null,
         null,
         null
        ],
        [
         "Saint Lucia",
         "LCA",
         null,
         null,
         null,
         null
        ],
        [
         "Saint Martin (French part)",
         "MAF",
         null,
         null,
         null,
         null
        ],
        [
         "Saint Pierre and Miquelon",
         "SPM",
         null,
         null,
         null,
         null
        ],
        [
         "Saint Vincent and the Grenadines",
         "VCT",
         null,
         null,
         null,
         null
        ],
        [
         "Samoa",
         "WSM",
         "Samoa",
         "WSM",
         true,
         true
        ],
        [
         "San Marino",
         "SMR",
         "San Marino",
         "SMR",
         true,
         true
        ],
        [
         "Sao Tome and Principe",
         "STP",
         "Sao Tome and Principe",
         "STP",
         true,
         true
        ],
        [
         "Saudi Arabia",
         "SAU",
         "Saudi Arabia",
         "SAU",
         true,
         true
        ],
        [
         "Senegal",
         "SEN",
         "Senegal",
         "SEN",
         true,
         true
        ],
        [
         "Serbia",
         "SRB",
         "Serbia",
         "SRB",
         true,
         true
        ],
        [
         "Seychelles",
         "SYC",
         "Seychelles",
         "SYC",
         true,
         true
        ],
        [
         "Sierra Leone",
         "SLE",
         "Sierra Leone",
         "SLE",
         true,
         true
        ],
        [
         "Singapore",
         "SGP",
         "Singapore",
         "SGP",
         true,
         true
        ],
        [
         "Sint Maarten (Dutch part)",
         "SXM",
         null,
         null,
         null,
         null
        ],
        [
         "Slovakia",
         "SVK",
         null,
         null,
         null,
         null
        ],
        [
         "Slovenia",
         "SVN",
         "Slovenia",
         "SVN",
         true,
         true
        ],
        [
         "Solomon Islands",
         "SLB",
         "Solomon Islands",
         "SLB",
         true,
         true
        ],
        [
         "Somalia",
         "SOM",
         "Somalia",
         "SOM",
         true,
         true
        ],
        [
         "South Africa",
         "ZAF",
         "South Africa",
         "ZAF",
         true,
         true
        ],
        [
         "South Georgia and the South Sandwich Islands",
         "SGS",
         null,
         null,
         null,
         null
        ],
        [
         "South Sudan",
         "SSD",
         "South Sudan",
         "SSD",
         true,
         true
        ],
        [
         "Spain",
         "ESP",
         "Spain",
         "ESP",
         true,
         true
        ],
        [
         "Sri Lanka",
         "LKA",
         "Sri Lanka",
         "LKA",
         true,
         true
        ],
        [
         "Sudan",
         "SDN",
         "Sudan",
         "SDN",
         true,
         true
        ],
        [
         "Suriname",
         "SUR",
         "Suriname",
         "SUR",
         true,
         true
        ],
        [
         "Svalbard and Jan Mayen",
         "SJM",
         null,
         null,
         null,
         null
        ],
        [
         "Sweden",
         "SWE",
         "Sweden",
         "SWE",
         true,
         true
        ],
        [
         "Switzerland",
         "CHE",
         "Switzerland",
         "CHE",
         true,
         true
        ],
        [
         "Syrian Arab Republic",
         "SYR",
         null,
         null,
         null,
         null
        ],
        [
         "Taiwan, Province of China",
         "TWN",
         null,
         null,
         null,
         null
        ],
        [
         "Tajikistan",
         "TJK",
         "Tajikistan",
         "TJK",
         true,
         true
        ],
        [
         "Tanzania, United Republic of",
         "TZA",
         null,
         null,
         null,
         null
        ],
        [
         "Thailand",
         "THA",
         "Thailand",
         "THA",
         true,
         true
        ],
        [
         "Timor-Leste",
         "TLS",
         null,
         null,
         null,
         null
        ],
        [
         "Togo",
         "TGO",
         "Togo",
         "TGO",
         true,
         true
        ],
        [
         "Tokelau",
         "TKL",
         null,
         null,
         null,
         null
        ],
        [
         "Tonga",
         "TON",
         "Tonga",
         "TON",
         true,
         true
        ],
        [
         "Trinidad and Tobago",
         "TTO",
         "Trinidad and Tobago",
         "TTO",
         true,
         true
        ],
        [
         "Tunisia",
         "TUN",
         "Tunisia",
         "TUN",
         true,
         true
        ],
        [
         "Turkmenistan",
         "TKM",
         "Turkmenistan",
         "TKM",
         true,
         true
        ],
        [
         "Turks and Caicos Islands",
         "TCA",
         null,
         null,
         null,
         null
        ],
        [
         "Tuvalu",
         "TUV",
         "Tuvalu",
         "TUV",
         true,
         true
        ],
        [
         "Türkiye",
         "TUR",
         null,
         null,
         null,
         null
        ],
        [
         "Uganda",
         "UGA",
         "Uganda",
         "UGA",
         true,
         true
        ],
        [
         "Ukraine",
         "UKR",
         "Ukraine",
         "UKR",
         true,
         true
        ],
        [
         "United Arab Emirates",
         "ARE",
         "United Arab Emirates",
         "ARE",
         true,
         true
        ],
        [
         "United Kingdom of Great Britain and Northern Ireland",
         "GBR",
         null,
         null,
         null,
         null
        ],
        [
         "United States Minor Outlying Islands",
         "UMI",
         null,
         null,
         null,
         null
        ],
        [
         "United States of America",
         "USA",
         null,
         null,
         null,
         null
        ],
        [
         "Uruguay",
         "URY",
         "Uruguay",
         "URY",
         true,
         true
        ],
        [
         "Uzbekistan",
         "UZB",
         "Uzbekistan",
         "UZB",
         true,
         true
        ],
        [
         "Vanuatu",
         "VUT",
         "Vanuatu",
         "VUT",
         true,
         true
        ],
        [
         "Venezuela, Bolivarian Republic of",
         "VEN",
         null,
         null,
         null,
         null
        ],
        [
         "Viet Nam",
         "VNM",
         null,
         null,
         null,
         null
        ],
        [
         "Virgin Islands (British)",
         "VGB",
         null,
         null,
         null,
         null
        ],
        [
         "Virgin Islands (U.S.)",
         "VIR",
         null,
         null,
         null,
         null
        ],
        [
         "Wallis and Futuna",
         "WLF",
         null,
         null,
         null,
         null
        ],
        [
         "Western Sahara",
         "ESH",
         null,
         null,
         null,
         null
        ],
        [
         "Yemen",
         "YEM",
         null,
         null,
         null,
         null
        ],
        [
         "Zambia",
         "ZMB",
         "Zambia",
         "ZMB",
         true,
         true
        ],
        [
         "Zimbabwe",
         "ZWE",
         "Zimbabwe",
         "ZWE",
         true,
         true
        ],
        [
         "Åland Islands",
         "ALA",
         null,
         null,
         null,
         null
        ]
       ],
       "datasetInfos": [],
       "dbfsResultPath": null,
       "isJsonSchema": true,
       "metadata": {},
       "overflow": false,
       "plotOptions": {
        "customPlotOptions": {},
        "displayType": "table",
        "pivotAggregation": null,
        "pivotColumns": null,
        "xColumns": null,
        "yColumns": null
       },
       "removedWidgets": [],
       "schema": [
        {
         "metadata": "{}",
         "name": "country_name_aux",
         "type": "\"string\""
        },
        {
         "metadata": "{}",
         "name": "country_code_aux",
         "type": "\"string\""
        },
        {
         "metadata": "{\"comment\":\"The name of the country\"}",
         "name": "country",
         "type": "\"string\""
        },
        {
         "metadata": "{\"comment\":\"The 3-letter code of the country\"}",
         "name": "country_code",
         "type": "\"string\""
        },
        {
         "metadata": "{}",
         "name": "flag_pais_igual",
         "type": "\"boolean\""
        },
        {
         "metadata": "{}",
         "name": "flag_codigo_igual",
         "type": "\"boolean\""
        }
       ],
       "type": "table"
      }
     },
     "output_type": "display_data"
    }
   ],
   "source": [
    "%sql\n",
    "with tb1 as ( select distinct country, country_code from `tb_life_expectancy_silver`)\n",
    "select \n",
    "  name as country_name_aux, \n",
    "  `alpha-3` as country_code_aux,\n",
    "  country, \n",
    "  country_code,\n",
    "  name = country as flag_pais_igual,\n",
    "  `alpha-3` = country_code as flag_codigo_igual\n",
    "from `tb_aux_country` tb2\n",
    "left join tb1 on tb1.country = tb2.name\n",
    "order by 1,2,3,4,5 "
   ]
  },
  {
   "cell_type": "markdown",
   "metadata": {
    "application/vnd.databricks.v1+cell": {
     "cellMetadata": {
      "byteLimit": 2048000,
      "rowLimit": 10000
     },
     "inputWidgets": {},
     "nuid": "1fc4f7f7-f22c-402a-9c90-802882954dc0",
     "showTitle": false,
     "title": ""
    }
   },
   "source": [
    "Perceba que não temos nenhum caso onde o nome do país ou o código do país está diferente do que temos na nossa base de validação. Por tanto iremos considerar que essas colunas do tb_life_expectancy_silver estão corretas."
   ]
  },
  {
   "cell_type": "markdown",
   "metadata": {
    "application/vnd.databricks.v1+cell": {
     "cellMetadata": {
      "byteLimit": 2048000,
      "rowLimit": 10000
     },
     "inputWidgets": {},
     "nuid": "b0bdc834-50a8-49ff-b521-edf65e17de2c",
     "showTitle": false,
     "title": ""
    }
   },
   "source": [
    "###### Colunas do tipo Double"
   ]
  },
  {
   "cell_type": "markdown",
   "metadata": {
    "application/vnd.databricks.v1+cell": {
     "cellMetadata": {
      "byteLimit": 2048000,
      "rowLimit": 10000
     },
     "inputWidgets": {},
     "nuid": "34d2c033-f408-4552-b5b8-ad3272cd7556",
     "showTitle": false,
     "title": ""
    }
   },
   "source": [
    "Não conseguimos encontrar uma documentação do World Bank Data indicando qual o intervalo de variação de cada campo. \n",
    "\n",
    "Os campos como prevelance_of_undernourishment, health_expenditure, education_expenditure, unemployment e sanitation são porcentagens e como já vimos na etapa \"Visão geral dos campos\" o intervalo dessas colunas está correto, variando de 0 à 100.\n",
    "\n",
    "O campo corruption, mostra o CPIA rating que varia de 1 à 6, também correto na tabela.\n",
    "\n",
    "Vamos agora analisar os demais campos númericos ano a ano para tentar identificar se em algum ano da pesquisa a mensuração mudou drasticamente. Caso não tenha mudado drasticamente vamos assumir um intervalo válido para as colunas."
   ]
  },
  {
   "cell_type": "markdown",
   "metadata": {
    "application/vnd.databricks.v1+cell": {
     "cellMetadata": {
      "byteLimit": 2048000,
      "rowLimit": 10000
     },
     "inputWidgets": {},
     "nuid": "ddc929af-cf74-4f6c-8bf8-c8b3d26dc31e",
     "showTitle": false,
     "title": ""
    }
   },
   "source": [
    "* Coluna co2"
   ]
  },
  {
   "cell_type": "code",
   "execution_count": 0,
   "metadata": {
    "application/vnd.databricks.v1+cell": {
     "cellMetadata": {
      "byteLimit": 2048000,
      "implicitDf": true,
      "rowLimit": 10000
     },
     "inputWidgets": {},
     "nuid": "7a666950-93bd-48e9-9e30-8ae35673ddac",
     "showTitle": false,
     "title": ""
    }
   },
   "outputs": [
    {
     "output_type": "display_data",
     "data": {
      "text/html": [
       "<style scoped>\n",
       "  .table-result-container {\n",
       "    max-height: 300px;\n",
       "    overflow: auto;\n",
       "  }\n",
       "  table, th, td {\n",
       "    border: 1px solid black;\n",
       "    border-collapse: collapse;\n",
       "  }\n",
       "  th, td {\n",
       "    padding: 5px;\n",
       "  }\n",
       "  th {\n",
       "    text-align: left;\n",
       "  }\n",
       "</style><div class='table-result-container'><table class='table-result'><thead style='background-color: white'><tr><th>year</th><th>min</th><th>median</th><th>mode</th><th>max</th></tr></thead><tbody><tr><td>2001</td><td>10.0</td><td>7830.0</td><td>150.0</td><td>5748260.0</td></tr><tr><td>2002</td><td>10.0</td><td>8005.0</td><td>240.0</td><td>5593029.79</td></tr><tr><td>2003</td><td>10.0</td><td>8505.0</td><td>410.0</td><td>5658990.23</td></tr><tr><td>2004</td><td>10.0</td><td>8835.0</td><td>560.0</td><td>5738290.04</td></tr><tr><td>2005</td><td>10.0</td><td>9640.0</td><td>70.0</td><td>5824629.88</td></tr><tr><td>2006</td><td>10.0</td><td>9600.0</td><td>510.0</td><td>6437470.21</td></tr><tr><td>2007</td><td>10.0</td><td>9730.0</td><td>110.0</td><td>6993180.18</td></tr><tr><td>2008</td><td>10.0</td><td>9550.0</td><td>540.0</td><td>7199600.1</td></tr><tr><td>2009</td><td>10.0</td><td>9290.0</td><td>140.0</td><td>7719069.82</td></tr><tr><td>2010</td><td>10.0</td><td>9775.0</td><td>7110.0</td><td>8474919.92</td></tr><tr><td>2011</td><td>10.0</td><td>10445.0</td><td>2460.0</td><td>9282549.8</td></tr><tr><td>2012</td><td>10.0</td><td>11310.0</td><td>120.0</td><td>9541870.12</td></tr><tr><td>2013</td><td>10.0</td><td>11070.0</td><td>120.0</td><td>9984570.31</td></tr><tr><td>2014</td><td>10.0</td><td>11470.0</td><td>480.0</td><td>1.000666992E7</td></tr><tr><td>2015</td><td>10.0</td><td>12060.0</td><td>650.0</td><td>9861099.61</td></tr><tr><td>2016</td><td>10.0</td><td>11200.0</td><td>180.0</td><td>9874660.16</td></tr><tr><td>2017</td><td>10.0</td><td>12585.0</td><td>8060.0</td><td>1.009600977E7</td></tr><tr><td>2018</td><td>10.0</td><td>14325.0</td><td>1550.0</td><td>1.050292969E7</td></tr><tr><td>2019</td><td>10.0</td><td>13395.0</td><td>330.0</td><td>1.070721973E7</td></tr></tbody></table></div>"
      ]
     },
     "metadata": {
      "application/vnd.databricks.v1+output": {
       "addedWidgets": {},
       "aggData": [],
       "aggError": "",
       "aggOverflow": false,
       "aggSchema": [],
       "aggSeriesLimitReached": false,
       "aggType": "",
       "arguments": {},
       "columnCustomDisplayInfos": {},
       "data": [
        [
         2001,
         10.0,
         7830.0,
         150.0,
         5748260.0
        ],
        [
         2002,
         10.0,
         8005.0,
         240.0,
         5593029.79
        ],
        [
         2003,
         10.0,
         8505.0,
         410.0,
         5658990.23
        ],
        [
         2004,
         10.0,
         8835.0,
         560.0,
         5738290.04
        ],
        [
         2005,
         10.0,
         9640.0,
         70.0,
         5824629.88
        ],
        [
         2006,
         10.0,
         9600.0,
         510.0,
         6437470.21
        ],
        [
         2007,
         10.0,
         9730.0,
         110.0,
         6993180.18
        ],
        [
         2008,
         10.0,
         9550.0,
         540.0,
         7199600.1
        ],
        [
         2009,
         10.0,
         9290.0,
         140.0,
         7719069.82
        ],
        [
         2010,
         10.0,
         9775.0,
         7110.0,
         8474919.92
        ],
        [
         2011,
         10.0,
         10445.0,
         2460.0,
         9282549.8
        ],
        [
         2012,
         10.0,
         11310.0,
         120.0,
         9541870.12
        ],
        [
         2013,
         10.0,
         11070.0,
         120.0,
         9984570.31
        ],
        [
         2014,
         10.0,
         11470.0,
         480.0,
         1.000666992E7
        ],
        [
         2015,
         10.0,
         12060.0,
         650.0,
         9861099.61
        ],
        [
         2016,
         10.0,
         11200.0,
         180.0,
         9874660.16
        ],
        [
         2017,
         10.0,
         12585.0,
         8060.0,
         1.009600977E7
        ],
        [
         2018,
         10.0,
         14325.0,
         1550.0,
         1.050292969E7
        ],
        [
         2019,
         10.0,
         13395.0,
         330.0,
         1.070721973E7
        ]
       ],
       "datasetInfos": [],
       "dbfsResultPath": null,
       "isJsonSchema": true,
       "metadata": {},
       "overflow": false,
       "plotOptions": {
        "customPlotOptions": {},
        "displayType": "table",
        "pivotAggregation": null,
        "pivotColumns": null,
        "xColumns": null,
        "yColumns": null
       },
       "removedWidgets": [],
       "schema": [
        {
         "metadata": "{\"comment\":\"The year of the report\"}",
         "name": "year",
         "type": "\"integer\""
        },
        {
         "metadata": "{}",
         "name": "min",
         "type": "\"double\""
        },
        {
         "metadata": "{}",
         "name": "median",
         "type": "\"double\""
        },
        {
         "metadata": "{}",
         "name": "mode",
         "type": "\"double\""
        },
        {
         "metadata": "{}",
         "name": "max",
         "type": "\"double\""
        }
       ],
       "type": "table"
      }
     },
     "output_type": "display_data"
    }
   ],
   "source": [
    "%sql\n",
    "\n",
    "select \n",
    "year,\n",
    "round(min(co2),2) min,\n",
    "round(median(co2),2) median,\n",
    "round(mode(co2),2) mode,\n",
    "round(max(co2),2) max\n",
    "from `tb_life_expectancy_silver`\n",
    "group by 1 order by 1"
   ]
  },
  {
   "cell_type": "markdown",
   "metadata": {
    "application/vnd.databricks.v1+cell": {
     "cellMetadata": {
      "byteLimit": 2048000,
      "rowLimit": 10000
     },
     "inputWidgets": {},
     "nuid": "20c103d6-0145-4797-b69b-5e4310fd85e5",
     "showTitle": false,
     "title": ""
    }
   },
   "source": [
    "Consluão da coluna co2: Não parece ter uma mudança drástica, vamos assumir que a coluna pode variar de 0 à infinito "
   ]
  },
  {
   "cell_type": "markdown",
   "metadata": {
    "application/vnd.databricks.v1+cell": {
     "cellMetadata": {
      "byteLimit": 2048000,
      "rowLimit": 10000
     },
     "inputWidgets": {},
     "nuid": "cfecf312-ad3c-4ce5-8cd1-fab1c6ae8d12",
     "showTitle": false,
     "title": ""
    }
   },
   "source": [
    "* Coluna injuries"
   ]
  },
  {
   "cell_type": "code",
   "execution_count": 0,
   "metadata": {
    "application/vnd.databricks.v1+cell": {
     "cellMetadata": {
      "byteLimit": 2048000,
      "implicitDf": true,
      "rowLimit": 10000
     },
     "inputWidgets": {},
     "nuid": "a9237b7c-20e3-4cfe-9462-0bc99758b115",
     "showTitle": false,
     "title": ""
    }
   },
   "outputs": [
    {
     "output_type": "display_data",
     "data": {
      "text/html": [
       "<style scoped>\n",
       "  .table-result-container {\n",
       "    max-height: 300px;\n",
       "    overflow: auto;\n",
       "  }\n",
       "  table, th, td {\n",
       "    border: 1px solid black;\n",
       "    border-collapse: collapse;\n",
       "  }\n",
       "  th, td {\n",
       "    padding: 5px;\n",
       "  }\n",
       "  th {\n",
       "    text-align: left;\n",
       "  }\n",
       "</style><div class='table-result-container'><table class='table-result'><thead style='background-color: white'><tr><th>year</th><th>min</th><th>median</th><th>mode</th><th>max</th></tr></thead><tbody><tr><td>2001</td><td>442.4</td><td>244198.47</td><td>146593.82</td><td>5.436221904E7</td></tr><tr><td>2002</td><td>437.01</td><td>245518.61</td><td>94392.85</td><td>5.218332247E7</td></tr><tr><td>2003</td><td>434.47</td><td>249015.26</td><td>2653768.21</td><td>5.094850262E7</td></tr><tr><td>2004</td><td>430.49</td><td>241396.65</td><td>2223.04</td><td>5.241938018E7</td></tr><tr><td>2005</td><td>432.67</td><td>246838.23</td><td>448791.29</td><td>5.313167951E7</td></tr><tr><td>2006</td><td>439.9</td><td>246589.64</td><td>305859.75</td><td>5.369786683E7</td></tr><tr><td>2007</td><td>443.84</td><td>254777.01</td><td>9453478.41</td><td>5.391455202E7</td></tr><tr><td>2008</td><td>445.84</td><td>250991.13</td><td>316781.93</td><td>5.464848534E7</td></tr><tr><td>2009</td><td>448.91</td><td>247131.51</td><td>4573.18</td><td>5.442011723E7</td></tr><tr><td>2010</td><td>452.37</td><td>245677.28</td><td>21470.06</td><td>5.507893461E7</td></tr><tr><td>2011</td><td>452.02</td><td>246176.85</td><td>1291123.13</td><td>5.56367593E7</td></tr><tr><td>2012</td><td>455.48</td><td>241713.65</td><td>388891.77</td><td>5.51120927E7</td></tr><tr><td>2013</td><td>458.13</td><td>234515.11</td><td>1602.89</td><td>5.386877494E7</td></tr><tr><td>2014</td><td>460.75</td><td>242356.1</td><td>698580.36</td><td>5.130670719E7</td></tr><tr><td>2015</td><td>462.59</td><td>245725.39</td><td>162765.27</td><td>5.0561002E7</td></tr><tr><td>2016</td><td>466.25</td><td>244287.71</td><td>4617131.95</td><td>5.012210776E7</td></tr><tr><td>2017</td><td>470.12</td><td>245486.28</td><td>4484.47</td><td>5.051356036E7</td></tr><tr><td>2018</td><td>472.67</td><td>252064.26</td><td>382398.7</td><td>5.263893426E7</td></tr><tr><td>2019</td><td>474.37</td><td>248678.51</td><td>9202.64</td><td>5.356390973E7</td></tr></tbody></table></div>"
      ]
     },
     "metadata": {
      "application/vnd.databricks.v1+output": {
       "addedWidgets": {},
       "aggData": [],
       "aggError": "",
       "aggOverflow": false,
       "aggSchema": [],
       "aggSeriesLimitReached": false,
       "aggType": "",
       "arguments": {},
       "columnCustomDisplayInfos": {},
       "data": [
        [
         2001,
         442.4,
         244198.47,
         146593.82,
         5.436221904E7
        ],
        [
         2002,
         437.01,
         245518.61,
         94392.85,
         5.218332247E7
        ],
        [
         2003,
         434.47,
         249015.26,
         2653768.21,
         5.094850262E7
        ],
        [
         2004,
         430.49,
         241396.65,
         2223.04,
         5.241938018E7
        ],
        [
         2005,
         432.67,
         246838.23,
         448791.29,
         5.313167951E7
        ],
        [
         2006,
         439.9,
         246589.64,
         305859.75,
         5.369786683E7
        ],
        [
         2007,
         443.84,
         254777.01,
         9453478.41,
         5.391455202E7
        ],
        [
         2008,
         445.84,
         250991.13,
         316781.93,
         5.464848534E7
        ],
        [
         2009,
         448.91,
         247131.51,
         4573.18,
         5.442011723E7
        ],
        [
         2010,
         452.37,
         245677.28,
         21470.06,
         5.507893461E7
        ],
        [
         2011,
         452.02,
         246176.85,
         1291123.13,
         5.56367593E7
        ],
        [
         2012,
         455.48,
         241713.65,
         388891.77,
         5.51120927E7
        ],
        [
         2013,
         458.13,
         234515.11,
         1602.89,
         5.386877494E7
        ],
        [
         2014,
         460.75,
         242356.1,
         698580.36,
         5.130670719E7
        ],
        [
         2015,
         462.59,
         245725.39,
         162765.27,
         5.0561002E7
        ],
        [
         2016,
         466.25,
         244287.71,
         4617131.95,
         5.012210776E7
        ],
        [
         2017,
         470.12,
         245486.28,
         4484.47,
         5.051356036E7
        ],
        [
         2018,
         472.67,
         252064.26,
         382398.7,
         5.263893426E7
        ],
        [
         2019,
         474.37,
         248678.51,
         9202.64,
         5.356390973E7
        ]
       ],
       "datasetInfos": [],
       "dbfsResultPath": null,
       "isJsonSchema": true,
       "metadata": {},
       "overflow": false,
       "plotOptions": {
        "customPlotOptions": {},
        "displayType": "table",
        "pivotAggregation": null,
        "pivotColumns": null,
        "xColumns": null,
        "yColumns": null
       },
       "removedWidgets": [],
       "schema": [
        {
         "metadata": "{\"comment\":\"The year of the report\"}",
         "name": "year",
         "type": "\"integer\""
        },
        {
         "metadata": "{}",
         "name": "min",
         "type": "\"double\""
        },
        {
         "metadata": "{}",
         "name": "median",
         "type": "\"double\""
        },
        {
         "metadata": "{}",
         "name": "mode",
         "type": "\"double\""
        },
        {
         "metadata": "{}",
         "name": "max",
         "type": "\"double\""
        }
       ],
       "type": "table"
      }
     },
     "output_type": "display_data"
    }
   ],
   "source": [
    "%sql\n",
    "\n",
    "select \n",
    "year,\n",
    "round(min(injuries),2) min,\n",
    "round(median(injuries),2) median,\n",
    "round(mode(injuries),2) mode,\n",
    "round(max(injuries),2) max\n",
    "from `tb_life_expectancy_silver`\n",
    "group by 1 order by 1"
   ]
  },
  {
   "cell_type": "markdown",
   "metadata": {
    "application/vnd.databricks.v1+cell": {
     "cellMetadata": {
      "byteLimit": 2048000,
      "rowLimit": 10000
     },
     "inputWidgets": {},
     "nuid": "1dee1b5d-3192-43b2-be36-0dc264d39a61",
     "showTitle": false,
     "title": ""
    }
   },
   "source": [
    "Conclusão da coluna injuries: Não parece ter uma mudança drástica, vamos assumir que a coluna pode variar de 0 à infinito "
   ]
  },
  {
   "cell_type": "markdown",
   "metadata": {
    "application/vnd.databricks.v1+cell": {
     "cellMetadata": {
      "byteLimit": 2048000,
      "rowLimit": 10000
     },
     "inputWidgets": {},
     "nuid": "10fd8414-2bb5-45ad-8550-2a4a7d49666c",
     "showTitle": false,
     "title": ""
    }
   },
   "source": [
    "* Coluna communicable_diseases"
   ]
  },
  {
   "cell_type": "code",
   "execution_count": 0,
   "metadata": {
    "application/vnd.databricks.v1+cell": {
     "cellMetadata": {
      "byteLimit": 2048000,
      "implicitDf": true,
      "rowLimit": 10000
     },
     "inputWidgets": {},
     "nuid": "8e7488a7-f8b4-416f-ae83-54eec468ac07",
     "showTitle": false,
     "title": ""
    }
   },
   "outputs": [
    {
     "output_type": "display_data",
     "data": {
      "text/html": [
       "<style scoped>\n",
       "  .table-result-container {\n",
       "    max-height: 300px;\n",
       "    overflow: auto;\n",
       "  }\n",
       "  table, th, td {\n",
       "    border: 1px solid black;\n",
       "    border-collapse: collapse;\n",
       "  }\n",
       "  th, td {\n",
       "    padding: 5px;\n",
       "  }\n",
       "  th {\n",
       "    text-align: left;\n",
       "  }\n",
       "</style><div class='table-result-container'><table class='table-result'><thead style='background-color: white'><tr><th>year</th><th>min</th><th>median</th><th>mode</th><th>max</th></tr></thead><tbody><tr><td>2001</td><td>330.16</td><td>374188.07</td><td>65951.41</td><td>2.685646098E8</td></tr><tr><td>2002</td><td>330.39</td><td>360825.83</td><td>355338.37</td><td>2.617666751E8</td></tr><tr><td>2003</td><td>332.94</td><td>357757.17</td><td>1.00231589E7</td><td>2.5493381E8</td></tr><tr><td>2004</td><td>333.25</td><td>351712.87</td><td>162823.93</td><td>2.497006037E8</td></tr><tr><td>2005</td><td>335.86</td><td>346751.12</td><td>4927531.22</td><td>2.457195843E8</td></tr><tr><td>2006</td><td>337.54</td><td>337054.63</td><td>1552646.71</td><td>2.395473988E8</td></tr><tr><td>2007</td><td>338.68</td><td>328600.87</td><td>174825.77</td><td>2.330214165E8</td></tr><tr><td>2008</td><td>340.39</td><td>322218.7</td><td>9924214.8</td><td>2.267182722E8</td></tr><tr><td>2009</td><td>341.41</td><td>313024.44</td><td>314071.21</td><td>2.176424903E8</td></tr><tr><td>2010</td><td>343.03</td><td>313034.41</td><td>122749.22</td><td>2.104841074E8</td></tr><tr><td>2011</td><td>344.7</td><td>317856.5</td><td>66856.83</td><td>2.040964282E8</td></tr><tr><td>2012</td><td>346.75</td><td>307636.89</td><td>18923.72</td><td>1.954040517E8</td></tr><tr><td>2013</td><td>348.6</td><td>302602.81</td><td>165548.8</td><td>1.878041487E8</td></tr><tr><td>2014</td><td>350.32</td><td>299226.56</td><td>1248643.46</td><td>1.780765928E8</td></tr><tr><td>2015</td><td>353.1</td><td>295057.68</td><td>2821774.21</td><td>1.707847652E8</td></tr><tr><td>2016</td><td>353.2</td><td>290594.19</td><td>631.03</td><td>1.586817508E8</td></tr><tr><td>2017</td><td>352.94</td><td>284641.77</td><td>1.519177988E8</td><td>1.519177988E8</td></tr><tr><td>2018</td><td>355.04</td><td>279577.39</td><td>102431.38</td><td>1.480113813E8</td></tr><tr><td>2019</td><td>357.19</td><td>274998.35</td><td>8496915.83</td><td>1.432144651E8</td></tr></tbody></table></div>"
      ]
     },
     "metadata": {
      "application/vnd.databricks.v1+output": {
       "addedWidgets": {},
       "aggData": [],
       "aggError": "",
       "aggOverflow": false,
       "aggSchema": [],
       "aggSeriesLimitReached": false,
       "aggType": "",
       "arguments": {},
       "columnCustomDisplayInfos": {},
       "data": [
        [
         2001,
         330.16,
         374188.07,
         65951.41,
         2.685646098E8
        ],
        [
         2002,
         330.39,
         360825.83,
         355338.37,
         2.617666751E8
        ],
        [
         2003,
         332.94,
         357757.17,
         1.00231589E7,
         2.5493381E8
        ],
        [
         2004,
         333.25,
         351712.87,
         162823.93,
         2.497006037E8
        ],
        [
         2005,
         335.86,
         346751.12,
         4927531.22,
         2.457195843E8
        ],
        [
         2006,
         337.54,
         337054.63,
         1552646.71,
         2.395473988E8
        ],
        [
         2007,
         338.68,
         328600.87,
         174825.77,
         2.330214165E8
        ],
        [
         2008,
         340.39,
         322218.7,
         9924214.8,
         2.267182722E8
        ],
        [
         2009,
         341.41,
         313024.44,
         314071.21,
         2.176424903E8
        ],
        [
         2010,
         343.03,
         313034.41,
         122749.22,
         2.104841074E8
        ],
        [
         2011,
         344.7,
         317856.5,
         66856.83,
         2.040964282E8
        ],
        [
         2012,
         346.75,
         307636.89,
         18923.72,
         1.954040517E8
        ],
        [
         2013,
         348.6,
         302602.81,
         165548.8,
         1.878041487E8
        ],
        [
         2014,
         350.32,
         299226.56,
         1248643.46,
         1.780765928E8
        ],
        [
         2015,
         353.1,
         295057.68,
         2821774.21,
         1.707847652E8
        ],
        [
         2016,
         353.2,
         290594.19,
         631.03,
         1.586817508E8
        ],
        [
         2017,
         352.94,
         284641.77,
         1.519177988E8,
         1.519177988E8
        ],
        [
         2018,
         355.04,
         279577.39,
         102431.38,
         1.480113813E8
        ],
        [
         2019,
         357.19,
         274998.35,
         8496915.83,
         1.432144651E8
        ]
       ],
       "datasetInfos": [],
       "dbfsResultPath": null,
       "isJsonSchema": true,
       "metadata": {},
       "overflow": false,
       "plotOptions": {
        "customPlotOptions": {},
        "displayType": "table",
        "pivotAggregation": null,
        "pivotColumns": null,
        "xColumns": null,
        "yColumns": null
       },
       "removedWidgets": [],
       "schema": [
        {
         "metadata": "{\"comment\":\"The year of the report\"}",
         "name": "year",
         "type": "\"integer\""
        },
        {
         "metadata": "{}",
         "name": "min",
         "type": "\"double\""
        },
        {
         "metadata": "{}",
         "name": "median",
         "type": "\"double\""
        },
        {
         "metadata": "{}",
         "name": "mode",
         "type": "\"double\""
        },
        {
         "metadata": "{}",
         "name": "max",
         "type": "\"double\""
        }
       ],
       "type": "table"
      }
     },
     "output_type": "display_data"
    }
   ],
   "source": [
    "%sql\n",
    "\n",
    "select \n",
    "year,\n",
    "round(min(communicable_diseases),2) min,\n",
    "round(median(communicable_diseases),2) median,\n",
    "round(mode(communicable_diseases),2) mode,\n",
    "round(max(communicable_diseases),2) max\n",
    "from `tb_life_expectancy_silver`\n",
    "group by 1 order by 1"
   ]
  },
  {
   "cell_type": "markdown",
   "metadata": {
    "application/vnd.databricks.v1+cell": {
     "cellMetadata": {
      "byteLimit": 2048000,
      "rowLimit": 10000
     },
     "inputWidgets": {},
     "nuid": "e5cdcc8c-289d-4213-9bae-fba05c4fb2fa",
     "showTitle": false,
     "title": ""
    }
   },
   "source": [
    "Conclusão da coluna communicable_diseases: Não parece ter uma mudança drástica, vamos assumir que a coluna pode variar de 0 à infinito "
   ]
  },
  {
   "cell_type": "markdown",
   "metadata": {
    "application/vnd.databricks.v1+cell": {
     "cellMetadata": {
      "byteLimit": 2048000,
      "rowLimit": 10000
     },
     "inputWidgets": {},
     "nuid": "5f55b537-6297-4671-ace2-2b239224c021",
     "showTitle": false,
     "title": ""
    }
   },
   "source": [
    "* Coluna non_communicable_diseases"
   ]
  },
  {
   "cell_type": "code",
   "execution_count": 0,
   "metadata": {
    "application/vnd.databricks.v1+cell": {
     "cellMetadata": {
      "byteLimit": 2048000,
      "implicitDf": true,
      "rowLimit": 10000
     },
     "inputWidgets": {},
     "nuid": "20077c39-59f9-4974-b965-1ba52ffee629",
     "showTitle": false,
     "title": ""
    }
   },
   "outputs": [
    {
     "output_type": "display_data",
     "data": {
      "text/html": [
       "<style scoped>\n",
       "  .table-result-container {\n",
       "    max-height: 300px;\n",
       "    overflow: auto;\n",
       "  }\n",
       "  table, th, td {\n",
       "    border: 1px solid black;\n",
       "    border-collapse: collapse;\n",
       "  }\n",
       "  th, td {\n",
       "    padding: 5px;\n",
       "  }\n",
       "  th {\n",
       "    text-align: left;\n",
       "  }\n",
       "</style><div class='table-result-container'><table class='table-result'><thead style='background-color: white'><tr><th>year</th><th>min</th><th>median</th><th>mode</th><th>max</th></tr></thead><tbody><tr><td>2001</td><td>2804.71</td><td>1186700.25</td><td>436296.46</td><td>2.754737359E8</td></tr><tr><td>2002</td><td>2806.28</td><td>1217859.32</td><td>1.020813562E7</td><td>2.784382721E8</td></tr><tr><td>2003</td><td>2818.13</td><td>1235149.32</td><td>6285.42</td><td>2.815111321E8</td></tr><tr><td>2004</td><td>2829.54</td><td>1263668.29</td><td>2274859.75</td><td>2.863238164E8</td></tr><tr><td>2005</td><td>2850.85</td><td>1308316.44</td><td>3555087.57</td><td>2.871766243E8</td></tr><tr><td>2006</td><td>2845.34</td><td>1309879.89</td><td>1122057.9</td><td>2.84440815E8</td></tr><tr><td>2007</td><td>2824.78</td><td>1313861.69</td><td>2102410.17</td><td>2.839731074E8</td></tr><tr><td>2008</td><td>2787.74</td><td>1317668.92</td><td>2.296876605E7</td><td>2.86177971E8</td></tr><tr><td>2009</td><td>2757.29</td><td>1315883.51</td><td>879031.95</td><td>2.891734364E8</td></tr><tr><td>2010</td><td>2704.27</td><td>1341515.63</td><td>1046264.66</td><td>2.93019139E8</td></tr><tr><td>2011</td><td>2653.62</td><td>1384861.36</td><td>843185.02</td><td>2.957614488E8</td></tr><tr><td>2012</td><td>2618.0</td><td>1410225.68</td><td>4902448.82</td><td>2.973300954E8</td></tr><tr><td>2013</td><td>2575.11</td><td>1416972.2</td><td>104316.33</td><td>2.992866786E8</td></tr><tr><td>2014</td><td>2526.98</td><td>1421248.61</td><td>2795116.13</td><td>3.019335531E8</td></tr><tr><td>2015</td><td>2502.98</td><td>1439019.52</td><td>563653.3</td><td>3.048113364E8</td></tr><tr><td>2016</td><td>2487.82</td><td>1458109.98</td><td>3.884496012E7</td><td>3.102043811E8</td></tr><tr><td>2017</td><td>2481.82</td><td>1498078.81</td><td>826233.01</td><td>3.147471933E8</td></tr><tr><td>2018</td><td>2485.93</td><td>1550844.83</td><td>3106235.34</td><td>3.190662264E8</td></tr><tr><td>2019</td><td>2498.8</td><td>1621168.36</td><td>1822418.0</td><td>3.246378105E8</td></tr></tbody></table></div>"
      ]
     },
     "metadata": {
      "application/vnd.databricks.v1+output": {
       "addedWidgets": {},
       "aggData": [],
       "aggError": "",
       "aggOverflow": false,
       "aggSchema": [],
       "aggSeriesLimitReached": false,
       "aggType": "",
       "arguments": {},
       "columnCustomDisplayInfos": {},
       "data": [
        [
         2001,
         2804.71,
         1186700.25,
         436296.46,
         2.754737359E8
        ],
        [
         2002,
         2806.28,
         1217859.32,
         1.020813562E7,
         2.784382721E8
        ],
        [
         2003,
         2818.13,
         1235149.32,
         6285.42,
         2.815111321E8
        ],
        [
         2004,
         2829.54,
         1263668.29,
         2274859.75,
         2.863238164E8
        ],
        [
         2005,
         2850.85,
         1308316.44,
         3555087.57,
         2.871766243E8
        ],
        [
         2006,
         2845.34,
         1309879.89,
         1122057.9,
         2.84440815E8
        ],
        [
         2007,
         2824.78,
         1313861.69,
         2102410.17,
         2.839731074E8
        ],
        [
         2008,
         2787.74,
         1317668.92,
         2.296876605E7,
         2.86177971E8
        ],
        [
         2009,
         2757.29,
         1315883.51,
         879031.95,
         2.891734364E8
        ],
        [
         2010,
         2704.27,
         1341515.63,
         1046264.66,
         2.93019139E8
        ],
        [
         2011,
         2653.62,
         1384861.36,
         843185.02,
         2.957614488E8
        ],
        [
         2012,
         2618.0,
         1410225.68,
         4902448.82,
         2.973300954E8
        ],
        [
         2013,
         2575.11,
         1416972.2,
         104316.33,
         2.992866786E8
        ],
        [
         2014,
         2526.98,
         1421248.61,
         2795116.13,
         3.019335531E8
        ],
        [
         2015,
         2502.98,
         1439019.52,
         563653.3,
         3.048113364E8
        ],
        [
         2016,
         2487.82,
         1458109.98,
         3.884496012E7,
         3.102043811E8
        ],
        [
         2017,
         2481.82,
         1498078.81,
         826233.01,
         3.147471933E8
        ],
        [
         2018,
         2485.93,
         1550844.83,
         3106235.34,
         3.190662264E8
        ],
        [
         2019,
         2498.8,
         1621168.36,
         1822418.0,
         3.246378105E8
        ]
       ],
       "datasetInfos": [],
       "dbfsResultPath": null,
       "isJsonSchema": true,
       "metadata": {},
       "overflow": false,
       "plotOptions": {
        "customPlotOptions": {},
        "displayType": "table",
        "pivotAggregation": null,
        "pivotColumns": null,
        "xColumns": null,
        "yColumns": null
       },
       "removedWidgets": [],
       "schema": [
        {
         "metadata": "{\"comment\":\"The year of the report\"}",
         "name": "year",
         "type": "\"integer\""
        },
        {
         "metadata": "{}",
         "name": "min",
         "type": "\"double\""
        },
        {
         "metadata": "{}",
         "name": "median",
         "type": "\"double\""
        },
        {
         "metadata": "{}",
         "name": "mode",
         "type": "\"double\""
        },
        {
         "metadata": "{}",
         "name": "max",
         "type": "\"double\""
        }
       ],
       "type": "table"
      }
     },
     "output_type": "display_data"
    }
   ],
   "source": [
    "%sql\n",
    "\n",
    "select \n",
    "year,\n",
    "round(min(non_communicable_diseases),2) min,\n",
    "round(median(non_communicable_diseases),2) median,\n",
    "round(mode(non_communicable_diseases),2) mode,\n",
    "round(max(non_communicable_diseases),2) max\n",
    "from `tb_life_expectancy_silver`\n",
    "group by 1 order by 1"
   ]
  },
  {
   "cell_type": "markdown",
   "metadata": {
    "application/vnd.databricks.v1+cell": {
     "cellMetadata": {
      "byteLimit": 2048000,
      "rowLimit": 10000
     },
     "inputWidgets": {},
     "nuid": "4aaff569-944c-4ddd-aa62-52d4f5c4367f",
     "showTitle": false,
     "title": ""
    }
   },
   "source": [
    "Conclusão da coluna non_communicable_diseases: Não parece ter uma mudança drástica, vamos assumir que a coluna pode variar de 0 à infinito "
   ]
  },
  {
   "cell_type": "markdown",
   "metadata": {
    "application/vnd.databricks.v1+cell": {
     "cellMetadata": {
      "byteLimit": 2048000,
      "rowLimit": 10000
     },
     "inputWidgets": {},
     "nuid": "93b5a701-5dec-4c5a-9f1f-40590231515d",
     "showTitle": false,
     "title": ""
    }
   },
   "source": [
    "###### Colunas do tipo Int"
   ]
  },
  {
   "cell_type": "markdown",
   "metadata": {
    "application/vnd.databricks.v1+cell": {
     "cellMetadata": {
      "byteLimit": 2048000,
      "rowLimit": 10000
     },
     "inputWidgets": {},
     "nuid": "60f361a4-a343-40b0-8476-51dd9ac4284d",
     "showTitle": false,
     "title": ""
    }
   },
   "source": [
    "* Coluna year"
   ]
  },
  {
   "cell_type": "code",
   "execution_count": 0,
   "metadata": {
    "application/vnd.databricks.v1+cell": {
     "cellMetadata": {
      "byteLimit": 2048000,
      "implicitDf": true,
      "rowLimit": 10000
     },
     "inputWidgets": {},
     "nuid": "3d1350f8-1b41-4026-b6f3-c48b57725dea",
     "showTitle": false,
     "title": ""
    }
   },
   "outputs": [
    {
     "output_type": "display_data",
     "data": {
      "text/html": [
       "<style scoped>\n",
       "  .table-result-container {\n",
       "    max-height: 300px;\n",
       "    overflow: auto;\n",
       "  }\n",
       "  table, th, td {\n",
       "    border: 1px solid black;\n",
       "    border-collapse: collapse;\n",
       "  }\n",
       "  th, td {\n",
       "    padding: 5px;\n",
       "  }\n",
       "  th {\n",
       "    text-align: left;\n",
       "  }\n",
       "</style><div class='table-result-container'><table class='table-result'><thead style='background-color: white'><tr><th>year</th></tr></thead><tbody><tr><td>2001</td></tr><tr><td>2002</td></tr><tr><td>2003</td></tr><tr><td>2004</td></tr><tr><td>2005</td></tr><tr><td>2006</td></tr><tr><td>2007</td></tr><tr><td>2008</td></tr><tr><td>2009</td></tr><tr><td>2010</td></tr><tr><td>2011</td></tr><tr><td>2012</td></tr><tr><td>2013</td></tr><tr><td>2014</td></tr><tr><td>2015</td></tr><tr><td>2016</td></tr><tr><td>2017</td></tr><tr><td>2018</td></tr><tr><td>2019</td></tr></tbody></table></div>"
      ]
     },
     "metadata": {
      "application/vnd.databricks.v1+output": {
       "addedWidgets": {},
       "aggData": [],
       "aggError": "",
       "aggOverflow": false,
       "aggSchema": [],
       "aggSeriesLimitReached": false,
       "aggType": "",
       "arguments": {},
       "columnCustomDisplayInfos": {},
       "data": [
        [
         2001
        ],
        [
         2002
        ],
        [
         2003
        ],
        [
         2004
        ],
        [
         2005
        ],
        [
         2006
        ],
        [
         2007
        ],
        [
         2008
        ],
        [
         2009
        ],
        [
         2010
        ],
        [
         2011
        ],
        [
         2012
        ],
        [
         2013
        ],
        [
         2014
        ],
        [
         2015
        ],
        [
         2016
        ],
        [
         2017
        ],
        [
         2018
        ],
        [
         2019
        ]
       ],
       "datasetInfos": [],
       "dbfsResultPath": null,
       "isJsonSchema": true,
       "metadata": {},
       "overflow": false,
       "plotOptions": {
        "customPlotOptions": {},
        "displayType": "table",
        "pivotAggregation": null,
        "pivotColumns": null,
        "xColumns": null,
        "yColumns": null
       },
       "removedWidgets": [],
       "schema": [
        {
         "metadata": "{\"comment\":\"The year of the report\"}",
         "name": "year",
         "type": "\"integer\""
        }
       ],
       "type": "table"
      }
     },
     "output_type": "display_data"
    }
   ],
   "source": [
    "%sql\n",
    "\n",
    "select \n",
    "distinct\n",
    "year\n",
    "from `tb_life_expectancy_silver`\n",
    "order by 1"
   ]
  },
  {
   "cell_type": "markdown",
   "metadata": {
    "application/vnd.databricks.v1+cell": {
     "cellMetadata": {
      "byteLimit": 2048000,
      "rowLimit": 10000
     },
     "inputWidgets": {},
     "nuid": "60e6d37f-7a46-4c3c-81f6-de5c1034aca2",
     "showTitle": false,
     "title": ""
    }
   },
   "source": [
    "Na parte \"Visão geral dos campos\" já vimos que essa coluna está sempre preenchida, agora confirmamos que sempre temos inteiro variando de 2001 à 2019"
   ]
  },
  {
   "cell_type": "markdown",
   "metadata": {
    "application/vnd.databricks.v1+cell": {
     "cellMetadata": {
      "byteLimit": 2048000,
      "rowLimit": 10000
     },
     "inputWidgets": {},
     "nuid": "990a0da3-de19-4168-bb9c-779b9a604fdc",
     "showTitle": false,
     "title": ""
    }
   },
   "source": [
    "###### Conclusão"
   ]
  },
  {
   "cell_type": "markdown",
   "metadata": {
    "application/vnd.databricks.v1+cell": {
     "cellMetadata": {
      "byteLimit": 2048000,
      "rowLimit": 10000
     },
     "inputWidgets": {},
     "nuid": "3a45594a-524c-470a-aa91-8080660e5927",
     "showTitle": false,
     "title": ""
    }
   },
   "source": [
    "Todos os campos da tabela tb_life_expectancy_silver estão dentro das regras de negócio, o único ponto que identificamos é que existem observações nulas para algumas colunas. A métrica que temos mais interesse em analisar desse conjunto de dados é a life_expectancy_world_bank, não podemos analisar os casos onde ela está nula, vamos então retirar essas linhas na tabela da camada gold. As demais métrica vamos permitir que tenham observações nulas. "
   ]
  },
  {
   "cell_type": "code",
   "execution_count": 0,
   "metadata": {
    "application/vnd.databricks.v1+cell": {
     "cellMetadata": {
      "byteLimit": 2048000,
      "rowLimit": 10000
     },
     "inputWidgets": {},
     "nuid": "0c449a43-652b-4ea8-9e19-4df167bdaa18",
     "showTitle": false,
     "title": ""
    }
   },
   "outputs": [],
   "source": [
    "df_life_expectancy_gold = df_life_expectancy.filter(df_life_expectancy.life_expectancy_world_bank.isNotNull())"
   ]
  },
  {
   "cell_type": "markdown",
   "metadata": {
    "application/vnd.databricks.v1+cell": {
     "cellMetadata": {
      "byteLimit": 2048000,
      "rowLimit": 10000
     },
     "inputWidgets": {},
     "nuid": "9cfc15f8-c4c6-4499-92e8-a0217146b5a8",
     "showTitle": false,
     "title": ""
    }
   },
   "source": [
    "##### tb_world_happiness_report_gold"
   ]
  },
  {
   "cell_type": "markdown",
   "metadata": {
    "application/vnd.databricks.v1+cell": {
     "cellMetadata": {
      "byteLimit": 2048000,
      "rowLimit": 10000
     },
     "inputWidgets": {},
     "nuid": "4ce47a94-c63d-441f-9ad3-dd5b71a69fb2",
     "showTitle": false,
     "title": ""
    }
   },
   "source": [
    "###### Visão geral dos campos"
   ]
  },
  {
   "cell_type": "code",
   "execution_count": 0,
   "metadata": {
    "application/vnd.databricks.v1+cell": {
     "cellMetadata": {
      "byteLimit": 2048000,
      "rowLimit": 10000
     },
     "inputWidgets": {},
     "nuid": "cb30b265-e4e9-4b47-9d8f-96bad0d4c1c1",
     "showTitle": false,
     "title": ""
    }
   },
   "outputs": [],
   "source": [
    "# Nome da tabela que queremos ler\n",
    "table_name = \"tb_world_happiness_report_silver\"\n",
    "\n",
    "# Lê os dados da tabela e coloca em um DataFrame\n",
    "df_happiness_report = spark.table(table_name)"
   ]
  },
  {
   "cell_type": "code",
   "execution_count": 0,
   "metadata": {
    "application/vnd.databricks.v1+cell": {
     "cellMetadata": {
      "byteLimit": 2048000,
      "rowLimit": 10000
     },
     "inputWidgets": {},
     "nuid": "8f5a95ed-6170-405c-8ac1-fd8c3c254aca",
     "showTitle": false,
     "title": ""
    }
   },
   "outputs": [],
   "source": [
    "summary_df_2 = df_happiness_report.summary(\"count\", \"mean\", \"stddev\", \"min\", \"25%\", \"50%\", \"75%\", \"max\")"
   ]
  },
  {
   "cell_type": "code",
   "execution_count": 0,
   "metadata": {
    "application/vnd.databricks.v1+cell": {
     "cellMetadata": {
      "byteLimit": 2048000,
      "rowLimit": 10000
     },
     "inputWidgets": {},
     "nuid": "3541ac56-1c94-4724-98f2-2d5211659e2b",
     "showTitle": false,
     "title": ""
    }
   },
   "outputs": [
    {
     "output_type": "stream",
     "name": "stdout",
     "output_type": "stream",
     "text": [
      "  summary      country                year        overall_rank  \\\n0   count          782                 782                 782   \n1    mean         None  2016.9936061381075   78.69820971867007   \n2  stddev         None  1.4173644324247845  45.182384382705365   \n3     min  Afghanistan                2015                   1   \n4     25%         None                2016                  40   \n5     50%         None                2017                  79   \n6     75%         None                2018                 118   \n7     max     Zimbabwe                2019                 158   \n\n      happiness_score       gpd_per_capita      social_support  \\\n0                 782                  782                 782   \n1   5.379017902998669   0.9160474824829714  1.0783924825069788   \n2  1.1274564601550117  0.40734013128981955    0.32954831933429   \n3    2.69300007820129                  0.0                 0.0   \n4               4.509                0.605             0.86908   \n5               5.321                0.982             1.12447   \n6               6.192                1.237               1.328   \n7               7.769                2.096               1.644   \n\n  healthy_life_expectancy freedom_to_make_life_choices           generosity  \\\n0                     782                          782                  782   \n1       0.612415577116253          0.41109082582231493  0.21857584156082985   \n2     0.24830864037976175          0.15288042062896512  0.12232074871938417   \n3                     0.0                          0.0                  0.0   \n4                 0.44006                      0.30953                 0.13   \n5       0.647239029407501                        0.431    0.201964423060417   \n6                   0.808                        0.531              0.27906   \n7                   1.141                        0.724    0.838075160980225   \n\n  perceptions_of_corruption  \n0                       781  \n1       0.12543561357358715  \n2       0.10581644755675648  \n3                       0.0  \n4                     0.054  \n5                     0.091  \n6                   0.15603  \n7                   0.55191  \n"
     ]
    }
   ],
   "source": [
    "import pandas as pd\n",
    "\n",
    "# Convertendo para Pandas DataFrame para melhor visualização\n",
    "summary_pandas_df_2 = summary_df_2.toPandas()\n",
    "\n",
    "# Exibe as estatísticas usando Pandas, que formata melhor\n",
    "print(summary_pandas_df_2)"
   ]
  },
  {
   "cell_type": "markdown",
   "metadata": {
    "application/vnd.databricks.v1+cell": {
     "cellMetadata": {
      "byteLimit": 2048000,
      "rowLimit": 10000
     },
     "inputWidgets": {},
     "nuid": "64b10ae1-4b86-4deb-a892-bfee1adebf87",
     "showTitle": false,
     "title": ""
    }
   },
   "source": [
    "Conclusão de cada coluna:\n",
    "* country é strings e será avaliada separadamente.\n",
    "* overall_rank\n",
    "  - Varia entre 1 à 200 e está sempre preenchido\n",
    "* happiness_score\n",
    "  - Varia entre 0 à 10 e está sempre preenchido\n",
    "* gpd_per_capita\n",
    "  - Varia entre 0 à 2, aproximadamente, e está sempre preenchido\n",
    "* social_support\n",
    "  - Varia entre 0 à 2 e está sempre preenchido\n",
    "* healthy_life_expectancy\n",
    "  - Varia entre 0 à 2 e está sempre preenchido\n",
    "* freedom_to_make_life_choices\n",
    "  - Varia entre 0 à 1 e está sempre preenchido\n",
    "* generosity\n",
    "  - Varia entre 0 à 1 e está sempre preenchido\n",
    "* perceptions_of_corruption\n",
    "  - Varia entre 0 à 1 e só temos 1 linha que não está preenchida\n"
   ]
  },
  {
   "cell_type": "markdown",
   "metadata": {
    "application/vnd.databricks.v1+cell": {
     "cellMetadata": {
      "byteLimit": 2048000,
      "rowLimit": 10000
     },
     "inputWidgets": {},
     "nuid": "eb5f8eee-0c40-46ca-96c1-358129632c69",
     "showTitle": false,
     "title": ""
    }
   },
   "source": [
    "###### Coluna do tipo String"
   ]
  },
  {
   "cell_type": "markdown",
   "metadata": {
    "application/vnd.databricks.v1+cell": {
     "cellMetadata": {
      "byteLimit": 2048000,
      "rowLimit": 10000
     },
     "inputWidgets": {},
     "nuid": "d9257a46-e65d-4544-9992-18e4933d7671",
     "showTitle": false,
     "title": ""
    }
   },
   "source": [
    "Verificando a quantidade de caractéres máximo no campo country"
   ]
  },
  {
   "cell_type": "code",
   "execution_count": 0,
   "metadata": {
    "application/vnd.databricks.v1+cell": {
     "cellMetadata": {
      "byteLimit": 2048000,
      "implicitDf": true,
      "rowLimit": 10000
     },
     "inputWidgets": {},
     "nuid": "18f1b811-5301-4b37-a3c9-4f26686a0883",
     "showTitle": false,
     "title": ""
    }
   },
   "outputs": [
    {
     "output_type": "display_data",
     "data": {
      "text/html": [
       "<style scoped>\n",
       "  .table-result-container {\n",
       "    max-height: 300px;\n",
       "    overflow: auto;\n",
       "  }\n",
       "  table, th, td {\n",
       "    border: 1px solid black;\n",
       "    border-collapse: collapse;\n",
       "  }\n",
       "  th, td {\n",
       "    padding: 5px;\n",
       "  }\n",
       "  th {\n",
       "    text-align: left;\n",
       "  }\n",
       "</style><div class='table-result-container'><table class='table-result'><thead style='background-color: white'><tr><th>country</th><th>len(country)</th></tr></thead><tbody><tr><td>Central African Republic</td><td>24</td></tr><tr><td>Taiwan Province of China</td><td>24</td></tr><tr><td>Palestinian Territories</td><td>23</td></tr><tr><td>Hong Kong S.A.R., China</td><td>23</td></tr><tr><td>Bosnia and Herzegovina</td><td>22</td></tr><tr><td>United Arab Emirates</td><td>20</td></tr><tr><td>Congo (Brazzaville)</td><td>19</td></tr><tr><td>Trinidad and Tobago</td><td>19</td></tr><tr><td>Dominican Republic</td><td>18</td></tr><tr><td>Somaliland region</td><td>17</td></tr></tbody></table></div>"
      ]
     },
     "metadata": {
      "application/vnd.databricks.v1+output": {
       "addedWidgets": {},
       "aggData": [],
       "aggError": "",
       "aggOverflow": false,
       "aggSchema": [],
       "aggSeriesLimitReached": false,
       "aggType": "",
       "arguments": {},
       "columnCustomDisplayInfos": {},
       "data": [
        [
         "Central African Republic",
         24
        ],
        [
         "Taiwan Province of China",
         24
        ],
        [
         "Palestinian Territories",
         23
        ],
        [
         "Hong Kong S.A.R., China",
         23
        ],
        [
         "Bosnia and Herzegovina",
         22
        ],
        [
         "United Arab Emirates",
         20
        ],
        [
         "Congo (Brazzaville)",
         19
        ],
        [
         "Trinidad and Tobago",
         19
        ],
        [
         "Dominican Republic",
         18
        ],
        [
         "Somaliland region",
         17
        ]
       ],
       "datasetInfos": [],
       "dbfsResultPath": null,
       "isJsonSchema": true,
       "metadata": {},
       "overflow": false,
       "plotOptions": {
        "customPlotOptions": {},
        "displayType": "table",
        "pivotAggregation": null,
        "pivotColumns": null,
        "xColumns": null,
        "yColumns": null
       },
       "removedWidgets": [],
       "schema": [
        {
         "metadata": "{\"comment\":\"The name of the country\"}",
         "name": "country",
         "type": "\"string\""
        },
        {
         "metadata": "{\"__autoGeneratedAlias\":\"true\"}",
         "name": "len(country)",
         "type": "\"integer\""
        }
       ],
       "type": "table"
      }
     },
     "output_type": "display_data"
    }
   ],
   "source": [
    "%sql\n",
    "\n",
    "/* Query para verificar a quantidade de caractéres máximo no campo country_code*/\n",
    "/* Vendo os 10 maiores */\n",
    "\n",
    "select \n",
    "country,\n",
    "len(country)\n",
    "from `tb_world_happiness_report_silver`\n",
    "group by 1 order by 2 desc limit 10"
   ]
  },
  {
   "cell_type": "code",
   "execution_count": 0,
   "metadata": {
    "application/vnd.databricks.v1+cell": {
     "cellMetadata": {
      "byteLimit": 2048000,
      "implicitDf": true,
      "rowLimit": 10000
     },
     "inputWidgets": {},
     "nuid": "baef6d2d-1105-43f6-981d-a58e541909f2",
     "showTitle": false,
     "title": ""
    }
   },
   "outputs": [
    {
     "output_type": "display_data",
     "data": {
      "text/html": [
       "<style scoped>\n",
       "  .table-result-container {\n",
       "    max-height: 300px;\n",
       "    overflow: auto;\n",
       "  }\n",
       "  table, th, td {\n",
       "    border: 1px solid black;\n",
       "    border-collapse: collapse;\n",
       "  }\n",
       "  th, td {\n",
       "    padding: 5px;\n",
       "  }\n",
       "  th {\n",
       "    text-align: left;\n",
       "  }\n",
       "</style><div class='table-result-container'><table class='table-result'><thead style='background-color: white'><tr><th>country</th><th>len(country)</th></tr></thead><tbody><tr><td>Peru</td><td>4</td></tr><tr><td>Iraq</td><td>4</td></tr><tr><td>Togo</td><td>4</td></tr><tr><td>Chad</td><td>4</td></tr><tr><td>Iran</td><td>4</td></tr><tr><td>Laos</td><td>4</td></tr><tr><td>Oman</td><td>4</td></tr><tr><td>Mali</td><td>4</td></tr><tr><td>China</td><td>5</td></tr><tr><td>Sudan</td><td>5</td></tr></tbody></table></div>"
      ]
     },
     "metadata": {
      "application/vnd.databricks.v1+output": {
       "addedWidgets": {},
       "aggData": [],
       "aggError": "",
       "aggOverflow": false,
       "aggSchema": [],
       "aggSeriesLimitReached": false,
       "aggType": "",
       "arguments": {},
       "columnCustomDisplayInfos": {},
       "data": [
        [
         "Peru",
         4
        ],
        [
         "Iraq",
         4
        ],
        [
         "Togo",
         4
        ],
        [
         "Chad",
         4
        ],
        [
         "Iran",
         4
        ],
        [
         "Laos",
         4
        ],
        [
         "Oman",
         4
        ],
        [
         "Mali",
         4
        ],
        [
         "China",
         5
        ],
        [
         "Sudan",
         5
        ]
       ],
       "datasetInfos": [],
       "dbfsResultPath": null,
       "isJsonSchema": true,
       "metadata": {},
       "overflow": false,
       "plotOptions": {
        "customPlotOptions": {},
        "displayType": "table",
        "pivotAggregation": null,
        "pivotColumns": null,
        "xColumns": null,
        "yColumns": null
       },
       "removedWidgets": [],
       "schema": [
        {
         "metadata": "{\"comment\":\"The name of the country\"}",
         "name": "country",
         "type": "\"string\""
        },
        {
         "metadata": "{\"__autoGeneratedAlias\":\"true\"}",
         "name": "len(country)",
         "type": "\"integer\""
        }
       ],
       "type": "table"
      }
     },
     "output_type": "display_data"
    }
   ],
   "source": [
    "%sql\n",
    "\n",
    "/* Query para verificar a quantidade de caractéres máximo no campo country_code*/\n",
    "/* Vendo os 10 menores */\n",
    "\n",
    "select \n",
    "country,\n",
    "len(country)\n",
    "from `tb_world_happiness_report_silver`\n",
    "group by 1 order by 2 asc limit 10"
   ]
  },
  {
   "cell_type": "markdown",
   "metadata": {
    "application/vnd.databricks.v1+cell": {
     "cellMetadata": {
      "byteLimit": 2048000,
      "rowLimit": 10000
     },
     "inputWidgets": {},
     "nuid": "97f0b30a-a0fc-40f7-81b9-0be028bcb9f7",
     "showTitle": false,
     "title": ""
    }
   },
   "source": [
    "Confirmando que os países da tabela silver é válido. Vamos utilizar a mesma tabela temporária que usamos na validação da tb_life_expectancy_silver"
   ]
  },
  {
   "cell_type": "code",
   "execution_count": 0,
   "metadata": {
    "application/vnd.databricks.v1+cell": {
     "cellMetadata": {
      "byteLimit": 2048000,
      "implicitDf": true,
      "rowLimit": 10000
     },
     "inputWidgets": {},
     "nuid": "67a4cf04-d036-4339-bc26-49ce2de6bc71",
     "showTitle": false,
     "title": ""
    }
   },
   "outputs": [
    {
     "output_type": "display_data",
     "data": {
      "text/html": [
       "<style scoped>\n",
       "  .table-result-container {\n",
       "    max-height: 300px;\n",
       "    overflow: auto;\n",
       "  }\n",
       "  table, th, td {\n",
       "    border: 1px solid black;\n",
       "    border-collapse: collapse;\n",
       "  }\n",
       "  th, td {\n",
       "    padding: 5px;\n",
       "  }\n",
       "  th {\n",
       "    text-align: left;\n",
       "  }\n",
       "</style><div class='table-result-container'><table class='table-result'><thead style='background-color: white'><tr><th>flag_pais_igual</th><th>contagem_paises</th></tr></thead><tbody><tr><td>true</td><td>140</td></tr><tr><td>null</td><td>109</td></tr></tbody></table></div>"
      ]
     },
     "metadata": {
      "application/vnd.databricks.v1+output": {
       "addedWidgets": {},
       "aggData": [],
       "aggError": "",
       "aggOverflow": false,
       "aggSchema": [],
       "aggSeriesLimitReached": false,
       "aggType": "",
       "arguments": {},
       "columnCustomDisplayInfos": {},
       "data": [
        [
         true,
         140
        ],
        [
         null,
         109
        ]
       ],
       "datasetInfos": [],
       "dbfsResultPath": null,
       "isJsonSchema": true,
       "metadata": {},
       "overflow": false,
       "plotOptions": {
        "customPlotOptions": {},
        "displayType": "table",
        "pivotAggregation": null,
        "pivotColumns": null,
        "xColumns": null,
        "yColumns": null
       },
       "removedWidgets": [],
       "schema": [
        {
         "metadata": "{}",
         "name": "flag_pais_igual",
         "type": "\"boolean\""
        },
        {
         "metadata": "{}",
         "name": "contagem_paises",
         "type": "\"long\""
        }
       ],
       "type": "table"
      }
     },
     "output_type": "display_data"
    }
   ],
   "source": [
    "%sql\n",
    "with tb1 as ( select distinct country from `tb_world_happiness_report_silver`)\n",
    ",tb3 as (select  name as country_name_aux,   country,   name = country as flag_pais_igual\n",
    "from `tb_aux_country` tb2 left join tb1 on tb1.country = tb2.name)\n",
    "select flag_pais_igual, count(1) contagem_paises from tb3 group by 1 order by 2 desc\n"
   ]
  },
  {
   "cell_type": "markdown",
   "metadata": {
    "application/vnd.databricks.v1+cell": {
     "cellMetadata": {
      "byteLimit": 2048000,
      "rowLimit": 10000
     },
     "inputWidgets": {},
     "nuid": "29de32e1-4797-40c5-b444-34a467d77c9e",
     "showTitle": false,
     "title": ""
    }
   },
   "source": [
    "Perceba que não temos nada em false, ou seja, todos os países tb_world_happiness_report_silver estão na base auxliar e são considerados válidos"
   ]
  },
  {
   "cell_type": "markdown",
   "metadata": {
    "application/vnd.databricks.v1+cell": {
     "cellMetadata": {
      "byteLimit": 2048000,
      "rowLimit": 10000
     },
     "inputWidgets": {},
     "nuid": "aca261de-a31e-4bcb-90a8-ee238f7977ad",
     "showTitle": false,
     "title": ""
    }
   },
   "source": [
    "###### Coluna do tipo Double"
   ]
  },
  {
   "cell_type": "markdown",
   "metadata": {
    "application/vnd.databricks.v1+cell": {
     "cellMetadata": {
      "byteLimit": 2048000,
      "rowLimit": 10000
     },
     "inputWidgets": {},
     "nuid": "3481ce14-bb8d-4b36-849e-076f732cebc6",
     "showTitle": false,
     "title": ""
    }
   },
   "source": [
    "Iremos olhar os campos double ano a ano para garantir que não há uma mudança drástica nos valores. Pela visão geral parece que eles estão ok, mas vamos garantir olhando uma a uma."
   ]
  },
  {
   "cell_type": "code",
   "execution_count": 0,
   "metadata": {
    "application/vnd.databricks.v1+cell": {
     "cellMetadata": {
      "byteLimit": 2048000,
      "implicitDf": true,
      "rowLimit": 10000
     },
     "inputWidgets": {},
     "nuid": "3b1fffd9-55ef-4662-8449-f51fdf2d8213",
     "showTitle": false,
     "title": ""
    }
   },
   "outputs": [
    {
     "output_type": "display_data",
     "data": {
      "text/html": [
       "<style scoped>\n",
       "  .table-result-container {\n",
       "    max-height: 300px;\n",
       "    overflow: auto;\n",
       "  }\n",
       "  table, th, td {\n",
       "    border: 1px solid black;\n",
       "    border-collapse: collapse;\n",
       "  }\n",
       "  th, td {\n",
       "    padding: 5px;\n",
       "  }\n",
       "  th {\n",
       "    text-align: left;\n",
       "  }\n",
       "</style><div class='table-result-container'><table class='table-result'><thead style='background-color: white'><tr><th>year</th><th>min</th><th>median</th><th>mode</th><th>max</th></tr></thead><tbody><tr><td>2015</td><td>0.0</td><td>0.91</td><td>0.39</td><td>1.69</td></tr><tr><td>2016</td><td>0.0</td><td>1.03</td><td>0.74</td><td>1.82</td></tr><tr><td>2017</td><td>0.0</td><td>1.06</td><td>1.54</td><td>1.87</td></tr><tr><td>2018</td><td>0.0</td><td>0.95</td><td>0.68</td><td>2.1</td></tr><tr><td>2019</td><td>0.0</td><td>0.96</td><td>0.96</td><td>1.68</td></tr></tbody></table></div>"
      ]
     },
     "metadata": {
      "application/vnd.databricks.v1+output": {
       "addedWidgets": {},
       "aggData": [],
       "aggError": "",
       "aggOverflow": false,
       "aggSchema": [],
       "aggSeriesLimitReached": false,
       "aggType": "",
       "arguments": {},
       "columnCustomDisplayInfos": {},
       "data": [
        [
         2015,
         0.0,
         0.91,
         0.39,
         1.69
        ],
        [
         2016,
         0.0,
         1.03,
         0.74,
         1.82
        ],
        [
         2017,
         0.0,
         1.06,
         1.54,
         1.87
        ],
        [
         2018,
         0.0,
         0.95,
         0.68,
         2.1
        ],
        [
         2019,
         0.0,
         0.96,
         0.96,
         1.68
        ]
       ],
       "datasetInfos": [],
       "dbfsResultPath": null,
       "isJsonSchema": true,
       "metadata": {},
       "overflow": false,
       "plotOptions": {
        "customPlotOptions": {},
        "displayType": "table",
        "pivotAggregation": null,
        "pivotColumns": null,
        "xColumns": null,
        "yColumns": null
       },
       "removedWidgets": [],
       "schema": [
        {
         "metadata": "{\"comment\":\"The year of the report\"}",
         "name": "year",
         "type": "\"integer\""
        },
        {
         "metadata": "{}",
         "name": "min",
         "type": "\"double\""
        },
        {
         "metadata": "{}",
         "name": "median",
         "type": "\"double\""
        },
        {
         "metadata": "{}",
         "name": "mode",
         "type": "\"double\""
        },
        {
         "metadata": "{}",
         "name": "max",
         "type": "\"double\""
        }
       ],
       "type": "table"
      }
     },
     "output_type": "display_data"
    }
   ],
   "source": [
    "%sql\n",
    "\n",
    "select \n",
    "year,\n",
    "round(min(gpd_per_capita),2) min,\n",
    "round(median(gpd_per_capita),2) median,\n",
    "round(mode(gpd_per_capita),2) mode,\n",
    "round(max(gpd_per_capita),2) max\n",
    "from `tb_world_happiness_report_silver`\n",
    "group by 1 order by 1"
   ]
  },
  {
   "cell_type": "code",
   "execution_count": 0,
   "metadata": {
    "application/vnd.databricks.v1+cell": {
     "cellMetadata": {
      "byteLimit": 2048000,
      "implicitDf": true,
      "rowLimit": 10000
     },
     "inputWidgets": {},
     "nuid": "b0245d26-ba62-49a4-8509-4b58567bc462",
     "showTitle": false,
     "title": ""
    }
   },
   "outputs": [
    {
     "output_type": "display_data",
     "data": {
      "text/html": [
       "<style scoped>\n",
       "  .table-result-container {\n",
       "    max-height: 300px;\n",
       "    overflow: auto;\n",
       "  }\n",
       "  table, th, td {\n",
       "    border: 1px solid black;\n",
       "    border-collapse: collapse;\n",
       "  }\n",
       "  th, td {\n",
       "    padding: 5px;\n",
       "  }\n",
       "  th {\n",
       "    text-align: left;\n",
       "  }\n",
       "</style><div class='table-result-container'><table class='table-result'><thead style='background-color: white'><tr><th>year</th><th>min</th><th>median</th><th>mode</th><th>max</th></tr></thead><tbody><tr><td>2015</td><td>0.0</td><td>1.03</td><td>1.18</td><td>1.4</td></tr><tr><td>2016</td><td>0.0</td><td>0.84</td><td>0.88</td><td>1.18</td></tr><tr><td>2017</td><td>0.0</td><td>1.25</td><td>1.15</td><td>1.61</td></tr><tr><td>2018</td><td>0.0</td><td>1.26</td><td>1.5</td><td>1.64</td></tr><tr><td>2019</td><td>0.0</td><td>1.27</td><td>1.47</td><td>1.62</td></tr></tbody></table></div>"
      ]
     },
     "metadata": {
      "application/vnd.databricks.v1+output": {
       "addedWidgets": {},
       "aggData": [],
       "aggError": "",
       "aggOverflow": false,
       "aggSchema": [],
       "aggSeriesLimitReached": false,
       "aggType": "",
       "arguments": {},
       "columnCustomDisplayInfos": {},
       "data": [
        [
         2015,
         0.0,
         1.03,
         1.18,
         1.4
        ],
        [
         2016,
         0.0,
         0.84,
         0.88,
         1.18
        ],
        [
         2017,
         0.0,
         1.25,
         1.15,
         1.61
        ],
        [
         2018,
         0.0,
         1.26,
         1.5,
         1.64
        ],
        [
         2019,
         0.0,
         1.27,
         1.47,
         1.62
        ]
       ],
       "datasetInfos": [],
       "dbfsResultPath": null,
       "isJsonSchema": true,
       "metadata": {},
       "overflow": false,
       "plotOptions": {
        "customPlotOptions": {},
        "displayType": "table",
        "pivotAggregation": null,
        "pivotColumns": null,
        "xColumns": null,
        "yColumns": null
       },
       "removedWidgets": [],
       "schema": [
        {
         "metadata": "{\"comment\":\"The year of the report\"}",
         "name": "year",
         "type": "\"integer\""
        },
        {
         "metadata": "{}",
         "name": "min",
         "type": "\"double\""
        },
        {
         "metadata": "{}",
         "name": "median",
         "type": "\"double\""
        },
        {
         "metadata": "{}",
         "name": "mode",
         "type": "\"double\""
        },
        {
         "metadata": "{}",
         "name": "max",
         "type": "\"double\""
        }
       ],
       "type": "table"
      }
     },
     "output_type": "display_data"
    }
   ],
   "source": [
    "%sql\n",
    "\n",
    "select \n",
    "year,\n",
    "round(min(social_support),2) min,\n",
    "round(median(social_support),2) median,\n",
    "round(mode(social_support),2) mode,\n",
    "round(max(social_support),2) max\n",
    "from `tb_world_happiness_report_silver`\n",
    "group by 1 order by 1"
   ]
  },
  {
   "cell_type": "code",
   "execution_count": 0,
   "metadata": {
    "application/vnd.databricks.v1+cell": {
     "cellMetadata": {
      "byteLimit": 2048000,
      "implicitDf": true,
      "rowLimit": 10000
     },
     "inputWidgets": {},
     "nuid": "fa5dc180-02fb-4e9f-b280-18d60e448727",
     "showTitle": false,
     "title": ""
    }
   },
   "outputs": [
    {
     "output_type": "display_data",
     "data": {
      "text/html": [
       "<style scoped>\n",
       "  .table-result-container {\n",
       "    max-height: 300px;\n",
       "    overflow: auto;\n",
       "  }\n",
       "  table, th, td {\n",
       "    border: 1px solid black;\n",
       "    border-collapse: collapse;\n",
       "  }\n",
       "  th, td {\n",
       "    padding: 5px;\n",
       "  }\n",
       "  th {\n",
       "    text-align: left;\n",
       "  }\n",
       "</style><div class='table-result-container'><table class='table-result'><thead style='background-color: white'><tr><th>year</th><th>min</th><th>median</th><th>mode</th><th>max</th></tr></thead><tbody><tr><td>2015</td><td>0.0</td><td>0.7</td><td>0.92</td><td>1.03</td></tr><tr><td>2016</td><td>0.0</td><td>0.6</td><td>0.63</td><td>0.95</td></tr><tr><td>2017</td><td>0.0</td><td>0.61</td><td>0.59</td><td>0.95</td></tr><tr><td>2018</td><td>0.0</td><td>0.64</td><td>0.68</td><td>1.03</td></tr><tr><td>2019</td><td>0.0</td><td>0.79</td><td>0.82</td><td>1.14</td></tr></tbody></table></div>"
      ]
     },
     "metadata": {
      "application/vnd.databricks.v1+output": {
       "addedWidgets": {},
       "aggData": [],
       "aggError": "",
       "aggOverflow": false,
       "aggSchema": [],
       "aggSeriesLimitReached": false,
       "aggType": "",
       "arguments": {},
       "columnCustomDisplayInfos": {},
       "data": [
        [
         2015,
         0.0,
         0.7,
         0.92,
         1.03
        ],
        [
         2016,
         0.0,
         0.6,
         0.63,
         0.95
        ],
        [
         2017,
         0.0,
         0.61,
         0.59,
         0.95
        ],
        [
         2018,
         0.0,
         0.64,
         0.68,
         1.03
        ],
        [
         2019,
         0.0,
         0.79,
         0.82,
         1.14
        ]
       ],
       "datasetInfos": [],
       "dbfsResultPath": null,
       "isJsonSchema": true,
       "metadata": {},
       "overflow": false,
       "plotOptions": {
        "customPlotOptions": {},
        "displayType": "table",
        "pivotAggregation": null,
        "pivotColumns": null,
        "xColumns": null,
        "yColumns": null
       },
       "removedWidgets": [],
       "schema": [
        {
         "metadata": "{\"comment\":\"The year of the report\"}",
         "name": "year",
         "type": "\"integer\""
        },
        {
         "metadata": "{}",
         "name": "min",
         "type": "\"double\""
        },
        {
         "metadata": "{}",
         "name": "median",
         "type": "\"double\""
        },
        {
         "metadata": "{}",
         "name": "mode",
         "type": "\"double\""
        },
        {
         "metadata": "{}",
         "name": "max",
         "type": "\"double\""
        }
       ],
       "type": "table"
      }
     },
     "output_type": "display_data"
    }
   ],
   "source": [
    "%sql\n",
    "\n",
    "select \n",
    "year,\n",
    "round(min(healthy_life_expectancy),2) min,\n",
    "round(median(healthy_life_expectancy),2) median,\n",
    "round(mode(healthy_life_expectancy),2) mode,\n",
    "round(max(healthy_life_expectancy),2) max\n",
    "from `tb_world_happiness_report_silver`\n",
    "group by 1 order by 1"
   ]
  },
  {
   "cell_type": "code",
   "execution_count": 0,
   "metadata": {
    "application/vnd.databricks.v1+cell": {
     "cellMetadata": {
      "byteLimit": 2048000,
      "implicitDf": true,
      "rowLimit": 10000
     },
     "inputWidgets": {},
     "nuid": "ef8b0a26-ec97-49f3-b36a-a89ce5efb4db",
     "showTitle": false,
     "title": ""
    }
   },
   "outputs": [
    {
     "output_type": "display_data",
     "data": {
      "text/html": [
       "<style scoped>\n",
       "  .table-result-container {\n",
       "    max-height: 300px;\n",
       "    overflow: auto;\n",
       "  }\n",
       "  table, th, td {\n",
       "    border: 1px solid black;\n",
       "    border-collapse: collapse;\n",
       "  }\n",
       "  th, td {\n",
       "    padding: 5px;\n",
       "  }\n",
       "  th {\n",
       "    text-align: left;\n",
       "  }\n",
       "</style><div class='table-result-container'><table class='table-result'><thead style='background-color: white'><tr><th>year</th><th>min</th><th>median</th><th>mode</th><th>max</th></tr></thead><tbody><tr><td>2015</td><td>0.0</td><td>0.44</td><td>0.54</td><td>0.67</td></tr><tr><td>2016</td><td>0.0</td><td>0.4</td><td>0.28</td><td>0.61</td></tr><tr><td>2017</td><td>0.0</td><td>0.44</td><td>0.55</td><td>0.66</td></tr><tr><td>2018</td><td>0.0</td><td>0.49</td><td>0.31</td><td>0.72</td></tr><tr><td>2019</td><td>0.0</td><td>0.42</td><td>0.56</td><td>0.63</td></tr></tbody></table></div>"
      ]
     },
     "metadata": {
      "application/vnd.databricks.v1+output": {
       "addedWidgets": {},
       "aggData": [],
       "aggError": "",
       "aggOverflow": false,
       "aggSchema": [],
       "aggSeriesLimitReached": false,
       "aggType": "",
       "arguments": {},
       "columnCustomDisplayInfos": {},
       "data": [
        [
         2015,
         0.0,
         0.44,
         0.54,
         0.67
        ],
        [
         2016,
         0.0,
         0.4,
         0.28,
         0.61
        ],
        [
         2017,
         0.0,
         0.44,
         0.55,
         0.66
        ],
        [
         2018,
         0.0,
         0.49,
         0.31,
         0.72
        ],
        [
         2019,
         0.0,
         0.42,
         0.56,
         0.63
        ]
       ],
       "datasetInfos": [],
       "dbfsResultPath": null,
       "isJsonSchema": true,
       "metadata": {},
       "overflow": false,
       "plotOptions": {
        "customPlotOptions": {},
        "displayType": "table",
        "pivotAggregation": null,
        "pivotColumns": null,
        "xColumns": null,
        "yColumns": null
       },
       "removedWidgets": [],
       "schema": [
        {
         "metadata": "{\"comment\":\"The year of the report\"}",
         "name": "year",
         "type": "\"integer\""
        },
        {
         "metadata": "{}",
         "name": "min",
         "type": "\"double\""
        },
        {
         "metadata": "{}",
         "name": "median",
         "type": "\"double\""
        },
        {
         "metadata": "{}",
         "name": "mode",
         "type": "\"double\""
        },
        {
         "metadata": "{}",
         "name": "max",
         "type": "\"double\""
        }
       ],
       "type": "table"
      }
     },
     "output_type": "display_data"
    }
   ],
   "source": [
    "%sql\n",
    "\n",
    "select \n",
    "year,\n",
    "round(min(freedom_to_make_life_choices),2) min,\n",
    "round(median(freedom_to_make_life_choices),2) median,\n",
    "round(mode(freedom_to_make_life_choices),2) mode,\n",
    "round(max(freedom_to_make_life_choices),2) max\n",
    "from `tb_world_happiness_report_silver`\n",
    "group by 1 order by 1"
   ]
  },
  {
   "cell_type": "code",
   "execution_count": 0,
   "metadata": {
    "application/vnd.databricks.v1+cell": {
     "cellMetadata": {
      "byteLimit": 2048000,
      "implicitDf": true,
      "rowLimit": 10000
     },
     "inputWidgets": {},
     "nuid": "e6c46ef4-cc42-47b8-a2ff-564f790f0b9c",
     "showTitle": false,
     "title": ""
    }
   },
   "outputs": [
    {
     "output_type": "display_data",
     "data": {
      "text/html": [
       "<style scoped>\n",
       "  .table-result-container {\n",
       "    max-height: 300px;\n",
       "    overflow: auto;\n",
       "  }\n",
       "  table, th, td {\n",
       "    border: 1px solid black;\n",
       "    border-collapse: collapse;\n",
       "  }\n",
       "  th, td {\n",
       "    padding: 5px;\n",
       "  }\n",
       "  th {\n",
       "    text-align: left;\n",
       "  }\n",
       "</style><div class='table-result-container'><table class='table-result'><thead style='background-color: white'><tr><th>year</th><th>min</th><th>median</th><th>mode</th><th>max</th></tr></thead><tbody><tr><td>2015</td><td>0.0</td><td>0.22</td><td>0.24</td><td>0.8</td></tr><tr><td>2016</td><td>0.0</td><td>0.22</td><td>0.24</td><td>0.82</td></tr><tr><td>2017</td><td>0.0</td><td>0.23</td><td>0.29</td><td>0.84</td></tr><tr><td>2018</td><td>0.0</td><td>0.17</td><td>0.26</td><td>0.6</td></tr><tr><td>2019</td><td>0.0</td><td>0.18</td><td>0.15</td><td>0.57</td></tr></tbody></table></div>"
      ]
     },
     "metadata": {
      "application/vnd.databricks.v1+output": {
       "addedWidgets": {},
       "aggData": [],
       "aggError": "",
       "aggOverflow": false,
       "aggSchema": [],
       "aggSeriesLimitReached": false,
       "aggType": "",
       "arguments": {},
       "columnCustomDisplayInfos": {},
       "data": [
        [
         2015,
         0.0,
         0.22,
         0.24,
         0.8
        ],
        [
         2016,
         0.0,
         0.22,
         0.24,
         0.82
        ],
        [
         2017,
         0.0,
         0.23,
         0.29,
         0.84
        ],
        [
         2018,
         0.0,
         0.17,
         0.26,
         0.6
        ],
        [
         2019,
         0.0,
         0.18,
         0.15,
         0.57
        ]
       ],
       "datasetInfos": [],
       "dbfsResultPath": null,
       "isJsonSchema": true,
       "metadata": {},
       "overflow": false,
       "plotOptions": {
        "customPlotOptions": {},
        "displayType": "table",
        "pivotAggregation": null,
        "pivotColumns": null,
        "xColumns": null,
        "yColumns": null
       },
       "removedWidgets": [],
       "schema": [
        {
         "metadata": "{\"comment\":\"The year of the report\"}",
         "name": "year",
         "type": "\"integer\""
        },
        {
         "metadata": "{}",
         "name": "min",
         "type": "\"double\""
        },
        {
         "metadata": "{}",
         "name": "median",
         "type": "\"double\""
        },
        {
         "metadata": "{}",
         "name": "mode",
         "type": "\"double\""
        },
        {
         "metadata": "{}",
         "name": "max",
         "type": "\"double\""
        }
       ],
       "type": "table"
      }
     },
     "output_type": "display_data"
    }
   ],
   "source": [
    "%sql\n",
    "\n",
    "select \n",
    "year,\n",
    "round(min(generosity),2) min,\n",
    "round(median(generosity),2) median,\n",
    "round(mode(generosity),2) mode,\n",
    "round(max(generosity),2) max\n",
    "from `tb_world_happiness_report_silver`\n",
    "group by 1 order by 1"
   ]
  },
  {
   "cell_type": "code",
   "execution_count": 0,
   "metadata": {
    "application/vnd.databricks.v1+cell": {
     "cellMetadata": {
      "byteLimit": 2048000,
      "implicitDf": true,
      "rowLimit": 10000
     },
     "inputWidgets": {},
     "nuid": "053ab72f-d082-4e6c-b822-88e7268e73eb",
     "showTitle": false,
     "title": ""
    }
   },
   "outputs": [
    {
     "output_type": "display_data",
     "data": {
      "text/html": [
       "<style scoped>\n",
       "  .table-result-container {\n",
       "    max-height: 300px;\n",
       "    overflow: auto;\n",
       "  }\n",
       "  table, th, td {\n",
       "    border: 1px solid black;\n",
       "    border-collapse: collapse;\n",
       "  }\n",
       "  th, td {\n",
       "    padding: 5px;\n",
       "  }\n",
       "  th {\n",
       "    text-align: left;\n",
       "  }\n",
       "</style><div class='table-result-container'><table class='table-result'><thead style='background-color: white'><tr><th>year</th><th>min</th><th>median</th><th>mode</th><th>max</th></tr></thead><tbody><tr><td>2015</td><td>0.0</td><td>0.11</td><td>0.33</td><td>0.55</td></tr><tr><td>2016</td><td>0.0</td><td>0.11</td><td>0.11</td><td>0.51</td></tr><tr><td>2017</td><td>0.0</td><td>0.09</td><td>0.1</td><td>0.46</td></tr><tr><td>2018</td><td>0.0</td><td>0.08</td><td>0.08</td><td>0.46</td></tr><tr><td>2019</td><td>0.0</td><td>0.09</td><td>0.03</td><td>0.45</td></tr></tbody></table></div>"
      ]
     },
     "metadata": {
      "application/vnd.databricks.v1+output": {
       "addedWidgets": {},
       "aggData": [],
       "aggError": "",
       "aggOverflow": false,
       "aggSchema": [],
       "aggSeriesLimitReached": false,
       "aggType": "",
       "arguments": {},
       "columnCustomDisplayInfos": {},
       "data": [
        [
         2015,
         0.0,
         0.11,
         0.33,
         0.55
        ],
        [
         2016,
         0.0,
         0.11,
         0.11,
         0.51
        ],
        [
         2017,
         0.0,
         0.09,
         0.1,
         0.46
        ],
        [
         2018,
         0.0,
         0.08,
         0.08,
         0.46
        ],
        [
         2019,
         0.0,
         0.09,
         0.03,
         0.45
        ]
       ],
       "datasetInfos": [],
       "dbfsResultPath": null,
       "isJsonSchema": true,
       "metadata": {},
       "overflow": false,
       "plotOptions": {
        "customPlotOptions": {},
        "displayType": "table",
        "pivotAggregation": null,
        "pivotColumns": null,
        "xColumns": null,
        "yColumns": null
       },
       "removedWidgets": [],
       "schema": [
        {
         "metadata": "{\"comment\":\"The year of the report\"}",
         "name": "year",
         "type": "\"integer\""
        },
        {
         "metadata": "{}",
         "name": "min",
         "type": "\"double\""
        },
        {
         "metadata": "{}",
         "name": "median",
         "type": "\"double\""
        },
        {
         "metadata": "{}",
         "name": "mode",
         "type": "\"double\""
        },
        {
         "metadata": "{}",
         "name": "max",
         "type": "\"double\""
        }
       ],
       "type": "table"
      }
     },
     "output_type": "display_data"
    }
   ],
   "source": [
    "%sql\n",
    "\n",
    "select \n",
    "year,\n",
    "round(min(perceptions_of_corruption),2) min,\n",
    "round(median(perceptions_of_corruption),2) median,\n",
    "round(mode(perceptions_of_corruption),2) mode,\n",
    "round(max(perceptions_of_corruption),2) max\n",
    "from `tb_world_happiness_report_silver`\n",
    "group by 1 order by 1"
   ]
  },
  {
   "cell_type": "markdown",
   "metadata": {
    "application/vnd.databricks.v1+cell": {
     "cellMetadata": {
      "byteLimit": 2048000,
      "rowLimit": 10000
     },
     "inputWidgets": {},
     "nuid": "6f68f494-2649-4d5f-a4c3-ab95744e2371",
     "showTitle": false,
     "title": ""
    }
   },
   "source": [
    "Vamos ver qual linha não tem a informação do campo perceptions_of_corruption"
   ]
  },
  {
   "cell_type": "code",
   "execution_count": 0,
   "metadata": {
    "application/vnd.databricks.v1+cell": {
     "cellMetadata": {
      "byteLimit": 2048000,
      "implicitDf": true,
      "rowLimit": 10000
     },
     "inputWidgets": {},
     "nuid": "d2a1bd1b-84a0-4ed9-88de-ef2b187c8d93",
     "showTitle": false,
     "title": ""
    }
   },
   "outputs": [
    {
     "output_type": "display_data",
     "data": {
      "text/html": [
       "<style scoped>\n",
       "  .table-result-container {\n",
       "    max-height: 300px;\n",
       "    overflow: auto;\n",
       "  }\n",
       "  table, th, td {\n",
       "    border: 1px solid black;\n",
       "    border-collapse: collapse;\n",
       "  }\n",
       "  th, td {\n",
       "    padding: 5px;\n",
       "  }\n",
       "  th {\n",
       "    text-align: left;\n",
       "  }\n",
       "</style><div class='table-result-container'><table class='table-result'><thead style='background-color: white'><tr><th>country</th><th>year</th><th>overall_rank</th><th>happiness_score</th><th>gpd_per_capita</th><th>social_support</th><th>healthy_life_expectancy</th><th>freedom_to_make_life_choices</th><th>generosity</th><th>perceptions_of_corruption</th></tr></thead><tbody><tr><td>United Arab Emirates</td><td>2018</td><td>20</td><td>6.774</td><td>2.096</td><td>0.776</td><td>0.67</td><td>0.284</td><td>0.186</td><td>null</td></tr></tbody></table></div>"
      ]
     },
     "metadata": {
      "application/vnd.databricks.v1+output": {
       "addedWidgets": {},
       "aggData": [],
       "aggError": "",
       "aggOverflow": false,
       "aggSchema": [],
       "aggSeriesLimitReached": false,
       "aggType": "",
       "arguments": {},
       "columnCustomDisplayInfos": {},
       "data": [
        [
         "United Arab Emirates",
         2018,
         20,
         6.774,
         2.096,
         0.776,
         0.67,
         0.284,
         0.186,
         null
        ]
       ],
       "datasetInfos": [],
       "dbfsResultPath": null,
       "isJsonSchema": true,
       "metadata": {},
       "overflow": false,
       "plotOptions": {
        "customPlotOptions": {},
        "displayType": "table",
        "pivotAggregation": null,
        "pivotColumns": null,
        "xColumns": null,
        "yColumns": null
       },
       "removedWidgets": [],
       "schema": [
        {
         "metadata": "{\"comment\":\"The name of the country\"}",
         "name": "country",
         "type": "\"string\""
        },
        {
         "metadata": "{\"comment\":\"The year of the report\"}",
         "name": "year",
         "type": "\"integer\""
        },
        {
         "metadata": "{\"comment\":\"Rank of the country based on the Happiness Score\"}",
         "name": "overall_rank",
         "type": "\"integer\""
        },
        {
         "metadata": "{\"comment\":\"The happiness score of the country\"}",
         "name": "happiness_score",
         "type": "\"double\""
        },
        {
         "metadata": "{\"comment\":\"The extent to which GDP contributes to the calculation of the Happiness Score\"}",
         "name": "gpd_per_capita",
         "type": "\"double\""
        },
        {
         "metadata": "{\"comment\":\"The extent to which Family contributes to the calculation of the Happiness Score\"}",
         "name": "social_support",
         "type": "\"double\""
        },
        {
         "metadata": "{\"comment\":\"The extent to which Life expectancy contributed to the calculation of the Happiness Score\"}",
         "name": "healthy_life_expectancy",
         "type": "\"double\""
        },
        {
         "metadata": "{\"comment\":\"The extent to which Freedom contributed to the calculation of the Happiness Score\"}",
         "name": "freedom_to_make_life_choices",
         "type": "\"double\""
        },
        {
         "metadata": "{\"comment\":\"The extent to which Generosity contributed to the calculation of the Happiness Score\"}",
         "name": "generosity",
         "type": "\"double\""
        },
        {
         "metadata": "{\"comment\":\"The extent to which Perception of Corruption contributes to Happiness Score\"}",
         "name": "perceptions_of_corruption",
         "type": "\"double\""
        }
       ],
       "type": "table"
      }
     },
     "output_type": "display_data"
    }
   ],
   "source": [
    "%sql\n",
    "\n",
    "select \n",
    "*\n",
    "from `tb_world_happiness_report_silver`\n",
    "where perceptions_of_corruption is null\n"
   ]
  },
  {
   "cell_type": "markdown",
   "metadata": {
    "application/vnd.databricks.v1+cell": {
     "cellMetadata": {
      "byteLimit": 2048000,
      "rowLimit": 10000
     },
     "inputWidgets": {},
     "nuid": "a6b4a294-4844-4c5f-bf43-29879a4f3430",
     "showTitle": false,
     "title": ""
    }
   },
   "source": [
    "###### Coluna do tipo Int"
   ]
  },
  {
   "cell_type": "markdown",
   "metadata": {
    "application/vnd.databricks.v1+cell": {
     "cellMetadata": {
      "byteLimit": 2048000,
      "rowLimit": 10000
     },
     "inputWidgets": {},
     "nuid": "25f768a8-f1b1-42f2-9716-1d70043b4c96",
     "showTitle": false,
     "title": ""
    }
   },
   "source": [
    "* Coluna year"
   ]
  },
  {
   "cell_type": "code",
   "execution_count": 0,
   "metadata": {
    "application/vnd.databricks.v1+cell": {
     "cellMetadata": {
      "byteLimit": 2048000,
      "implicitDf": true,
      "rowLimit": 10000
     },
     "inputWidgets": {},
     "nuid": "befc1d8b-3716-4a3c-b865-6f822467506a",
     "showTitle": false,
     "title": ""
    }
   },
   "outputs": [
    {
     "output_type": "display_data",
     "data": {
      "text/html": [
       "<style scoped>\n",
       "  .table-result-container {\n",
       "    max-height: 300px;\n",
       "    overflow: auto;\n",
       "  }\n",
       "  table, th, td {\n",
       "    border: 1px solid black;\n",
       "    border-collapse: collapse;\n",
       "  }\n",
       "  th, td {\n",
       "    padding: 5px;\n",
       "  }\n",
       "  th {\n",
       "    text-align: left;\n",
       "  }\n",
       "</style><div class='table-result-container'><table class='table-result'><thead style='background-color: white'><tr><th>year</th></tr></thead><tbody><tr><td>2015</td></tr><tr><td>2016</td></tr><tr><td>2017</td></tr><tr><td>2018</td></tr><tr><td>2019</td></tr></tbody></table></div>"
      ]
     },
     "metadata": {
      "application/vnd.databricks.v1+output": {
       "addedWidgets": {},
       "aggData": [],
       "aggError": "",
       "aggOverflow": false,
       "aggSchema": [],
       "aggSeriesLimitReached": false,
       "aggType": "",
       "arguments": {},
       "columnCustomDisplayInfos": {},
       "data": [
        [
         2015
        ],
        [
         2016
        ],
        [
         2017
        ],
        [
         2018
        ],
        [
         2019
        ]
       ],
       "datasetInfos": [],
       "dbfsResultPath": null,
       "isJsonSchema": true,
       "metadata": {},
       "overflow": false,
       "plotOptions": {
        "customPlotOptions": {},
        "displayType": "table",
        "pivotAggregation": null,
        "pivotColumns": null,
        "xColumns": null,
        "yColumns": null
       },
       "removedWidgets": [],
       "schema": [
        {
         "metadata": "{\"comment\":\"The year of the report\"}",
         "name": "year",
         "type": "\"integer\""
        }
       ],
       "type": "table"
      }
     },
     "output_type": "display_data"
    }
   ],
   "source": [
    "%sql\n",
    "select  \n",
    "  distinct year\n",
    "from `tb_world_happiness_report_silver`\n",
    "order by 1"
   ]
  },
  {
   "cell_type": "markdown",
   "metadata": {
    "application/vnd.databricks.v1+cell": {
     "cellMetadata": {
      "byteLimit": 2048000,
      "rowLimit": 10000
     },
     "inputWidgets": {},
     "nuid": "4c6a09ee-b515-4e69-9c51-9a17572f21c8",
     "showTitle": false,
     "title": ""
    }
   },
   "source": [
    "Na parte \"Visão geral dos campos\" já vimos que essa coluna está sempre preenchida, agora confirmamos que sempre temos inteiro variando de 2015 à 2019"
   ]
  },
  {
   "cell_type": "markdown",
   "metadata": {
    "application/vnd.databricks.v1+cell": {
     "cellMetadata": {
      "byteLimit": 2048000,
      "rowLimit": 10000
     },
     "inputWidgets": {},
     "nuid": "ec67a881-8997-489a-a766-ad88590178ba",
     "showTitle": false,
     "title": ""
    }
   },
   "source": [
    "###### Conclusão"
   ]
  },
  {
   "cell_type": "markdown",
   "metadata": {
    "application/vnd.databricks.v1+cell": {
     "cellMetadata": {
      "byteLimit": 2048000,
      "rowLimit": 10000
     },
     "inputWidgets": {},
     "nuid": "50f504d4-4df5-46b4-9d00-16419f82ff85",
     "showTitle": false,
     "title": ""
    }
   },
   "source": [
    "Todos os campos da tabela tb_world_happiness_report_silver estão dentro das regras de negócio.\n",
    "Só identificamos 1 linha sem a informação de perceptions_of_corruption no ano de 2018. Iremos optar por não excluir essa linhas pois essa linha ainda é válida para todas as análise que não envolvam essa coluna. "
   ]
  },
  {
   "cell_type": "markdown",
   "metadata": {
    "application/vnd.databricks.v1+cell": {
     "cellMetadata": {
      "byteLimit": 2048000,
      "rowLimit": 10000
     },
     "inputWidgets": {},
     "nuid": "41cc5f68-8097-4954-ae8c-91133a84092d",
     "showTitle": false,
     "title": ""
    }
   },
   "source": [
    "##### tb_region_silver"
   ]
  },
  {
   "cell_type": "markdown",
   "metadata": {
    "application/vnd.databricks.v1+cell": {
     "cellMetadata": {
      "byteLimit": 2048000,
      "rowLimit": 10000
     },
     "inputWidgets": {},
     "nuid": "ccb9ae5c-0762-4a09-aabe-25d9ac2e13d5",
     "showTitle": false,
     "title": ""
    }
   },
   "source": [
    "Vamos verificar a quantidade de caractéres nos campos de country e region"
   ]
  },
  {
   "cell_type": "code",
   "execution_count": 0,
   "metadata": {
    "application/vnd.databricks.v1+cell": {
     "cellMetadata": {
      "byteLimit": 2048000,
      "implicitDf": true,
      "rowLimit": 10000
     },
     "inputWidgets": {},
     "nuid": "748e7d6e-ff52-4ac5-8c7b-a109f040384b",
     "showTitle": false,
     "title": ""
    }
   },
   "outputs": [
    {
     "output_type": "display_data",
     "data": {
      "text/html": [
       "<style scoped>\n",
       "  .table-result-container {\n",
       "    max-height: 300px;\n",
       "    overflow: auto;\n",
       "  }\n",
       "  table, th, td {\n",
       "    border: 1px solid black;\n",
       "    border-collapse: collapse;\n",
       "  }\n",
       "  th, td {\n",
       "    padding: 5px;\n",
       "  }\n",
       "  th {\n",
       "    text-align: left;\n",
       "  }\n",
       "</style><div class='table-result-container'><table class='table-result'><thead style='background-color: white'><tr><th>country</th><th>len(country)</th></tr></thead><tbody><tr><td>Northern Mariana Islands</td><td>24</td></tr><tr><td>Central African Republic</td><td>24</td></tr><tr><td>Palestinian Territories</td><td>23</td></tr><tr><td>Bosnia and Herzegovina</td><td>22</td></tr><tr><td>Sao Tome and Principe</td><td>21</td></tr><tr><td>United Arab Emirates</td><td>20</td></tr><tr><td>Trinidad and Tobago</td><td>19</td></tr><tr><td>Congo (Brazzaville)</td><td>19</td></tr><tr><td>Antigua and Barbuda</td><td>19</td></tr><tr><td>Dominican Republic</td><td>18</td></tr></tbody></table></div>"
      ]
     },
     "metadata": {
      "application/vnd.databricks.v1+output": {
       "addedWidgets": {},
       "aggData": [],
       "aggError": "",
       "aggOverflow": false,
       "aggSchema": [],
       "aggSeriesLimitReached": false,
       "aggType": "",
       "arguments": {},
       "columnCustomDisplayInfos": {},
       "data": [
        [
         "Northern Mariana Islands",
         24
        ],
        [
         "Central African Republic",
         24
        ],
        [
         "Palestinian Territories",
         23
        ],
        [
         "Bosnia and Herzegovina",
         22
        ],
        [
         "Sao Tome and Principe",
         21
        ],
        [
         "United Arab Emirates",
         20
        ],
        [
         "Trinidad and Tobago",
         19
        ],
        [
         "Congo (Brazzaville)",
         19
        ],
        [
         "Antigua and Barbuda",
         19
        ],
        [
         "Dominican Republic",
         18
        ]
       ],
       "datasetInfos": [],
       "dbfsResultPath": null,
       "isJsonSchema": true,
       "metadata": {},
       "overflow": false,
       "plotOptions": {
        "customPlotOptions": {},
        "displayType": "table",
        "pivotAggregation": null,
        "pivotColumns": null,
        "xColumns": null,
        "yColumns": null
       },
       "removedWidgets": [],
       "schema": [
        {
         "metadata": "{\"comment\":\"The name of the country\"}",
         "name": "country",
         "type": "\"string\""
        },
        {
         "metadata": "{\"__autoGeneratedAlias\":\"true\"}",
         "name": "len(country)",
         "type": "\"integer\""
        }
       ],
       "type": "table"
      }
     },
     "output_type": "display_data"
    }
   ],
   "source": [
    "%sql\n",
    "\n",
    "/* Query para verificar a quantidade de caractéres máximo no campo country_code*/\n",
    "/* Vendo os 10 maiores */\n",
    "\n",
    "select \n",
    "country,\n",
    "len(country)\n",
    "from `tb_region_silver`\n",
    "group by 1 order by 2 desc limit 10"
   ]
  },
  {
   "cell_type": "code",
   "execution_count": 0,
   "metadata": {
    "application/vnd.databricks.v1+cell": {
     "cellMetadata": {
      "byteLimit": 2048000,
      "implicitDf": true,
      "rowLimit": 10000
     },
     "inputWidgets": {},
     "nuid": "a89b8ddd-3e2b-4c89-a255-8ea0ddd65f6e",
     "showTitle": false,
     "title": ""
    }
   },
   "outputs": [
    {
     "output_type": "display_data",
     "data": {
      "text/html": [
       "<style scoped>\n",
       "  .table-result-container {\n",
       "    max-height: 300px;\n",
       "    overflow: auto;\n",
       "  }\n",
       "  table, th, td {\n",
       "    border: 1px solid black;\n",
       "    border-collapse: collapse;\n",
       "  }\n",
       "  th, td {\n",
       "    padding: 5px;\n",
       "  }\n",
       "  th {\n",
       "    text-align: left;\n",
       "  }\n",
       "</style><div class='table-result-container'><table class='table-result'><thead style='background-color: white'><tr><th>country</th><th>len(country)</th></tr></thead><tbody><tr><td>Chad</td><td>4</td></tr><tr><td>Iraq</td><td>4</td></tr><tr><td>Fiji</td><td>4</td></tr><tr><td>Togo</td><td>4</td></tr><tr><td>Peru</td><td>4</td></tr><tr><td>Cuba</td><td>4</td></tr><tr><td>Iran</td><td>4</td></tr><tr><td>Laos</td><td>4</td></tr><tr><td>Oman</td><td>4</td></tr><tr><td>Guam</td><td>4</td></tr></tbody></table></div>"
      ]
     },
     "metadata": {
      "application/vnd.databricks.v1+output": {
       "addedWidgets": {},
       "aggData": [],
       "aggError": "",
       "aggOverflow": false,
       "aggSchema": [],
       "aggSeriesLimitReached": false,
       "aggType": "",
       "arguments": {},
       "columnCustomDisplayInfos": {},
       "data": [
        [
         "Chad",
         4
        ],
        [
         "Iraq",
         4
        ],
        [
         "Fiji",
         4
        ],
        [
         "Togo",
         4
        ],
        [
         "Peru",
         4
        ],
        [
         "Cuba",
         4
        ],
        [
         "Iran",
         4
        ],
        [
         "Laos",
         4
        ],
        [
         "Oman",
         4
        ],
        [
         "Guam",
         4
        ]
       ],
       "datasetInfos": [],
       "dbfsResultPath": null,
       "isJsonSchema": true,
       "metadata": {},
       "overflow": false,
       "plotOptions": {
        "customPlotOptions": {},
        "displayType": "table",
        "pivotAggregation": null,
        "pivotColumns": null,
        "xColumns": null,
        "yColumns": null
       },
       "removedWidgets": [],
       "schema": [
        {
         "metadata": "{\"comment\":\"The name of the country\"}",
         "name": "country",
         "type": "\"string\""
        },
        {
         "metadata": "{\"__autoGeneratedAlias\":\"true\"}",
         "name": "len(country)",
         "type": "\"integer\""
        }
       ],
       "type": "table"
      }
     },
     "output_type": "display_data"
    }
   ],
   "source": [
    "%sql\n",
    "\n",
    "/* Query para verificar a quantidade de caractéres máximo no campo country_code*/\n",
    "/* Vendo os 10 menores */\n",
    "\n",
    "select \n",
    "country,\n",
    "len(country)\n",
    "from `tb_region_silver`\n",
    "group by 1 order by 2 asc limit 10"
   ]
  },
  {
   "cell_type": "code",
   "execution_count": 0,
   "metadata": {
    "application/vnd.databricks.v1+cell": {
     "cellMetadata": {
      "byteLimit": 2048000,
      "implicitDf": true,
      "rowLimit": 10000
     },
     "inputWidgets": {},
     "nuid": "235c2038-ce02-4335-9e79-93dacc6d2fef",
     "showTitle": false,
     "title": ""
    }
   },
   "outputs": [
    {
     "output_type": "display_data",
     "data": {
      "text/html": [
       "<style scoped>\n",
       "  .table-result-container {\n",
       "    max-height: 300px;\n",
       "    overflow: auto;\n",
       "  }\n",
       "  table, th, td {\n",
       "    border: 1px solid black;\n",
       "    border-collapse: collapse;\n",
       "  }\n",
       "  th, td {\n",
       "    padding: 5px;\n",
       "  }\n",
       "  th {\n",
       "    text-align: left;\n",
       "  }\n",
       "</style><div class='table-result-container'><table class='table-result'><thead style='background-color: white'><tr><th>region_world</th><th>len(region_world)</th></tr></thead><tbody><tr><td>Middle East and Northern Africa</td><td>31</td></tr><tr><td>Latin America and Caribbean</td><td>27</td></tr><tr><td>Central and Eastern Europe</td><td>26</td></tr><tr><td>Australia and New Zealand</td><td>25</td></tr><tr><td>Latin America & Caribbean</td><td>25</td></tr><tr><td>Europe & Central Asia</td><td>21</td></tr><tr><td>East Asia & Pacific</td><td>19</td></tr><tr><td>Sub-Saharan Africa</td><td>18</td></tr><tr><td>Southeastern Asia</td><td>17</td></tr><tr><td>Western Europe</td><td>14</td></tr></tbody></table></div>"
      ]
     },
     "metadata": {
      "application/vnd.databricks.v1+output": {
       "addedWidgets": {},
       "aggData": [],
       "aggError": "",
       "aggOverflow": false,
       "aggSchema": [],
       "aggSeriesLimitReached": false,
       "aggType": "",
       "arguments": {},
       "columnCustomDisplayInfos": {},
       "data": [
        [
         "Middle East and Northern Africa",
         31
        ],
        [
         "Latin America and Caribbean",
         27
        ],
        [
         "Central and Eastern Europe",
         26
        ],
        [
         "Australia and New Zealand",
         25
        ],
        [
         "Latin America & Caribbean",
         25
        ],
        [
         "Europe & Central Asia",
         21
        ],
        [
         "East Asia & Pacific",
         19
        ],
        [
         "Sub-Saharan Africa",
         18
        ],
        [
         "Southeastern Asia",
         17
        ],
        [
         "Western Europe",
         14
        ]
       ],
       "datasetInfos": [],
       "dbfsResultPath": null,
       "isJsonSchema": true,
       "metadata": {},
       "overflow": false,
       "plotOptions": {
        "customPlotOptions": {},
        "displayType": "table",
        "pivotAggregation": null,
        "pivotColumns": null,
        "xColumns": null,
        "yColumns": null
       },
       "removedWidgets": [],
       "schema": [
        {
         "metadata": "{\"comment\":\"The region of the world the country is located in\"}",
         "name": "region_world",
         "type": "\"string\""
        },
        {
         "metadata": "{\"__autoGeneratedAlias\":\"true\"}",
         "name": "len(region_world)",
         "type": "\"integer\""
        }
       ],
       "type": "table"
      }
     },
     "output_type": "display_data"
    }
   ],
   "source": [
    "%sql\n",
    "\n",
    "/* Query para verificar a quantidade de caractéres máximo no campo country_code*/\n",
    "/* Vendo os 10 maiores */\n",
    "\n",
    "select \n",
    "region_world,\n",
    "len(region_world)\n",
    "from `tb_region_silver`\n",
    "group by 1 order by 2 desc limit 10"
   ]
  },
  {
   "cell_type": "markdown",
   "metadata": {
    "application/vnd.databricks.v1+cell": {
     "cellMetadata": {
      "byteLimit": 2048000,
      "rowLimit": 10000
     },
     "inputWidgets": {},
     "nuid": "a07ae4a7-3b3d-4f3c-81fc-28b0d431266f",
     "showTitle": false,
     "title": ""
    }
   },
   "source": [
    "Já verificamos na hora que criamos essa tabela que cada país só possue uma região. Vamos olhar aqui se é possível padronizar os nomes das regiões"
   ]
  },
  {
   "cell_type": "code",
   "execution_count": 0,
   "metadata": {
    "application/vnd.databricks.v1+cell": {
     "cellMetadata": {
      "byteLimit": 2048000,
      "implicitDf": true,
      "rowLimit": 10000
     },
     "inputWidgets": {},
     "nuid": "5bd5dd41-0d67-45ea-8b8d-af81f2740d9f",
     "showTitle": false,
     "title": ""
    }
   },
   "outputs": [
    {
     "output_type": "display_data",
     "data": {
      "text/html": [
       "<style scoped>\n",
       "  .table-result-container {\n",
       "    max-height: 300px;\n",
       "    overflow: auto;\n",
       "  }\n",
       "  table, th, td {\n",
       "    border: 1px solid black;\n",
       "    border-collapse: collapse;\n",
       "  }\n",
       "  th, td {\n",
       "    padding: 5px;\n",
       "  }\n",
       "  th {\n",
       "    text-align: left;\n",
       "  }\n",
       "</style><div class='table-result-container'><table class='table-result'><thead style='background-color: white'><tr><th>region_world</th><th>contagem_paises</th></tr></thead><tbody><tr><td>Sub-Saharan Africa</td><td>51</td></tr><tr><td>Central and Eastern Europe</td><td>29</td></tr><tr><td>Latin America and Caribbean</td><td>24</td></tr><tr><td>Western Europe</td><td>21</td></tr><tr><td>Middle East and Northern Africa</td><td>20</td></tr><tr><td>East Asia & Pacific</td><td>14</td></tr><tr><td>Southeastern Asia</td><td>9</td></tr><tr><td>Southern Asia</td><td>7</td></tr><tr><td>Eastern Asia</td><td>6</td></tr><tr><td>Latin America & Caribbean</td><td>6</td></tr><tr><td>Europe & Central Asia</td><td>5</td></tr><tr><td>North America</td><td>3</td></tr><tr><td>Australia and New Zealand</td><td>2</td></tr><tr><td>South Asia</td><td>1</td></tr></tbody></table></div>"
      ]
     },
     "metadata": {
      "application/vnd.databricks.v1+output": {
       "addedWidgets": {},
       "aggData": [],
       "aggError": "",
       "aggOverflow": false,
       "aggSchema": [],
       "aggSeriesLimitReached": false,
       "aggType": "",
       "arguments": {},
       "columnCustomDisplayInfos": {},
       "data": [
        [
         "Sub-Saharan Africa",
         51
        ],
        [
         "Central and Eastern Europe",
         29
        ],
        [
         "Latin America and Caribbean",
         24
        ],
        [
         "Western Europe",
         21
        ],
        [
         "Middle East and Northern Africa",
         20
        ],
        [
         "East Asia & Pacific",
         14
        ],
        [
         "Southeastern Asia",
         9
        ],
        [
         "Southern Asia",
         7
        ],
        [
         "Eastern Asia",
         6
        ],
        [
         "Latin America & Caribbean",
         6
        ],
        [
         "Europe & Central Asia",
         5
        ],
        [
         "North America",
         3
        ],
        [
         "Australia and New Zealand",
         2
        ],
        [
         "South Asia",
         1
        ]
       ],
       "datasetInfos": [],
       "dbfsResultPath": null,
       "isJsonSchema": true,
       "metadata": {},
       "overflow": false,
       "plotOptions": {
        "customPlotOptions": {},
        "displayType": "table",
        "pivotAggregation": null,
        "pivotColumns": null,
        "xColumns": null,
        "yColumns": null
       },
       "removedWidgets": [],
       "schema": [
        {
         "metadata": "{\"comment\":\"The region of the world the country is located in\"}",
         "name": "region_world",
         "type": "\"string\""
        },
        {
         "metadata": "{}",
         "name": "contagem_paises",
         "type": "\"long\""
        }
       ],
       "type": "table"
      }
     },
     "output_type": "display_data"
    }
   ],
   "source": [
    "%sql\n",
    "select  \n",
    "  region_world, count(country) as contagem_paises\n",
    "from `tb_region_silver`\n",
    "group by 1 order by 2 desc"
   ]
  },
  {
   "cell_type": "markdown",
   "metadata": {
    "application/vnd.databricks.v1+cell": {
     "cellMetadata": {
      "byteLimit": 2048000,
      "rowLimit": 10000
     },
     "inputWidgets": {},
     "nuid": "6eff2381-cda5-4f97-96e5-c1ebb0ffedb0",
     "showTitle": false,
     "title": ""
    }
   },
   "source": [
    "Perceba que: <br> \n",
    "* Latin America & Caribbean = Latin America and Caribbean"
   ]
  },
  {
   "cell_type": "markdown",
   "metadata": {
    "application/vnd.databricks.v1+cell": {
     "cellMetadata": {
      "byteLimit": 2048000,
      "rowLimit": 10000
     },
     "inputWidgets": {},
     "nuid": "405aa728-62b5-4c0e-9abf-6fdf7d62a9d5",
     "showTitle": false,
     "title": ""
    }
   },
   "source": [
    "Vamos usar o arquivo auxiliar para verificar se duas regiões da colunas region_world podem ser consolidadas em uma região"
   ]
  },
  {
   "cell_type": "code",
   "execution_count": 0,
   "metadata": {
    "application/vnd.databricks.v1+cell": {
     "cellMetadata": {
      "byteLimit": 2048000,
      "implicitDf": true,
      "rowLimit": 10000
     },
     "inputWidgets": {},
     "nuid": "e1d59f12-9d10-4bb7-aa96-cbe876948683",
     "showTitle": false,
     "title": ""
    }
   },
   "outputs": [
    {
     "output_type": "display_data",
     "data": {
      "text/html": [
       "<style scoped>\n",
       "  .table-result-container {\n",
       "    max-height: 300px;\n",
       "    overflow: auto;\n",
       "  }\n",
       "  table, th, td {\n",
       "    border: 1px solid black;\n",
       "    border-collapse: collapse;\n",
       "  }\n",
       "  th, td {\n",
       "    padding: 5px;\n",
       "  }\n",
       "  th {\n",
       "    text-align: left;\n",
       "  }\n",
       "</style><div class='table-result-container'><table class='table-result'><thead style='background-color: white'><tr><th>region_world</th><th>sub-region</th><th>count(country)</th></tr></thead><tbody><tr><td>Australia and New Zealand</td><td>Australia and New Zealand</td><td>2</td></tr><tr><td>Central and Eastern Europe</td><td>null</td><td>5</td></tr><tr><td>Central and Eastern Europe</td><td>Central Asia</td><td>5</td></tr><tr><td>Central and Eastern Europe</td><td>Eastern Europe</td><td>7</td></tr><tr><td>Central and Eastern Europe</td><td>Northern Europe</td><td>3</td></tr><tr><td>Central and Eastern Europe</td><td>Southern Europe</td><td>6</td></tr><tr><td>Central and Eastern Europe</td><td>Western Asia</td><td>3</td></tr><tr><td>East Asia & Pacific</td><td>Melanesia</td><td>4</td></tr><tr><td>East Asia & Pacific</td><td>Micronesia</td><td>6</td></tr><tr><td>East Asia & Pacific</td><td>Polynesia</td><td>4</td></tr><tr><td>Eastern Asia</td><td>null</td><td>2</td></tr><tr><td>Eastern Asia</td><td>Eastern Asia</td><td>4</td></tr><tr><td>Europe & Central Asia</td><td>Northern America</td><td>1</td></tr><tr><td>Europe & Central Asia</td><td>Southern Europe</td><td>3</td></tr><tr><td>Europe & Central Asia</td><td>Western Europe</td><td>1</td></tr><tr><td>Latin America & Caribbean</td><td>Latin America and the Caribbean</td><td>6</td></tr><tr><td>Latin America and Caribbean</td><td>null</td><td>2</td></tr><tr><td>Latin America and Caribbean</td><td>Latin America and the Caribbean</td><td>22</td></tr><tr><td>Middle East and Northern Africa</td><td>null</td><td>4</td></tr><tr><td>Middle East and Northern Africa</td><td>Northern Africa</td><td>5</td></tr><tr><td>Middle East and Northern Africa</td><td>Western Asia</td><td>11</td></tr><tr><td>North America</td><td>null</td><td>1</td></tr><tr><td>North America</td><td>Northern America</td><td>2</td></tr><tr><td>South Asia</td><td>Southern Asia</td><td>1</td></tr><tr><td>Southeastern Asia</td><td>null</td><td>2</td></tr><tr><td>Southeastern Asia</td><td>South-eastern Asia</td><td>7</td></tr><tr><td>Southern Asia</td><td>Southern Asia</td><td>7</td></tr><tr><td>Sub-Saharan Africa</td><td>null</td><td>8</td></tr><tr><td>Sub-Saharan Africa</td><td>Northern Africa</td><td>1</td></tr><tr><td>Sub-Saharan Africa</td><td>Sub-Saharan Africa</td><td>42</td></tr><tr><td>Western Europe</td><td>null</td><td>3</td></tr><tr><td>Western Europe</td><td>Northern Europe</td><td>6</td></tr><tr><td>Western Europe</td><td>Southern Europe</td><td>5</td></tr><tr><td>Western Europe</td><td>Western Asia</td><td>1</td></tr><tr><td>Western Europe</td><td>Western Europe</td><td>6</td></tr></tbody></table></div>"
      ]
     },
     "metadata": {
      "application/vnd.databricks.v1+output": {
       "addedWidgets": {},
       "aggData": [],
       "aggError": "",
       "aggOverflow": false,
       "aggSchema": [],
       "aggSeriesLimitReached": false,
       "aggType": "",
       "arguments": {},
       "columnCustomDisplayInfos": {},
       "data": [
        [
         "Australia and New Zealand",
         "Australia and New Zealand",
         2
        ],
        [
         "Central and Eastern Europe",
         null,
         5
        ],
        [
         "Central and Eastern Europe",
         "Central Asia",
         5
        ],
        [
         "Central and Eastern Europe",
         "Eastern Europe",
         7
        ],
        [
         "Central and Eastern Europe",
         "Northern Europe",
         3
        ],
        [
         "Central and Eastern Europe",
         "Southern Europe",
         6
        ],
        [
         "Central and Eastern Europe",
         "Western Asia",
         3
        ],
        [
         "East Asia & Pacific",
         "Melanesia",
         4
        ],
        [
         "East Asia & Pacific",
         "Micronesia",
         6
        ],
        [
         "East Asia & Pacific",
         "Polynesia",
         4
        ],
        [
         "Eastern Asia",
         null,
         2
        ],
        [
         "Eastern Asia",
         "Eastern Asia",
         4
        ],
        [
         "Europe & Central Asia",
         "Northern America",
         1
        ],
        [
         "Europe & Central Asia",
         "Southern Europe",
         3
        ],
        [
         "Europe & Central Asia",
         "Western Europe",
         1
        ],
        [
         "Latin America & Caribbean",
         "Latin America and the Caribbean",
         6
        ],
        [
         "Latin America and Caribbean",
         null,
         2
        ],
        [
         "Latin America and Caribbean",
         "Latin America and the Caribbean",
         22
        ],
        [
         "Middle East and Northern Africa",
         null,
         4
        ],
        [
         "Middle East and Northern Africa",
         "Northern Africa",
         5
        ],
        [
         "Middle East and Northern Africa",
         "Western Asia",
         11
        ],
        [
         "North America",
         null,
         1
        ],
        [
         "North America",
         "Northern America",
         2
        ],
        [
         "South Asia",
         "Southern Asia",
         1
        ],
        [
         "Southeastern Asia",
         null,
         2
        ],
        [
         "Southeastern Asia",
         "South-eastern Asia",
         7
        ],
        [
         "Southern Asia",
         "Southern Asia",
         7
        ],
        [
         "Sub-Saharan Africa",
         null,
         8
        ],
        [
         "Sub-Saharan Africa",
         "Northern Africa",
         1
        ],
        [
         "Sub-Saharan Africa",
         "Sub-Saharan Africa",
         42
        ],
        [
         "Western Europe",
         null,
         3
        ],
        [
         "Western Europe",
         "Northern Europe",
         6
        ],
        [
         "Western Europe",
         "Southern Europe",
         5
        ],
        [
         "Western Europe",
         "Western Asia",
         1
        ],
        [
         "Western Europe",
         "Western Europe",
         6
        ]
       ],
       "datasetInfos": [],
       "dbfsResultPath": null,
       "isJsonSchema": true,
       "metadata": {},
       "overflow": false,
       "plotOptions": {
        "customPlotOptions": {},
        "displayType": "table",
        "pivotAggregation": null,
        "pivotColumns": null,
        "xColumns": null,
        "yColumns": null
       },
       "removedWidgets": [],
       "schema": [
        {
         "metadata": "{\"comment\":\"The region of the world the country is located in\"}",
         "name": "region_world",
         "type": "\"string\""
        },
        {
         "metadata": "{}",
         "name": "sub-region",
         "type": "\"string\""
        },
        {
         "metadata": "{\"__autoGeneratedAlias\":\"true\"}",
         "name": "count(country)",
         "type": "\"long\""
        }
       ],
       "type": "table"
      }
     },
     "output_type": "display_data"
    }
   ],
   "source": [
    "%sql\n",
    "with aux as (select \n",
    "  tb2.country, tb2.region_world, `sub-region`, `region`\n",
    "from `tb_region_silver` tb2\n",
    "left join tb_aux_country tb1 on tb2.country = tb1.name\n",
    "order by 1,2,3,4)\n",
    "select region_world, `sub-region`, count(country) from aux group by 1,2 order by 1,2"
   ]
  },
  {
   "cell_type": "markdown",
   "metadata": {
    "application/vnd.databricks.v1+cell": {
     "cellMetadata": {
      "byteLimit": 2048000,
      "rowLimit": 10000
     },
     "inputWidgets": {},
     "nuid": "427a5dce-c3bb-4723-be2c-3574a4646aa4",
     "showTitle": false,
     "title": ""
    }
   },
   "source": [
    "Perceba que: <br> \n",
    "* O único país na região South Asia está na região Southern Asia na base auxiliar. Vamos então aletrar esse país para essa região"
   ]
  },
  {
   "cell_type": "code",
   "execution_count": 0,
   "metadata": {
    "application/vnd.databricks.v1+cell": {
     "cellMetadata": {
      "byteLimit": 2048000,
      "rowLimit": 10000
     },
     "inputWidgets": {},
     "nuid": "64d485dd-a501-497d-a77b-1e54a07fe2a8",
     "showTitle": false,
     "title": ""
    }
   },
   "outputs": [],
   "source": [
    "# Nome da tabela que queremos ler\n",
    "table_name = \"tb_region_silver\"\n",
    "\n",
    "# Lê os dados da tabela e coloca em um DataFrame\n",
    "df_region_silver = spark.table(table_name)"
   ]
  },
  {
   "cell_type": "code",
   "execution_count": 0,
   "metadata": {
    "application/vnd.databricks.v1+cell": {
     "cellMetadata": {
      "byteLimit": 2048000,
      "rowLimit": 10000
     },
     "inputWidgets": {},
     "nuid": "a6f6238a-cfc6-42b9-9980-e9b28fe43da7",
     "showTitle": false,
     "title": ""
    }
   },
   "outputs": [],
   "source": [
    "from pyspark.sql.functions import when\n",
    "\n",
    "# Atualizar a coluna region_world\n",
    "df_region_gold = df_region_silver.withColumn(\n",
    "    \"region_world\",\n",
    "    when(df_region_silver.region_world == \"Latin America & Caribbean\", \"Latin America and Caribbean\")\n",
    "    .when(df_region_silver.region_world == \"South Asia\", \"Southern Asia\")\n",
    "    .otherwise(df_region_silver.region_world)\n",
    ")"
   ]
  },
  {
   "cell_type": "markdown",
   "metadata": {
    "application/vnd.databricks.v1+cell": {
     "cellMetadata": {
      "byteLimit": 2048000,
      "rowLimit": 10000
     },
     "inputWidgets": {},
     "nuid": "ad1627ad-b415-45fb-b7d9-531221ef0fa6",
     "showTitle": false,
     "title": ""
    }
   },
   "source": [
    "##### Criando e populando as tabelas da camada gold "
   ]
  },
  {
   "cell_type": "code",
   "execution_count": 0,
   "metadata": {
    "application/vnd.databricks.v1+cell": {
     "cellMetadata": {
      "byteLimit": 2048000,
      "rowLimit": 10000
     },
     "inputWidgets": {},
     "nuid": "f27c20c4-2237-42db-a792-34b76ac181b2",
     "showTitle": false,
     "title": ""
    }
   },
   "outputs": [],
   "source": [
    "# Criando as tabelas da cada GOLD\n",
    "\n",
    "permanent_table_name = \"tb_life_expectancy_gold\"\n",
    "df_life_expectancy_gold.write.format(\"parquet\").saveAsTable(permanent_table_name)\n",
    "permanent_table_name = \"tb_region_gold\"\n",
    "df_region_gold.write.format(\"parquet\").saveAsTable(permanent_table_name)\n"
   ]
  },
  {
   "cell_type": "markdown",
   "metadata": {
    "application/vnd.databricks.v1+cell": {
     "cellMetadata": {
      "byteLimit": 2048000,
      "rowLimit": 10000
     },
     "inputWidgets": {},
     "nuid": "cc3c2055-3119-4e42-b0f6-458f189dbc4e",
     "showTitle": false,
     "title": ""
    }
   },
   "source": [
    "##### Adicionando a descrição de cada coluna das tabelas"
   ]
  },
  {
   "cell_type": "markdown",
   "metadata": {
    "application/vnd.databricks.v1+cell": {
     "cellMetadata": {
      "byteLimit": 2048000,
      "rowLimit": 10000
     },
     "inputWidgets": {},
     "nuid": "e0b022d5-dc96-41be-a27a-4be752f9ad34",
     "showTitle": false,
     "title": ""
    }
   },
   "source": [
    "###### tb_life_expectancy_gold"
   ]
  },
  {
   "cell_type": "code",
   "execution_count": 0,
   "metadata": {
    "application/vnd.databricks.v1+cell": {
     "cellMetadata": {
      "byteLimit": 2048000,
      "rowLimit": 10000
     },
     "inputWidgets": {},
     "nuid": "f82e3603-955b-490c-b798-7615c293f1c4",
     "showTitle": false,
     "title": ""
    }
   },
   "outputs": [
    {
     "output_type": "stream",
     "name": "stdout",
     "output_type": "stream",
     "text": [
      "+------------------------------+-----------------------+----------------------------------------------------------------------------------------------------------------------------------------------------------------------------------------------------------------------------------------------------------------------------------------------------------------------------------------------------------------------------------------------------------------------------------------+\n|col_name                      |data_type              |comment                                                                                                                                                                                                                                                                                                                                                                                                                                 |\n+------------------------------+-----------------------+----------------------------------------------------------------------------------------------------------------------------------------------------------------------------------------------------------------------------------------------------------------------------------------------------------------------------------------------------------------------------------------------------------------------------------------+\n|country                       |string                 |The name of the country                                                                                                                                                                                                                                                                                                                                                                                                                 |\n|country_code                  |string                 |The 3-letter code of the country                                                                                                                                                                                                                                                                                                                                                                                                        |\n|income_group                  |string                 |The country`s income class                                                                                                                                                                                                                                                                                                                                                                                                              |\n|year                          |int                    |The year of the report                                                                                                                                                                                                                                                                                                                                                                                                                  |\n|life_expectancy_world_bank    |double                 |The average number of years a newborn infant would live if prevailing patterns of mortality at the time of its birth were to stay the same throughout its life                                                                                                                                                                                                                                                                          |\n|prevelance_of_undernourishment|double                 |The percentage of the population whose habitual food consumption is insufficient to provide the dietary                                                                                                                                                                                                                                                                                                                                 |\n|co2                           |double                 |Carbon dioxide emissions are those stemming from the burning of fossil fuels and the manufacture of cement. They include carbon dioxide produced during the consumption of solid, liquid, and gas fuels and gas flaring                                                                                                                                                                                                                 |\n|health_expenditure            |double                 |Level of current health expenditure expressed as a percentage of GDP. Estimates of current health expenditures include healthcare goods and services consumed during each year. This indicator does not include capital health expenditures such as buildings,machinery, IT, and stocks of vaccines for emergencies or outbreaks                                                                                                        |\n|education_expenditure         |double                 |General government expenditure on education (current, capital, and transfers) is expressed as a percentage of GDP. It includes expenditures funded by transfers from international sources to the government. General government usually refers to local, regional, and central governments                                                                                                                                             |\n|unemployment                  |double                 |Unemployment refers to the % share of the labor force that is without work but available for and seeking employment                                                                                                                                                                                                                                                                                                                     |\n|corruption                    |double                 |Corruption (CPIA rating) - Transparency, accountability, and corruption in the public sector assets the extent to which the executive can be held accountable for its use of funds and for the results of its actions by the electorate and by the legislature and judiciary, and the extent to which public employees within the executive are required to account for administrative decisions, use of resources, and results obtained|\n|sanitation                    |double                 |The percentage of people using improved sanitation facilities that are not shared with other households and where excreta are safely disposed of in situ or transported and treated offsite. Improved sanitation facilities include flush/pour flush to piped sewer systems, septic tanks, or pit latrines: ventilated improved pit latrines, compositing toilets, or pit latrines with slabs                                           |\n|injuries                      |double                 |Disability-Adjusted Life Years (DALYs) due to Injuries - One DALY represents the loss of the equivalent of one year of full health. DALYs for an injury or health condition is the sum of the years of life lost due to premature mortality (YLLs) and the years lived with a disability (YLDs) due to prevalent cases of the disease in a population                                                                                   |\n|communicable_diseases         |double                 |Disability-Adjusted Life Years (DALYs) due to Communicable diseases - One DALY represents the loss of the equivalent of one year of full health. DALYs for a communicable disease or health condition is the sum of the years of life lost due to premature mortality (YLLs) and the years lived with a disability (YLDs) due to prevalent cases of the disease in a population                                                         |\n|non_communicable_diseases     |double                 |Disability-Adjusted Life Years (DALYs) due to Non-Communicable diseases - One DALY represents the loss of the equivalent of one year of full health. DALYs for a non-communicable disease or health condition is the sum of the years of life lost due to premature mortality (YLLs) and the years lived with a disability (YLDs) due to prevalent cases of the disease in a population                                                 |\n|                              |                       |                                                                                                                                                                                                                                                                                                                                                                                                                                        |\n|# Detailed Table Information  |                       |                                                                                                                                                                                                                                                                                                                                                                                                                                        |\n|Catalog                       |spark_catalog          |                                                                                                                                                                                                                                                                                                                                                                                                                                        |\n|Database                      |default                |                                                                                                                                                                                                                                                                                                                                                                                                                                        |\n|Table                         |tb_life_expectancy_gold|                                                                                                                                                                                                                                                                                                                                                                                                                                        |\n+------------------------------+-----------------------+----------------------------------------------------------------------------------------------------------------------------------------------------------------------------------------------------------------------------------------------------------------------------------------------------------------------------------------------------------------------------------------------------------------------------------------+\nonly showing top 20 rows\n\n"
     ]
    }
   ],
   "source": [
    "# Adiciona comentários às colunas\n",
    "\n",
    "table_name = \"tb_life_expectancy_gold\"\n",
    "\n",
    "spark.sql(f\"ALTER TABLE {table_name} CHANGE COLUMN country country STRING COMMENT 'The name of the country'\")\n",
    "\n",
    "spark.sql(f\"ALTER TABLE {table_name} CHANGE COLUMN country_code country_code STRING COMMENT 'The 3-letter code of the country'\")\n",
    "\n",
    "\n",
    "spark.sql(f\"ALTER TABLE {table_name} CHANGE COLUMN year year INT COMMENT 'The year of the report'\")\n",
    "\n",
    "spark.sql(f\"ALTER TABLE {table_name} CHANGE COLUMN life_expectancy_world_bank life_expectancy_world_bank DOUBLE COMMENT 'The average number of years a newborn infant would live if prevailing patterns of mortality at the time of its birth were to stay the same throughout its life'\")\n",
    "\n",
    "spark.sql(f\"ALTER TABLE {table_name} CHANGE COLUMN prevelance_of_undernourishment prevelance_of_undernourishment  DOUBLE COMMENT 'The percentage of the population whose habitual food consumption is insufficient to provide the dietary'\")\n",
    "\n",
    "spark.sql(f\"ALTER TABLE {table_name} CHANGE COLUMN income_group  income_group  STRING COMMENT 'The country`s income class'\")\n",
    "\n",
    "spark.sql(f\"ALTER TABLE {table_name} CHANGE COLUMN co2 co2 DOUBLE COMMENT 'Carbon dioxide emissions are those stemming from the burning of fossil fuels and the manufacture of cement. They include carbon dioxide produced during the consumption of solid, liquid, and gas fuels and gas flaring'\")\n",
    "\n",
    "spark.sql(f\"ALTER TABLE {table_name} CHANGE COLUMN health_expenditure health_expenditure  DOUBLE COMMENT 'Level of current health expenditure expressed as a percentage of GDP. Estimates of current health expenditures include healthcare goods and services consumed during each year. This indicator does not include capital health expenditures such as buildings,machinery, IT, and stocks of vaccines for emergencies or outbreaks'\")\n",
    "\n",
    "spark.sql(f\"ALTER TABLE {table_name} CHANGE COLUMN  education_expenditure education_expenditure DOUBLE COMMENT 'General government expenditure on education (current, capital, and transfers) is expressed as a percentage of GDP. It includes expenditures funded by transfers from international sources to the government. General government usually refers to local, regional, and central governments'\")\n",
    "\n",
    "spark.sql(f\"ALTER TABLE {table_name} CHANGE COLUMN unemployment unemployment DOUBLE COMMENT 'Unemployment refers to the % share of the labor force that is without work but available for and seeking employment'\")\n",
    "\n",
    "spark.sql(f\"ALTER TABLE {table_name} CHANGE COLUMN corruption corruption DOUBLE COMMENT 'Corruption (CPIA rating) - Transparency, accountability, and corruption in the public sector assets the extent to which the executive can be held accountable for its use of funds and for the results of its actions by the electorate and by the legislature and judiciary, and the extent to which public employees within the executive are required to account for administrative decisions, use of resources, and results obtained'\")\n",
    "\n",
    "spark.sql(f\"ALTER TABLE {table_name} CHANGE COLUMN sanitation sanitation DOUBLE COMMENT 'The percentage of people using improved sanitation facilities that are not shared with other households and where excreta are safely disposed of in situ or transported and treated offsite. Improved sanitation facilities include flush/pour flush to piped sewer systems, septic tanks, or pit latrines: ventilated improved pit latrines, compositing toilets, or pit latrines with slabs'\")\n",
    "\n",
    "spark.sql(f\"ALTER TABLE {table_name} CHANGE COLUMN injuries injuries DOUBLE COMMENT 'Disability-Adjusted Life Years (DALYs) due to Injuries - One DALY represents the loss of the equivalent of one year of full health. DALYs for an injury or health condition is the sum of the years of life lost due to premature mortality (YLLs) and the years lived with a disability (YLDs) due to prevalent cases of the disease in a population'\")\n",
    "\n",
    "spark.sql(f\"ALTER TABLE {table_name} CHANGE COLUMN communicable_diseases communicable_diseases DOUBLE COMMENT 'Disability-Adjusted Life Years (DALYs) due to Communicable diseases - One DALY represents the loss of the equivalent of one year of full health. DALYs for a communicable disease or health condition is the sum of the years of life lost due to premature mortality (YLLs) and the years lived with a disability (YLDs) due to prevalent cases of the disease in a population'\")\n",
    "\n",
    "spark.sql(f\"ALTER TABLE {table_name} CHANGE COLUMN non_communicable_diseases non_communicable_diseases DOUBLE COMMENT 'Disability-Adjusted Life Years (DALYs) due to Non-Communicable diseases - One DALY represents the loss of the equivalent of one year of full health. DALYs for a non-communicable disease or health condition is the sum of the years of life lost due to premature mortality (YLLs) and the years lived with a disability (YLDs) due to prevalent cases of the disease in a population'\")\n",
    "\n",
    "\n",
    "# Verificar se os comentários foram adicionados\n",
    "desc_table = spark.sql(f\"DESCRIBE EXTENDED {table_name}\")\n",
    "desc_table.show(truncate=False)"
   ]
  },
  {
   "cell_type": "markdown",
   "metadata": {
    "application/vnd.databricks.v1+cell": {
     "cellMetadata": {
      "byteLimit": 2048000,
      "rowLimit": 10000
     },
     "inputWidgets": {},
     "nuid": "9290b06c-7154-4eb7-8e3e-228862eca1c6",
     "showTitle": false,
     "title": ""
    }
   },
   "source": [
    "###### tb_region_gold"
   ]
  },
  {
   "cell_type": "code",
   "execution_count": 0,
   "metadata": {
    "application/vnd.databricks.v1+cell": {
     "cellMetadata": {
      "byteLimit": 2048000,
      "rowLimit": 10000
     },
     "inputWidgets": {},
     "nuid": "731d533c-24ee-489c-827e-a1fc1c915a20",
     "showTitle": false,
     "title": ""
    }
   },
   "outputs": [
    {
     "output_type": "stream",
     "name": "stdout",
     "output_type": "stream",
     "text": [
      "Out[86]: DataFrame[]"
     ]
    }
   ],
   "source": [
    "# Adiciona comentários às colunas\n",
    "\n",
    "table_name = \"tb_region_gold\"\n",
    "\n",
    "\n",
    "spark.sql(f\"ALTER TABLE {table_name} CHANGE COLUMN country country STRING COMMENT 'The name of the country'\")\n",
    "\n",
    "spark.sql(f\"ALTER TABLE {table_name} CHANGE COLUMN region_world region_world STRING COMMENT 'The region of the world the country is located in'\")"
   ]
  },
  {
   "cell_type": "markdown",
   "metadata": {
    "application/vnd.databricks.v1+cell": {
     "cellMetadata": {},
     "inputWidgets": {},
     "nuid": "1baf84d0-4452-4703-969f-0287edca7ab1",
     "showTitle": false,
     "title": ""
    }
   },
   "source": [
    "### Catálogo de Dados "
   ]
  },
  {
   "cell_type": "markdown",
   "metadata": {
    "application/vnd.databricks.v1+cell": {
     "cellMetadata": {},
     "inputWidgets": {},
     "nuid": "7cf4f503-6eaf-4327-ba1a-e037a26464b3",
     "showTitle": false,
     "title": ""
    }
   },
   "source": [
    "\n",
    "Para acessar o Catálogo de Dados, consulte o [Google Sheets](https://docs.google.com/spreadsheets/d/1EAz3KNCgKxVl8tM0UCbr2UE2lrvHe7Ey9nJOz39X5Nc/edit?gid=362918648#gid=362918648).\n"
   ]
  },
  {
   "cell_type": "markdown",
   "metadata": {
    "application/vnd.databricks.v1+cell": {
     "cellMetadata": {
      "byteLimit": 2048000,
      "rowLimit": 10000
     },
     "inputWidgets": {},
     "nuid": "b9188936-33cf-42c6-80af-50a096f86505",
     "showTitle": false,
     "title": ""
    }
   },
   "source": [
    "Os próximos passos do projeto seão feitos em um novo Notebook, chamado: Fernanda Valente - MVP - Data Engeneering - parte 2"
   ]
  }
 ],
 "metadata": {
  "application/vnd.databricks.v1+notebook": {
   "dashboards": [],
   "environmentMetadata": null,
   "language": "python",
   "notebookMetadata": {
    "mostRecentlyExecutedCommandWithImplicitDF": {
     "commandId": 842023500801324,
     "dataframes": [
      "_sqldf"
     ]
    },
    "pythonIndentUnit": 4
   },
   "notebookName": "Fernanda Valente - MVP - Data Engeneering - parte 1",
   "widgets": {}
  }
 },
 "nbformat": 4,
 "nbformat_minor": 0
}
